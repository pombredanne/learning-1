{
 "cells": [
  {
   "cell_type": "markdown",
   "metadata": {},
   "source": [
    "# jQuery\n",
    "\n",
    "* https://jquery.org\n",
    "* https://en.wikipedia.org/wiki/JQuery\n",
    "* https://weblogs.asp.net/scottgu/jquery-and-microsoft"
   ]
  },
  {
   "cell_type": "markdown",
   "metadata": {},
   "source": [
    "# Overview "
   ]
  },
  {
   "cell_type": "markdown",
   "metadata": {
    "deletable": true,
    "editable": true
   },
   "source": [
    "Press *CTRL + SHIFT + I* to open the Browser debug console"
   ]
  },
  {
   "cell_type": "code",
   "execution_count": 1,
   "metadata": {
    "collapsed": false
   },
   "outputs": [
    {
     "data": {
      "application/javascript": [
       "\n",
       "console.info($);\n",
       "window.alert($);"
      ],
      "text/plain": [
       "<IPython.core.display.Javascript object>"
      ]
     },
     "metadata": {},
     "output_type": "display_data"
    }
   ],
   "source": [
    "%%javascript\n",
    "\n",
    "console.info($);\n",
    "window.alert($);"
   ]
  },
  {
   "cell_type": "markdown",
   "metadata": {},
   "source": [
    "[Usage Styles](https://en.wikipedia.org/wiki/JQuery#Usage_styles)\n",
    "\n",
    "    $, $.\n",
    "\n",
    "[No Conflict Mode](https://en.wikipedia.org/wiki/JQuery#No-conflict_mode)\n",
    "\n",
    "    jQuery\n",
    "\n",
    "    >> $\n",
    "    >> jQuery\n",
    "    <- function x()\n",
    "\n",
    "    >> $()\n",
    "    >> jQuery()\n",
    "    <- Object { }"
   ]
  },
  {
   "cell_type": "code",
   "execution_count": 2,
   "metadata": {
    "collapsed": false
   },
   "outputs": [
    {
     "data": {
      "application/javascript": [
       "\n",
       "var sequence = [1, 2 ,3];\n",
       "\n",
       "$.each(sequence, function() {\n",
       "    var sequence_item = this;\n",
       "    window.alert(sequence_item + \" -> \" + Number(sequence_item + 1));\n",
       "});"
      ],
      "text/plain": [
       "<IPython.core.display.Javascript object>"
      ]
     },
     "metadata": {},
     "output_type": "display_data"
    }
   ],
   "source": [
    "%%javascript\n",
    "\n",
    "var sequence = [1, 2 ,3];\n",
    "\n",
    "$.each(sequence, function() {\n",
    "    var sequence_item = this;\n",
    "    window.alert(sequence_item + \" -> \" + Number(sequence_item + 1));\n",
    "});"
   ]
  },
  {
   "cell_type": "markdown",
   "metadata": {},
   "source": [
    "In the Browser console, execute the commands below to see jQuery in action!\n",
    "\n",
    "    >> $(\"div.CodeMirror-lines\").toggle()\n",
    "\n",
    "    >> $(\"div.input_area\").toggle()"
   ]
  },
  {
   "cell_type": "markdown",
   "metadata": {},
   "source": [
    "# Examples\n",
    "\n",
    "https://www.w3schools.com/jquery\n",
    "\n",
    "## Notebooks\n",
    "\n",
    "* [jQuery Slide](jquery_slide.ipynb)"
   ]
  }
 ],
 "metadata": {
  "kernelspec": {
   "display_name": "Python 3.6 Test2",
   "language": "python",
   "name": "python36test2"
  },
  "language_info": {
   "codemirror_mode": {
    "name": "ipython",
    "version": 3
   },
   "file_extension": ".py",
   "mimetype": "text/x-python",
   "name": "python",
   "nbconvert_exporter": "python",
   "pygments_lexer": "ipython3",
   "version": "3.6.0"
  }
 },
 "nbformat": 4,
 "nbformat_minor": 2
}
