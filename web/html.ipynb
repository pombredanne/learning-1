{
 "cells": [
  {
   "cell_type": "markdown",
   "metadata": {
    "deletable": true,
    "editable": true
   },
   "source": [
    "# HTML and w3 Schools\n"
   ]
  },
  {
   "cell_type": "markdown",
   "metadata": {
    "deletable": true,
    "editable": true
   },
   "source": [
    "## Draggable Elements\n",
    "\n",
    "* https://www.w3schools.com/tags/att_global_draggable.asp\n",
    "* https://www.w3schools.com/tags/tryit.asp?filename=tryhtml5_global_draggable\n",
    "* https://www.w3schools.com/html/html5_draganddrop.asp"
   ]
  },
  {
   "cell_type": "code",
   "execution_count": 17,
   "metadata": {
    "collapsed": true,
    "deletable": true,
    "editable": true
   },
   "outputs": [],
   "source": [
    "from IPython.core import display\n",
    "from ipywidgets import interact"
   ]
  },
  {
   "cell_type": "markdown",
   "metadata": {
    "deletable": true,
    "editable": true
   },
   "source": [
    "# jquery\n",
    "\n",
    "* https://www.w3schools.com/jquery/jquery_examples.asp"
   ]
  },
  {
   "cell_type": "markdown",
   "metadata": {
    "deletable": true,
    "editable": true
   },
   "source": [
    "## Examples"
   ]
  },
  {
   "cell_type": "markdown",
   "metadata": {
    "deletable": true,
    "editable": true
   },
   "source": [
    "* https://www.w3schools.com/jquery/default.asp"
   ]
  },
  {
   "cell_type": "markdown",
   "metadata": {
    "deletable": true,
    "editable": true
   },
   "source": [
    "%%writefile draggable_1.html\n",
    "\n",
    "%load draggable_1.html\n",
    "\n",
    "%%html"
   ]
  },
  {
   "cell_type": "code",
   "execution_count": null,
   "metadata": {
    "collapsed": true,
    "deletable": true,
    "editable": true
   },
   "outputs": [],
   "source": [
    "!gvim divvanish.html"
   ]
  },
  {
   "cell_type": "code",
   "execution_count": 24,
   "metadata": {
    "collapsed": false
   },
   "outputs": [
    {
     "data": {
      "text/html": [
       "<!DOCTYPE html>\n",
       "<html>\n",
       "<head>\n",
       "<script src=\"https://ajax.googleapis.com/ajax/libs/jquery/3.1.1/jquery.min.js\"></script>\n",
       "<script>\n",
       "\n",
       "$(document).ready(\n",
       "    function() {\n",
       "\t$(\"p.vanish\").click(\n",
       "\t    function() {\n",
       "\t\t$(this).hide();\n",
       "\t\tconsole.log(\"Hidden \", this);\n",
       "\t    }\n",
       "\t);\n",
       "\t$(\"p.novanish#jqp2\").click(\n",
       "\t    function() {\n",
       "\t    \tvar msg = \"I cannot be hidden\";\n",
       "\t\tconsole.log(msg, this)\n",
       "\t\twindow.alert(\"I cannot be hidden!\", this);\n",
       "\t    }\n",
       "\t);\t\n",
       "    }\n",
       ");\n",
       "\n",
       "</script>\n",
       "</head>\n",
       "<body>\n",
       "\n",
       "<p class='vanish' id='jqp1'>If you click on me, I will disappear.</p>\n",
       "<p class='novanish' id='jqp2'>You cannot Click me away!</p>\n",
       "<p class='vanish' id='jqp3'>Click me too!</p>\n",
       "\n",
       "</body>\n",
       "</html>\n"
      ],
      "text/plain": [
       "<IPython.core.display.HTML object>"
      ]
     },
     "execution_count": 24,
     "metadata": {},
     "output_type": "execute_result"
    }
   ],
   "source": [
    "display.HTML(filename=\"divvanish.html\")"
   ]
  }
 ],
 "metadata": {
  "kernelspec": {
   "display_name": "Python 3.6 Test2",
   "language": "python",
   "name": "python36test2"
  },
  "language_info": {
   "codemirror_mode": {
    "name": "ipython",
    "version": 3
   },
   "file_extension": ".py",
   "mimetype": "text/x-python",
   "name": "python",
   "nbconvert_exporter": "python",
   "pygments_lexer": "ipython3",
   "version": "3.6.0"
  }
 },
 "nbformat": 4,
 "nbformat_minor": 2
}
