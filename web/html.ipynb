{
 "cells": [
  {
   "cell_type": "code",
   "execution_count": 1,
   "metadata": {
    "collapsed": true,
    "deletable": true,
    "editable": true
   },
   "outputs": [],
   "source": [
    "from IPython.core import display\n",
    "from IPython.display import HTML, Javascript\n",
    "from ipywidgets import interact"
   ]
  },
  {
   "cell_type": "code",
   "execution_count": 2,
   "metadata": {
    "collapsed": false,
    "deletable": true,
    "editable": true
   },
   "outputs": [
    {
     "data": {
      "text/html": [
       "Hello World"
      ],
      "text/plain": [
       "<IPython.core.display.HTML object>"
      ]
     },
     "execution_count": 2,
     "metadata": {},
     "output_type": "execute_result"
    }
   ],
   "source": [
    "HTML(\"Hello World\")"
   ]
  },
  {
   "cell_type": "markdown",
   "metadata": {
    "deletable": true,
    "editable": true
   },
   "source": [
    "*Create a HTML element with a class and a tag*"
   ]
  },
  {
   "cell_type": "code",
   "execution_count": 3,
   "metadata": {
    "collapsed": false,
    "deletable": true,
    "editable": true
   },
   "outputs": [
    {
     "data": {
      "text/html": [
       "\n",
       "<h1 class='juh' id='juhh1'>\n",
       "Hello World\n",
       "</h1>\n"
      ],
      "text/plain": [
       "<IPython.core.display.HTML object>"
      ]
     },
     "execution_count": 3,
     "metadata": {},
     "output_type": "execute_result"
    }
   ],
   "source": [
    "HTML(\"\"\"\n",
    "<h1 class='juh' id='juhh1'>\n",
    "Hello World\n",
    "</h1>\n",
    "\"\"\")"
   ]
  },
  {
   "cell_type": "markdown",
   "metadata": {
    "deletable": true,
    "editable": true
   },
   "source": [
    "*Change the style/color of the previously created element*"
   ]
  },
  {
   "cell_type": "code",
   "execution_count": 4,
   "metadata": {
    "collapsed": false,
    "deletable": true,
    "editable": true
   },
   "outputs": [
    {
     "data": {
      "image/png": "[encoded data removed]",
      "text/html": [
       "<img src=data:image/png;base64,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 class=\"jupyter-widget\">\n",
       "<script type=\"application/vnd.jupyter-embedded-widgets\">[{},{\"_options_labels\":[\"red\",\"green\",\"blue\"],\"description\":\"color\",\"layout\":\"IPY_MODEL_a15028b1ea394adcabb911f2a84cc902\",\"value\":\"red\"},{},{\"_dom_classes\":[\"widget-interact\"],\"children\":[\"IPY_MODEL_4201f3c0e1984be8bac9834ece410242\"],\"layout\":\"IPY_MODEL_991f3faab13640adbb521dadbc804430\"}]</script>"
      ]
     },
     "metadata": {
      "isWidgetSnapshot": true
     },
     "output_type": "display_data"
    },
    {
     "data": {
      "image/png": "[encoded data removed]",
      "text/html": [
       "<img src=data:image/png;base64,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 class=\"jupyter-widget\">\n",
       "<script type=\"application/vnd.jupyter-embedded-widgets\">[{},{\"_options_labels\":[\"red\",\"green\",\"blue\"],\"description\":\"color\",\"layout\":\"IPY_MODEL_8663e7d474b14c03a0c7d503f0bbaf0e\",\"value\":\"red\"},{},{\"_dom_classes\":[\"widget-interact\"],\"children\":[\"IPY_MODEL_b65b716b8af4418ab1454966e93c6f90\"],\"layout\":\"IPY_MODEL_77f1dcd639484ae6ab2340012b2e35f9\"}]</script>"
      ]
     },
     "metadata": {
      "isWidgetSnapshot": true
     },
     "output_type": "display_data"
    },
    {
     "data": {
      "application/javascript": [
       "\n",
       "$(\"#juhh1\").css(\"color\", 'red');\n"
      ],
      "text/plain": [
       "<IPython.core.display.Javascript object>"
      ]
     },
     "metadata": {},
     "output_type": "display_data"
    },
    {
     "data": {
      "text/plain": [
       "<function __main__.changeDOMColor>"
      ]
     },
     "execution_count": 4,
     "metadata": {},
     "output_type": "execute_result"
    }
   ],
   "source": [
    "def changeDOMColor(color):\n",
    "    js = Javascript(\"\"\"\n",
    "$(\"#juhh1\").css(\"color\", '{0}');\n",
    "\"\"\".format(color))\n",
    "    return js\n",
    "\n",
    "interact(changeDOMColor, color=['red', 'green', 'blue'])"
   ]
  },
  {
   "cell_type": "code",
   "execution_count": 5,
   "metadata": {
    "collapsed": false,
    "deletable": true,
    "editable": true
   },
   "outputs": [
    {
     "data": {
      "text/html": [
       "<h3>What</h3>"
      ],
      "text/plain": [
       "<IPython.core.display.HTML object>"
      ]
     },
     "execution_count": 5,
     "metadata": {},
     "output_type": "execute_result"
    }
   ],
   "source": [
    "fstring = \"What\"\n",
    "HTML(f\"<h3>{fstring}</h3>\")"
   ]
  },
  {
   "cell_type": "code",
   "execution_count": 6,
   "metadata": {
    "collapsed": false,
    "deletable": true,
    "editable": true
   },
   "outputs": [
    {
     "data": {
      "image/png": "[encoded data removed]",
      "text/html": [
       "<img src=data:image/png;base64,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 class=\"jupyter-widget\">\n",
       "<script type=\"application/vnd.jupyter-embedded-widgets\">[{},{\"_options_labels\":[\"red\",\"green\",\"blue\"],\"description\":\"color\",\"layout\":\"IPY_MODEL_0ec3d187967544c48759cdd2e50b176c\",\"value\":\"red\"},{},{\"_dom_classes\":[\"widget-interact\"],\"children\":[\"IPY_MODEL_0584b5a0308a4b6e8566cd8122d669a2\"],\"layout\":\"IPY_MODEL_021a715fde3b4300afb37f5ec28cf1c8\"}]</script>"
      ]
     },
     "metadata": {
      "isWidgetSnapshot": true
     },
     "output_type": "display_data"
    },
    {
     "data": {
      "image/png": "[encoded data removed]",
      "text/html": [
       "<img src=data:image/png;base64,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 class=\"jupyter-widget\">\n",
       "<script type=\"application/vnd.jupyter-embedded-widgets\">[{},{\"_options_labels\":[\"red\",\"green\",\"blue\"],\"description\":\"color\",\"layout\":\"IPY_MODEL_1f4d3b54b6a646ca8f6af499388cac2a\",\"value\":\"blue\"},{},{\"_dom_classes\":[\"widget-interact\"],\"children\":[\"IPY_MODEL_363bc3da4a724c7abfcefe662b3a11fc\"],\"layout\":\"IPY_MODEL_a92ebd66b02f4c82ac3793539cfb69fe\"}]</script>"
      ]
     },
     "metadata": {
      "isWidgetSnapshot": true
     },
     "output_type": "display_data"
    },
    {
     "data": {
      "application/javascript": [
       "\n",
       "$(\"#juhh1\").css(\"color\", 'red');\n"
      ],
      "text/plain": [
       "<IPython.core.display.Javascript object>"
      ]
     },
     "metadata": {},
     "output_type": "display_data"
    },
    {
     "data": {
      "text/plain": [
       "<function __main__.changeDOMColor>"
      ]
     },
     "execution_count": 6,
     "metadata": {},
     "output_type": "execute_result"
    }
   ],
   "source": [
    "def changeDOMColor(color):\n",
    "    js = Javascript(f\"\"\"\n",
    "$(\"#juhh1\").css(\"color\", '{color}');\n",
    "\"\"\")\n",
    "    return js\n",
    "\n",
    "interact(changeDOMColor, color=['red', 'green', 'blue'])"
   ]
  },
  {
   "cell_type": "code",
   "execution_count": 7,
   "metadata": {
    "collapsed": false,
    "deletable": true,
    "editable": true
   },
   "outputs": [
    {
     "data": {
      "application/javascript": [
       "\n",
       "$(\"#juhh1\").css('color', 'red')\n"
      ],
      "text/plain": [
       "<IPython.core.display.Javascript object>"
      ]
     },
     "execution_count": 7,
     "metadata": {},
     "output_type": "execute_result"
    }
   ],
   "source": [
    "Javascript(\"\"\"\n",
    "$(\"#juhh1\").css('color', 'red')\n",
    "\"\"\")"
   ]
  },
  {
   "cell_type": "code",
   "execution_count": 8,
   "metadata": {
    "collapsed": false,
    "deletable": true,
    "editable": true
   },
   "outputs": [
    {
     "data": {
      "application/javascript": [
       "\n",
       "$(\"#juhh1\").css('color', 'green')\n"
      ],
      "text/plain": [
       "<IPython.core.display.Javascript object>"
      ]
     },
     "execution_count": 8,
     "metadata": {},
     "output_type": "execute_result"
    }
   ],
   "source": [
    "Javascript(\"\"\"\n",
    "$(\"#juhh1\").css('color', 'green')\n",
    "\"\"\")"
   ]
  },
  {
   "cell_type": "markdown",
   "metadata": {
    "deletable": true,
    "editable": true
   },
   "source": [
    "*Why is this not working?* :( - SOLVED\n",
    "\n",
    "    In order for the Javascript() function to take effect, I had to save it in a variable and return it."
   ]
  },
  {
   "cell_type": "markdown",
   "metadata": {
    "deletable": true,
    "editable": true
   },
   "source": [
    "# HTML and w3 Schools\n"
   ]
  },
  {
   "cell_type": "markdown",
   "metadata": {
    "deletable": true,
    "editable": true
   },
   "source": [
    "## Draggable Elements\n",
    "\n",
    "* https://www.w3schools.com/tags/att_global_draggable.asp\n",
    "* https://www.w3schools.com/tags/tryit.asp?filename=tryhtml5_global_draggable\n",
    "* https://www.w3schools.com/html/html5_draganddrop.asp"
   ]
  },
  {
   "cell_type": "raw",
   "metadata": {
    "collapsed": true,
    "deletable": true,
    "editable": true
   },
   "source": [
    "!gvim draggable_1.html"
   ]
  },
  {
   "cell_type": "code",
   "execution_count": 9,
   "metadata": {
    "collapsed": false,
    "deletable": true,
    "editable": true
   },
   "outputs": [
    {
     "data": {
      "text/html": [
       "<!DOCTYPE HTML>\n",
       "<html>\n",
       "\n",
       "<head>\n",
       "    <style>\n",
       "        #div1 {\n",
       "            width: 350px;\n",
       "            height: 150px;\n",
       "            padding: 10px;\n",
       "            border: 1px solid #aaaaaa;\n",
       "        }\n",
       "        \n",
       "        #div2 {\n",
       "            width: 350px;\n",
       "            height: 150px;\n",
       "            padding: 10px;\n",
       "            border: 1px solid #aaaaaa;\n",
       "        }\n",
       "    </style>\n",
       "    <script>\n",
       "        function allowDrop(ev) {\n",
       "            ev.preventDefault();\n",
       "        }\n",
       "\n",
       "        function drag(ev) {\n",
       "            console.log(ev.target, ev.target.id)\n",
       "            ev.dataTransfer.setData(\"Text\", ev.target.id);\n",
       "        }\n",
       "\n",
       "        function drop(ev) {\n",
       "            console.log(ev.target, ev.target.id)\n",
       "            var data = ev.dataTransfer.getData(\"Text\");\n",
       "            ev.target.appendChild(document.getElementById(data));\n",
       "            ev.preventDefault();\n",
       "        }\n",
       "    </script>\n",
       "</head>\n",
       "\n",
       "<body>\n",
       "\n",
       "    <div id=\"div1\" ondrop=\"drop(event)\" ondragover=\"allowDrop(event)\">\n",
       "        <b>Box #1</b>\n",
       "    </div>\n",
       "\n",
       "    <br>\n",
       "\n",
       "    <p id=\"drag1\" draggable=\"true\" ondragstart=\"drag(event)\">\n",
       "        This is a draggable paragraph #1. Drag this element into any of the two rectangles.\n",
       "    </p>\n",
       "\n",
       "    <p id=\"drag2\" draggable=\"true\" ondragstart=\"drag(event)\">\n",
       "        This is a draggable paragraph #2. Drag this element into any of the two rectangles.</p>\n",
       "\n",
       "    <br/>\n",
       "\n",
       "    <div id=\"div2\" ondrop=\"drop(event)\" ondragover=\"allowDrop(event)\">\n",
       "        <b>Box #2</b>\n",
       "    </div>\n",
       "\n",
       "</body>\n",
       "\n",
       "</html>"
      ],
      "text/plain": [
       "<IPython.core.display.HTML object>"
      ]
     },
     "execution_count": 9,
     "metadata": {},
     "output_type": "execute_result"
    }
   ],
   "source": [
    "display.HTML('./draggable_1.html')"
   ]
  },
  {
   "cell_type": "code",
   "execution_count": 10,
   "metadata": {
    "collapsed": false,
    "deletable": true,
    "editable": true
   },
   "outputs": [
    {
     "data": {
      "application/javascript": [
       "$(\"p#drag1\").css(\"border\", \"1px double red\")"
      ],
      "text/plain": [
       "<IPython.core.display.Javascript object>"
      ]
     },
     "metadata": {},
     "output_type": "display_data"
    }
   ],
   "source": [
    "%%javascript\n",
    "$(\"p#drag1\").css(\"border\", \"1px double red\")"
   ]
  },
  {
   "cell_type": "markdown",
   "metadata": {
    "deletable": true,
    "editable": true
   },
   "source": [
    "# jquery\n",
    "\n",
    "* https://www.w3schools.com/jquery/jquery_examples.asp"
   ]
  },
  {
   "cell_type": "markdown",
   "metadata": {
    "deletable": true,
    "editable": true
   },
   "source": [
    "## Examples"
   ]
  },
  {
   "cell_type": "markdown",
   "metadata": {
    "deletable": true,
    "editable": true
   },
   "source": [
    "* https://www.w3schools.com/jquery/default.asp"
   ]
  },
  {
   "cell_type": "raw",
   "metadata": {
    "collapsed": true,
    "deletable": true,
    "editable": true
   },
   "source": [
    "!gvim divvanish.html"
   ]
  },
  {
   "cell_type": "code",
   "execution_count": 11,
   "metadata": {
    "collapsed": false,
    "deletable": true,
    "editable": true
   },
   "outputs": [
    {
     "data": {
      "text/html": [
       "<!DOCTYPE html>\n",
       "<html>\n",
       "<head>\n",
       "<script src=\"https://ajax.googleapis.com/ajax/libs/jquery/3.1.1/jquery.min.js\"></script>\n",
       "<script>\n",
       "\n",
       "$(document).ready(\n",
       "    function() {\n",
       "\t$(\"p.vanish\").click(\n",
       "\t    function() {\n",
       "\t\t$(this).hide();\n",
       "\t\tconsole.log(\"Hidden \", this);\n",
       "\t    }\n",
       "\t);\n",
       "\t$(\"p.novanish#jqp2\").click(\n",
       "\t    function() {\n",
       "\t    \tvar msg = \"I cannot be hidden\";\n",
       "\t\tconsole.log(msg, this)\n",
       "\t\twindow.alert(\"I cannot be hidden!\", this);\n",
       "\t    }\n",
       "\t);\t\n",
       "    }\n",
       ");\n",
       "</script></head>\n",
       "<body>\n",
       "<p class='vanish' id='jqp1'>If you click on me, I will disappear.</p>\n",
       "<p class='novanish' id='jqp2'>You cannot Click me away!</p>\n",
       "<p class='vanish' id='jqp3'>Click me too!</p>\n",
       "</body>\n",
       "</html>\n"
      ],
      "text/plain": [
       "<IPython.core.display.HTML object>"
      ]
     },
     "execution_count": 11,
     "metadata": {},
     "output_type": "execute_result"
    }
   ],
   "source": [
    "display.HTML(filename=\"divvanish.html\")"
   ]
  },
  {
   "cell_type": "markdown",
   "metadata": {
    "deletable": true,
    "editable": true
   },
   "source": [
    "# Sandbox"
   ]
  },
  {
   "cell_type": "markdown",
   "metadata": {
    "deletable": true,
    "editable": true
   },
   "source": [
    "%%writefile draggable_1.html\n",
    "\n",
    "%load draggable_1.html\n",
    "\n",
    "%%html"
   ]
  },
  {
   "cell_type": "code",
   "execution_count": 12,
   "metadata": {
    "collapsed": false,
    "deletable": true,
    "editable": true
   },
   "outputs": [
    {
     "data": {
      "text/html": [
       "<script src=\"https://npmcdn.com/jupyter-js-widgets@~1.2.0/dist/embed.js\"></script><script type=\"application/vnd.jupyter-embedded-widgets\">{\n",
       "    \"77f1dcd639484ae6ab2340012b2e35f9\": {\n",
       "        \"model_name\": \"LayoutModel\",\n",
       "        \"model_module\": \"jupyter-js-widgets\",\n",
       "        \"state\": {},\n",
       "        \"views\": []\n",
       "    },\n",
       "    \"4330609c3cb14723bb47e8216c09b5e2\": {\n",
       "        \"model_name\": \"BoxModel\",\n",
       "        \"model_module\": \"jupyter-js-widgets\",\n",
       "        \"state\": {\n",
       "            \"_dom_classes\": [\n",
       "                \"widget-interact\"\n",
       "            ],\n",
       "            \"children\": [\n",
       "                \"IPY_MODEL_b65b716b8af4418ab1454966e93c6f90\"\n",
       "            ],\n",
       "            \"layout\": \"IPY_MODEL_77f1dcd639484ae6ab2340012b2e35f9\"\n",
       "        },\n",
       "        \"views\": [\n",
       "            {\n",
       "                \"cell_index\": 5\n",
       "            }\n",
       "        ]\n",
       "    },\n",
       "    \"8663e7d474b14c03a0c7d503f0bbaf0e\": {\n",
       "        \"model_name\": \"LayoutModel\",\n",
       "        \"model_module\": \"jupyter-js-widgets\",\n",
       "        \"state\": {},\n",
       "        \"views\": []\n",
       "    },\n",
       "    \"b65b716b8af4418ab1454966e93c6f90\": {\n",
       "        \"model_name\": \"DropdownModel\",\n",
       "        \"model_module\": \"jupyter-js-widgets\",\n",
       "        \"state\": {\n",
       "            \"_options_labels\": [\n",
       "                \"red\",\n",
       "                \"green\",\n",
       "                \"blue\"\n",
       "            ],\n",
       "            \"description\": \"color\",\n",
       "            \"layout\": \"IPY_MODEL_8663e7d474b14c03a0c7d503f0bbaf0e\",\n",
       "            \"value\": \"red\"\n",
       "        },\n",
       "        \"views\": []\n",
       "    },\n",
       "    \"a92ebd66b02f4c82ac3793539cfb69fe\": {\n",
       "        \"model_name\": \"LayoutModel\",\n",
       "        \"model_module\": \"jupyter-js-widgets\",\n",
       "        \"state\": {},\n",
       "        \"views\": []\n",
       "    },\n",
       "    \"40a64e5faa094bd38506ca773c622caa\": {\n",
       "        \"model_name\": \"BoxModel\",\n",
       "        \"model_module\": \"jupyter-js-widgets\",\n",
       "        \"state\": {\n",
       "            \"_dom_classes\": [\n",
       "                \"widget-interact\"\n",
       "            ],\n",
       "            \"children\": [\n",
       "                \"IPY_MODEL_363bc3da4a724c7abfcefe662b3a11fc\"\n",
       "            ],\n",
       "            \"layout\": \"IPY_MODEL_a92ebd66b02f4c82ac3793539cfb69fe\"\n",
       "        },\n",
       "        \"views\": [\n",
       "            {\n",
       "                \"cell_index\": 7\n",
       "            }\n",
       "        ]\n",
       "    },\n",
       "    \"1f4d3b54b6a646ca8f6af499388cac2a\": {\n",
       "        \"model_name\": \"LayoutModel\",\n",
       "        \"model_module\": \"jupyter-js-widgets\",\n",
       "        \"state\": {},\n",
       "        \"views\": []\n",
       "    },\n",
       "    \"363bc3da4a724c7abfcefe662b3a11fc\": {\n",
       "        \"model_name\": \"DropdownModel\",\n",
       "        \"model_module\": \"jupyter-js-widgets\",\n",
       "        \"state\": {\n",
       "            \"_options_labels\": [\n",
       "                \"red\",\n",
       "                \"green\",\n",
       "                \"blue\"\n",
       "            ],\n",
       "            \"description\": \"color\",\n",
       "            \"layout\": \"IPY_MODEL_1f4d3b54b6a646ca8f6af499388cac2a\",\n",
       "            \"value\": \"blue\"\n",
       "        },\n",
       "        \"views\": []\n",
       "    }\n",
       "}</script>"
      ],
      "text/plain": [
       "<IPython.core.display.HTML object>"
      ]
     },
     "metadata": {},
     "output_type": "display_data"
    }
   ],
   "source": [
    "%%html\n",
    "<script src=\"https://npmcdn.com/jupyter-js-widgets@~1.2.0/dist/embed.js\"></script><script type=\"application/vnd.jupyter-embedded-widgets\">{\n",
    "    \"77f1dcd639484ae6ab2340012b2e35f9\": {\n",
    "        \"model_name\": \"LayoutModel\",\n",
    "        \"model_module\": \"jupyter-js-widgets\",\n",
    "        \"state\": {},\n",
    "        \"views\": []\n",
    "    },\n",
    "    \"4330609c3cb14723bb47e8216c09b5e2\": {\n",
    "        \"model_name\": \"BoxModel\",\n",
    "        \"model_module\": \"jupyter-js-widgets\",\n",
    "        \"state\": {\n",
    "            \"_dom_classes\": [\n",
    "                \"widget-interact\"\n",
    "            ],\n",
    "            \"children\": [\n",
    "                \"IPY_MODEL_b65b716b8af4418ab1454966e93c6f90\"\n",
    "            ],\n",
    "            \"layout\": \"IPY_MODEL_77f1dcd639484ae6ab2340012b2e35f9\"\n",
    "        },\n",
    "        \"views\": [\n",
    "            {\n",
    "                \"cell_index\": 5\n",
    "            }\n",
    "        ]\n",
    "    },\n",
    "    \"8663e7d474b14c03a0c7d503f0bbaf0e\": {\n",
    "        \"model_name\": \"LayoutModel\",\n",
    "        \"model_module\": \"jupyter-js-widgets\",\n",
    "        \"state\": {},\n",
    "        \"views\": []\n",
    "    },\n",
    "    \"b65b716b8af4418ab1454966e93c6f90\": {\n",
    "        \"model_name\": \"DropdownModel\",\n",
    "        \"model_module\": \"jupyter-js-widgets\",\n",
    "        \"state\": {\n",
    "            \"_options_labels\": [\n",
    "                \"red\",\n",
    "                \"green\",\n",
    "                \"blue\"\n",
    "            ],\n",
    "            \"description\": \"color\",\n",
    "            \"layout\": \"IPY_MODEL_8663e7d474b14c03a0c7d503f0bbaf0e\",\n",
    "            \"value\": \"red\"\n",
    "        },\n",
    "        \"views\": []\n",
    "    },\n",
    "    \"a92ebd66b02f4c82ac3793539cfb69fe\": {\n",
    "        \"model_name\": \"LayoutModel\",\n",
    "        \"model_module\": \"jupyter-js-widgets\",\n",
    "        \"state\": {},\n",
    "        \"views\": []\n",
    "    },\n",
    "    \"40a64e5faa094bd38506ca773c622caa\": {\n",
    "        \"model_name\": \"BoxModel\",\n",
    "        \"model_module\": \"jupyter-js-widgets\",\n",
    "        \"state\": {\n",
    "            \"_dom_classes\": [\n",
    "                \"widget-interact\"\n",
    "            ],\n",
    "            \"children\": [\n",
    "                \"IPY_MODEL_363bc3da4a724c7abfcefe662b3a11fc\"\n",
    "            ],\n",
    "            \"layout\": \"IPY_MODEL_a92ebd66b02f4c82ac3793539cfb69fe\"\n",
    "        },\n",
    "        \"views\": [\n",
    "            {\n",
    "                \"cell_index\": 7\n",
    "            }\n",
    "        ]\n",
    "    },\n",
    "    \"1f4d3b54b6a646ca8f6af499388cac2a\": {\n",
    "        \"model_name\": \"LayoutModel\",\n",
    "        \"model_module\": \"jupyter-js-widgets\",\n",
    "        \"state\": {},\n",
    "        \"views\": []\n",
    "    },\n",
    "    \"363bc3da4a724c7abfcefe662b3a11fc\": {\n",
    "        \"model_name\": \"DropdownModel\",\n",
    "        \"model_module\": \"jupyter-js-widgets\",\n",
    "        \"state\": {\n",
    "            \"_options_labels\": [\n",
    "                \"red\",\n",
    "                \"green\",\n",
    "                \"blue\"\n",
    "            ],\n",
    "            \"description\": \"color\",\n",
    "            \"layout\": \"IPY_MODEL_1f4d3b54b6a646ca8f6af499388cac2a\",\n",
    "            \"value\": \"blue\"\n",
    "        },\n",
    "        \"views\": []\n",
    "    }\n",
    "}</script>"
   ]
  }
 ],
 "metadata": {
  "kernelspec": {
   "display_name": "Python 3.6 Test2",
   "language": "python",
   "name": "python36test2"
  },
  "language_info": {
   "codemirror_mode": {
    "name": "ipython",
    "version": 3
   },
   "file_extension": ".py",
   "mimetype": "text/x-python",
   "name": "python",
   "nbconvert_exporter": "python",
   "pygments_lexer": "ipython3",
   "version": "3.6.0"
  },
  "widgets": {
   "state": {
    "6da781714ae749f98c57e6b51c56d217": {
     "views": [
      {
       "cell_index": 7
      }
     ]
    },
    "de00b7f346024483a20723b0a1723de2": {
     "views": [
      {
       "cell_index": 5
      }
     ]
    }
   },
   "version": "1.2.0"
  }
 },
 "nbformat": 4,
 "nbformat_minor": 2
}
