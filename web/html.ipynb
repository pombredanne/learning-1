{
 "cells": [
  {
   "cell_type": "markdown",
   "metadata": {},
   "source": [
    "# HTML and w3 Schools\n"
   ]
  },
  {
   "cell_type": "markdown",
   "metadata": {},
   "source": [
    "## Draggable Elements\n",
    "\n",
    "* https://www.w3schools.com/tags/att_global_draggable.asp\n",
    "* https://www.w3schools.com/tags/tryit.asp?filename=tryhtml5_global_draggable\n",
    "* https://www.w3schools.com/html/html5_draganddrop.asp"
   ]
  },
  {
   "cell_type": "raw",
   "metadata": {},
   "source": [
    "%%writefile draggable_1.html"
   ]
  },
  {
   "cell_type": "raw",
   "metadata": {},
   "source": [
    "%load draggable_1.html"
   ]
  },
  {
   "cell_type": "code",
   "execution_count": 6,
   "metadata": {
    "collapsed": false
   },
   "outputs": [
    {
     "data": {
      "text/html": [
       "<!DOCTYPE HTML>\n",
       "<html>\n",
       "<head>\n",
       "<style>\n",
       "\n",
       ".dropdiv {\n",
       "    width: 350px;\n",
       "    padding: 10px;\n",
       "    border: 1px solid #aaaaaa;\n",
       "}\n",
       "\n",
       ".dropdiv#div1 {\n",
       "    height: 150px;\n",
       "}\n",
       "\n",
       "#div2 {\n",
       "    height: 200px;\n",
       "}\n",
       "</style>\n",
       "<script>\n",
       "function allowDrop(ev) {\n",
       "    ev.preventDefault();\n",
       "}\n",
       "\n",
       "function drag(ev) {\n",
       "    ev.dataTransfer.setData(\"Text\", ev.target.id);\n",
       "}\n",
       "\n",
       "function drop(ev) {\n",
       "    var data = ev.dataTransfer.getData(\"Text\");\n",
       "    ev.target.appendChild(document.getElementById(data));\n",
       "    ev.preventDefault();\n",
       "}\n",
       "</script>\n",
       "</head>\n",
       "<body>\n",
       "\n",
       "<div class=\"dropdiv\" id=\"div1\" ondrop=\"drop(event)\" ondragover=\"allowDrop(event)\">\n",
       "<p>Box #1</p>\n",
       "</div>\n",
       "\n",
       "<br>\n",
       "\n",
       "<p id=\"drag1\" draggable=\"true\" ondragstart=\"drag(event)\">\n",
       "This is a draggable paragraph #1. \n",
       "Drag this element into any of the two rectangles.\n",
       "</p>\n",
       "\n",
       "<p id=\"drag2\" draggable=\"true\" ondragstart=\"drag(event)\">\n",
       "This is a draggable paragraph #2. \n",
       "Drag this element into any of the two rectangles.</p>\n",
       "\n",
       "<br/>\n",
       "\n",
       "<div class=\"dropdiv\" id=\"div2\" ondrop=\"drop(event)\" ondragover=\"allowDrop(event)\">\n",
       "<p>Box #2</p>\n",
       "</div>\n",
       "\n",
       "</body>\n",
       "</html>"
      ],
      "text/plain": [
       "<IPython.core.display.HTML object>"
      ]
     },
     "metadata": {},
     "output_type": "display_data"
    }
   ],
   "source": [
    "%%html\n",
    "<!DOCTYPE HTML>\n",
    "<html>\n",
    "<head>\n",
    "<style>\n",
    "\n",
    ".dropdiv {\n",
    "    width: 350px;\n",
    "    padding: 10px;\n",
    "    border: 1px solid #aaaaaa;\n",
    "}\n",
    "\n",
    ".dropdiv#div1 {\n",
    "    height: 150px;\n",
    "}\n",
    "\n",
    "#div2 {\n",
    "    height: 200px;\n",
    "}\n",
    "</style>\n",
    "<script>\n",
    "function allowDrop(ev) {\n",
    "    ev.preventDefault();\n",
    "}\n",
    "\n",
    "function drag(ev) {\n",
    "    ev.dataTransfer.setData(\"Text\", ev.target.id);\n",
    "}\n",
    "\n",
    "function drop(ev) {\n",
    "    var data = ev.dataTransfer.getData(\"Text\");\n",
    "    ev.target.appendChild(document.getElementById(data));\n",
    "    ev.preventDefault();\n",
    "}\n",
    "</script>\n",
    "</head>\n",
    "<body>\n",
    "\n",
    "<div class=\"dropdiv\" id=\"div1\" ondrop=\"drop(event)\" ondragover=\"allowDrop(event)\">\n",
    "<p>Box #1</p>\n",
    "</div>\n",
    "\n",
    "<br>\n",
    "\n",
    "<p id=\"drag1\" draggable=\"true\" ondragstart=\"drag(event)\">\n",
    "This is a draggable paragraph #1. \n",
    "Drag this element into any of the two rectangles.\n",
    "</p>\n",
    "\n",
    "<p id=\"drag2\" draggable=\"true\" ondragstart=\"drag(event)\">\n",
    "This is a draggable paragraph #2. \n",
    "Drag this element into any of the two rectangles.</p>\n",
    "\n",
    "<br/>\n",
    "\n",
    "<div class=\"dropdiv\" id=\"div2\" ondrop=\"drop(event)\" ondragover=\"allowDrop(event)\">\n",
    "<p>Box #2</p>\n",
    "</div>\n",
    "\n",
    "</body>\n",
    "</html>"
   ]
  }
 ],
 "metadata": {
  "kernelspec": {
   "display_name": "Python 3.6 Test2",
   "language": "python",
   "name": "python36test2"
  },
  "language_info": {
   "codemirror_mode": {
    "name": "ipython",
    "version": 3
   },
   "file_extension": ".py",
   "mimetype": "text/x-python",
   "name": "python",
   "nbconvert_exporter": "python",
   "pygments_lexer": "ipython3",
   "version": "3.6.0"
  }
 },
 "nbformat": 4,
 "nbformat_minor": 2
}
