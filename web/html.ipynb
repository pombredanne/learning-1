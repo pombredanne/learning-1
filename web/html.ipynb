{
 "cells": [
  {
   "cell_type": "markdown",
   "metadata": {
    "deletable": true,
    "editable": true
   },
   "source": [
    "# HTML and w3 Schools\n"
   ]
  },
  {
   "cell_type": "code",
   "execution_count": 1,
   "metadata": {
    "collapsed": true,
    "deletable": true,
    "editable": true
   },
   "outputs": [],
   "source": [
    "from IPython.display import HTML, Javascript"
   ]
  },
  {
   "cell_type": "code",
   "execution_count": 2,
   "metadata": {
    "collapsed": false,
    "deletable": true,
    "editable": true
   },
   "outputs": [
    {
     "data": {
      "text/html": [
       "Hello World"
      ],
      "text/plain": [
       "<IPython.core.display.HTML object>"
      ]
     },
     "execution_count": 2,
     "metadata": {},
     "output_type": "execute_result"
    }
   ],
   "source": [
    "HTML(\"Hello World\")"
   ]
  },
  {
   "cell_type": "markdown",
   "metadata": {},
   "source": [
    "# Supporting Technologies\n",
    "\n",
    "* [jQuery](jquery.ipynb)"
   ]
  },
  {
   "cell_type": "markdown",
   "metadata": {},
   "source": [
    "# Examples "
   ]
  },
  {
   "cell_type": "markdown",
   "metadata": {
    "deletable": true,
    "editable": true
   },
   "source": [
    "## Draggable Elements\n",
    "\n",
    "* https://www.w3schools.com/tags/att_global_draggable.asp\n",
    "* https://www.w3schools.com/tags/tryit.asp?filename=tryhtml5_global_draggable\n",
    "* https://www.w3schools.com/html/html5_draganddrop.asp"
   ]
  },
  {
   "cell_type": "code",
   "execution_count": 3,
   "metadata": {
    "collapsed": true,
    "deletable": true,
    "editable": true
   },
   "outputs": [],
   "source": [
    "!gvim draggable_1.html"
   ]
  },
  {
   "cell_type": "code",
   "execution_count": 4,
   "metadata": {
    "collapsed": false,
    "deletable": true,
    "editable": true
   },
   "outputs": [
    {
     "data": {
      "text/html": [
       "<!DOCTYPE HTML>\n",
       "<html>\n",
       "\n",
       "<head>\n",
       "    <style>\n",
       "        #div1 {\n",
       "            width: 350px;\n",
       "            height: 150px;\n",
       "            padding: 10px;\n",
       "            border: 1px solid #aaaaaa;\n",
       "        }\n",
       "        \n",
       "        #div2 {\n",
       "            width: 350px;\n",
       "            height: 150px;\n",
       "            padding: 10px;\n",
       "            border: 1px solid #aaaaaa;\n",
       "        }\n",
       "    </style>\n",
       "    <script>\n",
       "        function allowDrop(ev) {\n",
       "            ev.preventDefault();\n",
       "        }\n",
       "\n",
       "        function drag(ev) {\n",
       "            console.log(ev.target, ev.target.id)\n",
       "            ev.dataTransfer.setData(\"Text\", ev.target.id);\n",
       "        }\n",
       "\n",
       "        function drop(ev) {\n",
       "            console.log(ev.target, ev.target.id)\n",
       "            var data = ev.dataTransfer.getData(\"Text\");\n",
       "            ev.target.appendChild(document.getElementById(data));\n",
       "            ev.preventDefault();\n",
       "        }\n",
       "    </script>\n",
       "</head>\n",
       "\n",
       "<body>\n",
       "\n",
       "    <div id=\"div1\" ondrop=\"drop(event)\" ondragover=\"allowDrop(event)\">\n",
       "        <b>Box #1</b>\n",
       "    </div>\n",
       "\n",
       "    <br>\n",
       "\n",
       "    <p id=\"drag1\" draggable=\"true\" ondragstart=\"drag(event)\">\n",
       "        This is a draggable paragraph #1. Drag this element into any of the two rectangles.\n",
       "    </p>\n",
       "\n",
       "    <p id=\"drag2\" draggable=\"true\" ondragstart=\"drag(event)\">\n",
       "        This is a draggable paragraph #2. Drag this element into any of the two rectangles.</p>\n",
       "\n",
       "    <br/>\n",
       "\n",
       "    <div id=\"div2\" ondrop=\"drop(event)\" ondragover=\"allowDrop(event)\">\n",
       "        <b>Box #2</b>\n",
       "    </div>\n",
       "\n",
       "</body>\n",
       "\n",
       "</html>"
      ],
      "text/plain": [
       "<IPython.core.display.HTML object>"
      ]
     },
     "execution_count": 4,
     "metadata": {},
     "output_type": "execute_result"
    }
   ],
   "source": [
    "HTML('./draggable_1.html')"
   ]
  },
  {
   "cell_type": "markdown",
   "metadata": {},
   "source": [
    "Using the **%%javascript** cell magic and **jQuery**, we can modify the DOM node's display attributes using their id's!!"
   ]
  },
  {
   "cell_type": "code",
   "execution_count": 5,
   "metadata": {
    "collapsed": false
   },
   "outputs": [
    {
     "data": {
      "application/javascript": [
       "\n",
       "$(\"p#drag1\").css(\"border\", \"1px double red\")"
      ],
      "text/plain": [
       "<IPython.core.display.Javascript object>"
      ]
     },
     "metadata": {},
     "output_type": "display_data"
    }
   ],
   "source": [
    "%%javascript\n",
    "\n",
    "$(\"p#drag1\").css(\"border\", \"1px double red\")"
   ]
  },
  {
   "cell_type": "markdown",
   "metadata": {},
   "source": [
    "One can also the IPython.display.Javascript class to run code!!"
   ]
  },
  {
   "cell_type": "code",
   "execution_count": 6,
   "metadata": {
    "collapsed": false,
    "deletable": true,
    "editable": true
   },
   "outputs": [
    {
     "data": {
      "application/javascript": [
       "$(\"p#drag2\").css(\"border\", \"2px double green\")"
      ],
      "text/plain": [
       "<IPython.core.display.Javascript object>"
      ]
     },
     "execution_count": 6,
     "metadata": {},
     "output_type": "execute_result"
    }
   ],
   "source": [
    "Javascript(\"\"\"$(\"p#drag2\").css(\"border\", \"2px double green\")\"\"\")"
   ]
  },
  {
   "cell_type": "markdown",
   "metadata": {
    "deletable": true,
    "editable": true
   },
   "source": [
    "# Note"
   ]
  },
  {
   "cell_type": "markdown",
   "metadata": {
    "deletable": true,
    "editable": true
   },
   "source": [
    "I started off by writing the entire HTML in a code cell with the %%html cell magic.\n",
    "\n",
    "Then I wrote the file out to an html file using the %%writefile cell magic.\n",
    "\n",
    "From the next time I was editing the file using gvim, saving it and then loading/reloading it using **IPython.display.HTML** python command. If I really wanted to edit the html within the code cell, I can always load it using the %load magic!\n",
    "\n",
    "    %%html\n",
    "    \n",
    "    %%writefile draggable_1.html\n",
    "\n",
    "    !gvim draggable_1.html\n",
    "\n",
    "    %load draggable_1.html"
   ]
  }
 ],
 "metadata": {
  "kernelspec": {
   "display_name": "Python 3.6 Test2",
   "language": "python",
   "name": "python36test2"
  },
  "language_info": {
   "codemirror_mode": {
    "name": "ipython",
    "version": 3
   },
   "file_extension": ".py",
   "mimetype": "text/x-python",
   "name": "python",
   "nbconvert_exporter": "python",
   "pygments_lexer": "ipython3",
   "version": "3.6.0"
  }
 },
 "nbformat": 4,
 "nbformat_minor": 2
}
