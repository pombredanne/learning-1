{
 "cells": [
  {
   "cell_type": "markdown",
   "metadata": {
    "deletable": true,
    "editable": true
   },
   "source": [
    "# About Us\n",
    "\n",
    "*We sell drums*\n",
    "\n",
    "You can choose the\n",
    "\n",
    "- Size of drums\n",
    "- Color of drums"
   ]
  },
  {
   "cell_type": "code",
   "execution_count": 7,
   "metadata": {
    "collapsed": true,
    "deletable": true,
    "editable": true
   },
   "outputs": [],
   "source": [
    "from IPython.display import HTML, Javascript\n",
    "from ipywidgets import interact\n",
    "import ipywidgets as widgets"
   ]
  },
  {
   "cell_type": "markdown",
   "metadata": {
    "deletable": true,
    "editable": true
   },
   "source": [
    "# Forms\n",
    "\n",
    "The forms in the Drum Shop app"
   ]
  },
  {
   "cell_type": "markdown",
   "metadata": {
    "deletable": true,
    "editable": true
   },
   "source": [
    "## Form: Choose Drum\n",
    "\n",
    "Let's the user choose the drum (from the provided options)"
   ]
  },
  {
   "cell_type": "code",
   "execution_count": 8,
   "metadata": {
    "collapsed": false,
    "deletable": true,
    "editable": true
   },
   "outputs": [
    {
     "name": "stdout",
     "output_type": "stream",
     "text": [
      "Overwriting drumshop_forms.py\n"
     ]
    }
   ],
   "source": [
    "%%writefile drumshop_forms.py\n",
    "\n",
    "from IPython.display import HTML, Javascript\n",
    "from ipywidgets import interact\n",
    "import ipywidgets as widgets\n",
    "\n",
    "\"\"\"\n",
    "Forms related to the Drum Shop\n",
    "\"\"\"\n"
   ]
  },
  {
   "cell_type": "markdown",
   "metadata": {},
   "source": [
    "Simple database for the drum shop. \n",
    "\n",
    "TODO\n",
    "\n",
    "    Replace this by a sqlite database in the next iteration."
   ]
  },
  {
   "cell_type": "code",
   "execution_count": 9,
   "metadata": {
    "collapsed": false,
    "deletable": true,
    "editable": true
   },
   "outputs": [
    {
     "name": "stdout",
     "output_type": "stream",
     "text": [
      "Appending to drumshop_forms.py\n"
     ]
    }
   ],
   "source": [
    "%%writefile drumshop_forms.py -a\n",
    "\n",
    "drumSizeTags = ('small', 'medium', 'large')\n",
    "drumSizeValues = ('20', '40', '60')\n",
    "\n",
    "drumSizes = dict(zip(drumSizeTags, range(len(drumSizeTags))))\n",
    "drumColors = ['red', 'green', 'blue', 'yellow', 'grey']\n",
    "\n"
   ]
  },
  {
   "cell_type": "markdown",
   "metadata": {},
   "source": [
    "The callback that gets processed after the user choses the options for the drums."
   ]
  },
  {
   "cell_type": "code",
   "execution_count": 10,
   "metadata": {
    "collapsed": false,
    "deletable": true,
    "editable": true
   },
   "outputs": [
    {
     "name": "stdout",
     "output_type": "stream",
     "text": [
      "Appending to drumshop_forms.py\n"
     ]
    }
   ],
   "source": [
    "%%writefile drumshop_forms.py -a\n",
    "\n",
    "\n",
    "def chooseDrum(size, color):\n",
    "    \"\"\"\n",
    "    Displays the Drum after applying the user chosen settings\n",
    "    \"\"\"\n",
    "    \n",
    "    sizeTag = drumSizeTags[size]\n",
    "    sizeValue = drumSizeValues[size]\n",
    "    \n",
    "    html = HTML(f\"\"\"\n",
    "    <p>You choose a \"{sizeTag}\" size drum of height \"{sizeValue}\" and color \"{color}\"</p>\n",
    "    <hr/>\n",
    "    <div style=\"color:#0000FF; \n",
    "                background-color:{color}; \n",
    "                height:{sizeValue}px; \n",
    "                width: 50px;\"\n",
    "    >\n",
    "    <p>{sizeValue}</p>\n",
    "    </div>\n",
    "    \"\"\")\n",
    "    return html\n",
    "\n"
   ]
  },
  {
   "cell_type": "markdown",
   "metadata": {},
   "source": [
    "Now that we have selected the code cells and executed them, we have a Python file. \n",
    "\n",
    "You can open it in your favorite text editor and have a look at the code."
   ]
  },
  {
   "cell_type": "code",
   "execution_count": 11,
   "metadata": {
    "collapsed": true,
    "deletable": true,
    "editable": true
   },
   "outputs": [],
   "source": [
    "!gvim drumshop_forms.py"
   ]
  },
  {
   "cell_type": "markdown",
   "metadata": {},
   "source": [
    "You can can run it using the **%run** line magic command.\n",
    "\n",
    "All the symbols in the file will be made available in the interpreter now!"
   ]
  },
  {
   "cell_type": "code",
   "execution_count": 12,
   "metadata": {
    "collapsed": true,
    "deletable": true,
    "editable": true
   },
   "outputs": [],
   "source": [
    "%run drumshop_forms.py"
   ]
  },
  {
   "cell_type": "markdown",
   "metadata": {},
   "source": [
    "You can quickly check the symbols and acertain that they are from the file that was run above.\n",
    "\n",
    "Just select the two code cells below and execute them."
   ]
  },
  {
   "cell_type": "code",
   "execution_count": 14,
   "metadata": {
    "collapsed": false,
    "deletable": true,
    "editable": true
   },
   "outputs": [],
   "source": [
    "chooseDrum?"
   ]
  },
  {
   "cell_type": "code",
   "execution_count": 15,
   "metadata": {
    "collapsed": false,
    "deletable": true,
    "editable": true
   },
   "outputs": [
    {
     "data": {
      "text/plain": [
       "{'large': 2, 'medium': 1, 'small': 0}"
      ]
     },
     "execution_count": 15,
     "metadata": {},
     "output_type": "execute_result"
    }
   ],
   "source": [
    "drumSizes"
   ]
  },
  {
   "cell_type": "markdown",
   "metadata": {},
   "source": [
    "We can now display an user interface for the Drum Options."
   ]
  },
  {
   "cell_type": "code",
   "execution_count": 16,
   "metadata": {
    "collapsed": false,
    "deletable": true,
    "editable": true
   },
   "outputs": [
    {
     "data": {
      "image/png": "[encoded data removed]",
      "text/html": [
       "<img src=data:image/png;base64,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 class=\"jupyter-widget\">\n",
       "<script type=\"application/vnd.jupyter-embedded-widgets\">[]</script>"
      ]
     },
     "metadata": {
      "isWidgetSnapshot": true
     },
     "output_type": "display_data"
    },
    {
     "data": {
      "text/html": [
       "\n",
       "    <p>You choose a \"medium\" size drum of height \"40\" and color \"yellow\"</p>\n",
       "    <hr/>\n",
       "    <div style=\"color:#0000FF; \n",
       "                background-color:yellow; \n",
       "                height:40px; \n",
       "                width: 50px;\"\n",
       "    >\n",
       "    <p>40</p>\n",
       "    </div>\n",
       "    "
      ],
      "text/plain": [
       "<IPython.core.display.HTML object>"
      ]
     },
     "metadata": {},
     "output_type": "display_data"
    }
   ],
   "source": [
    "interact(chooseDrum, size=drumSizes, color=drumColors)"
   ]
  },
  {
   "cell_type": "markdown",
   "metadata": {},
   "source": [
    "Following is an alternate user interface for the form."
   ]
  },
  {
   "cell_type": "code",
   "execution_count": 17,
   "metadata": {
    "collapsed": false,
    "deletable": true,
    "editable": true
   },
   "outputs": [
    {
     "data": {
      "image/png": "[encoded data removed]",
      "text/html": [
       "<img src=data:image/png;base64,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 class=\"jupyter-widget\">\n",
       "<script type=\"application/vnd.jupyter-embedded-widgets\">[{},{\"_options_labels\":[\"small\",\"medium\",\"large\"],\"description\":\"size\",\"layout\":\"IPY_MODEL_425490dc71734362843b6da34c11cad7\",\"value\":\"large\"},{},{\"_options_labels\":[\"red\",\"green\",\"blue\",\"yellow\",\"grey\"],\"description\":\"color\",\"layout\":\"IPY_MODEL_5b68916c24144ff786c99a04fd932260\",\"value\":\"grey\"},{},{\"_dom_classes\":[\"widget-interact\"],\"children\":[\"IPY_MODEL_465db76d13c044ef9a8d72cb3f9ea46b\",\"IPY_MODEL_ba5bf27698054344928c4ee5ec4360d0\"],\"layout\":\"IPY_MODEL_20219997d7234d5282e74d36271d3bce\"}]</script>"
      ]
     },
     "metadata": {
      "isWidgetSnapshot": true
     },
     "output_type": "display_data"
    },
    {
     "data": {
      "text/html": [
       "\n",
       "    <p>You choose a \"large\" size drum of height \"60\" and color \"grey\"</p>\n",
       "    <hr/>\n",
       "    <div style=\"color:#0000FF; \n",
       "                background-color:grey; \n",
       "                height:60px; \n",
       "                width: 50px;\"\n",
       "    >\n",
       "    <p>60</p>\n",
       "    </div>\n",
       "    "
      ],
      "text/plain": [
       "<IPython.core.display.HTML object>"
      ]
     },
     "metadata": {},
     "output_type": "display_data"
    }
   ],
   "source": [
    "sizeSlider = widgets.SelectionSlider(options=drumSizes)\n",
    "colorSlider = widgets.SelectionSlider(options=drumColors)\n",
    "\n",
    "interact(chooseDrum, size=sizeSlider, color=colorSlider)"
   ]
  },
  {
   "cell_type": "code",
   "execution_count": null,
   "metadata": {
    "collapsed": true,
    "deletable": true,
    "editable": true
   },
   "outputs": [],
   "source": []
  }
 ],
 "metadata": {
  "kernelspec": {
   "display_name": "Python 3.6 Test2",
   "language": "python",
   "name": "python36test2"
  },
  "language_info": {
   "codemirror_mode": {
    "name": "ipython",
    "version": 3
   },
   "file_extension": ".py",
   "mimetype": "text/x-python",
   "name": "python",
   "nbconvert_exporter": "python",
   "pygments_lexer": "ipython3",
   "version": "3.6.0"
  },
  "widgets": {
   "state": {
    "c8b2c88d5445419b9aa10958b34d76b6": {
     "views": [
      {
       "cell_index": 19
      }
     ]
    },
    "d95faa1a417d489ba3d8f38f1ab2b1d0": {
     "views": [
      {
       "cell_index": 16
      }
     ]
    }
   },
   "version": "1.2.0"
  }
 },
 "nbformat": 4,
 "nbformat_minor": 2
}
