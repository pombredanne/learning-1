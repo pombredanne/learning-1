{
 "cells": [
  {
   "cell_type": "code",
   "execution_count": 1,
   "metadata": {
    "collapsed": true
   },
   "outputs": [],
   "source": [
    "from IPython.display import HTML, Javascript\n",
    "from ipywidgets import interact"
   ]
  },
  {
   "cell_type": "markdown",
   "metadata": {},
   "source": [
    "# About Us\n",
    "\n",
    "*We sell drums*\n",
    "\n",
    "You can choose the\n",
    "\n",
    "- Size of drums\n",
    "- Color of drums"
   ]
  },
  {
   "cell_type": "markdown",
   "metadata": {},
   "source": [
    "# Form: Choose Drum"
   ]
  },
  {
   "cell_type": "code",
   "execution_count": 11,
   "metadata": {
    "collapsed": false
   },
   "outputs": [
    {
     "data": {
      "text/html": [
       "\n",
       "    <div style=\"color:#0000FF; \n",
       "                background-color:yellow; \n",
       "                height:40px; \n",
       "                width: 50px;\">\n",
       "    </div>\n",
       "    <hr/>\n",
       "    <p>You choose a drum of height \"40\" and color \"yellow\"</p>\n",
       "    "
      ],
      "text/plain": [
       "<IPython.core.display.HTML object>"
      ]
     },
     "metadata": {},
     "output_type": "display_data"
    }
   ],
   "source": [
    "%%writefile drumshop_form_chooseDrum.py\n",
    "def chooseDrum(size, color):\n",
    "    html = HTML(f\"\"\"\n",
    "    <div style=\"color:#0000FF; \n",
    "                background-color:{color}; \n",
    "                height:{size}px; \n",
    "                width: 50px;\"\n",
    "    ></div>\n",
    "    <hr/>\n",
    "    <p>You choose a drum of height \"{size}\" and color \"{color}\"</p>\n",
    "    \"\"\")\n",
    "    return html\n",
    "\n",
    "drumSizes = {'small': 10, 'medium': 20, 'large': 40}\n",
    "drumColors = ['red', 'green', 'blue', 'yellow', 'grey']\n",
    "\n",
    "interact(chooseDrum, size=drumSizes, color=drumColors)"
   ]
  },
  {
   "cell_type": "code",
   "execution_count": null,
   "metadata": {
    "collapsed": true
   },
   "outputs": [],
   "source": []
  },
  {
   "cell_type": "code",
   "execution_count": null,
   "metadata": {
    "collapsed": true
   },
   "outputs": [],
   "source": []
  },
  {
   "cell_type": "code",
   "execution_count": null,
   "metadata": {
    "collapsed": true
   },
   "outputs": [],
   "source": []
  },
  {
   "cell_type": "code",
   "execution_count": null,
   "metadata": {
    "collapsed": true
   },
   "outputs": [],
   "source": []
  }
 ],
 "metadata": {
  "kernelspec": {
   "display_name": "Python 3.6 Test2",
   "language": "python",
   "name": "python36test2"
  },
  "language_info": {
   "codemirror_mode": {
    "name": "ipython",
    "version": 3
   },
   "file_extension": ".py",
   "mimetype": "text/x-python",
   "name": "python",
   "nbconvert_exporter": "python",
   "pygments_lexer": "ipython3",
   "version": "3.6.0"
  },
  "widgets": {
   "state": {
    "7cea33b676554892b11c2aaa47d49765": {
     "views": [
      {
       "cell_index": 3
      }
     ]
    }
   },
   "version": "1.2.0"
  }
 },
 "nbformat": 4,
 "nbformat_minor": 2
}
