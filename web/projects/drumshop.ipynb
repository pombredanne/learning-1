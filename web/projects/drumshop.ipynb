{
 "cells": [
  {
   "cell_type": "markdown",
   "metadata": {
    "deletable": true,
    "editable": true
   },
   "source": [
    "# About Us\n",
    "\n",
    "*We sell drums*\n",
    "\n",
    "You can choose the\n",
    "\n",
    "- Size of drums\n",
    "- Color of drums"
   ]
  },
  {
   "cell_type": "markdown",
   "metadata": {},
   "source": [
    "# Forms"
   ]
  },
  {
   "cell_type": "code",
   "execution_count": 36,
   "metadata": {
    "collapsed": true
   },
   "outputs": [],
   "source": [
    "from IPython.display import HTML, Javascript\n",
    "from ipywidgets import interact\n",
    "import ipywidgets as widgets"
   ]
  },
  {
   "cell_type": "markdown",
   "metadata": {
    "deletable": true,
    "editable": true
   },
   "source": [
    "## Form: Choose Drum"
   ]
  },
  {
   "cell_type": "code",
   "execution_count": 48,
   "metadata": {
    "collapsed": false
   },
   "outputs": [
    {
     "name": "stdout",
     "output_type": "stream",
     "text": [
      "Overwriting drumshop_forms.py\n"
     ]
    }
   ],
   "source": [
    "%%writefile drumshop_forms.py\n",
    "\n",
    "from IPython.display import HTML, Javascript\n",
    "from ipywidgets import interact\n",
    "import ipywidgets as widgets\n",
    "\n",
    "\"\"\"\n",
    "Forms related to the Drum Shop\n",
    "\"\"\""
   ]
  },
  {
   "cell_type": "code",
   "execution_count": 49,
   "metadata": {
    "collapsed": false,
    "deletable": true,
    "editable": true
   },
   "outputs": [
    {
     "name": "stdout",
     "output_type": "stream",
     "text": [
      "Appending to drumshop_forms.py\n"
     ]
    }
   ],
   "source": [
    "%%writefile drumshop_forms.py -a\n",
    "\n",
    "\n",
    "drumSizeTags = ('small', 'medium', 'large')\n",
    "drumSizeValues = ('20', '40', '60')\n",
    "\n",
    "drumSizes = dict(zip(drumSizeTags, range(len(drumSizeTags))))\n",
    "drumColors = ['red', 'green', 'blue', 'yellow', 'grey']\n",
    "\n"
   ]
  },
  {
   "cell_type": "code",
   "execution_count": 50,
   "metadata": {
    "collapsed": false
   },
   "outputs": [
    {
     "name": "stdout",
     "output_type": "stream",
     "text": [
      "Appending to drumshop_forms.py\n"
     ]
    }
   ],
   "source": [
    "%%writefile drumshop_forms.py -a\n",
    "\n",
    "\n",
    "def chooseDrum(size, color):\n",
    "    \"\"\"\n",
    "    Displays the Drum after applying the user chosen settings\n",
    "    \"\"\"\n",
    "    \n",
    "    sizeTag = drumSizeTags[size]\n",
    "    sizeValue = drumSizeValues[size]\n",
    "    \n",
    "    html = HTML(f\"\"\"\n",
    "    <p>You choose a \"{sizeTag}\" size drum of height \"{sizeValue}\" and color \"{color}\"</p>\n",
    "    <hr/>\n",
    "    <div style=\"color:#0000FF; \n",
    "                background-color:{color}; \n",
    "                height:{sizeValue}px; \n",
    "                width: 50px;\"\n",
    "    >\n",
    "    <p>{sizeValue}</p>\n",
    "    </div>\n",
    "    \"\"\")\n",
    "    return html\n",
    "\n"
   ]
  },
  {
   "cell_type": "code",
   "execution_count": 43,
   "metadata": {
    "collapsed": true
   },
   "outputs": [],
   "source": [
    "!gvim drumshop_forms.py"
   ]
  },
  {
   "cell_type": "code",
   "execution_count": 51,
   "metadata": {
    "collapsed": true
   },
   "outputs": [],
   "source": [
    "%run drumshop_forms.py"
   ]
  },
  {
   "cell_type": "code",
   "execution_count": 45,
   "metadata": {
    "collapsed": false
   },
   "outputs": [],
   "source": [
    "%pdoc chooseDrum"
   ]
  },
  {
   "cell_type": "code",
   "execution_count": 52,
   "metadata": {
    "collapsed": false
   },
   "outputs": [
    {
     "data": {
      "text/plain": [
       "{'large': 2, 'medium': 1, 'small': 0}"
      ]
     },
     "execution_count": 52,
     "metadata": {},
     "output_type": "execute_result"
    }
   ],
   "source": [
    "drumSizes"
   ]
  },
  {
   "cell_type": "code",
   "execution_count": 53,
   "metadata": {
    "collapsed": false,
    "deletable": true,
    "editable": true
   },
   "outputs": [
    {
     "data": {
      "image/png": "[encoded data removed]",
      "text/html": [
       "<img src=data:image/png;base64,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 class=\"jupyter-widget\">\n",
       "<script type=\"application/vnd.jupyter-embedded-widgets\">[{},{\"_options_labels\":[\"small\",\"medium\",\"large\"],\"description\":\"size\",\"layout\":\"IPY_MODEL_bd6d52ea85504680a81454adc418376e\",\"value\":\"small\"},{},{\"_options_labels\":[\"red\",\"green\",\"blue\",\"yellow\",\"grey\"],\"description\":\"color\",\"layout\":\"IPY_MODEL_a29600acbd83439fa68998afe6dfc00a\",\"value\":\"red\"},{},{\"_dom_classes\":[\"widget-interact\"],\"children\":[\"IPY_MODEL_07c71445c864465880ef76b3e5f0d8b3\",\"IPY_MODEL_00159382462c4d699a2bff6d69bc5d13\"],\"layout\":\"IPY_MODEL_06fefd5e53b945e193f91a6b790fe874\"}]</script>"
      ]
     },
     "metadata": {
      "isWidgetSnapshot": true
     },
     "output_type": "display_data"
    },
    {
     "data": {
      "image/png": "[encoded data removed]",
      "text/html": [
       "<img src=data:image/png;base64,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 class=\"jupyter-widget\">\n",
       "<script type=\"application/vnd.jupyter-embedded-widgets\">[{},{\"_options_labels\":[\"small\",\"medium\",\"large\"],\"description\":\"size\",\"layout\":\"IPY_MODEL_bd6d52ea85504680a81454adc418376e\",\"value\":\"small\"},{},{\"_options_labels\":[\"red\",\"green\",\"blue\",\"yellow\",\"grey\"],\"description\":\"color\",\"layout\":\"IPY_MODEL_a29600acbd83439fa68998afe6dfc00a\",\"value\":\"red\"},{},{\"_dom_classes\":[\"widget-interact\"],\"children\":[\"IPY_MODEL_07c71445c864465880ef76b3e5f0d8b3\",\"IPY_MODEL_00159382462c4d699a2bff6d69bc5d13\"],\"layout\":\"IPY_MODEL_06fefd5e53b945e193f91a6b790fe874\"}]</script>"
      ]
     },
     "metadata": {
      "isWidgetSnapshot": true
     },
     "output_type": "display_data"
    },
    {
     "data": {
      "image/png": "[encoded data removed]",
      "text/html": [
       "<img src=data:image/png;base64,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 class=\"jupyter-widget\">\n",
       "<script type=\"application/vnd.jupyter-embedded-widgets\">[{},{\"_options_labels\":[\"small\",\"medium\",\"large\"],\"description\":\"size\",\"layout\":\"IPY_MODEL_bd6d52ea85504680a81454adc418376e\",\"value\":\"small\"},{},{\"_options_labels\":[\"red\",\"green\",\"blue\",\"yellow\",\"grey\"],\"description\":\"color\",\"layout\":\"IPY_MODEL_a29600acbd83439fa68998afe6dfc00a\",\"value\":\"red\"},{},{\"_dom_classes\":[\"widget-interact\"],\"children\":[\"IPY_MODEL_07c71445c864465880ef76b3e5f0d8b3\",\"IPY_MODEL_00159382462c4d699a2bff6d69bc5d13\"],\"layout\":\"IPY_MODEL_06fefd5e53b945e193f91a6b790fe874\"}]</script>"
      ]
     },
     "metadata": {
      "isWidgetSnapshot": true
     },
     "output_type": "display_data"
    },
    {
     "data": {
      "text/html": [
       "\n",
       "    <p>You choose a \"small\" size drum of height \"20\" and color \"red\"</p>\n",
       "    <hr/>\n",
       "    <div style=\"color:#0000FF; \n",
       "                background-color:red; \n",
       "                height:20px; \n",
       "                width: 50px;\"\n",
       "    >\n",
       "    <p>20</p>\n",
       "    </div>\n",
       "    "
      ],
      "text/plain": [
       "<IPython.core.display.HTML object>"
      ]
     },
     "metadata": {},
     "output_type": "display_data"
    }
   ],
   "source": [
    "interact(chooseDrum, size=drumSizes, color=drumColors)"
   ]
  },
  {
   "cell_type": "code",
   "execution_count": 54,
   "metadata": {
    "collapsed": false,
    "deletable": true,
    "editable": true
   },
   "outputs": [
    {
     "data": {
      "image/png": "[encoded data removed]",
      "text/html": [
       "<img src=data:image/png;base64,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 class=\"jupyter-widget\">\n",
       "<script type=\"application/vnd.jupyter-embedded-widgets\">[{},{\"_options_labels\":[\"small\",\"medium\",\"large\"],\"description\":\"size\",\"layout\":\"IPY_MODEL_db93c55036bc4df082f725786232afc1\",\"value\":\"large\"},{},{\"_options_labels\":[\"red\",\"green\",\"blue\",\"yellow\",\"grey\"],\"description\":\"color\",\"layout\":\"IPY_MODEL_343a5fb2346c46a890fa4eb14719bec5\",\"value\":\"grey\"},{},{\"_dom_classes\":[\"widget-interact\"],\"children\":[\"IPY_MODEL_7c237d06120947a9ade430d5da4923ba\",\"IPY_MODEL_6d57887d681a439f902bab73f93c01d3\"],\"layout\":\"IPY_MODEL_b390f93a7abf4752a8f07a17d44b68c3\"}]</script>"
      ]
     },
     "metadata": {
      "isWidgetSnapshot": true
     },
     "output_type": "display_data"
    },
    {
     "data": {
      "image/png": "[encoded data removed]",
      "text/html": [
       "<img src=data:image/png;base64,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 class=\"jupyter-widget\">\n",
       "<script type=\"application/vnd.jupyter-embedded-widgets\">[{},{\"_options_labels\":[\"small\",\"medium\",\"large\"],\"description\":\"size\",\"layout\":\"IPY_MODEL_db93c55036bc4df082f725786232afc1\",\"value\":\"large\"},{},{\"_options_labels\":[\"red\",\"green\",\"blue\",\"yellow\",\"grey\"],\"description\":\"color\",\"layout\":\"IPY_MODEL_343a5fb2346c46a890fa4eb14719bec5\",\"value\":\"grey\"},{},{\"_dom_classes\":[\"widget-interact\"],\"children\":[\"IPY_MODEL_7c237d06120947a9ade430d5da4923ba\",\"IPY_MODEL_6d57887d681a439f902bab73f93c01d3\"],\"layout\":\"IPY_MODEL_b390f93a7abf4752a8f07a17d44b68c3\"}]</script>"
      ]
     },
     "metadata": {
      "isWidgetSnapshot": true
     },
     "output_type": "display_data"
    },
    {
     "data": {
      "image/png": "[encoded data removed]",
      "text/html": [
       "<img src=data:image/png;base64,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 class=\"jupyter-widget\">\n",
       "<script type=\"application/vnd.jupyter-embedded-widgets\">[{},{\"_options_labels\":[\"small\",\"medium\",\"large\"],\"description\":\"size\",\"layout\":\"IPY_MODEL_db93c55036bc4df082f725786232afc1\",\"value\":\"large\"},{},{\"_options_labels\":[\"red\",\"green\",\"blue\",\"yellow\",\"grey\"],\"description\":\"color\",\"layout\":\"IPY_MODEL_343a5fb2346c46a890fa4eb14719bec5\",\"value\":\"grey\"},{},{\"_dom_classes\":[\"widget-interact\"],\"children\":[\"IPY_MODEL_7c237d06120947a9ade430d5da4923ba\",\"IPY_MODEL_6d57887d681a439f902bab73f93c01d3\"],\"layout\":\"IPY_MODEL_b390f93a7abf4752a8f07a17d44b68c3\"}]</script>"
      ]
     },
     "metadata": {
      "isWidgetSnapshot": true
     },
     "output_type": "display_data"
    },
    {
     "data": {
      "text/html": [
       "\n",
       "    <p>You choose a \"large\" size drum of height \"60\" and color \"grey\"</p>\n",
       "    <hr/>\n",
       "    <div style=\"color:#0000FF; \n",
       "                background-color:grey; \n",
       "                height:60px; \n",
       "                width: 50px;\"\n",
       "    >\n",
       "    <p>60</p>\n",
       "    </div>\n",
       "    "
      ],
      "text/plain": [
       "<IPython.core.display.HTML object>"
      ]
     },
     "metadata": {},
     "output_type": "display_data"
    }
   ],
   "source": [
    "sizeSlider = widgets.SelectionSlider(options=drumSizes)\n",
    "colorSlider = widgets.SelectionSlider(options=drumColors)\n",
    "\n",
    "interact(chooseDrum, size=sizeSlider, color=colorSlider)"
   ]
  },
  {
   "cell_type": "code",
   "execution_count": null,
   "metadata": {
    "collapsed": true,
    "deletable": true,
    "editable": true
   },
   "outputs": [],
   "source": []
  }
 ],
 "metadata": {
  "kernelspec": {
   "display_name": "Python 3.6 Test2",
   "language": "python",
   "name": "python36test2"
  },
  "language_info": {
   "codemirror_mode": {
    "name": "ipython",
    "version": 3
   },
   "file_extension": ".py",
   "mimetype": "text/x-python",
   "name": "python",
   "nbconvert_exporter": "python",
   "pygments_lexer": "ipython3",
   "version": "3.6.0"
  },
  "widgets": {
   "state": {
    "ac6d6c7ed55f4f798c1cbd47f3aa7652": {
     "views": [
      {
       "cell_index": 11
      }
     ]
    },
    "b3ccfde4e13c47929ec159261323dbd5": {
     "views": [
      {
       "cell_index": 12
      }
     ]
    }
   },
   "version": "1.2.0"
  }
 },
 "nbformat": 4,
 "nbformat_minor": 2
}
