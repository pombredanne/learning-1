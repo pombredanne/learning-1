{
 "cells": [
  {
   "cell_type": "code",
   "execution_count": 1,
   "metadata": {
    "collapsed": true
   },
   "outputs": [],
   "source": [
    "from IPython.display import HTML, Javascript\n",
    "from ipywidgets import interact"
   ]
  },
  {
   "cell_type": "markdown",
   "metadata": {},
   "source": [
    "# About Us\n",
    "\n",
    "*We sell drums*\n",
    "\n",
    "You can choose the\n",
    "\n",
    "- Size of drums\n",
    "- Color of drums"
   ]
  },
  {
   "cell_type": "markdown",
   "metadata": {},
   "source": [
    "# Form: Choose Drum"
   ]
  },
  {
   "cell_type": "code",
   "execution_count": 18,
   "metadata": {
    "collapsed": false
   },
   "outputs": [
    {
     "data": {
      "image/png": "[encoded data removed]",
      "text/html": [
       "<img src=data:image/png;base64,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 class=\"jupyter-widget\">\n",
       "<script type=\"application/vnd.jupyter-embedded-widgets\">[{},{\"_options_labels\":[\"small\",\"medium\",\"large\"],\"description\":\"size\",\"layout\":\"IPY_MODEL_84111ed7244a4939a0a24e3d1582e5cd\",\"value\":\"medium\"},{},{\"_options_labels\":[\"red\",\"green\",\"blue\",\"yellow\",\"grey\"],\"description\":\"color\",\"layout\":\"IPY_MODEL_9ff4adb56ba34026bbeedebd1fa16179\",\"value\":\"green\"},{},{\"_dom_classes\":[\"widget-interact\"],\"children\":[\"IPY_MODEL_1a3c03bcd5454daeba60b6c0f778c272\",\"IPY_MODEL_7c9633b424a349b6b0cf1c3da951a422\"],\"layout\":\"IPY_MODEL_31941f6e0ce043f3a86c3ce8efc77275\"}]</script>"
      ]
     },
     "metadata": {
      "isWidgetSnapshot": true
     },
     "output_type": "display_data"
    },
    {
     "data": {
      "text/html": [
       "\n",
       "    <div style=\"color:#0000FF; \n",
       "                background-color:green; \n",
       "                height:20px; \n",
       "                width: 50px;\"\n",
       "    ></div>\n",
       "    <hr/>\n",
       "    <p>You choose a \"medium\" size drum of height \"20\" and color \"green\"</p>\n",
       "    "
      ],
      "text/plain": [
       "<IPython.core.display.HTML object>"
      ]
     },
     "metadata": {},
     "output_type": "display_data"
    }
   ],
   "source": [
    "#%%writefile drumshop_form_chooseDrum.py\n",
    "\n",
    "def chooseDrum(size, color):\n",
    "    sizeTag = drumSizeTags[size]\n",
    "    sizeValue = drumSizeValues[size]\n",
    "    \n",
    "    html = HTML(f\"\"\"\n",
    "    <div style=\"color:#0000FF; \n",
    "                background-color:{color}; \n",
    "                height:{sizeValue}px; \n",
    "                width: 50px;\"\n",
    "    ></div>\n",
    "    <hr/>\n",
    "    <p>You choose a \"{sizeTag}\" size drum of height \"{sizeValue}\" and color \"{color}\"</p>\n",
    "    \"\"\")\n",
    "    return html\n",
    "\n",
    "drumSizeTags = ('small', 'medium', 'large')\n",
    "drumSizeValues = ('10', '20', '40')\n",
    "\n",
    "drumSizes = dict(zip(drumSizeTags, range(len(drumSizeTags))))\n",
    "drumColors = ['red', 'green', 'blue', 'yellow', 'grey']\n",
    "\n",
    "interact(chooseDrum, size=drumSizes, color=drumColors)"
   ]
  },
  {
   "cell_type": "code",
   "execution_count": null,
   "metadata": {
    "collapsed": true
   },
   "outputs": [],
   "source": []
  },
  {
   "cell_type": "code",
   "execution_count": null,
   "metadata": {
    "collapsed": true
   },
   "outputs": [],
   "source": []
  },
  {
   "cell_type": "code",
   "execution_count": null,
   "metadata": {
    "collapsed": true
   },
   "outputs": [],
   "source": []
  },
  {
   "cell_type": "code",
   "execution_count": null,
   "metadata": {
    "collapsed": true
   },
   "outputs": [],
   "source": []
  }
 ],
 "metadata": {
  "kernelspec": {
   "display_name": "Python 3.6 Test2",
   "language": "python",
   "name": "python36test2"
  },
  "language_info": {
   "codemirror_mode": {
    "name": "ipython",
    "version": 3
   },
   "file_extension": ".py",
   "mimetype": "text/x-python",
   "name": "python",
   "nbconvert_exporter": "python",
   "pygments_lexer": "ipython3",
   "version": "3.6.0"
  },
  "widgets": {
   "state": {
    "3a5131cfecab49bb85956b905293f2fa": {
     "views": [
      {
       "cell_index": 3
      }
     ]
    }
   },
   "version": "1.2.0"
  }
 },
 "nbformat": 4,
 "nbformat_minor": 2
}
