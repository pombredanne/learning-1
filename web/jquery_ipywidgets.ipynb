{
 "cells": [
  {
   "cell_type": "markdown",
   "metadata": {
    "deletable": true,
    "editable": true
   },
   "source": [
    "Back to [jQuery](jquery.ipynb)"
   ]
  },
  {
   "cell_type": "markdown",
   "metadata": {
    "deletable": true,
    "editable": true
   },
   "source": [
    "# Mixing ipywidgets and jQuery"
   ]
  },
  {
   "cell_type": "code",
   "execution_count": 1,
   "metadata": {
    "collapsed": true,
    "deletable": true,
    "editable": true
   },
   "outputs": [],
   "source": [
    "from IPython.display import HTML, Javascript\n",
    "from ipywidgets import interact"
   ]
  },
  {
   "cell_type": "markdown",
   "metadata": {
    "deletable": true,
    "editable": true
   },
   "source": [
    "*Create a HTML element with a class and a tag*"
   ]
  },
  {
   "cell_type": "code",
   "execution_count": 2,
   "metadata": {
    "collapsed": false,
    "deletable": true,
    "editable": true
   },
   "outputs": [
    {
     "data": {
      "text/html": [
       "<h1 class='juh' id='juhh1'>Hello World</h1>"
      ],
      "text/plain": [
       "<IPython.core.display.HTML object>"
      ]
     },
     "execution_count": 2,
     "metadata": {},
     "output_type": "execute_result"
    }
   ],
   "source": [
    "HTML(\"\"\"<h1 class='juh' id='juhh1'>Hello World</h1>\"\"\")"
   ]
  },
  {
   "cell_type": "markdown",
   "metadata": {
    "deletable": true,
    "editable": true
   },
   "source": [
    "*Change the style/color of the previously created element*"
   ]
  },
  {
   "cell_type": "code",
   "execution_count": 3,
   "metadata": {
    "collapsed": false,
    "deletable": true,
    "editable": true
   },
   "outputs": [
    {
     "data": {
      "application/javascript": [
       "\n",
       "$(\"#juhh1\").css('color', 'red')\n"
      ],
      "text/plain": [
       "<IPython.core.display.Javascript object>"
      ]
     },
     "execution_count": 3,
     "metadata": {},
     "output_type": "execute_result"
    }
   ],
   "source": [
    "Javascript(\"\"\"\n",
    "$(\"#juhh1\").css('color', 'red')\n",
    "\"\"\")"
   ]
  },
  {
   "cell_type": "code",
   "execution_count": 4,
   "metadata": {
    "collapsed": false,
    "deletable": true,
    "editable": true
   },
   "outputs": [
    {
     "data": {
      "application/javascript": [
       "\n",
       "$(\"#juhh1\").css('color', 'green')\n"
      ],
      "text/plain": [
       "<IPython.core.display.Javascript object>"
      ]
     },
     "execution_count": 4,
     "metadata": {},
     "output_type": "execute_result"
    }
   ],
   "source": [
    "Javascript(\"\"\"\n",
    "$(\"#juhh1\").css('color', 'green')\n",
    "\"\"\")"
   ]
  },
  {
   "cell_type": "markdown",
   "metadata": {
    "collapsed": true,
    "deletable": true,
    "editable": true
   },
   "source": [
    "\n",
    "    def changeDOMColor(color):\n",
    "        Javascript(\"\"\"\n",
    "        $(\"#juhh1\").css(\"color\", '{0}');\n",
    "        \"\"\".format(color))\n",
    "\n",
    "    interact(changeDOMColor, color=['red', 'green', 'blue'])"
   ]
  },
  {
   "cell_type": "markdown",
   "metadata": {
    "deletable": true,
    "editable": true
   },
   "source": [
    "*Why is Javascript code not being executed?* :( \n",
    "\n",
    "- SOLVED :)\n",
    "\n",
    "    In order for the Javascript() function to take effect, I had to save it in a variable and return it."
   ]
  },
  {
   "cell_type": "code",
   "execution_count": 5,
   "metadata": {
    "collapsed": false,
    "deletable": true,
    "editable": true
   },
   "outputs": [
    {
     "data": {
      "text/html": [
       "<h1 class='juh' id='juhh2'>jQuery and ipywidgets</h1>"
      ],
      "text/plain": [
       "<IPython.core.display.HTML object>"
      ]
     },
     "execution_count": 5,
     "metadata": {},
     "output_type": "execute_result"
    }
   ],
   "source": [
    "HTML(\"\"\"<h1 class='juh' id='juhh2'>jQuery and ipywidgets</h1>\"\"\")"
   ]
  },
  {
   "cell_type": "code",
   "execution_count": 6,
   "metadata": {
    "collapsed": false,
    "deletable": true,
    "editable": true
   },
   "outputs": [
    {
     "data": {
      "image/png": "[encoded data removed]",
      "text/html": [
       "<img src=data:image/png;base64,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 class=\"jupyter-widget\">\n",
       "<script type=\"application/vnd.jupyter-embedded-widgets\">[{},{\"_options_labels\":[\"red\",\"green\",\"blue\"],\"description\":\"color\",\"layout\":\"IPY_MODEL_36f0acbc6ce84077a07d910a5cba00c0\",\"value\":\"red\"},{},{\"_dom_classes\":[\"widget-interact\"],\"children\":[\"IPY_MODEL_68ef74d8e0e14e9b963b82964abd5ddc\"],\"layout\":\"IPY_MODEL_8430a26e66cf4b6a95fc995f1a7a784f\"}]</script>"
      ]
     },
     "metadata": {
      "isWidgetSnapshot": true
     },
     "output_type": "display_data"
    },
    {
     "data": {
      "application/javascript": [
       "\n",
       "$(\"#juhh2\").css(\"color\", 'red');\n"
      ],
      "text/plain": [
       "<IPython.core.display.Javascript object>"
      ]
     },
     "metadata": {},
     "output_type": "display_data"
    }
   ],
   "source": [
    "def changeDOMColor(color):\n",
    "    js = Javascript(\"\"\"\n",
    "$(\"#juhh2\").css(\"color\", '{0}');\n",
    "\"\"\".format(color))\n",
    "    return js\n",
    "\n",
    "interact(changeDOMColor, color=['red', 'green', 'blue'])"
   ]
  },
  {
   "cell_type": "markdown",
   "metadata": {
    "deletable": true,
    "editable": true
   },
   "source": [
    "Using the f-string syntax in Python 3.6 makes it even easier to write templated strings.\n",
    "\n",
    "As you can see in the code below, the f-string starts with f\" and the variable in the scope is interpolated {variable}"
   ]
  },
  {
   "cell_type": "code",
   "execution_count": 7,
   "metadata": {
    "collapsed": false,
    "deletable": true,
    "editable": true
   },
   "outputs": [
    {
     "data": {
      "text/html": [
       "<h1 class='juh' id='juhh3'>Using Python 3.6 f-strings</h1>"
      ],
      "text/plain": [
       "<IPython.core.display.HTML object>"
      ]
     },
     "execution_count": 7,
     "metadata": {},
     "output_type": "execute_result"
    }
   ],
   "source": [
    "HTML(\"\"\"<h1 class='juh' id='juhh3'>Using Python 3.6 f-strings</h1>\"\"\")"
   ]
  },
  {
   "cell_type": "code",
   "execution_count": 8,
   "metadata": {
    "collapsed": false,
    "deletable": true,
    "editable": true
   },
   "outputs": [
    {
     "data": {
      "image/png": "[encoded data removed]",
      "text/html": [
       "<img src=data:image/png;base64,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 class=\"jupyter-widget\">\n",
       "<script type=\"application/vnd.jupyter-embedded-widgets\">[{},{\"_options_labels\":[\"red\",\"green\",\"blue\"],\"description\":\"color\",\"layout\":\"IPY_MODEL_b8b9dcc47d2441e0a2c18cf9f78e0c04\",\"value\":\"blue\"},{},{\"_dom_classes\":[\"widget-interact\"],\"children\":[\"IPY_MODEL_b5668b3209834c8ab7f02b3f3dc814f7\"],\"layout\":\"IPY_MODEL_d43bcdcf371c4df7990cd42117686af6\"}]</script>"
      ]
     },
     "metadata": {
      "isWidgetSnapshot": true
     },
     "output_type": "display_data"
    },
    {
     "data": {
      "application/javascript": [
       "\n",
       "$(\"#juhh3\").css(\"color\", 'blue');\n"
      ],
      "text/plain": [
       "<IPython.core.display.Javascript object>"
      ]
     },
     "metadata": {},
     "output_type": "display_data"
    }
   ],
   "source": [
    "def changeDOMColor(color):\n",
    "    js = Javascript(f\"\"\"\n",
    "$(\"#juhh3\").css(\"color\", '{color}');\n",
    "\"\"\")\n",
    "    return js\n",
    "\n",
    "interact(changeDOMColor, color=['red', 'green', 'blue'])"
   ]
  }
 ],
 "metadata": {
  "kernelspec": {
   "display_name": "Python 3.6 Test2",
   "language": "python",
   "name": "python36test2"
  },
  "language_info": {
   "codemirror_mode": {
    "name": "ipython",
    "version": 3
   },
   "file_extension": ".py",
   "mimetype": "text/x-python",
   "name": "python",
   "nbconvert_exporter": "python",
   "pygments_lexer": "ipython3",
   "version": "3.6.0"
  },
  "widgets": {
   "state": {
    "75e08697d08e430e80a13dc5e6404f9c": {
     "views": [
      {
       "cell_index": 14
      }
     ]
    },
    "76e48041e1b04c8cb771260e0cc67c20": {
     "views": [
      {
       "cell_index": 11
      }
     ]
    }
   },
   "version": "1.2.0"
  }
 },
 "nbformat": 4,
 "nbformat_minor": 2
}
