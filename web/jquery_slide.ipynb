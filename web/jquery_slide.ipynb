{
 "cells": [
  {
   "cell_type": "markdown",
   "metadata": {
    "deletable": true,
    "editable": true
   },
   "source": [
    "# Sliding in jQuery\n",
    "\n",
    "* https://www.w3schools.com/jquery/jquery_slide.asp\n",
    "\n",
    "* https://www.w3schools.com/jquery/tryit.asp?filename=tryjquery_slide_toggle"
   ]
  },
  {
   "cell_type": "code",
   "execution_count": 1,
   "metadata": {
    "collapsed": true,
    "deletable": true,
    "editable": true
   },
   "outputs": [],
   "source": [
    "from IPython.display import HTML"
   ]
  },
  {
   "cell_type": "code",
   "execution_count": 2,
   "metadata": {
    "collapsed": false,
    "deletable": true,
    "editable": true
   },
   "outputs": [
    {
     "name": "stdout",
     "output_type": "stream",
     "text": [
      "Overwriting jquery_slide_toggle.html\n"
     ]
    }
   ],
   "source": [
    "%%writefile jquery_slide_toggle.html\n",
    "\n",
    "<script>\n",
    "$(document).ready(function(){\n",
    "    $(\"#flip\").click(function(){\n",
    "        $(\"#panel\").slideToggle(\"fast\");\n",
    "    });\n",
    "});\n",
    "</script>"
   ]
  },
  {
   "cell_type": "markdown",
   "metadata": {
    "deletable": true,
    "editable": true
   },
   "source": [
    "When the document is ready (loaded and the DOM constrcuted), jQuery will register the click callback on the elements with the **#flip** id."
   ]
  },
  {
   "cell_type": "code",
   "execution_count": 3,
   "metadata": {
    "collapsed": false,
    "deletable": true,
    "editable": true
   },
   "outputs": [
    {
     "name": "stdout",
     "output_type": "stream",
     "text": [
      "Appending to jquery_slide_toggle.html\n"
     ]
    }
   ],
   "source": [
    "%%writefile jquery_slide_toggle.html -a\n",
    "\n",
    "<style> \n",
    "#panel, #flip {\n",
    "    padding: 5px;\n",
    "    text-align: center;\n",
    "    background-color: #e5eecc;\n",
    "    border: solid 1px #c3c3c3;\n",
    "}\n",
    "\n",
    "#panel {\n",
    "    padding: 50px;\n",
    "    display: none;\n",
    "}\n",
    "</style>"
   ]
  },
  {
   "cell_type": "code",
   "execution_count": 4,
   "metadata": {
    "collapsed": false,
    "deletable": true,
    "editable": true
   },
   "outputs": [
    {
     "name": "stdout",
     "output_type": "stream",
     "text": [
      "Appending to jquery_slide_toggle.html\n"
     ]
    }
   ],
   "source": [
    "%%writefile jquery_slide_toggle.html -a\n",
    "\n",
    "<div id=\"flip\">Click to slide the panel down or up</div>\n",
    "<div id=\"panel\">Hello world!</div>"
   ]
  },
  {
   "cell_type": "code",
   "execution_count": 5,
   "metadata": {
    "collapsed": false,
    "deletable": true,
    "editable": true
   },
   "outputs": [
    {
     "data": {
      "text/html": [
       "\n",
       "<script>\n",
       "$(document).ready(function(){\n",
       "    $(\"#flip\").click(function(){\n",
       "        $(\"#panel\").slideToggle(\"fast\");\n",
       "    });\n",
       "});\n",
       "</script>\n",
       "<style> \n",
       "#panel, #flip {\n",
       "    padding: 5px;\n",
       "    text-align: center;\n",
       "    background-color: #e5eecc;\n",
       "    border: solid 1px #c3c3c3;\n",
       "}\n",
       "\n",
       "#panel {\n",
       "    padding: 50px;\n",
       "    display: none;\n",
       "}\n",
       "</style>\n",
       "<div id=\"flip\">Click to slide the panel down or up</div>\n",
       "<div id=\"panel\">Hello world!</div>"
      ],
      "text/plain": [
       "<IPython.core.display.HTML object>"
      ]
     },
     "execution_count": 5,
     "metadata": {},
     "output_type": "execute_result"
    }
   ],
   "source": [
    "HTML('./jquery_slide_toggle.html')"
   ]
  },
  {
   "cell_type": "markdown",
   "metadata": {
    "deletable": true,
    "editable": true
   },
   "source": [
    "# Note\n",
    "\n",
    "I was first typing the entire html code in one cell and executing it. \n",
    "\n",
    "But later I need to make notes, so I came up with the %%writefile cell magic way to organize the html code."
   ]
  },
  {
   "cell_type": "code",
   "execution_count": 6,
   "metadata": {
    "collapsed": false,
    "deletable": true,
    "editable": true
   },
   "outputs": [
    {
     "data": {
      "text/html": [
       "\n",
       "<script>\n",
       "$(document).ready(function(){\n",
       "    $(\"#flip0\").click(function(){\n",
       "        $(\"#panel0\").slideToggle(\"fast\");\n",
       "    });\n",
       "});\n",
       "</script>\n",
       "\n",
       "<style> \n",
       "#panel0, #flip0 {\n",
       "    padding: 5px;\n",
       "    text-align: center;\n",
       "    background-color: #e5eecc;\n",
       "    border: solid 1px #c3c3c3;\n",
       "}\n",
       "\n",
       "#panel0 {\n",
       "    padding: 50px;\n",
       "    display: none;\n",
       "}\n",
       "</style>\n",
       " \n",
       "<div id=\"flip0\">Click to slide the panel down or up</div>\n",
       "<div id=\"panel0\">Hello world!</div>"
      ],
      "text/plain": [
       "<IPython.core.display.HTML object>"
      ]
     },
     "metadata": {},
     "output_type": "display_data"
    }
   ],
   "source": [
    "%%html \n",
    "\n",
    "<script>\n",
    "$(document).ready(function(){\n",
    "    $(\"#flip0\").click(function(){\n",
    "        $(\"#panel0\").slideToggle(\"fast\");\n",
    "    });\n",
    "});\n",
    "</script>\n",
    "\n",
    "<style> \n",
    "#panel0, #flip0 {\n",
    "    padding: 5px;\n",
    "    text-align: center;\n",
    "    background-color: #e5eecc;\n",
    "    border: solid 1px #c3c3c3;\n",
    "}\n",
    "\n",
    "#panel0 {\n",
    "    padding: 50px;\n",
    "    display: none;\n",
    "}\n",
    "</style>\n",
    " \n",
    "<div id=\"flip0\">Click to slide the panel down or up</div>\n",
    "<div id=\"panel0\">Hello world!</div>"
   ]
  }
 ],
 "metadata": {
  "kernelspec": {
   "display_name": "Python 3.6 Test2",
   "language": "python",
   "name": "python36test2"
  },
  "language_info": {
   "codemirror_mode": {
    "name": "ipython",
    "version": 3
   },
   "file_extension": ".py",
   "mimetype": "text/x-python",
   "name": "python",
   "nbconvert_exporter": "python",
   "pygments_lexer": "ipython3",
   "version": "3.6.0"
  }
 },
 "nbformat": 4,
 "nbformat_minor": 2
}
