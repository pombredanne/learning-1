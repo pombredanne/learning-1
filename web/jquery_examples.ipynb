{
 "cells": [
  {
   "cell_type": "markdown",
   "metadata": {},
   "source": [
    "# jQuery\n",
    "\n",
    "* https://www.w3schools.com/jquery/default.asp\n",
    "* https://www.w3schools.com/jquery/jquery_examples.asp"
   ]
  },
  {
   "cell_type": "code",
   "execution_count": 2,
   "metadata": {
    "collapsed": true
   },
   "outputs": [],
   "source": [
    "from IPython.display import HTML"
   ]
  },
  {
   "cell_type": "markdown",
   "metadata": {},
   "source": [
    "## See how a 'div' vanishes"
   ]
  },
  {
   "cell_type": "code",
   "execution_count": null,
   "metadata": {
    "collapsed": true
   },
   "outputs": [],
   "source": [
    "!gvim divvanish.html"
   ]
  },
  {
   "cell_type": "code",
   "execution_count": 5,
   "metadata": {
    "collapsed": false
   },
   "outputs": [
    {
     "data": {
      "text/html": [
       "<!DOCTYPE html>\n",
       "<html>\n",
       "<head>\n",
       "<script src=\"https://ajax.googleapis.com/ajax/libs/jquery/3.1.1/jquery.min.js\"></script>\n",
       "<script>\n",
       "\n",
       "$(document).ready(\n",
       "    function() {\n",
       "\t$(\"p.vanish\").click(\n",
       "\t    function() {\n",
       "\t\t$(this).hide();\n",
       "\t\tconsole.log(\"Hidden \", this);\n",
       "\t    }\n",
       "\t);\n",
       "\t$(\"p.novanish#jqp2\").click(\n",
       "\t    function() {\n",
       "\t    \tvar msg = \"I cannot be hidden\";\n",
       "\t\tconsole.log(msg, this)\n",
       "\t\twindow.alert(\"I cannot be hidden!\", this);\n",
       "\t    }\n",
       "\t);\t\n",
       "    }\n",
       ");\n",
       "</script></head>\n",
       "<body>\n",
       "<p class='vanish' id='jqp1'>If you click on me, I will disappear.</p>\n",
       "<p class='novanish' id='jqp2'>You cannot Click me away!</p>\n",
       "<p class='vanish' id='jqp3'>Click me too!</p>\n",
       "</body>\n",
       "</html>\n"
      ],
      "text/plain": [
       "<IPython.core.display.HTML object>"
      ]
     },
     "execution_count": 5,
     "metadata": {},
     "output_type": "execute_result"
    }
   ],
   "source": [
    "HTML(filename=\"divvanish.html\")"
   ]
  }
 ],
 "metadata": {
  "kernelspec": {
   "display_name": "Python 3.6 Test2",
   "language": "python",
   "name": "python36test2"
  },
  "language_info": {
   "codemirror_mode": {
    "name": "ipython",
    "version": 3
   },
   "file_extension": ".py",
   "mimetype": "text/x-python",
   "name": "python",
   "nbconvert_exporter": "python",
   "pygments_lexer": "ipython3",
   "version": "3.6.0"
  }
 },
 "nbformat": 4,
 "nbformat_minor": 2
}
