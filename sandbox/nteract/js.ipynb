{
  "cells": [
    {
      "cell_type": "code",
      "source": [
        "var fs = require('fs');"
      ],
      "outputs": [],
      "execution_count": 4,
      "metadata": {
        "collapsed": false,
        "outputHidden": false,
        "inputHidden": false
      }
    },
    {
      "cell_type": "code",
      "source": [
        "fs"
      ],
      "outputs": [
        {
          "output_type": "execute_result",
          "execution_count": 5,
          "data": {
            "text/plain": [
              "{ constants: \n",
              "   { O_RDONLY: 0,\n",
              "     O_WRONLY: 1,\n",
              "     O_RDWR: 2,\n",
              "     S_IFMT: 61440,\n",
              "     S_IFREG: 32768,\n",
              "     S_IFDIR: 16384,\n",
              "     S_IFCHR: 8192,\n",
              "     S_IFLNK: 40960,\n",
              "     O_CREAT: 256,\n",
              "     O_EXCL: 1024,\n",
              "     O_TRUNC: 512,\n",
              "     O_APPEND: 8,\n",
              "     F_OK: 0,\n",
              "     R_OK: 4,\n",
              "     W_OK: 2,\n",
              "     X_OK: 1 },\n",
              "  Stats: [Function],\n",
              "  F_OK: 0,\n",
              "  R_OK: 4,\n",
              "  W_OK: 2,\n",
              "  X_OK: 1,\n",
              "  access: [Function],\n",
              "  accessSync: [Function],\n",
              "  exists: [Function],\n",
              "  existsSync: [Function],\n",
              "  readFile: [Function],\n",
              "  readFileSync: [Function],\n",
              "  close: [Function],\n",
              "  closeSync: [Function],\n",
              "  open: [Function],\n",
              "  openSync: [Function],\n",
              "  read: [Function],\n",
              "  readSync: [Function],\n",
              "  write: [Function],\n",
              "  writeSync: [Function],\n",
              "  rename: [Function],\n",
              "  renameSync: [Function],\n",
              "  truncate: [Function],\n",
              "  truncateSync: [Function],\n",
              "  ftruncate: [Function],\n",
              "  ftruncateSync: [Function],\n",
              "  rmdir: [Function],\n",
              "  rmdirSync: [Function],\n",
              "  fdatasync: [Function],\n",
              "  fdatasyncSync: [Function],\n",
              "  fsync: [Function],\n",
              "  fsyncSync: [Function],\n",
              "  mkdir: [Function],\n",
              "  mkdirSync: [Function],\n",
              "  readdir: [Function],\n",
              "  readdirSync: [Function],\n",
              "  fstat: [Function],\n",
              "  lstat: [Function],\n",
              "  stat: [Function],\n",
              "  fstatSync: [Function],\n",
              "  lstatSync: [Function],\n",
              "  lstatSyncNoException: [Function],\n",
              "  statSync: [Function],\n",
              "  statSyncNoException: [Function],\n",
              "  readlink: [Function],\n",
              "  readlinkSync: [Function],\n",
              "  symlink: [Function],\n",
              "  symlinkSync: [Function],\n",
              "  link: [Function],\n",
              "  linkSync: [Function],\n",
              "  unlink: [Function],\n",
              "  unlinkSync: [Function],\n",
              "  fchmod: [Function],\n",
              "  fchmodSync: [Function],\n",
              "  chmod: [Function],\n",
              "  chmodSync: [Function],\n",
              "  fchown: [Function],\n",
              "  fchownSync: [Function],\n",
              "  chown: [Function],\n",
              "  chownSync: [Function],\n",
              "  _toUnixTimestamp: [Function: toUnixTimestamp],\n",
              "  utimes: [Function],\n",
              "  utimesSync: [Function],\n",
              "  futimes: [Function],\n",
              "  futimesSync: [Function],\n",
              "  writeFile: [Function],\n",
              "  writeFileSync: [Function],\n",
              "  appendFile: [Function],\n",
              "  appendFileSync: [Function],\n",
              "  watch: [Function],\n",
              "  watchFile: [Function],\n",
              "  unwatchFile: [Function],\n",
              "  realpathSync: [Function],\n",
              "  realpath: [Function],\n",
              "  mkdtemp: [Function],\n",
              "  mkdtempSync: [Function],\n",
              "  createReadStream: [Function],\n",
              "  ReadStream: \n",
              "   { [Function: ReadStream]\n",
              "     super_: \n",
              "      { [Function: Readable]\n",
              "        ReadableState: [Function: ReadableState],\n",
              "        super_: [Object],\n",
              "        _fromList: [Function: fromList] } },\n",
              "  FileReadStream: \n",
              "   { [Function: ReadStream]\n",
              "     super_: \n",
              "      { [Function: Readable]\n",
              "        ReadableState: [Function: ReadableState],\n",
              "        super_: [Object],\n",
              "        _fromList: [Function: fromList] } },\n",
              "  createWriteStream: [Function],\n",
              "  WriteStream: \n",
              "   { [Function: WriteStream]\n",
              "     super_: { [Function: Writable] WritableState: [Function: WritableState], super_: [Object] } },\n",
              "  FileWriteStream: \n",
              "   { [Function: WriteStream]\n",
              "     super_: { [Function: Writable] WritableState: [Function: WritableState], super_: [Object] } } }"
            ]
          },
          "metadata": {}
        }
      ],
      "execution_count": 5,
      "metadata": {
        "collapsed": false,
        "outputHidden": true,
        "inputHidden": false
      }
    },
    {
      "cell_type": "code",
      "source": [],
      "outputs": [],
      "execution_count": null,
      "metadata": {
        "collapsed": false,
        "outputHidden": false,
        "inputHidden": false
      }
    }
  ],
  "metadata": {
    "kernelspec": {
      "name": "node_nteract",
      "language": "javascript",
      "display_name": "Node.js (nteract)"
    },
    "kernel_info": {
      "name": "node_nteract"
    },
    "language_info": {
      "name": "javascript",
      "version": "6.5.0",
      "mimetype": "application/javascript",
      "file_extension": ".js"
    }
  },
  "nbformat": 4,
  "nbformat_minor": 4
}