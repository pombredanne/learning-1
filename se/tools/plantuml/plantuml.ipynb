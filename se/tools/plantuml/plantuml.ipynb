{
 "cells": [
  {
   "cell_type": "code",
   "execution_count": null,
   "metadata": {
    "collapsed": true,
    "deletable": true,
    "editable": true
   },
   "outputs": [],
   "source": [
    "!pwd"
   ]
  },
  {
   "cell_type": "code",
   "execution_count": 1,
   "metadata": {
    "collapsed": false,
    "deletable": true,
    "editable": true
   },
   "outputs": [
    {
     "name": "stdout",
     "output_type": "stream",
     "text": [
      "Usage: java -jar plantuml.jar [options] -gui\n",
      "\t(to execute the GUI)\n",
      "    or java -jar plantuml.jar [options] [file/dir] [file/dir] [file/dir]\n",
      "\t(to process files or directories)\n",
      "\n",
      "You can use the following wildcards in files/dirs:\n",
      "\t*\tmeans any characters but '/'\n",
      "\t?\tone and only one character but '/'\n",
      "\t**\tmeans any characters (used to recurse through directories)\n",
      "\n",
      "where options include:\n",
      "    -gui\t\tTo run the graphical user interface\n",
      "    -tpng\t\tTo generate images using PNG format (default)\n",
      "    -tsvg\t\tTo generate images using SVG format\n",
      "    -teps\t\tTo generate images using EPS format\n",
      "    -tpdf\t\tTo generate images using PDF format\n",
      "    -tvdx\t\tTo generate images using VDX format\n",
      "    -txmi\t\tTo generate XMI file for class diagram\n",
      "    -tscxml\t\tTo generate SCXML file for state diagram\n",
      "    -thtml\t\tTo generate HTML file for class diagram\n",
      "    -ttxt\t\tTo generate images with ASCII art\n",
      "    -tutxt\t\tTo generate images with ASCII art using Unicode characters\n",
      "    -tlatex\t\tTo generate images using LaTeX/Tikz format\n",
      "    -tlatex:nopreamble\tTo generate images using LaTeX/Tikz format without preamble\n",
      "    -o[utput] \"dir\"\tTo generate images in the specified directory\n",
      "    -DVAR1=value\tTo set a preprocessing variable as if '!define VAR1 value' were used\n",
      "    -Sparam1=value\tTo set a skin parameter as if 'skinparam param1 value' were used\n",
      "    -r[ecurse]\t\trecurse through directories\n",
      "    -config \"file\"\tTo read the provided config file before each diagram\n",
      "    -charset xxx\tTo use a specific charset (default is UTF-8)\n",
      "    -e[x]clude pattern\tTo exclude files that match the provided pattern\n",
      "    -metadata\t\tTo retrieve PlantUML sources from PNG images\n",
      "    -version\t\tTo display information about PlantUML and Java versions\n",
      "    -checkversion\tTo check if a newer version is available for download\n",
      "    -v[erbose]\t\tTo have log information\n",
      "    -quiet\t\tTo NOT print error message into the console\n",
      "    -debugsvek\t\tTo generate intermediate svek files\n",
      "    -h[elp]\t\tTo display this help message\n",
      "    -testdot\t\tTo test the installation of graphviz\n",
      "    -graphvizdot \"exe\"\tTo specify dot executable\n",
      "    -p[ipe]\t\tTo use stdin for PlantUML source and stdout for PNG/SVG/EPS generation\n",
      "    -encodesprite 4|8|16[z] \"file\"\tTo encode a sprite at gray level (z for compression) from an image\n",
      "    -computeurl|-encodeurl\tTo compute the encoded URL of a PlantUML source file\n",
      "    -decodeurl\t\tTo retrieve the PlantUML source from an encoded URL\n",
      "    -syntax\t\tTo report any syntax error from standard input without generating images\n",
      "    -language\t\tTo print the list of PlantUML keywords\n",
      "    -nosuggestengine\tTo disable the suggest engine when errors in diagrams\n",
      "    -checkonly\t\tTo check the syntax of files without generating images\n",
      "    -failfast\t\tTo stop processing as soon as a syntax error in diagram occurs\n",
      "    -failfast2\t\tTo do a first syntax check before processing files, to fail even faster\n",
      "    -pattern\t\tTo print the list of Regular Expression used by PlantUML\n",
      "    -duration\t\tTo print the duration of complete diagrams processing\n",
      "    -nbthread N\t\tTo use (N) threads for processing\n",
      "    -nbthread auto\tTo use 12 threads for processing\n",
      "    -author[s]\t\tTo print information about PlantUML authors\n",
      "    -overwrite\t\tTo allow to overwrite read only files\n",
      "    -printfonts\t\tTo print fonts available on your system\n",
      "    -enablestats\tTo enable statistics computation\n",
      "    -disablestats\tTo disable statistics computation (default)\n",
      "    -htmlstats\t\tTo output general statistics in file plantuml-stats.html\n",
      "    -xmlstats\t\tTo output general statistics in file plantuml-stats.xml\n",
      "    -realtimestats\tTo generate statistics on the fly rather than at the end\n",
      "    -loopstats\t\tTo continuously print statistics about usage\n",
      "\n",
      "If needed, you can setup the environment variable GRAPHVIZ_DOT.\n"
     ]
    }
   ],
   "source": [
    "!java -jar /home/sgoda/bin/plantuml.jar -h"
   ]
  },
  {
   "cell_type": "code",
   "execution_count": null,
   "metadata": {
    "collapsed": true,
    "deletable": true,
    "editable": true
   },
   "outputs": [],
   "source": [
    "!java -jar /home/sgoda/bin/plantuml.jar -gui"
   ]
  },
  {
   "cell_type": "code",
   "execution_count": 14,
   "metadata": {
    "collapsed": false,
    "deletable": true,
    "editable": true
   },
   "outputs": [
    {
     "data": {
      "text/html": [
       "<img src='plantuml_gui.png'/>"
      ],
      "text/plain": [
       "<IPython.core.display.HTML object>"
      ]
     },
     "metadata": {},
     "output_type": "display_data"
    }
   ],
   "source": [
    "%%HTML \n",
    "<img src='plantuml_gui.png'/>"
   ]
  },
  {
   "cell_type": "code",
   "execution_count": 26,
   "metadata": {
    "collapsed": false,
    "deletable": true,
    "editable": true
   },
   "outputs": [
    {
     "name": "stdout",
     "output_type": "stream",
     "text": [
      "Overwriting plantuml.puml\n"
     ]
    }
   ],
   "source": [
    "%%writefile plantuml.puml\n",
    "\n",
    "@startuml\n",
    "\n",
    "actor User\n",
    "participant Window\n",
    "participant ScriptJob\n",
    "participant SelectionChanged\n",
    "participant DummyDisplay\n",
    "participant ColorEditor\n",
    "\n",
    "User -> Window : Launches window\n",
    "Window --> ScriptJob : Starts the selection changed job\n",
    "SelectionChanged --> ScriptJob : Registers itself\n",
    "User --> SelectionChanged  : If something is selected\n",
    "SelectionChanged --> DummyDisplay : NO\n",
    "SelectionChanged --> ColorEditor : YES\n",
    "@enduml"
   ]
  },
  {
   "cell_type": "code",
   "execution_count": 28,
   "metadata": {
    "collapsed": false,
    "deletable": true,
    "editable": true
   },
   "outputs": [
    {
     "data": {
      "text/html": [
       "<img src='plantuml.png'/>"
      ],
      "text/plain": [
       "<IPython.core.display.HTML object>"
      ]
     },
     "metadata": {},
     "output_type": "display_data"
    }
   ],
   "source": [
    "%%HTML \n",
    "<img src='plantuml.png'/>"
   ]
  },
  {
   "cell_type": "code",
   "execution_count": 18,
   "metadata": {
    "collapsed": false,
    "deletable": true,
    "editable": true
   },
   "outputs": [
    {
     "data": {
      "text/html": [
       "<img src='plantuml_gui_rendering.png'/>"
      ],
      "text/plain": [
       "<IPython.core.display.HTML object>"
      ]
     },
     "metadata": {},
     "output_type": "display_data"
    }
   ],
   "source": [
    "%%HTML \n",
    "<img src='plantuml_gui_rendering.png'/>"
   ]
  }
 ],
 "metadata": {
  "kernelspec": {
   "display_name": "Python 3",
   "language": "python",
   "name": "python3"
  },
  "language_info": {
   "codemirror_mode": {
    "name": "ipython",
    "version": 3
   },
   "file_extension": ".py",
   "mimetype": "text/x-python",
   "name": "python",
   "nbconvert_exporter": "python",
   "pygments_lexer": "ipython3",
   "version": "3.5.3"
  }
 },
 "nbformat": 4,
 "nbformat_minor": 2
}
