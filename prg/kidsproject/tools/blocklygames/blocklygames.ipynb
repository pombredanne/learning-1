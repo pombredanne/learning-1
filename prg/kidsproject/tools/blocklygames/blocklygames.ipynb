{
 "cells": [
  {
   "cell_type": "markdown",
   "metadata": {
    "deletable": true,
    "editable": true
   },
   "source": [
    "# Blockly Games\n",
    "\n",
    "* https://github.com/satishgoda/blockly-games\n",
    "* https://blockly-games.appspot.com\n",
    "* https://developers.google.com/blockly\n",
    "* https://developers.google.com/blockly/guides/get-started/web"
   ]
  },
  {
   "cell_type": "markdown",
   "metadata": {
    "deletable": true,
    "editable": true
   },
   "source": [
    "# Turtle\n",
    "\n",
    "* https://blockly-games.appspot.com/turtle?lang=en "
   ]
  },
  {
   "cell_type": "raw",
   "metadata": {
    "collapsed": false,
    "deletable": true,
    "editable": true
   },
   "source": [
    "0%3, 1%3, 2%3, 3%3\n",
    "0//3, 3//3, 6//3, 9//3"
   ]
  },
  {
   "cell_type": "code",
   "execution_count": 80,
   "metadata": {
    "collapsed": false,
    "deletable": true,
    "editable": true
   },
   "outputs": [
    {
     "data": {
      "text/html": [
       "<table><tr><td>\n",
       "                <a href=Turtle/Turtle_1.png target=\"_blank\">\n",
       "                    <img src=Turtle/Turtle_1.png width=100% height=100%/>\n",
       "                </a>\n",
       "                </td>\n",
       "            <td>\n",
       "                <a href=Turtle/Turtle_2.png target=\"_blank\">\n",
       "                    <img src=Turtle/Turtle_2.png width=100% height=100%/>\n",
       "                </a>\n",
       "                </td>\n",
       "            </tr><tr><td>\n",
       "                <a href=Turtle/Turtle_3.png target=\"_blank\">\n",
       "                    <img src=Turtle/Turtle_3.png width=100% height=100%/>\n",
       "                </a>\n",
       "                </td>\n",
       "            <td>\n",
       "                <a href=Turtle/Turtle_4.png target=\"_blank\">\n",
       "                    <img src=Turtle/Turtle_4.png width=100% height=100%/>\n",
       "                </a>\n",
       "                </td>\n",
       "            </tr><tr><td>\n",
       "                <a href=Turtle/Turtle_5.png target=\"_blank\">\n",
       "                    <img src=Turtle/Turtle_5.png width=100% height=100%/>\n",
       "                </a>\n",
       "                </td>\n",
       "            <td>\n",
       "                <a href=Turtle/Turtle_6.png target=\"_blank\">\n",
       "                    <img src=Turtle/Turtle_6.png width=100% height=100%/>\n",
       "                </a>\n",
       "                </td>\n",
       "            </tr><tr><td>\n",
       "                <a href=Turtle/Turtle_7.png target=\"_blank\">\n",
       "                    <img src=Turtle/Turtle_7.png width=100% height=100%/>\n",
       "                </a>\n",
       "                </td>\n",
       "            <td>\n",
       "                <a href=Turtle/Turtle_8.png target=\"_blank\">\n",
       "                    <img src=Turtle/Turtle_8.png width=100% height=100%/>\n",
       "                </a>\n",
       "                </td>\n",
       "            </tr><tr><td>\n",
       "                <a href=Turtle/q_Turtle_9.png target=\"_blank\">\n",
       "                    <img src=Turtle/q_Turtle_9.png width=100% height=100%/>\n",
       "                </a>\n",
       "                </td>\n",
       "            </tr></table>"
      ],
      "text/plain": [
       "<IPython.core.display.HTML object>"
      ]
     },
     "execution_count": 80,
     "metadata": {},
     "output_type": "execute_result"
    }
   ],
   "source": [
    "from IPython.core import display\n",
    "import os\n",
    "\n",
    "images = !ls Turtle/*\n",
    "\n",
    "ratio = \"100%\"\n",
    "\n",
    "html = \"<table>\"\n",
    "\n",
    "tagstack = [\"</table>\"]\n",
    "\n",
    "for index, image in enumerate(images):\n",
    "    if index%2 == 0:\n",
    "        if tagstack[1:]:\n",
    "            html += tagstack.pop()\n",
    "        html += \"<tr>\"\n",
    "        tagstack.append(\"</tr>\")\n",
    "        \n",
    "    html += \"\"\"<td>\n",
    "                <a href={0} target=\"_blank\">\n",
    "                    <img src={0} width={1} height={1}/>\n",
    "                </a>\n",
    "                </td>\n",
    "            \"\"\".format(image, ratio)\n",
    "    \n",
    "while tagstack:\n",
    "    html += tagstack.pop()\n",
    "\n",
    "assert len(tagstack) == 0, \"Unblanced tags in the stack. Check your code above\"\n",
    "    \n",
    "display.HTML(html)"
   ]
  }
 ],
 "metadata": {
  "kernelspec": {
   "display_name": "Python 3.6 Test2",
   "language": "python",
   "name": "python36test2"
  },
  "language_info": {
   "codemirror_mode": {
    "name": "ipython",
    "version": 3
   },
   "file_extension": ".py",
   "mimetype": "text/x-python",
   "name": "python",
   "nbconvert_exporter": "python",
   "pygments_lexer": "ipython3",
   "version": "3.6.0"
  }
 },
 "nbformat": 4,
 "nbformat_minor": 2
}
