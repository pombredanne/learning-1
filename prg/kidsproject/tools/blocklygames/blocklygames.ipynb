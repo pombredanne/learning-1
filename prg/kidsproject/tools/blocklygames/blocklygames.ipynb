{
 "cells": [
  {
   "cell_type": "markdown",
   "metadata": {},
   "source": [
    "# Blockly Games\n",
    "\n",
    "* https://github.com/satishgoda/blockly-games\n",
    "* https://blockly-games.appspot.com\n",
    "* https://developers.google.com/blockly\n",
    "* https://developers.google.com/blockly/guides/get-started/web"
   ]
  },
  {
   "cell_type": "markdown",
   "metadata": {},
   "source": [
    "# Turtle\n",
    "\n",
    "* https://blockly-games.appspot.com/turtle?lang=en "
   ]
  },
  {
   "cell_type": "code",
   "execution_count": 25,
   "metadata": {
    "collapsed": false,
    "deletable": true,
    "editable": true
   },
   "outputs": [
    {
     "data": {
      "text/plain": [
       "(0, 1, 2, 0)"
      ]
     },
     "execution_count": 25,
     "metadata": {},
     "output_type": "execute_result"
    }
   ],
   "source": [
    "0%3, 1%3, 2%3, 3%3"
   ]
  },
  {
   "cell_type": "code",
   "execution_count": 42,
   "metadata": {
    "collapsed": false,
    "deletable": true,
    "editable": true
   },
   "outputs": [
    {
     "data": {
      "text/plain": [
       "2"
      ]
     },
     "execution_count": 42,
     "metadata": {},
     "output_type": "execute_result"
    }
   ],
   "source": [
    "6//3"
   ]
  },
  {
   "cell_type": "code",
   "execution_count": 43,
   "metadata": {
    "collapsed": false,
    "scrolled": false
   },
   "outputs": [
    {
     "data": {
      "text/html": [
       "<img src=Turtle/Turtle_1.png width=100% height=100%/> <br/><img src=Turtle/Turtle_2.png width=100% height=100%/> <br/><img src=Turtle/Turtle_3.png width=100% height=100%/> <br/><img src=Turtle/Turtle_4.png width=100% height=100%/> <br/>"
      ],
      "text/plain": [
       "<IPython.core.display.HTML object>"
      ]
     },
     "execution_count": 43,
     "metadata": {},
     "output_type": "execute_result"
    }
   ],
   "source": [
    "from IPython.core import display\n",
    "\n",
    "images = !ls Turtle/*\n",
    "ratio = \"100%\"\n",
    "\n",
    "html = \"\"\n",
    "\n",
    "for image in images:\n",
    "    html += '<img src={0} width={1} height={1}/> <br/>'.format(image, ratio)\n",
    "\n",
    "display.HTML(html)"
   ]
  }
 ],
 "metadata": {
  "kernelspec": {
   "display_name": "Python 3.6 Test2",
   "language": "python",
   "name": "python36test2"
  },
  "language_info": {
   "codemirror_mode": {
    "name": "ipython",
    "version": 3
   },
   "file_extension": ".py",
   "mimetype": "text/x-python",
   "name": "python",
   "nbconvert_exporter": "python",
   "pygments_lexer": "ipython3",
   "version": "3.6.0"
  }
 },
 "nbformat": 4,
 "nbformat_minor": 2
}
