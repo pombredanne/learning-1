{
 "cells": [
  {
   "cell_type": "markdown",
   "metadata": {
    "deletable": true,
    "editable": true
   },
   "source": [
    "* http://blog.thedataincubator.com/2015/08/embedding-d3-in-an-ipython-notebook\n",
    "\n",
    "* https://github.com/cmoscardi/embedded_d3_example/blob/master/Embedded_D3.ipynb\n",
    "\n",
    "* https://bost.ocks.org/mike/circles/"
   ]
  },
  {
   "cell_type": "code",
   "execution_count": 4,
   "metadata": {
    "collapsed": false,
    "deletable": true,
    "editable": true
   },
   "outputs": [
    {
     "data": {
      "application/javascript": [
       "require.config({\n",
       "  paths: {\n",
       "      d3: '//cdnjs.cloudflare.com/ajax/libs/d3/3.5.5/d3.min',\n",
       "  }\n",
       "});"
      ],
      "text/plain": [
       "<IPython.core.display.Javascript object>"
      ]
     },
     "metadata": {},
     "output_type": "display_data"
    }
   ],
   "source": [
    "%%javascript\n",
    "require.config({\n",
    "  paths: {\n",
    "      d3: '//cdnjs.cloudflare.com/ajax/libs/d3/3.5.5/d3.min',\n",
    "  }\n",
    "});"
   ]
  },
  {
   "cell_type": "markdown",
   "metadata": {},
   "source": [
    "# Template code for writing d3js scripts"
   ]
  },
  {
   "cell_type": "code",
   "execution_count": null,
   "metadata": {
    "collapsed": false
   },
   "outputs": [],
   "source": [
    "%%javascript\n",
    "\n",
    "require(\n",
    "['d3'],\n",
    "\n",
    "function(d3) {\n",
    "    \n",
    "}\n",
    ");"
   ]
  },
  {
   "cell_type": "code",
   "execution_count": 5,
   "metadata": {
    "collapsed": false,
    "deletable": true,
    "editable": true
   },
   "outputs": [
    {
     "data": {
      "image/svg+xml": [
       "<svg height=\"120\" width=\"720\">\n",
       "  <circle cx=\"40\" cy=\"60\" id=\"circle0\" r=\"10\"/>\n",
       "  <circle cx=\"80\" cy=\"60\" id=\"circle0\" r=\"10\"/>\n",
       "  <circle cx=\"120\" cy=\"60\" id=\"circle0\" r=\"10\"/>\n",
       "</svg>"
      ],
      "text/plain": [
       "<IPython.core.display.SVG object>"
      ]
     },
     "metadata": {},
     "output_type": "display_data"
    }
   ],
   "source": [
    "%%svg\n",
    "<svg width=\"720\" height=\"120\">\n",
    "  <circle id=\"circle0\" cx=\"40\" cy=\"60\" r=\"10\"></circle>\n",
    "  <circle id=\"circle0\" cx=\"80\" cy=\"60\" r=\"10\"></circle>\n",
    "  <circle id=\"circle0\" cx=\"120\" cy=\"60\" r=\"10\"></circle>\n",
    "</svg>"
   ]
  },
  {
   "cell_type": "code",
   "execution_count": 7,
   "metadata": {
    "collapsed": false,
    "deletable": true,
    "editable": true
   },
   "outputs": [
    {
     "data": {
      "application/javascript": [
       "\n",
       "require(['d3'], function(d3) {\n",
       "    var circle = d3.selectAll(\"#circle1\");\n",
       "    circle.style(\"fill\", \"red\");\n",
       "    circle.attr(\"r\", 10);\n",
       "});\n"
      ],
      "text/plain": [
       "<IPython.core.display.Javascript object>"
      ]
     },
     "metadata": {},
     "output_type": "display_data"
    }
   ],
   "source": [
    "%%javascript\n",
    "\n",
    "require(['d3'], function(d3) {\n",
    "    var circle = d3.selectAll(\"#circle1\");\n",
    "    circle.style(\"fill\", \"red\");\n",
    "    circle.attr(\"r\", 10);\n",
    "});\n",
    "\n"
   ]
  },
  {
   "cell_type": "code",
   "execution_count": 6,
   "metadata": {
    "collapsed": false,
    "deletable": true,
    "editable": true
   },
   "outputs": [
    {
     "data": {
      "image/svg+xml": [
       "<svg height=\"120\" width=\"720\">\n",
       "  <circle cx=\"40\" cy=\"60\" id=\"circle1\" r=\"10\"/>\n",
       "  <circle cx=\"80\" cy=\"60\" id=\"circle1\" r=\"10\"/>\n",
       "  <circle cx=\"120\" cy=\"60\" id=\"circle1\" r=\"10\"/>\n",
       "</svg>"
      ],
      "text/plain": [
       "<IPython.core.display.SVG object>"
      ]
     },
     "metadata": {},
     "output_type": "display_data"
    }
   ],
   "source": [
    "%%svg\n",
    "<svg width=\"720\" height=\"120\">\n",
    "  <circle id=\"circle1\" cx=\"40\" cy=\"60\" r=\"10\"></circle>\n",
    "  <circle id=\"circle1\" cx=\"80\" cy=\"60\" r=\"10\"></circle>\n",
    "  <circle id=\"circle1\" cx=\"120\" cy=\"60\" r=\"10\"></circle>\n",
    "</svg>"
   ]
  },
  {
   "cell_type": "code",
   "execution_count": 9,
   "metadata": {
    "collapsed": false,
    "deletable": true,
    "editable": true
   },
   "outputs": [
    {
     "data": {
      "application/javascript": [
       "\n",
       "require(['d3'], function(d3) {\n",
       "    var circle = d3.selectAll(\"#circle2\");\n",
       "    circle.style(\"fill\", \"red\");\n",
       "    circle.attr(\"r\", 30);\n",
       "    \n",
       "});"
      ],
      "text/plain": [
       "<IPython.core.display.Javascript object>"
      ]
     },
     "metadata": {},
     "output_type": "display_data"
    }
   ],
   "source": [
    "%%javascript\n",
    "\n",
    "require(['d3'], function(d3) {\n",
    "    var circle = d3.selectAll(\"#circle2\");\n",
    "    circle.style(\"fill\", \"red\");\n",
    "    circle.attr(\"r\", 30);\n",
    "    \n",
    "});"
   ]
  },
  {
   "cell_type": "code",
   "execution_count": 8,
   "metadata": {
    "collapsed": false,
    "deletable": true,
    "editable": true
   },
   "outputs": [
    {
     "data": {
      "image/svg+xml": [
       "<svg height=\"120\" width=\"720\">\n",
       "  <circle cx=\"40\" cy=\"60\" id=\"circle2\" r=\"10\" style=\"fill:blue;\"/>\n",
       "  <circle cx=\"80\" cy=\"60\" id=\"circle2\" r=\"10\" style=\"fill:blue;\"/>\n",
       "  <circle cx=\"120\" cy=\"60\" id=\"circle2\" r=\"10\" style=\"fill:blue;\"/>\n",
       "</svg>"
      ],
      "text/plain": [
       "<IPython.core.display.SVG object>"
      ]
     },
     "metadata": {},
     "output_type": "display_data"
    }
   ],
   "source": [
    "%%svg\n",
    "<svg width=\"720\" height=\"120\">\n",
    "  <circle id=\"circle2\" cx=\"40\" cy=\"60\" r=\"10\" style=\"fill:blue;\"></circle>\n",
    "  <circle id=\"circle2\" cx=\"80\" cy=\"60\" r=\"10\" style=\"fill:blue;\"></circle>\n",
    "  <circle id=\"circle2\" cx=\"120\" cy=\"60\" r=\"10\" style=\"fill:blue;\"></circle>\n",
    "</svg>"
   ]
  },
  {
   "cell_type": "code",
   "execution_count": 11,
   "metadata": {
    "collapsed": false,
    "deletable": true,
    "editable": true
   },
   "outputs": [
    {
     "data": {
      "application/javascript": [
       "\n",
       "require(\n",
       "['d3'],\n",
       "    \n",
       "function(d3) {\n",
       "    var circle = d3.selectAll(\"#circle3\");\n",
       "    \n",
       "    circle.attr(\n",
       "        \"cx\",\n",
       "        function() {\n",
       "            return Math.random() * 720;\n",
       "        }\n",
       "    );\n",
       "}\n",
       "\n",
       ");"
      ],
      "text/plain": [
       "<IPython.core.display.Javascript object>"
      ]
     },
     "metadata": {},
     "output_type": "display_data"
    }
   ],
   "source": [
    "%%javascript\n",
    "\n",
    "require(\n",
    "['d3'],\n",
    "    \n",
    "function(d3) {\n",
    "    var circle = d3.selectAll(\"#circle3\");\n",
    "    \n",
    "    circle.attr(\n",
    "        \"cx\",\n",
    "        function() {\n",
    "            return Math.random() * 720;\n",
    "        }\n",
    "    );\n",
    "}\n",
    "\n",
    ");"
   ]
  },
  {
   "cell_type": "code",
   "execution_count": 10,
   "metadata": {
    "collapsed": false,
    "deletable": true,
    "editable": true
   },
   "outputs": [
    {
     "data": {
      "image/svg+xml": [
       "<svg height=\"120\" width=\"720\">\n",
       "  <circle cx=\"40\" cy=\"60\" id=\"circle3\" r=\"30\" style=\"fill:red;\"/>\n",
       "  <circle cx=\"80\" cy=\"60\" id=\"circle3\" r=\"30\" style=\"fill:red;\"/>\n",
       "  <circle cx=\"120\" cy=\"60\" id=\"circle3\" r=\"30\" style=\"fill:red;\"/>\n",
       "</svg>"
      ],
      "text/plain": [
       "<IPython.core.display.SVG object>"
      ]
     },
     "metadata": {},
     "output_type": "display_data"
    }
   ],
   "source": [
    "%%svg\n",
    "<svg width=\"720\" height=\"120\">\n",
    "  <circle id=\"circle3\" cx=\"40\" cy=\"60\" r=\"30\" style=\"fill:red;\"></circle>\n",
    "  <circle id=\"circle3\" cx=\"80\" cy=\"60\" r=\"30\" style=\"fill:red;\"></circle>\n",
    "  <circle id=\"circle3\" cx=\"120\" cy=\"60\" r=\"30\" style=\"fill:red;\"></circle>\n",
    "</svg>"
   ]
  },
  {
   "cell_type": "code",
   "execution_count": 12,
   "metadata": {
    "collapsed": false,
    "deletable": true,
    "editable": true
   },
   "outputs": [
    {
     "data": {
      "image/svg+xml": [
       "<svg height=\"120\" width=\"720\">\n",
       "  <circle cx=\"40\" cy=\"60\" id=\"circle4before\" r=\"10\" style=\"fill:red;\"/>\n",
       "  <circle cx=\"240\" cy=\"60\" id=\"circle4before\" r=\"10\" style=\"fill:green;\"/>\n",
       "  <circle cx=\"500\" cy=\"60\" id=\"circle4before\" r=\"10\" style=\"fill:blue;\"/>\n",
       "</svg>"
      ],
      "text/plain": [
       "<IPython.core.display.SVG object>"
      ]
     },
     "metadata": {},
     "output_type": "display_data"
    }
   ],
   "source": [
    "%%svg\n",
    "<svg width=\"720\" height=\"120\">\n",
    "  <circle id=\"circle4before\" cx=\"40\" cy=\"60\" r=\"10\" style=\"fill:red;\"></circle>\n",
    "  <circle id=\"circle4before\" cx=\"240\" cy=\"60\" r=\"10\" style=\"fill:green;\"></circle>\n",
    "  <circle id=\"circle4before\" cx=\"500\" cy=\"60\" r=\"10\" style=\"fill:blue;\"></circle>\n",
    "</svg>"
   ]
  },
  {
   "cell_type": "code",
   "execution_count": 14,
   "metadata": {
    "collapsed": false,
    "deletable": true,
    "editable": true
   },
   "outputs": [
    {
     "data": {
      "application/javascript": [
       "\n",
       "require(\n",
       "['d3'],\n",
       "\n",
       "function(d3) {\n",
       "    var circle = d3.selectAll(\"#circle4after\")\n",
       "    \n",
       "    circle.data([50, 150, 600]);\n",
       "    \n",
       "    circle.attr(\n",
       "        \"r\",\n",
       "        function(dataitem) {\n",
       "            return Math.sqrt(dataitem);\n",
       "        }\n",
       "    );\n",
       "}\n",
       "\n",
       ");"
      ],
      "text/plain": [
       "<IPython.core.display.Javascript object>"
      ]
     },
     "metadata": {},
     "output_type": "display_data"
    }
   ],
   "source": [
    "%%javascript\n",
    "\n",
    "require(\n",
    "['d3'],\n",
    "\n",
    "function(d3) {\n",
    "    var circle = d3.selectAll(\"#circle4after\")\n",
    "    \n",
    "    circle.data([50, 150, 600]);\n",
    "    \n",
    "    circle.attr(\n",
    "        \"r\",\n",
    "        function(dataitem) {\n",
    "            return Math.sqrt(dataitem);\n",
    "        }\n",
    "    );\n",
    "}\n",
    "\n",
    ");"
   ]
  },
  {
   "cell_type": "code",
   "execution_count": 13,
   "metadata": {
    "collapsed": false,
    "deletable": true,
    "editable": true
   },
   "outputs": [
    {
     "data": {
      "image/svg+xml": [
       "<svg height=\"120\" width=\"720\">\n",
       "  <circle cx=\"40\" cy=\"60\" id=\"circle4after\" r=\"10\" style=\"fill:red;\"/>\n",
       "  <circle cx=\"240\" cy=\"60\" id=\"circle4after\" r=\"10\" style=\"fill:green;\"/>\n",
       "  <circle cx=\"500\" cy=\"60\" id=\"circle4after\" r=\"10\" style=\"fill:blue;\"/>\n",
       "</svg>"
      ],
      "text/plain": [
       "<IPython.core.display.SVG object>"
      ]
     },
     "metadata": {},
     "output_type": "display_data"
    }
   ],
   "source": [
    "%%svg\n",
    "<svg width=\"720\" height=\"120\">\n",
    "  <circle id=\"circle4after\" cx=\"40\" cy=\"60\" r=\"10\" style=\"fill:red;\"></circle>\n",
    "  <circle id=\"circle4after\" cx=\"240\" cy=\"60\" r=\"10\" style=\"fill:green;\"></circle>\n",
    "  <circle id=\"circle4after\" cx=\"500\" cy=\"60\" r=\"10\" style=\"fill:blue;\"></circle>\n",
    "</svg>"
   ]
  },
  {
   "cell_type": "code",
   "execution_count": 15,
   "metadata": {
    "collapsed": false,
    "deletable": true,
    "editable": true
   },
   "outputs": [
    {
     "data": {
      "image/svg+xml": [
       "<svg height=\"120\" width=\"720\">\n",
       "  <rect height=\"100\" id=\"rect0\" style=\"fill:red;\" width=\"100\" x=\"1\" y=\"0\"/>\n",
       "  <rect height=\"100\" id=\"rect0\" style=\"fill:green;\" width=\"100\" x=\"5\" y=\"0\"/>\n",
       "  <rect height=\"100\" id=\"rect0\" style=\"fill:blue;\" width=\"100\" x=\"9\" y=\"0\"/>\n",
       "</svg>"
      ],
      "text/plain": [
       "<IPython.core.display.SVG object>"
      ]
     },
     "metadata": {},
     "output_type": "display_data"
    }
   ],
   "source": [
    "%%svg\n",
    "<svg width=\"720\" height=\"120\">\n",
    "  <rect id=\"rect0\" x=\"1\" y=\"0\"  width=\"100\" height=\"100\" style=\"fill:red;\"></rect>\n",
    "  <rect id=\"rect0\" x=\"5\" y=\"0\" width=\"100\" height=\"100\" style=\"fill:green;\"></rect>\n",
    "  <rect id=\"rect0\" x=\"9\" y=\"0\" width=\"100\" height=\"100\" style=\"fill:blue;\"></rect>\n",
    "</svg> "
   ]
  },
  {
   "cell_type": "code",
   "execution_count": 17,
   "metadata": {
    "collapsed": false,
    "deletable": true,
    "editable": true
   },
   "outputs": [
    {
     "data": {
      "application/javascript": [
       "\n",
       "require(\n",
       "['d3'],\n",
       "\n",
       "function(d3) {\n",
       "    var rect = d3.selectAll(\"#rect1\")\n",
       "    \n",
       "    rect.data([0, 40, 100]);\n",
       "    \n",
       "    rect.attr(\n",
       "        \"x\",\n",
       "        function(dataitem, index) {\n",
       "            return index * 100 + dataitem;\n",
       "        }\n",
       "    );\n",
       "}\n",
       "\n",
       ");"
      ],
      "text/plain": [
       "<IPython.core.display.Javascript object>"
      ]
     },
     "metadata": {},
     "output_type": "display_data"
    }
   ],
   "source": [
    "%%javascript\n",
    "\n",
    "require(\n",
    "['d3'],\n",
    "\n",
    "function(d3) {\n",
    "    var rect = d3.selectAll(\"#rect1\")\n",
    "    \n",
    "    rect.data([0, 40, 100]);\n",
    "    \n",
    "    rect.attr(\n",
    "        \"x\",\n",
    "        function(dataitem, index) {\n",
    "            return index * 100 + dataitem;\n",
    "        }\n",
    "    );\n",
    "}\n",
    "\n",
    ");"
   ]
  },
  {
   "cell_type": "code",
   "execution_count": 16,
   "metadata": {
    "collapsed": false,
    "deletable": true,
    "editable": true
   },
   "outputs": [
    {
     "data": {
      "image/svg+xml": [
       "<svg height=\"120\" width=\"720\">\n",
       "  <rect height=\"100\" id=\"rect1\" style=\"fill:red;\" width=\"100\" x=\"1\" y=\"0\"/>\n",
       "  <rect height=\"100\" id=\"rect1\" style=\"fill:green;\" width=\"100\" x=\"5\" y=\"0\"/>\n",
       "  <rect height=\"100\" id=\"rect1\" style=\"fill:blue;\" width=\"100\" x=\"9\" y=\"0\"/>\n",
       "</svg>"
      ],
      "text/plain": [
       "<IPython.core.display.SVG object>"
      ]
     },
     "metadata": {},
     "output_type": "display_data"
    }
   ],
   "source": [
    "%%svg\n",
    "<svg width=\"720\" height=\"120\">\n",
    "  <rect id=\"rect1\" x=\"1\" y=\"0\"  width=\"100\" height=\"100\" style=\"fill:red;\"></rect>\n",
    "  <rect id=\"rect1\" x=\"5\" y=\"0\" width=\"100\" height=\"100\" style=\"fill:green;\"></rect>\n",
    "  <rect id=\"rect1\" x=\"9\" y=\"0\" width=\"100\" height=\"100\" style=\"fill:blue;\"></rect>\n",
    "</svg> "
   ]
  },
  {
   "cell_type": "markdown",
   "metadata": {},
   "source": [
    "# TODO"
   ]
  },
  {
   "cell_type": "raw",
   "metadata": {
    "collapsed": false,
    "deletable": true,
    "editable": true
   },
   "source": [
    "%%svg\n",
    "<svg width=\"500\" height=\"100\">\n",
    "<g stroke=\"green\">\n",
    "<line x1=\"10\" y1=\"30\" x2=\"10\" y2=\"100\" stroke-width=\"1\"></line>\n",
    "<line x1=\"20\" y1=\"30\" x2=\"20\" y2=\"100\" stroke-width=\"1\"></line>\n",
    "</g>\n",
    "</svg>"
   ]
  },
  {
   "cell_type": "raw",
   "metadata": {
    "collapsed": false,
    "deletable": true,
    "editable": true
   },
   "source": [
    "%%svg\n",
    "<svg width=\"720\" height=\"120\">\n",
    "  <circle cx=\"40\" cy=\"60\" r=\"10\"></circle>\n",
    "  <circle cx=\"80\" cy=\"60\" r=\"10\"></circle>\n",
    "  <circle cx=\"120\" cy=\"60\" r=\"10\"></circle>\n",
    "</svg>"
   ]
  },
  {
   "cell_type": "markdown",
   "metadata": {},
   "source": [
    "## Enter selections are not working!!"
   ]
  },
  {
   "cell_type": "raw",
   "metadata": {
    "collapsed": false,
    "deletable": true,
    "editable": true
   },
   "source": [
    "%%javascript\n",
    "\n",
    "require(\n",
    "['d3'],\n",
    "\n",
    "function(d3) {\n",
    "    var svg = d3.select(\"svg\");\n",
    "    \n",
    "    var circle = svg.selectAll(\"circle\");\n",
    "    \n",
    "    circle.data([5, 10, 15, 20]);\n",
    "    \n",
    "    circle.attr(\"r\", function(d) { return d; });\n",
    "    \n",
    "    console.log(circle);\n",
    "    \n",
    "    var circleEnter = circle.enter().append(\"circle\");\n",
    "    \n",
    "    circleEnter.attr('r', function(d) {return 100;})\n",
    "}\n",
    "\n",
    ");"
   ]
  }
 ],
 "metadata": {
  "kernelspec": {
   "display_name": "Python 3",
   "language": "python",
   "name": "python3"
  },
  "language_info": {
   "codemirror_mode": {
    "name": "ipython",
    "version": 3
   },
   "file_extension": ".py",
   "mimetype": "text/x-python",
   "name": "python",
   "nbconvert_exporter": "python",
   "pygments_lexer": "ipython3",
   "version": "3.4.6"
  }
 },
 "nbformat": 4,
 "nbformat_minor": 2
}
