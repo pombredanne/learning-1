{
 "cells": [
  {
   "cell_type": "markdown",
   "metadata": {},
   "source": [
    "# Benchmarking and Profiling"
   ]
  },
  {
   "cell_type": "code",
   "execution_count": 26,
   "metadata": {
    "collapsed": true
   },
   "outputs": [],
   "source": [
    "class Particle:\n",
    "    def __init__(self, x, y, ang_speed):\n",
    "        self.x = x\n",
    "        self.y = y\n",
    "        self.ang_speed = ang_speed"
   ]
  },
  {
   "cell_type": "markdown",
   "metadata": {},
   "source": [
    "# Algorithm\n",
    "\n",
    "* Calculate the direction of motion v_x, v_y\n",
    "* Calculate the displacement (d_x, d_y) which is the product of time and speed and follows the direction of motion.\n",
    "* Repeat steps 1 and 2 for enough time steps to cover the total time"
   ]
  },
  {
   "cell_type": "code",
   "execution_count": 27,
   "metadata": {
    "collapsed": true
   },
   "outputs": [],
   "source": [
    "class ParticleSimulator:\n",
    "    def __init__(self, particles):\n",
    "        self.particles = particles\n",
    "    \n",
    "    def evolve(self, dt):\n",
    "        timestep = 0.00001\n",
    "        nsteps = int(dt/timestep)\n",
    "        \n",
    "        for i in range(nsteps):\n",
    "            for p in self.particles:\n",
    "                # 1. Calculate the direction\n",
    "                \n",
    "                norm = (p.x**2 + p.y**2)**0.5\n",
    "                v_x = (-p.y)/norm\n",
    "                v_y = p.x/norm\n",
    "                \n",
    "                # 2. Calculate the displacement\n",
    "                \n",
    "                d_x = timestep * p.ang_speed * v_x\n",
    "                d_y = timestep * p.ang_speed * v_y\n",
    "                \n",
    "                p.x += d_x\n",
    "                p.y += d_y\n",
    "                \n",
    "                # 3. Repeat for all the time steps\n",
    "                \n",
    "                continue"
   ]
  },
  {
   "cell_type": "code",
   "execution_count": 36,
   "metadata": {
    "collapsed": true
   },
   "outputs": [],
   "source": [
    "from matplotlib import pyplot as plt\n",
    "from matplotlib import animation"
   ]
  },
  {
   "cell_type": "code",
   "execution_count": 37,
   "metadata": {
    "collapsed": false
   },
   "outputs": [],
   "source": [
    "anim = None\n",
    "def visualize(simulator):\n",
    "    global anim\n",
    "    X = [p.x for p in simulator.particles]\n",
    "    Y = [p.y for p in simulator.particles]\n",
    "    \n",
    "    fig = plt.figure()\n",
    "    ax = plt.subplot(111, aspect='equal')\n",
    "    line, = ax.plot(X, Y, 'ro')\n",
    "    \n",
    "    # Axis limits\n",
    "    plt.xlim(-1, 1)\n",
    "    plt.ylim(-1, 1)\n",
    "\n",
    "\n",
    "    # It will be run when the animation starts\n",
    "    def init():\n",
    "        line.set_data([], [])\n",
    "        return line,\n",
    "\n",
    "    def animate(i):\n",
    "        # We let the particle evolve for 0.1 time units\n",
    "        simulator.evolve(0.01)\n",
    "\n",
    "        X = [p.x for p in simulator.particles]\n",
    "        Y = [p.y for p in simulator.particles]\n",
    "\n",
    "        line.set_data(X, Y)\n",
    "        return line,\n",
    "\n",
    "    anim = animation.FuncAnimation(fig, \n",
    "                                   animate,\n",
    "                                   init_func=init,\n",
    "                                   blit=True,\n",
    "                                   interval=10)\n",
    "    plt.show()"
   ]
  },
  {
   "cell_type": "code",
   "execution_count": 38,
   "metadata": {
    "collapsed": true
   },
   "outputs": [],
   "source": [
    "def test_visualize():\n",
    "    particles = [\n",
    "        Particle(0.3, 0.5, +1),\n",
    "        Particle(0.0, -0.5, -1),\n",
    "        Particle(-0.1, -0.4, +3),\n",
    "    ]\n",
    "    \n",
    "    simulator = ParticleSimulator(particles)\n",
    "    visualize(simulator)"
   ]
  },
  {
   "cell_type": "code",
   "execution_count": 39,
   "metadata": {
    "collapsed": false
   },
   "outputs": [
    {
     "data": {
      "image/png": "[encoded data removed]",
      "text/plain": [
       "<matplotlib.figure.Figure at 0x9a27225f60>"
      ]
     },
     "metadata": {},
     "output_type": "display_data"
    }
   ],
   "source": [
    "test_visualize()"
   ]
  }
 ],
 "metadata": {
  "kernelspec": {
   "display_name": "Python 3",
   "language": "python",
   "name": "python3"
  },
  "language_info": {
   "codemirror_mode": {
    "name": "ipython",
    "version": 3
   },
   "file_extension": ".py",
   "mimetype": "text/x-python",
   "name": "python",
   "nbconvert_exporter": "python",
   "pygments_lexer": "ipython3",
   "version": "3.5.1"
  }
 },
 "nbformat": 4,
 "nbformat_minor": 2
}
