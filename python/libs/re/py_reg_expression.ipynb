{
 "cells": [
  {
   "cell_type": "markdown",
   "metadata": {
    "deletable": true,
    "editable": true
   },
   "source": [
    "* https://docs.python.org/3/library/re.html"
   ]
  },
  {
   "cell_type": "code",
   "execution_count": 1,
   "metadata": {
    "collapsed": true,
    "deletable": true,
    "editable": true
   },
   "outputs": [],
   "source": [
    "import re"
   ]
  },
  {
   "cell_type": "code",
   "execution_count": 7,
   "metadata": {
    "collapsed": true,
    "deletable": true,
    "editable": true
   },
   "outputs": [],
   "source": [
    "from __future__ import print_function\n",
    "from ipywidgets import interact\n",
    "import ipywidgets as widgets"
   ]
  },
  {
   "cell_type": "markdown",
   "metadata": {
    "deletable": true,
    "editable": true
   },
   "source": [
    "# Examples "
   ]
  },
  {
   "cell_type": "markdown",
   "metadata": {
    "deletable": true,
    "editable": true
   },
   "source": [
    "## search() vs match() "
   ]
  },
  {
   "cell_type": "code",
   "execution_count": 31,
   "metadata": {
    "collapsed": true,
    "deletable": true,
    "editable": true
   },
   "outputs": [],
   "source": [
    "def imatch(pattern:str=\"c\", string:str=\"abcde\", multiline:bool=False):\n",
    "    flags = {}\n",
    "    if multiline:\n",
    "        flags = {'flags': re.MULTILINE}\n",
    "    m = re.match(pattern, string, **flags)\n",
    "    if m:\n",
    "        return m.group(), m.groups()\n",
    "    return \"Not match\""
   ]
  },
  {
   "cell_type": "code",
   "execution_count": 32,
   "metadata": {
    "collapsed": false,
    "deletable": true,
    "editable": true
   },
   "outputs": [
    {
     "data": {
      "text/plain": [
       "'Not match'"
      ]
     },
     "metadata": {},
     "output_type": "display_data"
    }
   ],
   "source": [
    "interact(imatch, pattern='c', string=widgets.Textarea(\"abcde\"), multiline=False)"
   ]
  },
  {
   "cell_type": "code",
   "execution_count": 35,
   "metadata": {
    "collapsed": true,
    "deletable": true,
    "editable": true
   },
   "outputs": [],
   "source": [
    "def isearch1(pattern:str=\"c\", string:str=\"abcde\", multiline:bool=False):\n",
    "    flags = {}\n",
    "    if multiline:\n",
    "        flags = {'flags': re.MULTILINE}\n",
    "    m = re.search(pattern, string, **flags)\n",
    "    if m:\n",
    "        return m, m.group(), m.groups()\n",
    "    return \"Not search\""
   ]
  },
  {
   "cell_type": "code",
   "execution_count": 36,
   "metadata": {
    "collapsed": false
   },
   "outputs": [
    {
     "data": {
      "text/plain": [
       "(<_sre.SRE_Match object; span=(4, 6), match='ca'>, 'ca', ('ca',))"
      ]
     },
     "metadata": {},
     "output_type": "display_data"
    }
   ],
   "source": [
    "interact(isearch1, pattern='c', string=widgets.Textarea(\"Cat\\ncat\\nbat\"), multiline=False)"
   ]
  },
  {
   "cell_type": "code",
   "execution_count": 39,
   "metadata": {
    "collapsed": true,
    "deletable": true,
    "editable": true
   },
   "outputs": [],
   "source": [
    "def isearch2(pattern:str=\"c\", string:str=\"abcde\", multiline:bool=False):\n",
    "    flags = {}\n",
    "    if multiline:\n",
    "        flags = {'flags': re.MULTILINE|re.DOTALL}\n",
    "    m = re.search(pattern, string, **flags)\n",
    "    if m:\n",
    "        return m, m.group(), m.groups()\n",
    "    return \"Not search\""
   ]
  },
  {
   "cell_type": "code",
   "execution_count": 40,
   "metadata": {
    "collapsed": false,
    "deletable": true,
    "editable": true
   },
   "outputs": [
    {
     "data": {
      "text/plain": [
       "(<_sre.SRE_Match object; span=(4, 7), match='cat'>, 'cat', ('cat',))"
      ]
     },
     "metadata": {},
     "output_type": "display_data"
    }
   ],
   "source": [
    "interact(isearch2, pattern='c', string=widgets.Textarea(\"Cat\\ncat\\nbat\"), multiline=True)"
   ]
  }
 ],
 "metadata": {
  "kernelspec": {
   "display_name": "Python 3.6 Test2",
   "language": "python",
   "name": "python36test2"
  },
  "language_info": {
   "codemirror_mode": {
    "name": "ipython",
    "version": 3
   },
   "file_extension": ".py",
   "mimetype": "text/x-python",
   "name": "python",
   "nbconvert_exporter": "python",
   "pygments_lexer": "ipython3",
   "version": "3.6.0"
  },
  "widgets": {
   "state": {
    "885fc30fbb464579a3bc08423a68ccfd": {
     "views": [
      {
       "cell_index": 10
      }
     ]
    },
    "afa7f855c6e846d4bf1356bbbdffc548": {
     "views": [
      {
       "cell_index": 8
      }
     ]
    },
    "f095f740f3e74b858bc402efd76bce5e": {
     "views": [
      {
       "cell_index": 6
      }
     ]
    }
   },
   "version": "1.2.0"
  }
 },
 "nbformat": 4,
 "nbformat_minor": 2
}
