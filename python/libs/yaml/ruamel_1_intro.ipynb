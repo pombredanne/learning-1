{
 "cells": [
  {
   "cell_type": "markdown",
   "metadata": {
    "deletable": true,
    "editable": true
   },
   "source": [
    "# About\n",
    "\n",
    "ruamel.yaml is a YAML 1.2 loader/dumper package for Python. It is a derivative of Kirill Simonov’s PyYAML 3.11\n",
    "\n",
    "ruamel.yaml supports YAML 1.2 and has round-trip loaders and dumpers that preserves, among others:\n",
    "\n",
    "* comments\n",
    "* block style and key ordering are kept, so you can diff the round-tripped source\n",
    "* flow style sequences ( ‘a: b, c, d’) (based on request and test by Anthony Sottile)\n",
    "* anchors names that are hand-crafted (i.e. not of the form``idNNN``)\n",
    "* merges in dictionaries are preserved\n",
    "\n",
    "----\n",
    "\n",
    "You can read more at http://yaml.readthedocs.io/en/latest/overview.html"
   ]
  },
  {
   "cell_type": "markdown",
   "metadata": {
    "deletable": true,
    "editable": true
   },
   "source": [
    "# Importing"
   ]
  },
  {
   "cell_type": "code",
   "execution_count": 1,
   "metadata": {
    "collapsed": true,
    "deletable": true,
    "editable": true
   },
   "outputs": [],
   "source": [
    "import ruamel.yaml"
   ]
  },
  {
   "cell_type": "code",
   "execution_count": 2,
   "metadata": {
    "collapsed": false,
    "deletable": true,
    "editable": true
   },
   "outputs": [
    {
     "data": {
      "text/plain": [
       "<module 'ruamel.yaml' from '/usr/tmp/python3/lib/python3.4/site-packages/ruamel/yaml/__init__.py'>"
      ]
     },
     "execution_count": 2,
     "metadata": {},
     "output_type": "execute_result"
    }
   ],
   "source": [
    "ruamel.yaml"
   ]
  },
  {
   "cell_type": "code",
   "execution_count": 3,
   "metadata": {
    "collapsed": false,
    "deletable": true,
    "editable": true
   },
   "outputs": [
    {
     "data": {
      "text/plain": [
       "<module 'ruamel'>"
      ]
     },
     "execution_count": 3,
     "metadata": {},
     "output_type": "execute_result"
    }
   ],
   "source": [
    "ruamel"
   ]
  },
  {
   "cell_type": "code",
   "execution_count": 4,
   "metadata": {
    "collapsed": false,
    "deletable": true,
    "editable": true
   },
   "outputs": [
    {
     "data": {
      "text/plain": [
       "['__doc__',\n",
       " '__loader__',\n",
       " '__name__',\n",
       " '__package__',\n",
       " '__path__',\n",
       " '__spec__',\n",
       " 'std',\n",
       " 'yaml']"
      ]
     },
     "execution_count": 4,
     "metadata": {},
     "output_type": "execute_result"
    }
   ],
   "source": [
    "dir(ruamel)"
   ]
  },
  {
   "cell_type": "markdown",
   "metadata": {
    "deletable": true,
    "editable": true
   },
   "source": [
    "# Examples\n",
    "\n",
    "* http://yaml.readthedocs.io/en/latest/example.html"
   ]
  },
  {
   "cell_type": "code",
   "execution_count": 6,
   "metadata": {
    "collapsed": true,
    "deletable": true,
    "editable": true
   },
   "outputs": [],
   "source": [
    "inp = \"\"\"\\\n",
    "# example\n",
    "name:\n",
    "    # details\n",
    "    family: Goda   # Very uncommon\n",
    "    given: Satish  # One of the siblings (Comman name)\n",
    "\"\"\""
   ]
  },
  {
   "cell_type": "code",
   "execution_count": 7,
   "metadata": {
    "collapsed": false,
    "deletable": true,
    "editable": true
   },
   "outputs": [
    {
     "name": "stdout",
     "output_type": "stream",
     "text": [
      "# example\n",
      "name:\n",
      "    # details\n",
      "    family: Goda   # Very uncommon\n",
      "    given: Satish  # One of the siblings (Comman name)\n",
      "\n"
     ]
    }
   ],
   "source": [
    "print(inp)"
   ]
  },
  {
   "cell_type": "code",
   "execution_count": 8,
   "metadata": {
    "collapsed": false,
    "deletable": true,
    "editable": true
   },
   "outputs": [
    {
     "name": "stdout",
     "output_type": "stream",
     "text": [
      "Help on function load in module ruamel.yaml.main:\n",
      "\n",
      "load(stream, Loader=None, version=None, preserve_quotes=None)\n",
      "    Parse the first YAML document in a stream\n",
      "    and produce the corresponding Python object.\n",
      "\n"
     ]
    }
   ],
   "source": [
    "help(ruamel.yaml.load)"
   ]
  },
  {
   "cell_type": "code",
   "execution_count": 9,
   "metadata": {
    "collapsed": false,
    "deletable": true,
    "editable": true
   },
   "outputs": [],
   "source": [
    "code = ruamel.yaml.load(inp, Loader=ruamel.yaml.RoundTripLoader)"
   ]
  },
  {
   "cell_type": "code",
   "execution_count": 10,
   "metadata": {
    "collapsed": false,
    "deletable": true,
    "editable": true
   },
   "outputs": [
    {
     "data": {
      "text/plain": [
       "CommentedMap([('name',\n",
       "               CommentedMap([('family', 'Goda'), ('given', 'Satish')]))])"
      ]
     },
     "execution_count": 10,
     "metadata": {},
     "output_type": "execute_result"
    }
   ],
   "source": [
    "code"
   ]
  },
  {
   "cell_type": "code",
   "execution_count": 11,
   "metadata": {
    "collapsed": false,
    "deletable": true,
    "editable": true
   },
   "outputs": [
    {
     "data": {
      "text/plain": [
       "'Satish'"
      ]
     },
     "execution_count": 11,
     "metadata": {},
     "output_type": "execute_result"
    }
   ],
   "source": [
    "code['name']['given']"
   ]
  },
  {
   "cell_type": "code",
   "execution_count": 12,
   "metadata": {
    "collapsed": false,
    "deletable": true,
    "editable": true
   },
   "outputs": [
    {
     "data": {
      "text/plain": [
       "'Goda'"
      ]
     },
     "execution_count": 12,
     "metadata": {},
     "output_type": "execute_result"
    }
   ],
   "source": [
    "code['name']['family']"
   ]
  },
  {
   "cell_type": "markdown",
   "metadata": {
    "deletable": true,
    "editable": true
   },
   "source": [
    "## Anchors and References"
   ]
  },
  {
   "cell_type": "markdown",
   "metadata": {
    "deletable": true,
    "editable": true
   },
   "source": [
    "### API Study\n",
    "\n",
    "**Based on the example (abridged version)**"
   ]
  },
  {
   "cell_type": "code",
   "execution_count": 13,
   "metadata": {
    "collapsed": true,
    "deletable": true,
    "editable": true
   },
   "outputs": [],
   "source": [
    "import ruamel.yaml\n",
    "\n",
    "inp = \"\"\"\\\n",
    "- &CENTER {x: 1, y: 2}\n",
    "- &LEFT {x: 0, y: 2}\n",
    "- &BIG {r: 10}\n",
    "- &SMALL {r: 1}\n",
    "\"\"\""
   ]
  },
  {
   "cell_type": "code",
   "execution_count": 14,
   "metadata": {
    "collapsed": true,
    "deletable": true,
    "editable": true
   },
   "outputs": [],
   "source": [
    "code = ruamel.yaml.load(inp, Loader=ruamel.yaml.RoundTripLoader)"
   ]
  },
  {
   "cell_type": "code",
   "execution_count": 15,
   "metadata": {
    "collapsed": false,
    "deletable": true,
    "editable": true
   },
   "outputs": [
    {
     "data": {
      "text/plain": [
       "[CommentedMap([('x', 1), ('y', 2)]),\n",
       " CommentedMap([('x', 0), ('y', 2)]),\n",
       " CommentedMap([('r', 10)]),\n",
       " CommentedMap([('r', 1)])]"
      ]
     },
     "execution_count": 15,
     "metadata": {},
     "output_type": "execute_result"
    }
   ],
   "source": [
    "code"
   ]
  },
  {
   "cell_type": "code",
   "execution_count": 16,
   "metadata": {
    "collapsed": false,
    "deletable": true,
    "editable": true
   },
   "outputs": [
    {
     "data": {
      "text/plain": [
       "ruamel.yaml.comments.CommentedSeq"
      ]
     },
     "execution_count": 16,
     "metadata": {},
     "output_type": "execute_result"
    }
   ],
   "source": [
    "type(code)"
   ]
  },
  {
   "cell_type": "code",
   "execution_count": 17,
   "metadata": {
    "collapsed": false,
    "deletable": true,
    "editable": true
   },
   "outputs": [
    {
     "data": {
      "text/plain": [
       "['__add__',\n",
       " '__class__',\n",
       " '__contains__',\n",
       " '__deepcopy__',\n",
       " '__delattr__',\n",
       " '__delitem__',\n",
       " '__dict__',\n",
       " '__dir__',\n",
       " '__doc__',\n",
       " '__eq__',\n",
       " '__format__',\n",
       " '__ge__',\n",
       " '__getattribute__',\n",
       " '__getitem__',\n",
       " '__gt__',\n",
       " '__hash__',\n",
       " '__iadd__',\n",
       " '__imul__',\n",
       " '__init__',\n",
       " '__iter__',\n",
       " '__le__',\n",
       " '__len__',\n",
       " '__lt__',\n",
       " '__module__',\n",
       " '__mul__',\n",
       " '__ne__',\n",
       " '__new__',\n",
       " '__reduce__',\n",
       " '__reduce_ex__',\n",
       " '__repr__',\n",
       " '__reversed__',\n",
       " '__rmul__',\n",
       " '__setattr__',\n",
       " '__setitem__',\n",
       " '__sizeof__',\n",
       " '__slots__',\n",
       " '__str__',\n",
       " '__subclasshook__',\n",
       " '__weakref__',\n",
       " '_yaml_add_comment',\n",
       " '_yaml_add_eol_comment',\n",
       " '_yaml_comment',\n",
       " '_yaml_format',\n",
       " '_yaml_get_column',\n",
       " '_yaml_get_columnX',\n",
       " '_yaml_get_pre_comment',\n",
       " '_yaml_line_col',\n",
       " '_yaml_set_idx_line_col',\n",
       " '_yaml_set_kv_line_col',\n",
       " '_yaml_set_line_col',\n",
       " 'anchor',\n",
       " 'append',\n",
       " 'ca',\n",
       " 'clear',\n",
       " 'copy',\n",
       " 'copy_attributes',\n",
       " 'count',\n",
       " 'extend',\n",
       " 'fa',\n",
       " 'index',\n",
       " 'insert',\n",
       " 'lc',\n",
       " 'pop',\n",
       " 'remove',\n",
       " 'reverse',\n",
       " 'sort',\n",
       " 'tag',\n",
       " 'yaml_add_eol_comment',\n",
       " 'yaml_anchor',\n",
       " 'yaml_end_comment_extend',\n",
       " 'yaml_key_comment_extend',\n",
       " 'yaml_set_anchor',\n",
       " 'yaml_set_comment_before_after_key',\n",
       " 'yaml_set_start_comment',\n",
       " 'yaml_set_tag',\n",
       " 'yaml_value_comment_extend']"
      ]
     },
     "execution_count": 17,
     "metadata": {},
     "output_type": "execute_result"
    }
   ],
   "source": [
    "dir(code)"
   ]
  },
  {
   "cell_type": "code",
   "execution_count": 18,
   "metadata": {
    "collapsed": false,
    "deletable": true,
    "editable": true
   },
   "outputs": [
    {
     "data": {
      "text/plain": [
       "<ruamel.yaml.comments.Anchor at 0x7fe7fc7cb518>"
      ]
     },
     "execution_count": 18,
     "metadata": {},
     "output_type": "execute_result"
    }
   ],
   "source": [
    "code.anchor"
   ]
  },
  {
   "cell_type": "code",
   "execution_count": 19,
   "metadata": {
    "collapsed": true,
    "deletable": true,
    "editable": true
   },
   "outputs": [],
   "source": [
    "code.anchor.value"
   ]
  },
  {
   "cell_type": "code",
   "execution_count": 20,
   "metadata": {
    "collapsed": false,
    "deletable": true,
    "editable": true
   },
   "outputs": [
    {
     "ename": "AttributeError",
     "evalue": "'CommentedSeq' object has no attribute 'keys'",
     "output_type": "error",
     "traceback": [
      "\u001b[0;31m---------------------------------------------------------------------------\u001b[0m",
      "\u001b[0;31mAttributeError\u001b[0m                            Traceback (most recent call last)",
      "\u001b[0;32m<ipython-input-20-9f05455810df>\u001b[0m in \u001b[0;36m<module>\u001b[0;34m()\u001b[0m\n\u001b[0;32m----> 1\u001b[0;31m \u001b[0mcode\u001b[0m\u001b[0;34m.\u001b[0m\u001b[0mkeys\u001b[0m\u001b[0;34m(\u001b[0m\u001b[0;34m)\u001b[0m\u001b[0;34m\u001b[0m\u001b[0m\n\u001b[0m",
      "\u001b[0;31mAttributeError\u001b[0m: 'CommentedSeq' object has no attribute 'keys'"
     ]
    }
   ],
   "source": [
    "code.keys()"
   ]
  },
  {
   "cell_type": "code",
   "execution_count": 21,
   "metadata": {
    "collapsed": false,
    "deletable": true,
    "editable": true
   },
   "outputs": [
    {
     "name": "stdout",
     "output_type": "stream",
     "text": [
      "CommentedMap([('x', 1), ('y', 2)])\n",
      "CommentedMap([('x', 0), ('y', 2)])\n",
      "CommentedMap([('r', 10)])\n",
      "CommentedMap([('r', 1)])\n"
     ]
    }
   ],
   "source": [
    "for item in code:\n",
    "    print(item)"
   ]
  },
  {
   "cell_type": "code",
   "execution_count": 22,
   "metadata": {
    "collapsed": false,
    "deletable": true,
    "editable": true
   },
   "outputs": [
    {
     "name": "stdout",
     "output_type": "stream",
     "text": [
      "CENTER CommentedMapKeysView(CommentedMap([('x', 1), ('y', 2)]))\n",
      "LEFT CommentedMapKeysView(CommentedMap([('x', 0), ('y', 2)]))\n",
      "BIG CommentedMapKeysView(CommentedMap([('r', 10)]))\n",
      "SMALL CommentedMapKeysView(CommentedMap([('r', 1)]))\n"
     ]
    }
   ],
   "source": [
    "for item in code:\n",
    "    print(item.anchor.value, item.keys())"
   ]
  },
  {
   "cell_type": "markdown",
   "metadata": {
    "deletable": true,
    "editable": true
   },
   "source": [
    "## Full example"
   ]
  },
  {
   "cell_type": "code",
   "execution_count": 23,
   "metadata": {
    "collapsed": true,
    "deletable": true,
    "editable": true
   },
   "outputs": [],
   "source": [
    "import ruamel.yaml\n",
    "\n",
    "inp = \"\"\"\\\n",
    "- &CENTER {x: 1, y: 2}\n",
    "- &LEFT {x: 0, y: 2}\n",
    "- &BIG {r: 10}\n",
    "- &SMALL {r: 1}\n",
    "\n",
    "# All the following maps are equal:\n",
    "\n",
    "# Explicit keys\n",
    "- x: 1\n",
    "  y: 2\n",
    "  r: 10\n",
    "  label: center/big\n",
    "\n",
    "# Merge one map\n",
    "- <<: *CENTER\n",
    "  r: 10\n",
    "  label: center/big\n",
    "\n",
    "# Merge multiple maps\n",
    "- <<: [*CENTER, *BIG]\n",
    "  label: center/big\n",
    "  \n",
    "# Override\n",
    "- <<: [*BIG, *LEFT, *SMALL]\n",
    "  x: 1\n",
    "  label: center/big\n",
    "\"\"\""
   ]
  },
  {
   "cell_type": "code",
   "execution_count": 24,
   "metadata": {
    "collapsed": true,
    "deletable": true,
    "editable": true
   },
   "outputs": [],
   "source": [
    "data = ruamel.yaml.load(inp, Loader=ruamel.yaml.RoundTripLoader)"
   ]
  },
  {
   "cell_type": "code",
   "execution_count": 25,
   "metadata": {
    "collapsed": false,
    "deletable": true,
    "editable": true,
    "scrolled": true
   },
   "outputs": [
    {
     "data": {
      "text/plain": [
       "[CommentedMap([('x', 1), ('y', 2)]),\n",
       " CommentedMap([('x', 0), ('y', 2)]),\n",
       " CommentedMap([('r', 10)]),\n",
       " CommentedMap([('r', 1)]),\n",
       " CommentedMap([('x', 1), ('y', 2), ('r', 10), ('label', 'center/big')]),\n",
       " CommentedMap([('r', 10), ('label', 'center/big'), ('x', 1), ('y', 2)]),\n",
       " CommentedMap([('label', 'center/big'), ('x', 1), ('y', 2), ('r', 10)]),\n",
       " CommentedMap([('x', 1), ('label', 'center/big'), ('r', 10), ('y', 2)])]"
      ]
     },
     "execution_count": 25,
     "metadata": {},
     "output_type": "execute_result"
    }
   ],
   "source": [
    "data"
   ]
  },
  {
   "cell_type": "code",
   "execution_count": 26,
   "metadata": {
    "collapsed": true,
    "deletable": true,
    "editable": true
   },
   "outputs": [],
   "source": [
    "# Modifying the merge order of the aliases\n",
    "\n",
    "inp = \"\"\"\\\n",
    "- &CENTER {x: 1, y: 2}\n",
    "- &LEFT {x: 0, y: 2}\n",
    "- &BIG {r: 10}\n",
    "- &SMALL {r: 1}\n",
    "\n",
    "# All the following maps are equal:\n",
    "\n",
    "# Explicit keys\n",
    "- x: 1\n",
    "  y: 2\n",
    "  r: 10\n",
    "  label: center/big\n",
    "\n",
    "# Merge one map\n",
    "- <<: *CENTER\n",
    "  r: 10\n",
    "  label: center/big\n",
    "\n",
    "# Merge multiple maps\n",
    "- <<: [*CENTER, *BIG]\n",
    "  label: center/big\n",
    "  \n",
    "# Override\n",
    "- <<: [*SMALL, *BIG, *LEFT]\n",
    "  x: 1\n",
    "  label: center/small\n",
    "\"\"\""
   ]
  },
  {
   "cell_type": "code",
   "execution_count": 27,
   "metadata": {
    "collapsed": false,
    "deletable": true,
    "editable": true
   },
   "outputs": [],
   "source": [
    "data = ruamel.yaml.load(inp, Loader=ruamel.yaml.RoundTripLoader)"
   ]
  },
  {
   "cell_type": "code",
   "execution_count": 28,
   "metadata": {
    "collapsed": false
   },
   "outputs": [
    {
     "data": {
      "text/plain": [
       "[CommentedMap([('x', 1), ('y', 2)]),\n",
       " CommentedMap([('x', 0), ('y', 2)]),\n",
       " CommentedMap([('r', 10)]),\n",
       " CommentedMap([('r', 1)]),\n",
       " CommentedMap([('x', 1), ('y', 2), ('r', 10), ('label', 'center/big')]),\n",
       " CommentedMap([('r', 10), ('label', 'center/big'), ('x', 1), ('y', 2)]),\n",
       " CommentedMap([('label', 'center/big'), ('x', 1), ('y', 2), ('r', 10)]),\n",
       " CommentedMap([('x', 1), ('label', 'center/small'), ('r', 1), ('y', 2)])]"
      ]
     },
     "execution_count": 28,
     "metadata": {},
     "output_type": "execute_result"
    }
   ],
   "source": [
    "data"
   ]
  },
  {
   "cell_type": "code",
   "execution_count": 29,
   "metadata": {
    "collapsed": false,
    "deletable": true,
    "editable": true
   },
   "outputs": [],
   "source": [
    "assert data[7]['y'] == 2"
   ]
  },
  {
   "cell_type": "markdown",
   "metadata": {
    "deletable": true,
    "editable": true
   },
   "source": [
    "## Inserting Keys and Comments"
   ]
  },
  {
   "cell_type": "code",
   "execution_count": 30,
   "metadata": {
    "collapsed": true,
    "deletable": true,
    "editable": true
   },
   "outputs": [],
   "source": [
    "yaml_str = \"\"\"\\\n",
    "first_name: Art\n",
    "occupation: Architect  # This is an occupation comment\n",
    "about: Art Vandelay is a fictional character that George invents...\n",
    "\"\"\"\n",
    "\n",
    "data = ruamel.yaml.round_trip_load(yaml_str)"
   ]
  },
  {
   "cell_type": "code",
   "execution_count": 31,
   "metadata": {
    "collapsed": false,
    "deletable": true,
    "editable": true
   },
   "outputs": [
    {
     "data": {
      "text/plain": [
       "CommentedMap([('first_name', 'Art'),\n",
       "              ('occupation', 'Architect'),\n",
       "              ('about',\n",
       "               'Art Vandelay is a fictional character that George invents...')])"
      ]
     },
     "execution_count": 31,
     "metadata": {},
     "output_type": "execute_result"
    }
   ],
   "source": [
    "data"
   ]
  },
  {
   "cell_type": "code",
   "execution_count": 32,
   "metadata": {
    "collapsed": true,
    "deletable": true,
    "editable": true
   },
   "outputs": [],
   "source": [
    "data.insert(1, 'last name', 'Vandelay', comment='new key')"
   ]
  },
  {
   "cell_type": "code",
   "execution_count": 33,
   "metadata": {
    "collapsed": false,
    "deletable": true,
    "editable": true
   },
   "outputs": [
    {
     "name": "stdout",
     "output_type": "stream",
     "text": [
      "first_name: Art\n",
      "last name: Vandelay    # new key\n",
      "occupation: Architect  # This is an occupation comment\n",
      "about: Art Vandelay is a fictional character that George invents...\n",
      "\n"
     ]
    }
   ],
   "source": [
    "print(ruamel.yaml.round_trip_dump(data))"
   ]
  }
 ],
 "metadata": {
  "kernelspec": {
   "display_name": "Python 3",
   "language": "python",
   "name": "python3"
  },
  "language_info": {
   "codemirror_mode": {
    "name": "ipython",
    "version": 3
   },
   "file_extension": ".py",
   "mimetype": "text/x-python",
   "name": "python",
   "nbconvert_exporter": "python",
   "pygments_lexer": "ipython3",
   "version": "3.4.6"
  }
 },
 "nbformat": 4,
 "nbformat_minor": 2
}
