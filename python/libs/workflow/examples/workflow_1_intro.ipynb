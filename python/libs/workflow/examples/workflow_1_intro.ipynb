{
 "cells": [
  {
   "cell_type": "markdown",
   "metadata": {},
   "source": [
    "# About\n",
    "\n",
    "* https://github.com/inveniosoftware/workflow\n",
    "* https://github.com/satishgoda/workflow\n",
    "* http://workflow.readthedocs.io\n",
    "\n",
    "\n",
    "The Workflow library provides a method of running Finite State Machines with memory. It can be used to execute a set of methods, complete with conditions and patterns.\n",
    "\n",
    "Workflow allows for a number of independent pieces of data to be processed by the same logic, while allowing for the entire process to be forwarded, backwarded, paused, inspected, re-executed, modified and stored."
   ]
  },
  {
   "cell_type": "markdown",
   "metadata": {},
   "source": [
    "# Basic workflow usage"
   ]
  },
  {
   "cell_type": "code",
   "execution_count": 1,
   "metadata": {
    "collapsed": true
   },
   "outputs": [],
   "source": [
    "from workflow.engine import GenericWorkflowEngine"
   ]
  },
  {
   "cell_type": "markdown",
   "metadata": {},
   "source": [
    "## Instantiate a workflow engine"
   ]
  },
  {
   "cell_type": "code",
   "execution_count": 2,
   "metadata": {
    "collapsed": false
   },
   "outputs": [],
   "source": [
    "my_engine = GenericWorkflowEngine()"
   ]
  },
  {
   "cell_type": "markdown",
   "metadata": {},
   "source": [
    "## Create tasks"
   ]
  },
  {
   "cell_type": "code",
   "execution_count": 3,
   "metadata": {
    "collapsed": false
   },
   "outputs": [],
   "source": [
    "from functools import wraps\n",
    "\n",
    "def print_data(obj, eng):\n",
    "    \"\"\"Print the data found in the token.\"\"\"\n",
    "    print(obj.data)\n",
    "    \n",
    "def add_data(number_to_add):\n",
    "    \"\"\"Add number_to_add to obj.data.\"\"\"\n",
    "    @wraps(add_data)\n",
    "    def _add_data(obj, eng):\n",
    "        obj.data += number_to_add\n",
    "    return _add_data"
   ]
  },
  {
   "cell_type": "markdown",
   "metadata": {},
   "source": [
    "## Create a workflow definition"
   ]
  },
  {
   "cell_type": "code",
   "execution_count": 4,
   "metadata": {
    "collapsed": true
   },
   "outputs": [],
   "source": [
    "my_workflow_definition = [\n",
    "    add_data(1),\n",
    "    print_data\n",
    "]"
   ]
  },
  {
   "cell_type": "markdown",
   "metadata": {},
   "source": [
    "## Define tokens"
   ]
  },
  {
   "cell_type": "code",
   "execution_count": 5,
   "metadata": {
    "collapsed": false
   },
   "outputs": [],
   "source": [
    "class MyObject:\n",
    "    def __init__(self, data):\n",
    "        self._data = data\n",
    "    \n",
    "    @property\n",
    "    def data(self):\n",
    "        return self._data\n",
    "    \n",
    "    @data.setter\n",
    "    def data(self, value):\n",
    "        print(self)\n",
    "        self._data = value\n",
    "    \n",
    "    def __repr__(self):\n",
    "        return \"{0} : {1}\".format(hex(id(self)), self._data)\n",
    "\n",
    "my_object0 = MyObject(0)\n",
    "my_object1 = MyObject(1)"
   ]
  },
  {
   "cell_type": "markdown",
   "metadata": {},
   "source": [
    "## Run the engine"
   ]
  },
  {
   "cell_type": "code",
   "execution_count": 6,
   "metadata": {
    "collapsed": false
   },
   "outputs": [],
   "source": [
    "my_engine.callbacks.replace(my_workflow_definition)"
   ]
  },
  {
   "cell_type": "code",
   "execution_count": 7,
   "metadata": {
    "collapsed": false
   },
   "outputs": [
    {
     "name": "stdout",
     "output_type": "stream",
     "text": [
      "0x7f1ff00d2b70 : 0\n",
      "1\n",
      "0x7f1ff00d2c88 : 1\n",
      "2\n"
     ]
    }
   ],
   "source": [
    "my_engine.process([my_object0, my_object1])"
   ]
  },
  {
   "cell_type": "markdown",
   "metadata": {},
   "source": [
    "## Resuing the engine"
   ]
  },
  {
   "cell_type": "code",
   "execution_count": 8,
   "metadata": {
    "collapsed": false
   },
   "outputs": [
    {
     "name": "stdout",
     "output_type": "stream",
     "text": [
      "0x7f1ff00d2b70 : 1\n",
      "2\n",
      "0x7f1ff00d2c88 : 2\n",
      "3\n"
     ]
    }
   ],
   "source": [
    "my_engine.process([my_object0, my_object1])"
   ]
  },
  {
   "cell_type": "markdown",
   "metadata": {},
   "source": [
    "# Loops and Interrupts"
   ]
  },
  {
   "cell_type": "markdown",
   "metadata": {},
   "source": [
    "**TODO**:\n",
    "\n",
    "    http://workflow.readthedocs.io/en/latest/#loops-and-interrupts"
   ]
  }
 ],
 "metadata": {
  "kernelspec": {
   "display_name": "Python 3",
   "language": "python",
   "name": "python3"
  },
  "language_info": {
   "codemirror_mode": {
    "name": "ipython",
    "version": 3
   },
   "file_extension": ".py",
   "mimetype": "text/x-python",
   "name": "python",
   "nbconvert_exporter": "python",
   "pygments_lexer": "ipython3",
   "version": "3.4.6"
  }
 },
 "nbformat": 4,
 "nbformat_minor": 2
}
