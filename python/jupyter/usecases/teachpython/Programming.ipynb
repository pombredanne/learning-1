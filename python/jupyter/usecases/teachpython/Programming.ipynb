{
 "cells": [
  {
   "cell_type": "markdown",
   "metadata": {
    "deletable": true,
    "editable": true,
    "slideshow": {
     "slide_type": "slide"
    }
   },
   "source": [
    "# Introduction to Programming using Python and Jupyter"
   ]
  },
  {
   "cell_type": "markdown",
   "metadata": {
    "deletable": true,
    "editable": true,
    "slideshow": {
     "slide_type": "fragment"
    }
   },
   "source": [
    "## Python\n",
    "\n",
    "is a Programming Language."
   ]
  },
  {
   "cell_type": "markdown",
   "metadata": {
    "deletable": true,
    "editable": true,
    "slideshow": {
     "slide_type": "fragment"
    }
   },
   "source": [
    "## Jupyter\n",
    "\n",
    "is an Interactive NoteBook"
   ]
  },
  {
   "cell_type": "markdown",
   "metadata": {
    "deletable": true,
    "editable": true,
    "slideshow": {
     "slide_type": "slide"
    }
   },
   "source": [
    "# Adding two numbers"
   ]
  },
  {
   "cell_type": "markdown",
   "metadata": {
    "deletable": true,
    "editable": true,
    "slideshow": {
     "slide_type": "fragment"
    }
   },
   "source": [
    "## a + b\n",
    "\n",
    "2 + 3 = 5\n",
    "\n",
    "-2 + 2 = 0"
   ]
  },
  {
   "cell_type": "markdown",
   "metadata": {
    "deletable": true,
    "editable": true,
    "slideshow": {
     "slide_type": "slide"
    }
   },
   "source": [
    "## How do we add two numbers in Python"
   ]
  },
  {
   "cell_type": "markdown",
   "metadata": {
    "deletable": true,
    "editable": true,
    "slideshow": {
     "slide_type": "fragment"
    }
   },
   "source": [
    "* Define a function called **add** that takes two inputs **a** and **b**"
   ]
  },
  {
   "cell_type": "markdown",
   "metadata": {
    "deletable": true,
    "editable": true,
    "slideshow": {
     "slide_type": "fragment"
    }
   },
   "source": [
    "* Compute the expression **a + b** and store it in **result**"
   ]
  },
  {
   "cell_type": "markdown",
   "metadata": {
    "deletable": true,
    "editable": true,
    "slideshow": {
     "slide_type": "fragment"
    }
   },
   "source": [
    "* Return the **result**"
   ]
  },
  {
   "cell_type": "code",
   "execution_count": 1,
   "metadata": {
    "collapsed": true,
    "deletable": true,
    "editable": true,
    "slideshow": {
     "slide_type": "subslide"
    }
   },
   "outputs": [],
   "source": [
    "def add(a, b):\n",
    "    result = a + b\n",
    "    return result"
   ]
  },
  {
   "cell_type": "markdown",
   "metadata": {
    "deletable": true,
    "editable": true,
    "slideshow": {
     "slide_type": "subslide"
    }
   },
   "source": [
    "## Testing the function"
   ]
  },
  {
   "cell_type": "code",
   "execution_count": 2,
   "metadata": {
    "collapsed": false,
    "deletable": true,
    "editable": true,
    "slideshow": {
     "slide_type": "fragment"
    }
   },
   "outputs": [
    {
     "data": {
      "text/plain": [
       "7"
      ]
     },
     "execution_count": 2,
     "metadata": {},
     "output_type": "execute_result"
    }
   ],
   "source": [
    "add(2, 5)"
   ]
  },
  {
   "cell_type": "code",
   "execution_count": 3,
   "metadata": {
    "collapsed": false,
    "deletable": true,
    "editable": true,
    "slideshow": {
     "slide_type": "fragment"
    }
   },
   "outputs": [
    {
     "data": {
      "text/plain": [
       "10"
      ]
     },
     "execution_count": 3,
     "metadata": {},
     "output_type": "execute_result"
    }
   ],
   "source": [
    "add(-20, 30)"
   ]
  },
  {
   "cell_type": "markdown",
   "metadata": {
    "deletable": true,
    "editable": true,
    "slideshow": {
     "slide_type": "slide"
    }
   },
   "source": [
    "## Adding an User Interface"
   ]
  },
  {
   "cell_type": "markdown",
   "metadata": {
    "deletable": true,
    "editable": true,
    "slideshow": {
     "slide_type": "fragment"
    }
   },
   "source": [
    "So that we can interactively provide inputs"
   ]
  },
  {
   "cell_type": "markdown",
   "metadata": {
    "deletable": true,
    "editable": true,
    "slideshow": {
     "slide_type": "fragment"
    }
   },
   "source": [
    "Display the result"
   ]
  },
  {
   "cell_type": "markdown",
   "metadata": {
    "deletable": true,
    "editable": true,
    "slideshow": {
     "slide_type": "subslide"
    }
   },
   "source": [
    "## Import the function"
   ]
  },
  {
   "cell_type": "code",
   "execution_count": 4,
   "metadata": {
    "collapsed": true,
    "deletable": true,
    "editable": true,
    "slideshow": {
     "slide_type": "fragment"
    }
   },
   "outputs": [],
   "source": [
    "from ipywidgets import interact"
   ]
  },
  {
   "cell_type": "code",
   "execution_count": 5,
   "metadata": {
    "collapsed": false,
    "deletable": true,
    "editable": true,
    "slideshow": {
     "slide_type": "fragment"
    }
   },
   "outputs": [
    {
     "data": {
      "image/png": "[encoded data removed]",
      "text/html": [
       "<img src=data:image/png;base64,iVBORw0KGgoAAAANSUhEUgAAA9oAAABRCAYAAAAtiN7BAAAIb0lEQVR4nO3dXYisd30H8K+p1FQraLUXGrAHay3SmpvWlwtLIWC9EFqFEG2h0mgRoRVaCtYGii0UtXhhKfQiINJcVFto60spSi0YS+PLyczZ3Znndeac3W3PQpLuXiiCVEPm8WJmybqe3dmT7OzMbD4f+MI+/32G/bH8n4svM/M8CQAAAAAAAAAAAAAAAAAAAAAAAAAAAAAAAAAAAAAAAAAAAAAAAAAAAAAAADwzbdu+sSzLp4bDYTcvbdveXPa8AAAAsNKapulXVdW1bTs3RVF0o9Ho/mXPDAAAACurruu9pmnOVLTLsuyqqvrzZc8MAAAAK0vRBgAAgHOkaAMAAMA5UrQBAADgHCnal9qdSf4mySTJa0445/4k/SRfS/KNJPdczGgAAACXlKJ9ab06yTeTfDZJl1sX7fuSPJ7krtnxG5N8N8nrL2JAAACAS0nRvrRen+RKkntzctEeJfnLY2tfTPJPC50MAABYa+/N9F29/0pSJfnXJK9c6kQrRtG+9E4q2q+erb/t2PqHk3znAuYCAADW1FeSvGX28/OT/HOS/17eOKtH0b70TiravzFbP/4x8d+drf/s4kcDAADW0auOHb870xLxsrO8uGmaD5Rl+cBlTl3X37nNov2VZc+86FRV9Z5z34nLc1LRfuds/bXH1u+brV9Z+GQAAMBaenOSzyd5NMnDScpMS8TPz3vh9evXB23bdjs7O5c6dV13t1O0x+Px0mdedNq27ba3t6uF7syL4x1tAADg3NyV5HtJPprkebO1024M9SP6/X43mUy6y248Ht9W0T44OFj2yAs3mUy6fr/fLW5rXqjb/Y72nyb59gXMBQAArKHfzLRI3H1k7V05Y9Hu9XrL7nsXQtG+tV6vd9mLdjK96/hfHFv7QpJ/XPBMAADAmnptkkmSP5kd35HpY4vOVLTbtn3i5s2b3cHBwcpkf3//3NM0Tdfv97urV6/OzdbWVre9vb2QOY5m2f/n3d3dbjweP7a4rXmhTiva70ryWJ6+E/8bMn2O9t23OBcAACBJ8r4k/5ukn+RLSf4+09LxrSS/ctoL9/f3X9y27UNVVT1yyfP92ynaw+Hwf1Zg5oWmbduHdnd3X7HozblgP53po+1Gme75jSRfvsV592d6fXwtyTeS3HNRAwIAAFxKdV3vXbt2rev1enMzGAy6zc1Nj/cCAACAk9R1vbexsdH1+/25UbQBAABgjrqu9zY3N7uNjY25GQwG3WAwULQBAADgJHVd7w0Gg25ra2tuhsOhog0AAACnqet6bzgcdmdNURSKNgAAAJykruu9siy7s6QoCkUbAAAATlPX9V5VVV1d13NTFEVXVZWiDQAAACep63qvaZqubdu5KctS0QYAAIDT1HW917ZtNx6P50bRBgAAgDmapvl60zTdjRs3Ts14PD786Phblz0zAAAArKzRaPSmqqqeOsPdxrumaXaWPS8AAAAAAAAAAAAAAAAAAAAAAAAAAAAAAAAAACzZaDT60LzHfx0+Aqxt239Z9rwAAACw0sqy/EFd113btqemaZquKIpu2fMCAADASivLcjKvZB+mKIpuZ2fnyrJnBgAAgJWlaAMAAMA5UrQBAADgHCnaAAAAJMn7k5RJuiSvWfIsa60oijMX7eFwqGgv30uT/FWSbyV5OMkwyYNJXnKLc38pyeeSfDXJVqbXzPsuZEoAAGAt3RtF+1lTtNfOvUmuJ/mZ2fELMy3dXz523uuS3EzyhiNrH03yqUUPCAAArC9F+xwo2mvnniR/cGzt9zO9Fl52ZO3fk/z1sfNemuTuxY0GAACsu8Oi/d4kn0/SJvmHJHcuc6h14zval8LvZXotvHx2/JIkTyV527IGAgAA1tNh0X5wdnxnkiLJJ5c20RpStC+FB5P855HjX8v02rgvyWcz/Y72I0n+MMnzLnw6AABgbRwW7V8/svZnSb6d5I55L26a5gNlWT4gt1e0m6b5xArM/IxTVdV7FrQfl+Xnkvxfpt/JPvRbmV4bX83T3+V+XZLHknzsQqcDAADWymHR/oUja789W7vrtBdev3590LZtt7Oz85xPWZZnKtlH3tFe67Rt221vb1cL3JcX6UVJvpnkHcfW357pdfDWY+sPJPlekhcsfjQAAGAdPeOi3e/3u8lk0tHddtF+8sknlz3yszKZTLp+v98tcF9elBck+Y8kv3OL392d6XXwi8fW3z1bf9ViRwMAANbVM/7oeK/XW3bfWxnPtaLddV3X6/XWvWg/P8kX8vQzsX85ycfz9F3HfyLJE5neofyoP07y/SQ/dQEzAgAAa+iwaB8+F/jMN0Nr2/aJmzdvdgcHByuT/f39paQsy+7RRx/trl69OjfD4bB7/PHHn9XfW/b/eXd3txuPx48tcF8u2h2Z3uDs00l+dZYP5ccfdffBJF9K8pOz45cnGSX52wubFAAAWCvvT1JmWi4+mOTfMi0Rn8kZ3q3b399/cdu2D1VV9chzPUVR3FbRrqqqt+yZn03atn1od3f3FQvdnYt1eKOzW+X4M+X/KMnXkzycZJDkI5m+Gw4AAMCilGU56ff7Xa/Xm5vhcNjVdX1l2TMDAADAyirLcnLt2rWu3+/PjaINAAAAc5RlOdnc3Ow2NjbmpigKRRsAAABOU5blZDAYdFtbW3OjaAMAAMAcZVlOiqLohsPh3CjaAAAAMEdZlpOqqrqyLOdG0QYAAIA5yrKcNE3T1XU9N4o2AAAAzFGW5aRt2+4sKYqi29nZubLsmQEAAGBllWU5GY/H3VmiaAMAAMAcVVX9/2g06m7cuHFqRqNRVxRFt+x5AQAAYKWNx+MPl2U5mXfH8dlHzP9u2fMCAAAAAAAAAAAAAAAAAAAAAAAAAAAAAAAAAAAAAAAAAADAZfFDWHrkhT5Hb7MAAAAASUVORK5CYII= class=\"jupyter-widget\">\n",
       "<script type=\"application/vnd.jupyter-embedded-widgets\">[{},{},{\"value\":10,\"description\":\"a\",\"min\":-10,\"max\":30,\"layout\":\"IPY_MODEL_d07e2de1b7c2432a9538183b7677e0a1\"},{},{\"value\":26,\"description\":\"b\",\"min\":-20,\"max\":60,\"layout\":\"IPY_MODEL_57cb75b86f5747e7a662e5b4210d1a1e\"},{\"layout\":\"IPY_MODEL_2185569c226b4a4ca7e88ceab12718f4\",\"children\":[\"IPY_MODEL_ce5feced3d544610a7612fea67e6af26\",\"IPY_MODEL_705db67a6c984ae3b51bc852178f8db4\"],\"_dom_classes\":[\"widget-interact\"]}]</script>"
      ]
     },
     "metadata": {
      "isWidgetSnapshot": true
     },
     "output_type": "display_data"
    },
    {
     "data": {
      "text/plain": [
       "36"
      ]
     },
     "metadata": {},
     "output_type": "display_data"
    }
   ],
   "source": [
    "interact(add, a=10, b=20)"
   ]
  },
  {
   "cell_type": "markdown",
   "metadata": {
    "deletable": true,
    "editable": true,
    "slideshow": {
     "slide_type": "subslide"
    }
   },
   "source": [
    "## Manually type the value for inputs"
   ]
  },
  {
   "cell_type": "code",
   "execution_count": 6,
   "metadata": {
    "collapsed": true,
    "deletable": true,
    "editable": true,
    "slideshow": {
     "slide_type": "fragment"
    }
   },
   "outputs": [],
   "source": [
    "from ipywidgets.widgets import IntText"
   ]
  },
  {
   "cell_type": "code",
   "execution_count": 7,
   "metadata": {
    "collapsed": false,
    "deletable": true,
    "editable": true,
    "slideshow": {
     "slide_type": "fragment"
    }
   },
   "outputs": [
    {
     "data": {
      "image/png": "[encoded data removed]",
      "text/html": [
       "<img src=data:image/png;base64,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 class=\"jupyter-widget\">\n",
       "<script type=\"application/vnd.jupyter-embedded-widgets\">[{},{},{\"description\":\"a\",\"layout\":\"IPY_MODEL_bf18a809db824fb9bdef080198d07c79\",\"value\":2},{},{\"description\":\"b\",\"layout\":\"IPY_MODEL_9c087cc9f0484aa09fa6bdb427337fd6\",\"value\":-2},{\"layout\":\"IPY_MODEL_28b22cc2e43c4f56a7cc8bdd47d808ad\",\"children\":[\"IPY_MODEL_49dfe577bbbb4eaab87049dadf843f5e\",\"IPY_MODEL_ae973a51386c4a0bae4471b67df268c0\"],\"_dom_classes\":[\"widget-interact\"]}]</script>"
      ]
     },
     "metadata": {
      "isWidgetSnapshot": true
     },
     "output_type": "display_data"
    },
    {
     "data": {
      "text/plain": [
       "0"
      ]
     },
     "metadata": {},
     "output_type": "display_data"
    }
   ],
   "source": [
    "aText = IntText(min=0, max=10, value=2)\n",
    "bText = IntText(min=0, max=10, value=2)\n",
    "\n",
    "interact(add, a=aText, b=bText)"
   ]
  },
  {
   "cell_type": "markdown",
   "metadata": {
    "deletable": true,
    "editable": true,
    "slideshow": {
     "slide_type": "slide"
    }
   },
   "source": [
    "## Subtracting two numbers"
   ]
  },
  {
   "cell_type": "code",
   "execution_count": 8,
   "metadata": {
    "collapsed": true,
    "deletable": true,
    "editable": true,
    "slideshow": {
     "slide_type": "fragment"
    }
   },
   "outputs": [],
   "source": [
    "def sub(a, b, verbose=False):\n",
    "    result = a - b\n",
    "    \n",
    "    if verbose:\n",
    "        return \"a - b = %s\" % (result)\n",
    "    else:\n",
    "        return result"
   ]
  },
  {
   "cell_type": "code",
   "execution_count": 9,
   "metadata": {
    "collapsed": true,
    "deletable": true,
    "editable": true,
    "slideshow": {
     "slide_type": "fragment"
    }
   },
   "outputs": [],
   "source": [
    "from ipywidgets.widgets import IntSlider"
   ]
  },
  {
   "cell_type": "code",
   "execution_count": 10,
   "metadata": {
    "collapsed": false,
    "deletable": true,
    "editable": true,
    "slideshow": {
     "slide_type": "fragment"
    }
   },
   "outputs": [
    {
     "data": {
      "image/png": "[encoded data removed]",
      "text/html": [
       "<img src=data:image/png;base64,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 class=\"jupyter-widget\">\n",
       "<script type=\"application/vnd.jupyter-embedded-widgets\">[{},{},{\"value\":-34,\"description\":\"a\",\"min\":-100,\"layout\":\"IPY_MODEL_be844381a8a94fb5883f58e17265c3fa\"},{},{\"value\":13,\"description\":\"b\",\"min\":-100,\"layout\":\"IPY_MODEL_54e9a39c628e43acb707daf5751c977a\"},{},{\"description\":\"verbose\",\"layout\":\"IPY_MODEL_435af017a3cb45f88441d35348a1a117\",\"value\":true},{\"layout\":\"IPY_MODEL_bcc825b8ea6940e68b4db7aefad8bd0a\",\"children\":[\"IPY_MODEL_08b6367d93224e999d13033f67dac66a\",\"IPY_MODEL_4012cf91aa6d4f1ebfe153c7fdfda675\",\"IPY_MODEL_6cd040967352438f8ec3638bd3f7d96b\"],\"_dom_classes\":[\"widget-interact\"]}]</script>"
      ]
     },
     "metadata": {
      "isWidgetSnapshot": true
     },
     "output_type": "display_data"
    },
    {
     "data": {
      "text/plain": [
       "'a - b = -47'"
      ]
     },
     "metadata": {},
     "output_type": "display_data"
    }
   ],
   "source": [
    "aSlider = IntSlider(min=-100, max=100, value=0)\n",
    "bSlider = IntSlider(min=-100, max=100, value=0)\n",
    "\n",
    "interact(sub,\n",
    "         a=aSlider,\n",
    "         b=bSlider,\n",
    "         verbose=True,\n",
    "        )"
   ]
  }
 ],
 "metadata": {
  "celltoolbar": "Slideshow",
  "kernelspec": {
   "display_name": "Python 3",
   "language": "python",
   "name": "python3"
  },
  "language_info": {
   "codemirror_mode": {
    "name": "ipython",
    "version": 3
   },
   "file_extension": ".py",
   "mimetype": "text/x-python",
   "name": "python",
   "nbconvert_exporter": "python",
   "pygments_lexer": "ipython3",
   "version": "3.5.3"
  },
  "widgets": {
   "state": {
    "6f12bdb4c3b54153ad71a777881520dd": {
     "views": [
      {
       "cell_index": 25
      }
     ]
    },
    "c378ec42273d4bacb61920586f6139e7": {
     "views": [
      {
       "cell_index": 21
      }
     ]
    },
    "f3be9fdd6fed4603896598403d5e6db4": {
     "views": [
      {
       "cell_index": 18
      }
     ]
    }
   },
   "version": "1.2.0"
  }
 },
 "nbformat": 4,
 "nbformat_minor": 2
}
