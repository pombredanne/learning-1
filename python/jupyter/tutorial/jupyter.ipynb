{
 "cells": [
  {
   "cell_type": "markdown",
   "metadata": {},
   "source": [
    "# Jupyter"
   ]
  },
  {
   "cell_type": "code",
   "execution_count": 9,
   "metadata": {
    "collapsed": false
   },
   "outputs": [
    {
     "name": "stdout",
     "output_type": "stream",
     "text": [
      "config:\n",
      "    C:\\Users\\satish goda\\.jupyter\n",
      "    E:\\Miniconda3\\etc\\jupyter\n",
      "    C:\\ProgramData\\jupyter\n",
      "data:\n",
      "    C:\\Users\\satish goda\\AppData\\Roaming\\jupyter\n",
      "    E:\\Miniconda3\\share\\jupyter\n",
      "    C:\\ProgramData\\jupyter\n",
      "runtime:\n",
      "    C:\\Users\\satish goda\\AppData\\Roaming\\jupyter\\runtime\n"
     ]
    }
   ],
   "source": [
    "!jupyter --paths"
   ]
  },
  {
   "cell_type": "code",
   "execution_count": 10,
   "metadata": {
    "collapsed": false
   },
   "outputs": [
    {
     "name": "stdout",
     "output_type": "stream",
     "text": [
      "{\"data\": [\"C:\\\\Users\\\\satish goda\\\\AppData\\\\Roaming\\\\jupyter\", \"E:\\\\Miniconda3\\\\share\\\\jupyter\", \"C:\\\\ProgramData\\\\jupyter\"], \"runtime\": [\"C:\\\\Users\\\\satish goda\\\\AppData\\\\Roaming\\\\jupyter\\\\runtime\"], \"config\": [\"C:\\\\Users\\\\satish goda\\\\.jupyter\", \"E:\\\\Miniconda3\\\\etc\\\\jupyter\", \"C:\\\\ProgramData\\\\jupyter\"]}\n"
     ]
    }
   ],
   "source": [
    "!jupyter --paths --json"
   ]
  },
  {
   "cell_type": "code",
   "execution_count": 12,
   "metadata": {
    "collapsed": false
   },
   "outputs": [
    {
     "name": "stderr",
     "output_type": "stream",
     "text": [
      "Traceback (most recent call last):\n",
      "  File \"E:\\Miniconda3\\Scripts\\jupyter-script.py\", line 5, in <module>\n",
      "    sys.exit(jupyter_core.command.main())\n",
      "  File \"E:\\Miniconda3\\lib\\site-packages\\jupyter_core\\command.py\", line 186, in main\n",
      "    _execvp(command, sys.argv[1:])\n",
      "  File \"E:\\Miniconda3\\lib\\site-packages\\jupyter_core\\command.py\", line 104, in _execvp\n",
      "    raise OSError('%r not found' % cmd, errno.ENOENT)\n",
      "OSError: [Errno 'jupyter-wtf' not found] 2\n"
     ]
    }
   ],
   "source": [
    "!jupyter wtf"
   ]
  },
  {
   "cell_type": "code",
   "execution_count": 11,
   "metadata": {
    "collapsed": true
   },
   "outputs": [
    {
     "name": "stdout",
     "output_type": "stream",
     "text": [
      "The Jupyter terminal-based Console.\n",
      "\n",
      "This launches a Console application inside a terminal.\n",
      "\n",
      "The Console supports various extra features beyond the traditional single-\n",
      "process Terminal IPython shell, such as connecting to an existing ipython\n",
      "session, via:\n",
      "\n",
      "    jupyter console --existing\n",
      "\n",
      "where the previous session could have been created by another ipython console,\n",
      "an ipython qtconsole, or by opening an ipython notebook.\n",
      "\n",
      "Options\n",
      "\n",
      "-------\n",
      "\n",
      "\n",
      "\n",
      "Arguments that take values are actually convenience aliases to full\n",
      "Configurables, whose aliases are listed on the help line. For more information\n",
      "on full configurables, see '--help-all'.\n",
      "\n",
      "\n",
      "--debug\n",
      "\n",
      "    set log level to logging.DEBUG (maximize logging output)\n",
      "\n",
      "--existing\n",
      "\n",
      "    Connect to an existing kernel. If no argument specified, guess most recent\n",
      "\n",
      "--confirm-exit\n",
      "\n",
      "    Set to display confirmation dialog on exit. You can always use 'exit' or\n",
      "    'quit', to force a direct exit without any confirmation. This can also\n",
      "    be set in the config file by setting\n",
      "    `c.JupyterConsoleApp.confirm_exit`.\n",
      "\n",
      "--no-confirm-exit\n",
      "\n",
      "    Don't prompt the user when exiting. This will terminate the kernel\n",
      "    if it is owned by the frontend, and leave it alive if it is external.\n",
      "    This can also be set in the config file by setting\n",
      "    `c.JupyterConsoleApp.confirm_exit`.\n",
      "\n",
      "--generate-config\n",
      "\n",
      "    generate default config file\n",
      "\n",
      "-y\n",
      "\n",
      "    Answer yes to any questions instead of prompting.\n",
      "--config=<Unicode> (JupyterApp.config_file)\n",
      "\n",
      "    Default: ''\n",
      "\n",
      "    Full path of a config file.\n",
      "\n",
      "--existing=<CUnicode> (JupyterConsoleApp.existing)\n",
      "\n",
      "    Default: ''\n",
      "\n",
      "    Connect to an already running kernel\n",
      "\n",
      "--ip=<Unicode> (JupyterConsoleApp.ip)\n",
      "\n",
      "    Default: ''\n",
      "\n",
      "    Set the kernel's IP address [default localhost]. If the IP address is\n",
      "\n",
      "    something other than localhost, then Consoles on other machines will be able\n",
      "\n",
      "    to connect to the Kernel, so be careful!\n",
      "\n",
      "--transport=<CaselessStrEnum> (JupyterConsoleApp.transport)\n",
      "\n",
      "    Default: 'tcp'\n",
      "\n",
      "    Choices: ['tcp', 'ipc']\n",
      "\n",
      "--log-level=<Enum> (Application.log_level)\n",
      "\n",
      "    Default: 30\n",
      "\n",
      "    Choices: (0, 10, 20, 30, 40, 50, 'DEBUG', 'INFO', 'WARN', 'ERROR', 'CRITICAL')\n",
      "\n",
      "    Set the log level by value or name.\n",
      "\n",
      "--shell=<Int> (JupyterConsoleApp.shell_port)\n",
      "\n",
      "    Default: 0\n",
      "\n",
      "    set the shell (ROUTER) port [default: random]\n",
      "\n",
      "-f <Unicode> (JupyterConsoleApp.connection_file)\n",
      "\n",
      "    Default: ''\n",
      "\n",
      "    JSON file in which to store connection info [default: kernel-<pid>.json]\n",
      "\n",
      "    This file will contain the IP, ports, and authentication key needed to\n",
      "\n",
      "    connect clients to this kernel. By default, this file will be created in the\n",
      "\n",
      "    security dir of the current profile, but can be specified by absolute path.\n",
      "\n",
      "--hb=<Int> (JupyterConsoleApp.hb_port)\n",
      "\n",
      "    Default: 0\n",
      "\n",
      "    set the heartbeat port [default: random]\n",
      "\n",
      "--iopub=<Int> (JupyterConsoleApp.iopub_port)\n",
      "\n",
      "    Default: 0\n",
      "\n",
      "    set the iopub (PUB) port [default: random]\n",
      "\n",
      "--kernel=<Unicode> (JupyterConsoleApp.kernel_name)\n",
      "\n",
      "    Default: 'python'\n",
      "\n",
      "    The name of the default kernel to start.\n",
      "\n",
      "--stdin=<Int> (JupyterConsoleApp.stdin_port)\n",
      "\n",
      "    Default: 0\n",
      "\n",
      "    set the stdin (ROUTER) port [default: random]\n",
      "\n",
      "--ssh=<Unicode> (JupyterConsoleApp.sshserver)\n",
      "\n",
      "    Default: ''\n",
      "\n",
      "    The SSH server to use to connect to the kernel.\n",
      "\n",
      "To see all available configurables, use `--help-all`\n",
      "\n",
      "Examples\n",
      "--------\n",
      "\n",
      "    jupyter console # start the ZMQ-based console\n",
      "    jupyter console --existing # connect to an existing ipython session\n",
      "\n"
     ]
    }
   ],
   "source": [
    "!jupyter console --help"
   ]
  },
  {
   "cell_type": "code",
   "execution_count": 14,
   "metadata": {
    "collapsed": true
   },
   "outputs": [
    {
     "name": "stdout",
     "output_type": "stream",
     "text": [
      "Usage: \n",
      "  pyreverse [options] <packages>\n",
      "\n",
      "  create UML diagrams for classes and modules in <packages>\n",
      "\n",
      "\n",
      "Options:\n",
      "  -h, --help            show this help message and exit\n",
      "  -f <mode>, --filter-mode=<mode>\n",
      "                        filter attributes and functions according to\n",
      "                        <mode>. Correct modes are :\n",
      "                        'PUB_ONLY' filter all non public attributes\n",
      "                        [DEFAULT], equivalent to PRIVATE+SPECIAL_A\n",
      "                        'ALL' no filter                             'SPECIAL'\n",
      "                        filter Python special functions\n",
      "                        except constructor                             'OTHER'\n",
      "                        filter protected and private\n",
      "                        attributes [current: PUB_ONLY]\n",
      "  -c <class>, --class=<class>\n",
      "                        create a class diagram with all classes related to\n",
      "                        <class>; this uses by default the options -ASmy\n",
      "                        [current: none]\n",
      "  -a <ancestor>, --show-ancestors=<ancestor>\n",
      "                        show <ancestor> generations of ancestor classes not in\n",
      "                        <projects>\n",
      "  -A, --all-ancestors   show all ancestors off all classes in <projects>\n",
      "  -s <ass_level>, --show-associated=<ass_level>\n",
      "                        show <ass_level> levels of associated classes not in\n",
      "                        <projects>\n",
      "  -S, --all-associated  show recursively all associated off all associated\n",
      "                        classes\n",
      "  -b, --show-builtin    include builtin objects in representation of classes\n",
      "  -m [yn], --module-names=[yn]\n",
      "                        include module name in representation of classes\n",
      "  -k, --only-classnames\n",
      "                        don't show attributes and methods in the class boxes;\n",
      "                        this disables -f values\n",
      "  -o <format>, --output=<format>\n",
      "                        create a *.<format> output file if format available.\n",
      "                        [current: dot]\n",
      "  --ignore=<file>       add <file> (may be a directory) to the black list. It\n",
      "                        should be a base name, not a path. You may set this\n",
      "                        option multiple times. [current: CVS]\n",
      "  -p <project name>, --project=<project name>\n",
      "                        set the project name. [current: No Name]\n"
     ]
    }
   ],
   "source": [
    "!pyreverse --help"
   ]
  },
  {
   "cell_type": "code",
   "execution_count": 18,
   "metadata": {
    "collapsed": false
   },
   "outputs": [
    {
     "name": "stdout",
     "output_type": "stream",
     "text": [
      "parsing e:\\miniconda3\\lib\\site-packages\\jupyter_core\\command.py...\n"
     ]
    }
   ],
   "source": [
    "!pyreverse jupyter_core.command -p jupyter_core.command"
   ]
  },
  {
   "cell_type": "code",
   "execution_count": 20,
   "metadata": {
    "collapsed": false
   },
   "outputs": [
    {
     "name": "stdout",
     "output_type": "stream",
     "text": [
      "classes_jupyter_core.command.dot\n"
     ]
    }
   ],
   "source": [
    "!ls *.dot"
   ]
  },
  {
   "cell_type": "code",
   "execution_count": 23,
   "metadata": {
    "collapsed": true
   },
   "outputs": [],
   "source": [
    "!dot -Tpng classes_jupyter_core.command.dot -o classes_jupyter_core.command.png"
   ]
  },
  {
   "cell_type": "code",
   "execution_count": 24,
   "metadata": {
    "collapsed": false
   },
   "outputs": [
    {
     "name": "stdout",
     "output_type": "stream",
     "text": [
      "classes_jupyter_core.command.dot\n",
      "classes_jupyter_core.command.png\n"
     ]
    }
   ],
   "source": [
    "!ls classes_jupyter_core.command.*"
   ]
  },
  {
   "cell_type": "markdown",
   "metadata": {},
   "source": [
    "![](classes_jupyter_core.command.png)"
   ]
  },
  {
   "cell_type": "code",
   "execution_count": 25,
   "metadata": {
    "collapsed": true
   },
   "outputs": [],
   "source": [
    "import jupyter_core.command as jupyter_core_command"
   ]
  },
  {
   "cell_type": "code",
   "execution_count": 32,
   "metadata": {
    "collapsed": false
   },
   "outputs": [
    {
     "data": {
      "text/plain": [
       "'Available subcommands: console kernelspec migrate nbconvert nbextension notebook qtconsole script serverextension troubleshoot trust'"
      ]
     },
     "execution_count": 32,
     "metadata": {},
     "output_type": "execute_result"
    }
   ],
   "source": [
    "jupyter_core_command.JupyterParser().epilog"
   ]
  }
 ],
 "metadata": {
  "kernelspec": {
   "display_name": "Python 3",
   "language": "python",
   "name": "python3"
  },
  "language_info": {
   "codemirror_mode": {
    "name": "ipython",
    "version": 3
   },
   "file_extension": ".py",
   "mimetype": "text/x-python",
   "name": "python",
   "nbconvert_exporter": "python",
   "pygments_lexer": "ipython3",
   "version": "3.5.1"
  }
 },
 "nbformat": 4,
 "nbformat_minor": 2
}
