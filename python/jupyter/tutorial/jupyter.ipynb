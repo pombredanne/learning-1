{
 "cells": [
  {
   "cell_type": "markdown",
   "metadata": {},
   "source": [
    "# Jupyter"
   ]
  },
  {
   "cell_type": "code",
   "execution_count": 33,
   "metadata": {
    "collapsed": false,
    "scrolled": false
   },
   "outputs": [
    {
     "name": "stdout",
     "output_type": "stream",
     "text": [
      "usage: jupyter-script.py [-h] [--version] [--config-dir] [--data-dir]\n",
      "                         [--runtime-dir] [--paths] [--json]\n",
      "                         [subcommand]\n",
      "\n",
      "Jupyter: Interactive Computing\n",
      "\n",
      "positional arguments:\n",
      "  subcommand     the subcommand to launch\n",
      "\n",
      "optional arguments:\n",
      "  -h, --help     show this help message and exit\n",
      "  --version      show the jupyter command's version and exit\n",
      "  --config-dir   show Jupyter config dir\n",
      "  --data-dir     show Jupyter data dir\n",
      "  --runtime-dir  show Jupyter runtime dir\n",
      "  --paths        show all Jupyter paths. Add --json for machine-readable\n",
      "                 format.\n",
      "  --json         output paths as machine-readable json\n",
      "\n",
      "Available subcommands: console kernelspec migrate nbconvert nbextension\n",
      "notebook qtconsole script serverextension troubleshoot trust\n"
     ]
    }
   ],
   "source": [
    "!jupyter --help"
   ]
  },
  {
   "cell_type": "code",
   "execution_count": 9,
   "metadata": {
    "collapsed": false
   },
   "outputs": [
    {
     "name": "stdout",
     "output_type": "stream",
     "text": [
      "config:\n",
      "    C:\\Users\\satish goda\\.jupyter\n",
      "    E:\\Miniconda3\\etc\\jupyter\n",
      "    C:\\ProgramData\\jupyter\n",
      "data:\n",
      "    C:\\Users\\satish goda\\AppData\\Roaming\\jupyter\n",
      "    E:\\Miniconda3\\share\\jupyter\n",
      "    C:\\ProgramData\\jupyter\n",
      "runtime:\n",
      "    C:\\Users\\satish goda\\AppData\\Roaming\\jupyter\\runtime\n"
     ]
    }
   ],
   "source": [
    "!jupyter --paths"
   ]
  },
  {
   "cell_type": "code",
   "execution_count": 10,
   "metadata": {
    "collapsed": false
   },
   "outputs": [
    {
     "name": "stdout",
     "output_type": "stream",
     "text": [
      "{\"data\": [\"C:\\\\Users\\\\satish goda\\\\AppData\\\\Roaming\\\\jupyter\", \"E:\\\\Miniconda3\\\\share\\\\jupyter\", \"C:\\\\ProgramData\\\\jupyter\"], \"runtime\": [\"C:\\\\Users\\\\satish goda\\\\AppData\\\\Roaming\\\\jupyter\\\\runtime\"], \"config\": [\"C:\\\\Users\\\\satish goda\\\\.jupyter\", \"E:\\\\Miniconda3\\\\etc\\\\jupyter\", \"C:\\\\ProgramData\\\\jupyter\"]}\n"
     ]
    }
   ],
   "source": [
    "!jupyter --paths --json"
   ]
  },
  {
   "cell_type": "markdown",
   "metadata": {},
   "source": [
    "Let us pass a subcommand to jupyter. I am gonna take a wild guess here.."
   ]
  },
  {
   "cell_type": "code",
   "execution_count": 12,
   "metadata": {
    "collapsed": false
   },
   "outputs": [
    {
     "name": "stderr",
     "output_type": "stream",
     "text": [
      "Traceback (most recent call last):\n",
      "  File \"E:\\Miniconda3\\Scripts\\jupyter-script.py\", line 5, in <module>\n",
      "    sys.exit(jupyter_core.command.main())\n",
      "  File \"E:\\Miniconda3\\lib\\site-packages\\jupyter_core\\command.py\", line 186, in main\n",
      "    _execvp(command, sys.argv[1:])\n",
      "  File \"E:\\Miniconda3\\lib\\site-packages\\jupyter_core\\command.py\", line 104, in _execvp\n",
      "    raise OSError('%r not found' % cmd, errno.ENOENT)\n",
      "OSError: [Errno 'jupyter-wtf' not found] 2\n"
     ]
    }
   ],
   "source": [
    "!jupyter wtf"
   ]
  },
  {
   "cell_type": "markdown",
   "metadata": {},
   "source": [
    "Oh well! Quite expected."
   ]
  },
  {
   "cell_type": "markdown",
   "metadata": {},
   "source": [
    "So how can i find the sub commands that I can pass to the jupyter command?\n",
    "\n",
    "YES! pyreverse to the rescue!!"
   ]
  },
  {
   "cell_type": "code",
   "execution_count": 14,
   "metadata": {
    "collapsed": true
   },
   "outputs": [
    {
     "name": "stdout",
     "output_type": "stream",
     "text": [
      "Usage: \n",
      "  pyreverse [options] <packages>\n",
      "\n",
      "  create UML diagrams for classes and modules in <packages>\n",
      "\n",
      "\n",
      "Options:\n",
      "  -h, --help            show this help message and exit\n",
      "  -f <mode>, --filter-mode=<mode>\n",
      "                        filter attributes and functions according to\n",
      "                        <mode>. Correct modes are :\n",
      "                        'PUB_ONLY' filter all non public attributes\n",
      "                        [DEFAULT], equivalent to PRIVATE+SPECIAL_A\n",
      "                        'ALL' no filter                             'SPECIAL'\n",
      "                        filter Python special functions\n",
      "                        except constructor                             'OTHER'\n",
      "                        filter protected and private\n",
      "                        attributes [current: PUB_ONLY]\n",
      "  -c <class>, --class=<class>\n",
      "                        create a class diagram with all classes related to\n",
      "                        <class>; this uses by default the options -ASmy\n",
      "                        [current: none]\n",
      "  -a <ancestor>, --show-ancestors=<ancestor>\n",
      "                        show <ancestor> generations of ancestor classes not in\n",
      "                        <projects>\n",
      "  -A, --all-ancestors   show all ancestors off all classes in <projects>\n",
      "  -s <ass_level>, --show-associated=<ass_level>\n",
      "                        show <ass_level> levels of associated classes not in\n",
      "                        <projects>\n",
      "  -S, --all-associated  show recursively all associated off all associated\n",
      "                        classes\n",
      "  -b, --show-builtin    include builtin objects in representation of classes\n",
      "  -m [yn], --module-names=[yn]\n",
      "                        include module name in representation of classes\n",
      "  -k, --only-classnames\n",
      "                        don't show attributes and methods in the class boxes;\n",
      "                        this disables -f values\n",
      "  -o <format>, --output=<format>\n",
      "                        create a *.<format> output file if format available.\n",
      "                        [current: dot]\n",
      "  --ignore=<file>       add <file> (may be a directory) to the black list. It\n",
      "                        should be a base name, not a path. You may set this\n",
      "                        option multiple times. [current: CVS]\n",
      "  -p <project name>, --project=<project name>\n",
      "                        set the project name. [current: No Name]\n"
     ]
    }
   ],
   "source": [
    "!pyreverse --help"
   ]
  },
  {
   "cell_type": "code",
   "execution_count": 18,
   "metadata": {
    "collapsed": false
   },
   "outputs": [
    {
     "name": "stdout",
     "output_type": "stream",
     "text": [
      "parsing e:\\miniconda3\\lib\\site-packages\\jupyter_core\\command.py...\n"
     ]
    }
   ],
   "source": [
    "!pyreverse jupyter_core.command -p jupyter_core.command"
   ]
  },
  {
   "cell_type": "code",
   "execution_count": 20,
   "metadata": {
    "collapsed": false
   },
   "outputs": [
    {
     "name": "stdout",
     "output_type": "stream",
     "text": [
      "classes_jupyter_core.command.dot\n"
     ]
    }
   ],
   "source": [
    "!ls *.dot"
   ]
  },
  {
   "cell_type": "code",
   "execution_count": null,
   "metadata": {
    "collapsed": true
   },
   "outputs": [],
   "source": [
    "# %load classes_jupyter_core.command.dot\n",
    "digraph \"classes_jupyter_core.command\" {\n",
    "charset=\"utf-8\"\n",
    "rankdir=BT\n",
    "\"0\" [label=\"{JupyterParser|epilog\\l|}\", shape=\"record\"];\n",
    "}\n"
   ]
  },
  {
   "cell_type": "markdown",
   "metadata": {},
   "source": [
    "I can now use GraphViz dot to convert to a png!"
   ]
  },
  {
   "cell_type": "code",
   "execution_count": 23,
   "metadata": {
    "collapsed": true
   },
   "outputs": [],
   "source": [
    "!dot -Tpng classes_jupyter_core.command.dot -o classes_jupyter_core.command.png"
   ]
  },
  {
   "cell_type": "code",
   "execution_count": 24,
   "metadata": {
    "collapsed": false
   },
   "outputs": [
    {
     "name": "stdout",
     "output_type": "stream",
     "text": [
      "classes_jupyter_core.command.dot\n",
      "classes_jupyter_core.command.png\n"
     ]
    }
   ],
   "source": [
    "!ls classes_jupyter_core.command.*"
   ]
  },
  {
   "cell_type": "markdown",
   "metadata": {},
   "source": [
    "Let us now embed the image.\n",
    "    \n",
    "    ![](classes_jupyter_core.command.png)\n",
    "    \n",
    "![](classes_jupyter_core.command.png)"
   ]
  },
  {
   "cell_type": "code",
   "execution_count": 25,
   "metadata": {
    "collapsed": true
   },
   "outputs": [],
   "source": [
    "import jupyter_core.command as jupyter_core_command"
   ]
  },
  {
   "cell_type": "code",
   "execution_count": 32,
   "metadata": {
    "collapsed": false
   },
   "outputs": [
    {
     "data": {
      "text/plain": [
       "'Available subcommands: console kernelspec migrate nbconvert nbextension notebook qtconsole script serverextension troubleshoot trust'"
      ]
     },
     "execution_count": 32,
     "metadata": {},
     "output_type": "execute_result"
    }
   ],
   "source": [
    "jupyter_core_command.JupyterParser().epilog"
   ]
  },
  {
   "cell_type": "markdown",
   "metadata": {},
   "source": [
    "Ah! Now that we know all the subcommands supported by jupyter, we can start reading their help!"
   ]
  },
  {
   "cell_type": "code",
   "execution_count": 34,
   "metadata": {
    "collapsed": true
   },
   "outputs": [
    {
     "name": "stdout",
     "output_type": "stream",
     "text": [
      "The Jupyter terminal-based Console.\n",
      "\n",
      "This launches a Console application inside a terminal.\n",
      "\n",
      "The Console supports various extra features beyond the traditional single-\n",
      "process Terminal IPython shell, such as connecting to an existing ipython\n",
      "session, via:\n",
      "\n",
      "    jupyter console --existing\n",
      "\n",
      "where the previous session could have been created by another ipython console,\n",
      "an ipython qtconsole, or by opening an ipython notebook.\n",
      "\n",
      "Options\n",
      "\n",
      "-------\n",
      "\n",
      "\n",
      "\n",
      "Arguments that take values are actually convenience aliases to full\n",
      "Configurables, whose aliases are listed on the help line. For more information\n",
      "on full configurables, see '--help-all'.\n",
      "\n",
      "\n",
      "--debug\n",
      "\n",
      "    set log level to logging.DEBUG (maximize logging output)\n",
      "\n",
      "--confirm-exit\n",
      "\n",
      "    Set to display confirmation dialog on exit. You can always use 'exit' or\n",
      "    'quit', to force a direct exit without any confirmation. This can also\n",
      "    be set in the config file by setting\n",
      "    `c.JupyterConsoleApp.confirm_exit`.\n",
      "\n",
      "-y\n",
      "\n",
      "    Answer yes to any questions instead of prompting.\n",
      "\n",
      "--existing\n",
      "\n",
      "    Connect to an existing kernel. If no argument specified, guess most recent\n",
      "\n",
      "--no-confirm-exit\n",
      "\n",
      "    Don't prompt the user when exiting. This will terminate the kernel\n",
      "    if it is owned by the frontend, and leave it alive if it is external.\n",
      "    This can also be set in the config file by setting\n",
      "    `c.JupyterConsoleApp.confirm_exit`.\n",
      "\n",
      "--generate-config\n",
      "\n",
      "    generate default config file\n",
      "--ssh=<Unicode> (JupyterConsoleApp.sshserver)\n",
      "\n",
      "    Default: ''\n",
      "\n",
      "    The SSH server to use to connect to the kernel.\n",
      "\n",
      "--config=<Unicode> (JupyterApp.config_file)\n",
      "\n",
      "    Default: ''\n",
      "\n",
      "    Full path of a config file.\n",
      "\n",
      "--existing=<CUnicode> (JupyterConsoleApp.existing)\n",
      "\n",
      "    Default: ''\n",
      "\n",
      "    Connect to an already running kernel\n",
      "\n",
      "--log-level=<Enum> (Application.log_level)\n",
      "\n",
      "    Default: 30\n",
      "\n",
      "    Choices: (0, 10, 20, 30, 40, 50, 'DEBUG', 'INFO', 'WARN', 'ERROR', 'CRITICAL')\n",
      "\n",
      "    Set the log level by value or name.\n",
      "\n",
      "-f <Unicode> (JupyterConsoleApp.connection_file)\n",
      "\n",
      "    Default: ''\n",
      "\n",
      "    JSON file in which to store connection info [default: kernel-<pid>.json]\n",
      "\n",
      "    This file will contain the IP, ports, and authentication key needed to\n",
      "\n",
      "    connect clients to this kernel. By default, this file will be created in the\n",
      "\n",
      "    security dir of the current profile, but can be specified by absolute path.\n",
      "\n",
      "--transport=<CaselessStrEnum> (JupyterConsoleApp.transport)\n",
      "\n",
      "    Default: 'tcp'\n",
      "\n",
      "    Choices: ['tcp', 'ipc']\n",
      "\n",
      "--hb=<Int> (JupyterConsoleApp.hb_port)\n",
      "\n",
      "    Default: 0\n",
      "\n",
      "    set the heartbeat port [default: random]\n",
      "\n",
      "--ip=<Unicode> (JupyterConsoleApp.ip)\n",
      "\n",
      "    Default: ''\n",
      "\n",
      "    Set the kernel's IP address [default localhost]. If the IP address is\n",
      "\n",
      "    something other than localhost, then Consoles on other machines will be able\n",
      "\n",
      "    to connect to the Kernel, so be careful!\n",
      "\n",
      "--shell=<Int> (JupyterConsoleApp.shell_port)\n",
      "\n",
      "    Default: 0\n",
      "\n",
      "    set the shell (ROUTER) port [default: random]\n",
      "\n",
      "--kernel=<Unicode> (JupyterConsoleApp.kernel_name)\n",
      "\n",
      "    Default: 'python'\n",
      "\n",
      "    The name of the default kernel to start.\n",
      "\n",
      "--iopub=<Int> (JupyterConsoleApp.iopub_port)\n",
      "\n",
      "    Default: 0\n",
      "\n",
      "    set the iopub (PUB) port [default: random]\n",
      "\n",
      "--stdin=<Int> (JupyterConsoleApp.stdin_port)\n",
      "\n",
      "    Default: 0\n",
      "\n",
      "    set the stdin (ROUTER) port [default: random]\n",
      "\n",
      "To see all available configurables, use `--help-all`\n",
      "\n",
      "Examples\n",
      "--------\n",
      "\n",
      "    jupyter console # start the ZMQ-based console\n",
      "    jupyter console --existing # connect to an existing ipython session\n",
      "\n"
     ]
    }
   ],
   "source": [
    "!jupyter console --help"
   ]
  },
  {
   "cell_type": "code",
   "execution_count": 37,
   "metadata": {
    "collapsed": true
   },
   "outputs": [
    {
     "name": "stdout",
     "output_type": "stream",
     "text": [
      "Manage Jupyter kernel specifications.\n",
      "\n",
      "Subcommands\n",
      "\n",
      "-----------\n",
      "\n",
      "\n",
      "\n",
      "Subcommands are launched as `jupyter kernelspec cmd [args]`. For information on\n",
      "using subcommand 'cmd', do: `jupyter kernelspec cmd -h`.\n",
      "\n",
      "\n",
      "\n",
      "list\n",
      "\n",
      "    List installed kernel specifications.\n",
      "\n",
      "install\n",
      "\n",
      "    Install a kernel specification directory.\n",
      "\n",
      "remove\n",
      "\n",
      "    Remove one or more Jupyter kernelspecs by name.\n",
      "\n",
      "install-self\n",
      "\n",
      "    [DEPRECATED] Install the IPython kernel spec directory for this Python.\n",
      "\n",
      "uninstall\n",
      "\n",
      "    Alias for remove\n",
      "\n",
      "\n",
      "Class parameters\n",
      "----------------\n",
      "\n",
      "Parameters are set from command-line arguments of the form:\n",
      "`--Class.trait=value`. This line is evaluated in Python, so simple expressions\n",
      "are allowed, e.g.:: `--C.a='range(3)'` For setting C.a=[0,1,2].\n",
      "\n",
      "KernelSpecApp options\n",
      "---------------------\n",
      "--KernelSpecApp.log_datefmt=<Unicode>\n",
      "    Default: '%Y-%m-%d %H:%M:%S'\n",
      "    The date format used by logging formatters for %(asctime)s\n",
      "--KernelSpecApp.log_format=<Unicode>\n",
      "    Default: '[%(name)s]%(highlevel)s %(message)s'\n",
      "    The Logging format template\n",
      "--KernelSpecApp.log_level=<Enum>\n",
      "    Default: 30\n",
      "    Choices: (0, 10, 20, 30, 40, 50, 'DEBUG', 'INFO', 'WARN', 'ERROR', 'CRITICAL')\n",
      "    Set the log level by value or name.\n",
      "\n"
     ]
    }
   ],
   "source": [
    "!jupyter kernelspec --help-all"
   ]
  },
  {
   "cell_type": "code",
   "execution_count": 38,
   "metadata": {
    "collapsed": false
   },
   "outputs": [
    {
     "name": "stdout",
     "output_type": "stream",
     "text": [
      "Available kernels:\n",
      "  python3    E:\\Miniconda3\\lib\\site-packages\\ipykernel\\resources\n"
     ]
    }
   ],
   "source": [
    "!jupyter kernelspec list "
   ]
  },
  {
   "cell_type": "code",
   "execution_count": 40,
   "metadata": {
    "collapsed": false
   },
   "outputs": [
    {
     "name": "stderr",
     "output_type": "stream",
     "text": [
      "Traceback (most recent call last):\n",
      "  File \"E:\\Miniconda3\\Scripts\\jupyter-script.py\", line 5, in <module>\n",
      "    sys.exit(jupyter_core.command.main())\n",
      "  File \"E:\\Miniconda3\\lib\\site-packages\\jupyter_core\\command.py\", line 186, in main\n",
      "    _execvp(command, sys.argv[1:])\n",
      "  File \"E:\\Miniconda3\\lib\\site-packages\\jupyter_core\\command.py\", line 104, in _execvp\n",
      "    raise OSError('%r not found' % cmd, errno.ENOENT)\n",
      "OSError: [Errno 'jupyter-script' not found] 2\n"
     ]
    }
   ],
   "source": [
    "!jupyter script --help-all"
   ]
  },
  {
   "cell_type": "code",
   "execution_count": 41,
   "metadata": {
    "collapsed": false
   },
   "outputs": [
    {
     "name": "stderr",
     "output_type": "stream",
     "text": [
      "Traceback (most recent call last):\n",
      "  File \"E:\\Miniconda3\\Scripts\\jupyter-kernelspec-script.py\", line 7, in <module>\n",
      "    main()\n",
      "  File \"E:\\Miniconda3\\Scripts\\jupyter-kernelspec-script.py\", line 4, in main\n",
      "    KernelSpecApp.launch_instance()\n",
      "  File \"E:\\Miniconda3\\lib\\site-packages\\traitlets\\config\\application.py\", line 658, in launch_instance\n",
      "    app.start()\n",
      "  File \"E:\\Miniconda3\\lib\\site-packages\\jupyter_client\\kernelspecapp.py\", line 273, in start\n",
      "    return self.subapp.start()\n",
      "  File \"E:\\Miniconda3\\lib\\site-packages\\jupyter_client\\kernelspecapp.py\", line 143, in start\n",
      "    replace=self.replace,\n",
      "  File \"E:\\Miniconda3\\lib\\site-packages\\jupyter_client\\kernelspec.py\", line 269, in install_kernel_spec\n",
      "    shutil.copytree(source_dir, destination)\n",
      "  File \"E:\\Miniconda3\\lib\\shutil.py\", line 303, in copytree\n",
      "    names = os.listdir(src)\n",
      "FileNotFoundError: [WinError 3] The system cannot find the path specified: 'script'\n"
     ]
    }
   ],
   "source": [
    "!jupyter kernelspec install script"
   ]
  }
 ],
 "metadata": {
  "kernelspec": {
   "display_name": "Python 3",
   "language": "python",
   "name": "python3"
  },
  "language_info": {
   "codemirror_mode": {
    "name": "ipython",
    "version": 3
   },
   "file_extension": ".py",
   "mimetype": "text/x-python",
   "name": "python",
   "nbconvert_exporter": "python",
   "pygments_lexer": "ipython3",
   "version": "3.5.1"
  }
 },
 "nbformat": 4,
 "nbformat_minor": 2
}
