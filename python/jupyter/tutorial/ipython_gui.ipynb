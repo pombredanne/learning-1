{
 "cells": [
  {
   "cell_type": "markdown",
   "metadata": {
    "slideshow": {
     "slide_type": "slide"
    }
   },
   "source": [
    "# GUI creation and interaction in IPython"
   ]
  },
  {
   "cell_type": "markdown",
   "metadata": {
    "slideshow": {
     "slide_type": "fragment"
    }
   },
   "source": [
    "![](ipython_gui.png)"
   ]
  },
  {
   "cell_type": "code",
   "execution_count": null,
   "metadata": {
    "collapsed": true,
    "slideshow": {
     "slide_type": "slide"
    }
   },
   "outputs": [],
   "source": [
    "%gui"
   ]
  },
  {
   "cell_type": "code",
   "execution_count": 1,
   "metadata": {
    "collapsed": true,
    "slideshow": {
     "slide_type": "slide"
    }
   },
   "outputs": [],
   "source": [
    "from PyQt5 import QtWidgets"
   ]
  },
  {
   "cell_type": "code",
   "execution_count": null,
   "metadata": {
    "collapsed": true,
    "slideshow": {
     "slide_type": "fragment"
    }
   },
   "outputs": [],
   "source": [
    "b1 = QtWidgets.QPushButton(\"Click Me\")"
   ]
  },
  {
   "cell_type": "markdown",
   "metadata": {
    "slideshow": {
     "slide_type": "fragment"
    }
   },
   "source": [
    "A pop up will appear saying \n",
    "\n",
    "    The kernel appears to have died and will restart automatically\n",
    "\n",
    "In the terminal, you can also see the following message\n",
    "\n",
    "    QWidget: Must construct a QApplication before a QWidget\n",
    "    [I 11:26:36.051 NotebookApp] KernelRestarter: restarting kernel (1/5)\n",
    "    WARNING:root:kernel 08b46e93-bcf2-49ce-af69-0979e879b7e2 restarted"
   ]
  },
  {
   "cell_type": "code",
   "execution_count": 1,
   "metadata": {
    "collapsed": true,
    "slideshow": {
     "slide_type": "fragment"
    }
   },
   "outputs": [],
   "source": [
    "%gui qt5"
   ]
  },
  {
   "cell_type": "code",
   "execution_count": 2,
   "metadata": {
    "collapsed": true,
    "slideshow": {
     "slide_type": "slide"
    }
   },
   "outputs": [],
   "source": [
    "from PyQt5 import QtWidgets"
   ]
  },
  {
   "cell_type": "code",
   "execution_count": 3,
   "metadata": {
    "collapsed": false,
    "slideshow": {
     "slide_type": "fragment"
    }
   },
   "outputs": [],
   "source": [
    "b1 = QtWidgets.QPushButton(\"Click Me\")"
   ]
  },
  {
   "cell_type": "code",
   "execution_count": 4,
   "metadata": {
    "collapsed": false,
    "slideshow": {
     "slide_type": "fragment"
    }
   },
   "outputs": [],
   "source": [
    "b1.show()"
   ]
  },
  {
   "cell_type": "markdown",
   "metadata": {
    "slideshow": {
     "slide_type": "fragment"
    }
   },
   "source": [
    "![QtWidgets.QPushButton](ipython_gui_button.png)"
   ]
  },
  {
   "cell_type": "code",
   "execution_count": 5,
   "metadata": {
    "collapsed": true,
    "slideshow": {
     "slide_type": "slide"
    }
   },
   "outputs": [],
   "source": [
    "def on_click_cb():\n",
    "    print(\"Clicked\")"
   ]
  },
  {
   "cell_type": "code",
   "execution_count": 6,
   "metadata": {
    "collapsed": false,
    "slideshow": {
     "slide_type": "fragment"
    }
   },
   "outputs": [
    {
     "name": "stdout",
     "output_type": "stream",
     "text": [
      "Clicked\n",
      "Clicked\n",
      "Clicked\n"
     ]
    }
   ],
   "source": [
    "b1.clicked.connect(on_click_cb)"
   ]
  },
  {
   "cell_type": "markdown",
   "metadata": {
    "slideshow": {
     "slide_type": "fragment"
    }
   },
   "source": [
    "Now, if you click the button, the callback will be called. \n",
    "\n",
    "And since Jupyter Notebook is awesome the output will be displayed in the cell's output area (Look at the output area for the previous cell!)"
   ]
  },
  {
   "cell_type": "markdown",
   "metadata": {
    "slideshow": {
     "slide_type": "slide"
    }
   },
   "source": [
    "# Automatic-connection-using-a-new-Qt-Console\n",
    "\n",
    "* [IPython's Frontend Kernel Model](http://nbviewer.jupyter.org/github/ipython/ipython/blob/1.x/examples/notebooks/Frontend-Kernel%20Model.ipynb#Automatic-connection-using-a-new-Qt-Console)"
   ]
  },
  {
   "cell_type": "code",
   "execution_count": 1,
   "metadata": {
    "collapsed": false
   },
   "outputs": [
    {
     "name": "stdout",
     "output_type": "stream",
     "text": [
      "{\n",
      "  \"shell_port\": 50340,\n",
      "  \"iopub_port\": 50341,\n",
      "  \"control_port\": 50343,\n",
      "  \"hb_port\": 50344,\n",
      "  \"ip\": \"127.0.0.1\",\n",
      "  \"kernel_name\": \"\",\n",
      "  \"signature_scheme\": \"hmac-sha256\",\n",
      "  \"key\": \"d651e3f1-e8f8-4994-a612-d733e87807b3\",\n",
      "  \"stdin_port\": 50342,\n",
      "  \"transport\": \"tcp\"\n",
      "}\n",
      "\n",
      "Paste the above JSON into a file, and connect with:\n",
      "    $> jupyter <app> --existing <file>\n",
      "or, if you are local, you can connect with just:\n",
      "    $> jupyter <app> --existing kernel-ffc6c842-3184-43af-a538-6b0c85ee0594.json\n",
      "or even just:\n",
      "    $> jupyter <app> --existing\n",
      "if this is the most recent Jupyter kernel you have started.\n"
     ]
    }
   ],
   "source": [
    "%connect_info"
   ]
  },
  {
   "cell_type": "code",
   "execution_count": 2,
   "metadata": {
    "collapsed": false
   },
   "outputs": [
    {
     "name": "stderr",
     "output_type": "stream",
     "text": [
      "Traceback (most recent call last):\n",
      "  File \"E:\\Miniconda3\\Scripts\\jupyter-script.py\", line 5, in <module>\n",
      "    sys.exit(jupyter_core.command.main())\n",
      "  File \"E:\\Miniconda3\\lib\\site-packages\\jupyter_core\\command.py\", line 186, in main\n",
      "    _execvp(command, sys.argv[1:])\n",
      "  File \"E:\\Miniconda3\\lib\\site-packages\\jupyter_core\\command.py\", line 104, in _execvp\n",
      "    raise OSError('%r not found' % cmd, errno.ENOENT)\n",
      "OSError: [Errno 'jupyter-kernel' not found] 2\n"
     ]
    }
   ],
   "source": [
    "!jupyter kernel list"
   ]
  },
  {
   "cell_type": "code",
   "execution_count": 7,
   "metadata": {
    "collapsed": true,
    "slideshow": {
     "slide_type": "slide"
    }
   },
   "outputs": [],
   "source": [
    "%qtconsole"
   ]
  },
  {
   "cell_type": "markdown",
   "metadata": {
    "slideshow": {
     "slide_type": "fragment"
    }
   },
   "source": [
    "Now the Jupyter QtConsole will be started by connecting to the ipython kernel that is already running.\n",
    "\n",
    "You do not believe it?\n",
    "\n",
    "Well just type the magic **%whos** to see the truth.\n",
    "\n",
    "You can redisplay the button now!!"
   ]
  },
  {
   "cell_type": "markdown",
   "metadata": {
    "slideshow": {
     "slide_type": "slide"
    }
   },
   "source": [
    "![](ipython_gui_notebook_qtconsole.png)"
   ]
  },
  {
   "cell_type": "markdown",
   "metadata": {
    "collapsed": true,
    "slideshow": {
     "slide_type": "slide"
    }
   },
   "source": [
    "I prefer continuing to work in the notebook, so I will close the button and also the QtConsole.\n",
    "\n",
    "**Pay close attention to the message in the dialog box.**"
   ]
  },
  {
   "cell_type": "markdown",
   "metadata": {
    "slideshow": {
     "slide_type": "fragment"
    }
   },
   "source": [
    "![](ipython_gui_notebook_qtconsole_2.png)"
   ]
  },
  {
   "cell_type": "markdown",
   "metadata": {
    "slideshow": {
     "slide_type": "slide"
    }
   },
   "source": [
    "Back in the Notebook turf, you can redisplay the button and continue clicking."
   ]
  },
  {
   "cell_type": "code",
   "execution_count": 10,
   "metadata": {
    "collapsed": false,
    "slideshow": {
     "slide_type": "fragment"
    }
   },
   "outputs": [
    {
     "name": "stdout",
     "output_type": "stream",
     "text": [
      "Clicked\n",
      "Clicked\n",
      "Clicked\n"
     ]
    }
   ],
   "source": [
    "b1.show()"
   ]
  }
 ],
 "metadata": {
  "celltoolbar": "Slideshow",
  "kernelspec": {
   "display_name": "Python 3",
   "language": "python",
   "name": "python3"
  },
  "language_info": {
   "codemirror_mode": {
    "name": "ipython",
    "version": 3
   },
   "file_extension": ".py",
   "mimetype": "text/x-python",
   "name": "python",
   "nbconvert_exporter": "python",
   "pygments_lexer": "ipython3",
   "version": "3.5.1"
  }
 },
 "nbformat": 4,
 "nbformat_minor": 2
}
