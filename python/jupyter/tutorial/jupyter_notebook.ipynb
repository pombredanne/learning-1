{
 "cells": [
  {
   "cell_type": "markdown",
   "metadata": {},
   "source": [
    "# About\n",
    "\n",
    "This Jupyter notebook demonstrates the features of the Notebook!!\n",
    "\n",
    "http://jupyter-notebook.readthedocs.io"
   ]
  },
  {
   "cell_type": "code",
   "execution_count": null,
   "metadata": {
    "collapsed": true
   },
   "outputs": [],
   "source": [
    "from IPython.display import FileLink, FileLinks"
   ]
  },
  {
   "cell_type": "markdown",
   "metadata": {},
   "source": [
    "# Notebook Format"
   ]
  },
  {
   "cell_type": "markdown",
   "metadata": {},
   "source": [
    "* JSON"
   ]
  },
  {
   "cell_type": "markdown",
   "metadata": {},
   "source": [
    "# Viewing Notebooks\n",
    "\n",
    "* http://nbviewer.jupyter.org\n",
    "\n",
    "* Github supports preliminary viewing of **ipynb** files."
   ]
  },
  {
   "cell_type": "markdown",
   "metadata": {},
   "source": [
    "# Converting Notebooks\n",
    "\n",
    "    jupyter-nbconvert.exe --to slides ipython_gui.ipynb --reveal=reveal.js --post serve"
   ]
  },
  {
   "cell_type": "markdown",
   "metadata": {},
   "source": [
    "# Shell commands"
   ]
  },
  {
   "cell_type": "code",
   "execution_count": 12,
   "metadata": {
    "collapsed": false
   },
   "outputs": [
    {
     "name": "stdout",
     "output_type": "stream",
     "text": [
      "ipython_gui.png\n",
      "ipython_gui_button.png\n",
      "ipython_gui_notebook_qtconsole.png\n",
      "ipython_gui_notebook_qtconsole_2.png\n"
     ]
    }
   ],
   "source": [
    "!ls -1rt *.png"
   ]
  },
  {
   "cell_type": "markdown",
   "metadata": {},
   "source": [
    "## Tab completion\n",
    "\n",
    "* Can be accessed by pressing the TAB key (In a code cell)\n"
   ]
  },
  {
   "cell_type": "markdown",
   "metadata": {},
   "source": [
    "# Loading Images"
   ]
  },
  {
   "cell_type": "markdown",
   "metadata": {},
   "source": [
    "## Python"
   ]
  },
  {
   "cell_type": "code",
   "execution_count": null,
   "metadata": {
    "collapsed": false
   },
   "outputs": [],
   "source": [
    "from IPython.display import Image\n",
    "Image(\"jupyter_notebook_login.png\")"
   ]
  },
  {
   "cell_type": "markdown",
   "metadata": {},
   "source": [
    "## Loading a bunch of images from the current directory\n",
    "\n",
    "Note: The following example assumes that that [path.py](https://pypi.python.org/pypi/path.py) module is installed"
   ]
  },
  {
   "cell_type": "code",
   "execution_count": 11,
   "metadata": {
    "collapsed": false,
    "deletable": true,
    "editable": true
   },
   "outputs": [
    {
     "name": "stdout",
     "output_type": "stream",
     "text": [
      "F:\\src\\learning\\python\\jupyter\\tutorial\\ipython_gui.png\n",
      "<IPython.core.display.Image object>\n",
      "\n",
      "\n",
      "F:\\src\\learning\\python\\jupyter\\tutorial\\ipython_gui_button.png\n",
      "<IPython.core.display.Image object>\n",
      "\n",
      "\n",
      "F:\\src\\learning\\python\\jupyter\\tutorial\\ipython_gui_notebook_qtconsole.png\n",
      "<IPython.core.display.Image object>\n",
      "\n",
      "\n",
      "F:\\src\\learning\\python\\jupyter\\tutorial\\ipython_gui_notebook_qtconsole_2.png\n",
      "<IPython.core.display.Image object>\n",
      "\n",
      "\n"
     ]
    }
   ],
   "source": [
    "from IPython.display import Image, display\n",
    "import path\n",
    "\n",
    "\n",
    "cwd = path.getcwdu()\n",
    "\n",
    "cwdpath = path.Path(cwd)\n",
    "\n",
    "for pngfile in sorted(cwdpath.listdir(\"*.png\")):\n",
    "    print(pngfile)\n",
    "    print(Image(pngfile))\n",
    "    #display(Image(pngfile))\n",
    "    print(\"\\n\")"
   ]
  },
  {
   "cell_type": "markdown",
   "metadata": {},
   "source": [
    "## Markdown"
   ]
  },
  {
   "cell_type": "markdown",
   "metadata": {
    "deletable": true,
    "editable": true
   },
   "source": [
    "The following markdown syntax can be used to embed an image\n",
    "\n",
    "<pre>\n",
    "<b>![title](notebook/jupyter_notebook_autocomplete_1.png)</b>\n",
    "</pre>\n",
    "    \n",
    "![title](notebook/jupyter_notebook_autocomplete_1.png)"
   ]
  },
  {
   "cell_type": "markdown",
   "metadata": {},
   "source": [
    "# References\n",
    "\n",
    "* https://guides.github.com/features/mastering-markdown/\n",
    "* http://stackoverflow.com/questions/21034373/how-to-load-edit-run-save-text-files-py-into-an-ipython-notebook-cell\n",
    "* http://stackoverflow.com/questions/32370281/how-to-include-image-or-picture-in-jupyter-notebook"
   ]
  }
 ],
 "metadata": {
  "kernelspec": {
   "display_name": "Python 3",
   "language": "python",
   "name": "python3"
  },
  "language_info": {
   "codemirror_mode": {
    "name": "ipython",
    "version": 3
   },
   "file_extension": ".py",
   "mimetype": "text/x-python",
   "name": "python",
   "nbconvert_exporter": "python",
   "pygments_lexer": "ipython3",
   "version": "3.5.1"
  }
 },
 "nbformat": 4,
 "nbformat_minor": 2
}
