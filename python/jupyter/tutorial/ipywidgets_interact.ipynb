{
 "cells": [
  {
   "cell_type": "markdown",
   "metadata": {
    "deletable": true,
    "editable": true
   },
   "source": [
    "**Using Interact**\n",
    "\n",
    "* https://ipywidgets.readthedocs.io/en/latest/examples/Using%20Interact.html"
   ]
  },
  {
   "cell_type": "code",
   "execution_count": 1,
   "metadata": {
    "collapsed": true,
    "deletable": true,
    "editable": true
   },
   "outputs": [],
   "source": [
    "from __future__ import print_function\n",
    "from ipywidgets import interact, interactive, fixed\n",
    "import ipywidgets as widgets"
   ]
  },
  {
   "cell_type": "code",
   "execution_count": 2,
   "metadata": {
    "collapsed": true,
    "deletable": true,
    "editable": true
   },
   "outputs": [],
   "source": [
    "def f(x):\n",
    "    return x"
   ]
  },
  {
   "cell_type": "code",
   "execution_count": 3,
   "metadata": {
    "collapsed": false,
    "deletable": true,
    "editable": true
   },
   "outputs": [
    {
     "data": {
      "image/png": "[encoded data removed]",
      "text/html": [
       "<img src=data:image/png;base64,iVBORw0KGgoAAAANSUhEUgAAA9oAAAAvCAYAAAAcoLJwAAAFS0lEQVR4nO3dTYicdwEG8Ie2lhYrVVQsBVGqsX5QK7X1o2pQ9KBBPYlW9Cai6EUULwUPgp7EkxX0oCB+Hry0IMSvVvFiY2Z3MjPv+39nZ5NdknUPISSCIjrp5vUwe5CY2Q/M7OxOfz94DvPffeFJeOfw7C7vJAAAAAAAAAAAAAAAAAAAAAAAAAAAAAAAAAAAAAAAAAAAAAAAAAAA8LxSVdXtVVW9fTAYvGunlFIebZrm/nn3BQAAgENtNBq9t5Tyt7qun6uqamta6roeN03zu7W1tTvm3RkAAAAOreFw+Gxd123TNLum3++3o9HoHfPuDAAAAIdWKWWjaZp2OBzumqqq2rquvzbvzgAAAHBoGdoAAABwExnaAAAAcBMZ2gvtliT3JXl3kmkPsXtFkrckeSDJg0nuPphqAAAAC8rQXlh3JHkkyXeTXEvy2ht8z8uSfD3Jj5M8keSnSb6Y5IUH1BEAAGDxGNoL61iSH2UyoNvceGh/NUk3ycu3X78hyUaSEwdREAAAOJqOJXk0yduSvDTJS5I8nOSh7dfPe4b2wrovyT1JPpYbD+07klxI8pXrzn+S5DczbwcAABxZjycpSS4m+UCSdyZpkvwiyfE59jo0DO2FN21ov3H7/H3XnX85yT+SvGD21QAAgKPqk0k2M3kg1P1Jfpbkrr1c2LbtbU3TvGiRU0r56z6H9jfm3XnWadv2thnejwdt2tD+0Pb5m647/9T2+T2zrwYAABxVt2Ty57B/TPKdJO/Zy0Vnz5593fLy8omqqj63yKnr+sp+hnYp5cl5d551er3eibW1tdfP8qY8QNOG9ke3z6//dz62ff7K2VcDAACOsmNJ/p7kmSR7+m3lysrKyaZp2vX19blnbW1tZimltPsZ2qPRaKZ9blb+n//v4XDYrq6u/n6md+TBmTa0j2+fv/W6888kuZrkxbOvBgAAHGVvTvJ0Jg9/emQvF3Q6nfbq1avtohuNRvsa2pcuXZp35Zkbj8dtt9vdmukdeXCmDe17k/xz++v/7ZtJ1g6gFwAAcITdneR7mTwI7ZdJTmby9PEdLS0tbY3H43Zra2uhMxqN2qqq9pTBYNBevHhx7p1nnfF43HY6nWszvi8PyrShnSS/zeS9cfv267uS/CHJtw6kGQAAcCS9Ksnnk/w8ya2ZPHl8nORLSV6904VVVXU2Nzf/feXKlauLnOFw2HY6nfbUqVO75syZM+36+vrWvDvfrFy+fPm5G+XChQvjqqp6s745Z+zWJA9m8vFdbZIP538ffPb+JH/O5H3xQJJPJHk2yWsOriYAAHDUfDbJU0l+kOTOJJ9O8uskv0ryhZ0u3NzcfLiqqif7/f7JRU5d1//az9DudrujeXeedQaDwVObm5t7emjeIXZnku9n8kOmPyX5YZJv3+D7TmTy/ngik99uP3RQBQEAABZSKWVjaWmpPX369K7p9Xptt9v1OdoAAAAwTSllY3l5ue10OrvG0AYAAIBdlFI2ut1uu7y8vGt6vV7b6/UMbQAAAJimlLLR6/XaM2fO7Jp+v29oAwAAwE5KKRv9fr/dawaDgaENAAAA05RSNvbzOdqGNgAAAOyglLJR13VbStk1g8Ggreva0AYAAIBpSikbTdO0w+Fw11RVZWgDAADATuq6Pj8cDtvRaLRrqqpqSymPz7szAAAAHFpN0zzdNM1eh/a1pmk+Pu/OAAAAcGidO3fuI4PB4C91XQ93ymAwqEspz8y7LwAAABx658+fv3d1dfWDO2VlZeX4vHsCAAAAAAAAAAAAAAAAAAAAAAAAAAAAAAAAAAAAAABHwn8AEsZFa6Pvso0AAAAASUVORK5CYII= class=\"jupyter-widget\">\n",
       "<script type=\"application/vnd.jupyter-embedded-widgets\">[{},{},{\"description\":\"x\",\"layout\":\"IPY_MODEL_9ba2fd18981b47079e178c4718b5c04d\",\"max\":30,\"value\":10,\"min\":-10},{\"layout\":\"IPY_MODEL_c2af3f4b293f449ab33825e4e71e231c\",\"children\":[\"IPY_MODEL_df668983f5224672927dfe6556af84eb\"],\"_dom_classes\":[\"widget-interact\"]}]</script>"
      ]
     },
     "metadata": {
      "isWidgetSnapshot": true
     },
     "output_type": "display_data"
    },
    {
     "data": {
      "text/plain": [
       "10"
      ]
     },
     "metadata": {},
     "output_type": "display_data"
    }
   ],
   "source": [
    "interact(f, x=10);"
   ]
  },
  {
   "cell_type": "code",
   "execution_count": 4,
   "metadata": {
    "collapsed": false,
    "deletable": true,
    "editable": true
   },
   "outputs": [
    {
     "data": {
      "image/png": "[encoded data removed]",
      "text/html": [
       "<img src=data:image/png;base64,iVBORw0KGgoAAAANSUhEUgAAA9oAAAAxCAYAAAAlfNGbAAADWklEQVR4nO3dMWhdZRgG4Be7FFErVOrQzUWdRKi4iIvUBgPunaXtkthBB8cO0kZMZ8ElDbknvb03tKGSkJZE6pBgiZeYIak3aYOLg0OFinZR+jtEStDe6pRzS54HvuGc6V1f+H6+BAAAAAAAAAAAAAAAAAAAAAAAAAAAAAAAAAAAAAAAAAAAAAAAAAAAAAAAAAAAAAAAAAAAAAAAAAAAAAAAAAAAAADY28bHxw83Go0TjUbjk8fMifHx8cN1ZwUAAIC+1mw2X2u328szMzNfX7t27XqvmZ2dXWi3299evHjxzbozAwAAQN+amJi4urS09Ge3272/sbHxe6/pdrv3b968+UdVVVfrzgwAAAB9q6qqe91ut2xtbf3nbGxslKqq7tWdeRd8mqST5Jsk7yR5K8n1JF/9/Q0AAACPVlXVg17FemVlpZw7d66cP3/+4b+qqh7UnXkXHE7yWZJfkryU5IUkS0leT/JcjbkAAADod1VVPbJkdzqdcvLkyXL8+PFy48aNnUW71J15lxxKspLkiyQfJ/kgyb5aEwEAAND/dhbtO3fulLW1tXLr1q0yPDxcBgcHy/T0dNnc3NyLRTtJ3k1yN0k7ybM1ZwEAAOBJsLNoj46OlqGhoTIyMlKOHTtWLly4UP75fnuPFe2DSX5K8mOS5+uNAgAAwBNhZ9EeGRkpR48eLYODg+Xs2bNlfX39Xyvle6xon8n2yvhaks/rjQIAAMATYWfRnp+fLwMDA+XUqVNldXX1kW+391DRfiPJl0meSfJ+tlfI3641EQAAAP1vcnLy19u3bz8837W4uFiWl5d7nvjaI0X7w2yf91pM8nSS4SS/JVlN8lGNuQAAAOh3jUbj+06n87/uaHc6ndJoNBbrzrwLDiV5OdunvZ7K9nmvV5O8kuTFGnMBAADQ76qqem96evrnubm5zYWFhe96zdzc3A9Xrly5Ozk5OVB3ZgAAAOhbY2Nj+6empo40m83Tly5dOtNrms3m6ampqSNjY2P7684MAAAAfa3Vau1rtVoHLl++fLDXtFqtA61Wa1/dWQEAAAAAAAAAAAAAAAAAAAAAAAAAAAAAAAAAAAAAAAAAAAAAAAAAAAAAAAAAAAAAAAAAAAAAAAAAAAAAAAAAAAAAAAAAoC/8BawUWYOyu+vVAAAAAElFTkSuQmCC class=\"jupyter-widget\">\n",
       "<script type=\"application/vnd.jupyter-embedded-widgets\">[{},{},{\"description\":\"x\",\"value\":true,\"layout\":\"IPY_MODEL_fe8da4027a81428dbbf669a8be3f48d1\"},{\"layout\":\"IPY_MODEL_848e0141ecbe44bb839bc141bc4aaadd\",\"children\":[\"IPY_MODEL_12b5962f54c8423baa6a018dbe41f613\"],\"_dom_classes\":[\"widget-interact\"]}]</script>"
      ]
     },
     "metadata": {
      "isWidgetSnapshot": true
     },
     "output_type": "display_data"
    },
    {
     "data": {
      "text/plain": [
       "True"
      ]
     },
     "metadata": {},
     "output_type": "display_data"
    }
   ],
   "source": [
    "interact(f, x=True);"
   ]
  },
  {
   "cell_type": "code",
   "execution_count": 5,
   "metadata": {
    "collapsed": false,
    "deletable": true,
    "editable": true
   },
   "outputs": [
    {
     "data": {
      "image/png": "[encoded data removed]",
      "text/html": [
       "<img src=data:image/png;base64,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 class=\"jupyter-widget\">\n",
       "<script type=\"application/vnd.jupyter-embedded-widgets\">[{},{},{\"description\":\"x\",\"value\":\"Hi there!\",\"layout\":\"IPY_MODEL_6f46863abf9e450ca7bc1b0eeda7b80c\"},{\"layout\":\"IPY_MODEL_6638ebb356d2453eb75c258a56401e32\",\"children\":[\"IPY_MODEL_f9042570a9bc44219c557d01c97ea05c\"],\"_dom_classes\":[\"widget-interact\"]}]</script>"
      ]
     },
     "metadata": {
      "isWidgetSnapshot": true
     },
     "output_type": "display_data"
    },
    {
     "data": {
      "text/plain": [
       "'Hi there!'"
      ]
     },
     "metadata": {},
     "output_type": "display_data"
    }
   ],
   "source": [
    "interact(f, x='Hi there!');"
   ]
  },
  {
   "cell_type": "code",
   "execution_count": 6,
   "metadata": {
    "collapsed": false,
    "deletable": true,
    "editable": true
   },
   "outputs": [
    {
     "data": {
      "image/png": "[encoded data removed]",
      "text/html": [
       "<img src=data:image/png;base64,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 class=\"jupyter-widget\">\n",
       "<script type=\"application/vnd.jupyter-embedded-widgets\">[{},{},{\"description\":\"x\",\"value\":true,\"layout\":\"IPY_MODEL_8f3fd520d1994b04a916289710742511\"},{},{\"description\":\"y\",\"layout\":\"IPY_MODEL_16748d6e8d3446d99cbef75e785557f5\",\"step\":0.1,\"max\":3,\"value\":1,\"min\":-1},{\"layout\":\"IPY_MODEL_fef37e589af24b64ae4e21363e89ee6b\",\"children\":[\"IPY_MODEL_0d09c526828f49c0912a7d09e13bbec0\",\"IPY_MODEL_b2d3c1b34fc248efaa535628478f0998\"],\"_dom_classes\":[\"widget-interact\"]}]</script>"
      ]
     },
     "metadata": {
      "isWidgetSnapshot": true
     },
     "output_type": "display_data"
    },
    {
     "data": {
      "text/plain": [
       "(True, 1.0)"
      ]
     },
     "metadata": {},
     "output_type": "display_data"
    }
   ],
   "source": [
    "@interact(x=True, y=1.0)\n",
    "def g(x, y):\n",
    "    return (x, y)"
   ]
  },
  {
   "cell_type": "code",
   "execution_count": 7,
   "metadata": {
    "collapsed": true,
    "deletable": true,
    "editable": true
   },
   "outputs": [],
   "source": [
    "def h(p, q):\n",
    "    return (p, q)"
   ]
  },
  {
   "cell_type": "code",
   "execution_count": 8,
   "metadata": {
    "collapsed": false,
    "deletable": true,
    "editable": true
   },
   "outputs": [
    {
     "data": {
      "image/png": "[encoded data removed]",
      "text/html": [
       "<img src=data:image/png;base64,iVBORw0KGgoAAAANSUhEUgAAA9oAAAAvCAYAAAAcoLJwAAAE3klEQVR4nO3dTYgkZx0G8Mc1GmQRiQjG+EHiJ7qgCIIHL4GAF8EPMAcheA7m4MWDBz1F0YB4ENSjimC8RPAggpdczIrLzPZMT3W9VdMz27IOu8OyGAgijjtMeegZGMR07+C21dPz+8HDUAUv/A81h6f6raoEAAAAAAAAAAAAAAAAAAAAAAAAAAAAAAAAAAAAAAAAAAAAAAAAAAAunN3d3beNx+PPz0rbtk/1PScAAAAsvd3d3c9VVVVGo9HerFRVdbOu6+t9zwsAAABLrZTyx7quu6Zp5qaqqqO2bb/U98wAAACwtOq6vtk0Tde27dyMRqOulPLNvmcGAACApVVK2TtL0a7r+tt9zwwAAABLS9EGAACAB0jRBgAAgAdI0b4wPpukSvJikp+fyqd7mwgAAGAVKdoXxpeTdEmeTPL4qVzuayAAAICVpGhfGCdF+4N9DwIAAJxfTyf5babbZZ9J8pMkv0vyQpKHe5xrqSjaF4aiDQAA/M8eSfK1TMvFT5O8L8mVJGtJfAv6mKJ9YZwU7R8m+UWSXyV5Nskb+xwKAAA4f07KxReOj9+Q5PtJ/pLk0qyF+/v7l5umeb6u6x+veP5+xqL95yWYeaFpmub5/f39VXt2+akk15N8PdNnsz+V6U2nb/U4EwAAcA6dFO2Pnjr31SSHSd45a+H29vbLk8nk1Vu3br22ymma5ugsRXsymfyz75kXnclk8mrbtq8s8Lrsw+UkT2S60yNJHkry3ST78SgFAABwBidF+0Onzn3l+Ny7Zy0cDAb/Ojg46O7du7fS2d7e7s5StO/cudP7zIvOwcFBNxgM7i3wulwWzyQ5SvJY34MAAADnx0nR/sypc99I8lqSN89auL6+3h0eHnarbjwen6lo3717t++RF+7o6KhbW1vrFnhd9uGTmb4Q8PQNpmcz3d3x1l4mAgAAzqWTov294+OHk7yS5GfzFrZt+9fJZNLdvn17pdM0TTcYDLr19fW5GQ6H3e7ubu8zLzo3b97smqa5scDrsg9fzPQG03PHx29K8ockv8mc9xUAAACcdlK0n0vyoyS/z7RYPD5v4Y0bNz7RNM132rb95SqnlPKP9fX17tq1a3OzubnZVVW10ffM/4f8YGdnZ9U+g/WBJC8mGRz//XWmb+N/os+hAACA8+ekaH88yXszfVb7PZm+fXymrusujUajt49Go0dXOXVd375+/Xq3trY2N8PhsNvY2Hih75kXnbZt37HYy7IXDyV5V5IPJ3n/cR7NffwvAAAAnHZStFft18kHppSyd5at4xsbG76jDQAAcEE9neTlTIv2S5luneU/lFL2NjY2usFgMDfD4bAbDoeKNgAAwAX1SKa/ZF/JdJusbwX/F6WUveFw2G1ubs7N1taWog0AAACzlFL2tra2uvtNVVWKNgAAALyeUsreaDTq7idVVSnaAAAAMEspZa+u666UMjdVVXV1XSvaAAAA8HpKKXtN03Rt287NaDRStAEAAGCWUspe27bdeDyeG0UbAAAA5mjb9k9N03Q7Ozszs7293VVV1ZVSnux7ZgAAAFha4/H4StM0fyulHM5KXdeHbdu+dPXq1bf0PTMAAAAsra7rLjVN85HRaPSxeWma5rG+5wUAAAAAAAAAAAAAAAAAAAAAAAAAAAAAAAAAAAAAAJbevwE2Y0guCboZmgAAAABJRU5ErkJggg== class=\"jupyter-widget\">\n",
       "<script type=\"application/vnd.jupyter-embedded-widgets\">[{},{},{\"description\":\"p\",\"layout\":\"IPY_MODEL_867107f744554a1d90068e26b1297eb7\",\"max\":15,\"value\":5,\"min\":-5},{\"layout\":\"IPY_MODEL_0a2860016dbf4313865c0ac0b8bbc1cb\",\"children\":[\"IPY_MODEL_8e316018280843878a169dbd6f80f4f1\"],\"_dom_classes\":[\"widget-interact\"]}]</script>"
      ]
     },
     "metadata": {
      "isWidgetSnapshot": true
     },
     "output_type": "display_data"
    },
    {
     "data": {
      "text/plain": [
       "(5, 20)"
      ]
     },
     "metadata": {},
     "output_type": "display_data"
    }
   ],
   "source": [
    "interact(h, p=5, q=fixed(20));"
   ]
  },
  {
   "cell_type": "code",
   "execution_count": 9,
   "metadata": {
    "collapsed": false,
    "deletable": true,
    "editable": true
   },
   "outputs": [],
   "source": [
    "widgets.IntSlider(min=-10,max=30,step=1,value=10);"
   ]
  },
  {
   "cell_type": "code",
   "execution_count": 10,
   "metadata": {
    "collapsed": false,
    "deletable": true,
    "editable": true
   },
   "outputs": [
    {
     "data": {
      "image/png": "[encoded data removed]",
      "text/html": [
       "<img src=data:image/png;base64,iVBORw0KGgoAAAANSUhEUgAAA9oAAAAvCAYAAAAcoLJwAAAFSklEQVR4nO3dT4icZx0H8K8QpWjEv0WLVmrowYqoIFQUiiDSYjUgKpVYqadWQexBFNpKFRWqoIWoJ6Ug4qGoB4sHD3qQeiiYZGd2Z+d9n3d2YTfZLGQ3BkrRJpCEvB5mDyVkdrLQmdmdfj7wPczD88KP5ZnDl3fnfRMAAAAAAAAAAAAAAAAAAAAAAAAAAAAAAAAAAAAAAAAAAAAAAAAAAHjNGQwGd1dV9eiYfPP8+fOHZz0rAAAA7Gurq6tH67p+vq7rM7ulqqq1uq6f3draetOsZwYAAIB9q5Ty97qu26Zpdk0ppa2q6lop5eisZwYAAIB9q2majaZp2sFgMDZVVbWllMdmPTMAAADsW6WUzb0U7bqun5z1zAAAALBvKdoAAADwKlK0AQAA4FWkaM+11yd5MMnvk7xrxJ57kvw4yRNJfpDkg9MZDQAAYE4p2nPr1iQ/SvK7JG2SO2+w5+4kf0vytST3JflWkr8mee+UZgQAAJg/ivbcuivJQ0m+k9FF+09Jnk3yxp3P70xyIsn3pzEgAABwMD2c5Jkkv07ysSQfTvJ0kp/tfH7NU7Tn1luTHE7y5dy4aN+a5KUM72a/0tNJysSnAwAADqxPJvlDkgsZluw7kpxKcizJ+2Y31v6haM+9UUX7EzvrH79u/RtJLid58+RHAwAADqoPZXiH7vEMHwz1eJI3jLtoe3v7SCnlqaqqjs9zSin/3WPRfmHWM0/hb/LU9vb2kQmfy2kZVbSP7qzfdd36sZ11v9MGAABGel2SR5KsZXh3+/abuahpmr+cPXv2xa2trZfnOU3TXNtL0V5fX78865knnY2NjRfrun5ukodyikYV7ft31q9/yvhXd9Zvm/xoAADAQXZbkvNJqgx/tzpWp9O5eunSpfby5ctznZWVlXYvRXt7e3vmM086Fy9ebLvd7tWJnsjpGVW0P7Kzfs91699O8nKSWyY/GgAAcJA9nOGrjlaSPHozF3Q6nWtXr15t593q6uqeivaFCxdmPfLEXblype12u9cmeiKnZ1TRPpxkK8NXer3SM0n+NYW5AACAA+wDSX6b5D0ZluzVDO/m7WowGHTPnDnTnjt3bq7TNE27tLTUdrvdsen1eu3a2trMZ550NjY22sFg8O8Jn8tpGVW0k+SnSZ7P8AnlSfL+DL8fD05nNAAA4CD6UpI/J/lHhv8K+/UkF5M8l+Qru114+vTpT/d6vcfquj4+5/nfwsJCe+LEibFZWlpqq6p6YR/MPNH0+/0n19fXPzXx0zlZtyT5YZI/Zli0jyf57nV77kjyqyQ/T/JEkl8m+UmSt01tSgAA4MD5aJIHknwuyaEMn0B+LMOSPfY92qdOnXrL8vLy7fOcUsq5TqfTnjx5cmx6vV67uLj4i1nPPOlUVfX2iZ7K6TiU5LNJvpDkoSSfT/KZG+y7M8Pvx307+989rQEBAADmUills9vttgsLC2OzU7S9RxsAAABGKaVsLi4utp1OZ2x6vV7b6/UUbQAAABillLK5tLTULi4ujs3y8rKiDQAAALsppWzuFOixWV5ebvv9vqINAAAAo5RSNvv9fruHKNoAAAAwSills67r9mbS7/fbuq4VbQAAABillLJZSmmbphmbqqoUbQAAANhNKWVzMBi0KysrY1NVVds0zfdmPTMAAADsW03T/LOUMrZkDwaDtq7rdjAY3D/rmQEAAGDfWl1dvbeu67ppmpfG5D+llN+UUt4x65kBAABg32rb9lAp5d6qqh7YLaWUL66srByZ9bwAAAAAAAAAAAAAAAAAAAAAAAAAAAAAAAAAAAAAAMC+939x5UtHLkf5dwAAAABJRU5ErkJggg== class=\"jupyter-widget\">\n",
       "<script type=\"application/vnd.jupyter-embedded-widgets\">[{},{},{\"description\":\"x\",\"layout\":\"IPY_MODEL_05e377906ae54085ac61bca45a245e4d\",\"max\":30,\"value\":10,\"min\":-10},{\"layout\":\"IPY_MODEL_bdd020e9a8264f01a6ed026e50b78915\",\"children\":[\"IPY_MODEL_d95d46a3ec5c406ea9c4031c3d928af3\"],\"_dom_classes\":[\"widget-interact\"]}]</script>"
      ]
     },
     "metadata": {
      "isWidgetSnapshot": true
     },
     "output_type": "display_data"
    },
    {
     "data": {
      "text/plain": [
       "10"
      ]
     },
     "metadata": {},
     "output_type": "display_data"
    }
   ],
   "source": [
    "interact(f, x=widgets.IntSlider(min=-10,max=30,step=1,value=10));"
   ]
  },
  {
   "cell_type": "code",
   "execution_count": 11,
   "metadata": {
    "collapsed": false,
    "deletable": true,
    "editable": true
   },
   "outputs": [
    {
     "data": {
      "image/png": "[encoded data removed]",
      "text/html": [
       "<img src=data:image/png;base64,iVBORw0KGgoAAAANSUhEUgAAA9oAAAAvCAYAAAAcoLJwAAAExklEQVR4nO3dz2ukdwEG8MdatIpaREEQoQqtFUHFUq3WtnioKAVBPIiCNxWlIHguePM/EEQFPUn1UIUtCCvUliIIXXeSycz7vt93MtlN2I05LMtG8KKzTV8Pk5OYTFJ39s2Pzweewwy88BDeHJ5M5vsmAAAAAAAAAAAAAAAAAAAAAAAAAAAAAAAAAAAAAAAAAAAAAAAAAABwrtR1/ba6rh+rquoLh6WU8njbtg/33RcAAABOtOl0+sVSyj+apnm9ruu9g9I0zaxt25c2Nzfv67szAAAAnFiTyeS1pmm6tm0XZjwed9Pp9HN9dwYAAIATq5Sy3bZtN5lMFqau665pmh/33RkAAABOLEMbAAAA7iBDGwAAAO4gQ/tcuDfJA0k+leQTST6d5MH99wEAALiTDO1z4SNJfpHk10l+muQ3+3msz1IAAABnkqF9LnwtyatJ3rP/+r4kF5K8Fp9qAwAAx/RQkseTfDbJ+5K8N8mjSR7Zf33uGdrnwiNJvv5f730nSRe/BwAAwDE9l6QkuZHk6SSfT9Im+V2Sp3rsdWIY2ufWD5PsJrm/7yIAAMDp860kO0meSPJwkueTvOsoF3Zdd2/btu8+yyml/P2YQ/snfXdedrquO+v/Tv32JC8k+WXfRQAAgNPpnswPfno184OgnjzKRVeuXPno6urqM3Vdf/8sp2ma3eMM7VLKhb47Lzuj0eiZzc3Njy3zpuzRW5N8OclfMz+JHAAA4E15KMk/k7ySIx7+tL6+frFt225ra6v3bG5uLi2llO44Q3s6nS61z53K//Pznkwm3cbGxp+Xekf2457Mzyj4Q474BycAAICDfDLJy0muJ/nMUS4YDAbd7du3u7NuOp0ea2jfvHmz78pLN5vNuuFwuLfUO/Lue0vmz9F+PsmXkrwzyYfj1HEAAOBNuD/JzzM/CO2FJBczP338UCsrK3uz2azb29s705lOp11d10dKVVXdjRs3eu+87Mxms24wGLyx5Pvybvt4kt8n+WbmZxQ8mflXKj7QZykAAOD0eSDJD5L8NvPvpj6dZJbkR5l/mneguq4HOzs7/97d3b19ljOZTLrBYNBdunRpYdbW1rqtra29vjvfqdy6dev1/5Xr16/P6roeLfvmvIven+SlJH9M8t39/Czzx3s92GMvAADgFPpekheT/CrJO5J8O8mfMh8czx524c7OzqN1XV8Yj8cXz3KapvnXcYb2cDic9t152amq6sWdnZ2z9B3mJ5L85YB8qMdeAAAAZ08pZXtlZaW7fPnywoxGo244HHqONgAAAByklLK9urraDQaDhTG0AQAAYIFSyvZwOOxWV1cXZjQadaPRyNAGAACAg5RStkejUbe2trYw4/HY0AYAAIDDlFK2x+Nxd9RUVWVoAwAAwEFKKdvHeY62oQ0AAACHKKVsN03TlVIWpqqqrmkaQxsAAAAOUkrZbtu2m0wmC1PXtaENAAAAh2ma5tpkMumm0+nC1HXdlVKe67szAAAAnFht277ctu1Rh/Ybbdt+o+/OAAAAcGJdvXr1q1VV/a1pmslhqaqqKaW80ndfAAAAOPGuXbv2wY2Nja8clvX19af67gkAAAAAAAAAAAAAAAAAAAAAAAAAAAAAAAAAAAAAAJwK/wFmEywW+ZT+/wAAAABJRU5ErkJggg== class=\"jupyter-widget\">\n",
       "<script type=\"application/vnd.jupyter-embedded-widgets\">[{},{},{\"description\":\"x\",\"layout\":\"IPY_MODEL_c914fafa048d4ed8af850fbb1e14ff4b\",\"max\":4,\"value\":2},{\"layout\":\"IPY_MODEL_523125b18d74438683ab14dba3751da8\",\"children\":[\"IPY_MODEL_1d726e1f668d4e27991aaf0a441f181b\"],\"_dom_classes\":[\"widget-interact\"]}]</script>"
      ]
     },
     "metadata": {
      "isWidgetSnapshot": true
     },
     "output_type": "display_data"
    },
    {
     "data": {
      "text/plain": [
       "2"
      ]
     },
     "metadata": {},
     "output_type": "display_data"
    }
   ],
   "source": [
    "interact(f, x=(0,4));"
   ]
  },
  {
   "cell_type": "code",
   "execution_count": 12,
   "metadata": {
    "collapsed": false,
    "deletable": true,
    "editable": true
   },
   "outputs": [
    {
     "data": {
      "image/png": "[encoded data removed]",
      "text/html": [
       "<img src=data:image/png;base64,iVBORw0KGgoAAAANSUhEUgAAA9oAAAAvCAYAAAAcoLJwAAAEm0lEQVR4nO3dPYhlZwEG4Je18CdqRGOUCGr8IWoKsbAQRAIBC4WAYGNlYSdoo4WNEEwQgrYqWAkpNRbaiChBNCsuM3tn7pxzvnPmzuzVcdwdljUBCeK4wxyLO4XNzJ3ZzZ0zufM88Ban+OAtTvNyz+VLAAAAAAAAAAAAAAAAAAAAAAAAAAAAAAAAAAAAAAAAAAAAAAAAAADg0tne3n5wMpk8dVK6rnty6J4AAABw4W1vb3+xqqpS1/XuSamqaqdpmutD9wUAAIALrZTyp6Zp+rZt56aqqsOu6740dGcAAAC4sJqm2Wnbtu+6bm7quu5LKd8ZujMAAABcWKWU3bMM7aZpvjt0ZwAAALiwDG0AAAB4DRnaAAAA8BoytC+l7yepkrx/6CIAAABLx9C+dD6T5G9J+iQfGbgLAADA8jG0L5U3JvlNZr9oG9oAAMA9eTbJapI/JHkyyWeT/DbJr4+eLz1D+1L5VpKnk3wlhjYAAHCP3pfkuSQvJ/lQkoeSXE3yqSRvH7DXhWFoXxofS/L7JO9O8uUY2gAAwH14OMkoyU+SfDvJ15K8Yd6hvb29B9q2faZpmh8teV4949D+ywXovNC0bfvM3t7eAwt+L8/TlSS/TPKFo2dDGwAAuG+fT/LPJD9P8rbTHNjc3HxxOp2+cvPmzX8tc9q2PTzL0J5Op/8ZuvOiM51OX+m67qWFvpHn66tJfpzkTUfPhjYAAHDf3pXkH0n+muQdpzkwGo3+u7+/39+9e3eps7m52Z9laN++fXvwzovO/v5+PxqN7i7yhTxnv0jyuyQ/O8qLmQ3tF46eHxyoFwAA8Dr2dGafjNdJfnCaA6urq/3BwUG/7CaTyZmG9p07d4auvHCHh4f9yspKv8gX8px9IMmjST54lK9nNrSfOHqe+1cKAACA//fpJD9N8tYkT2X2Cfnn5h3quu7v0+m0v3Xr1lKnbdt+NBr1q6urczMej/vt7e3BOy86Ozs7fdu2Nxb8Xg7Jp+MAAMA9+2Zm13u9lOQtSb6R5NUk65lddXSsGzdufLJt22e7rnt+mVNK+ffq6mp/7dq1uVlfX++rqlobuvM55IdbW1vLOkKfT/LHzIb2r5J8b9g6AADA683DSR7L7GqvK5ld7/XxzK46es9JB/u+v1LX9Tvrun7vMqdpmlvXr1/vV1ZW5mY8Hvdra2vPDd150em67qGFv5nDeTTJR5M8nuTDSR4Ztg4AAMCSKaXsnuXT8bW1NfdoAwAAwHFKKbtra2v9aDSam/F43I/HY0MbAAAAjlNK2R2Px/36+vrcbGxsGNoAAABwklLK7sbGRn/aVFVlaAMAAMBxSim7dV33p0lVVYY2AAAAnKSUsts0TV9KmZuqqvqmaQxtAAAAOE4pZbdt277rurmp69rQBgAAgJOUUna7rusnk8ncGNoAAAAwR9d1f27btt/a2joxm5ubfVVVfSnliaE7AwAAwIU1mUweb9v25VLKwUlpmuag67oXrl69+uahOwMAAMCF1ff9lbZtH6vr+hPz0rbtI0P3BQAAAAAAAAAAAAAAAAAAAAAAAAAAAAAAAAAAAAAALrz/AfCUP4DegRJhAAAAAElFTkSuQmCC class=\"jupyter-widget\">\n",
       "<script type=\"application/vnd.jupyter-embedded-widgets\">[{},{},{\"description\":\"x\",\"layout\":\"IPY_MODEL_9de84dad129b4b2cb19476e8645803ea\",\"step\":2,\"max\":8,\"value\":4},{\"layout\":\"IPY_MODEL_0d98c97f45814881a47450fb85caffc6\",\"children\":[\"IPY_MODEL_b6a9c3a5de7e450389519eb25bf21fc6\"],\"_dom_classes\":[\"widget-interact\"]}]</script>"
      ]
     },
     "metadata": {
      "isWidgetSnapshot": true
     },
     "output_type": "display_data"
    },
    {
     "data": {
      "text/plain": [
       "4"
      ]
     },
     "metadata": {},
     "output_type": "display_data"
    }
   ],
   "source": [
    "interact(f, x=(0,8,2));"
   ]
  },
  {
   "cell_type": "code",
   "execution_count": 13,
   "metadata": {
    "collapsed": false,
    "deletable": true,
    "editable": true
   },
   "outputs": [
    {
     "data": {
      "image/png": "[encoded data removed]",
      "text/html": [
       "<img src=data:image/png;base64,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 class=\"jupyter-widget\">\n",
       "<script type=\"application/vnd.jupyter-embedded-widgets\">[{},{},{\"description\":\"x\",\"layout\":\"IPY_MODEL_96539367fa134c6ca057514dac75721d\",\"step\":0.1,\"max\":10,\"value\":5},{\"layout\":\"IPY_MODEL_35fa8a40c50f4d4bb41f77e715b79651\",\"children\":[\"IPY_MODEL_f3295d76d7344763a5816adc33182b8c\"],\"_dom_classes\":[\"widget-interact\"]}]</script>"
      ]
     },
     "metadata": {
      "isWidgetSnapshot": true
     },
     "output_type": "display_data"
    },
    {
     "data": {
      "text/plain": [
       "5.0"
      ]
     },
     "metadata": {},
     "output_type": "display_data"
    }
   ],
   "source": [
    "interact(f, x=(0.0,10.0));"
   ]
  },
  {
   "cell_type": "code",
   "execution_count": 14,
   "metadata": {
    "collapsed": false,
    "deletable": true,
    "editable": true
   },
   "outputs": [
    {
     "data": {
      "image/png": "[encoded data removed]",
      "text/html": [
       "<img src=data:image/png;base64,iVBORw0KGgoAAAANSUhEUgAAA9oAAAAvCAYAAAAcoLJwAAAFQklEQVR4nO3dTYhkVxkG4Dc9JmMw/uEPKuhCRPwhZKMudSSgCMYfcGGYvStBMa6yMIK4EtwIigtxobho3KgRTDAKRgeZmbIzXefWrVttd884DcYMCMJMsKGnr4uqZobG6aqSLqtS9TzwQt/u7xTf4vbi4546NwEAAAAAAAAAAAAAAAAAAAAAAAAAAAAAAAAAAAAAAAAAAAAAAAAAgJWyvr5+5sKFCw9OkqqqHph3vwAAALDQer3eF0sph91utz0ppZS2aZpn27a9b949AwAAwMLq9Xo36rpum6Y5Mf1+v+12u+21a9fePe+eAQAAYGGVUvb7/f7YQbtpmraU0tZ1fW7ePQMAAMDCMmgDAADAKTJoAwAAwCkyaC+VB5I8mGSSA+vuT3L2rpz5H2sAAAC4m0F7aawl+WmSNsl7xtS+OckPklxM8pskzyX5/OgzpqkBAADgOIP20vhUkpcyftBeS/KHJL/M8Al4krwlSS/Jx6eoAQAAVtTRVtpXZ7jtdW3089H1yjNoL4XXJukk+WrGD9ofGtV87Njvn8jwqfWkNQAAwIr6YZJ/JXkxyWeTfCLJTpIXknxmjn0tDIP2K95aku8k+XKSL2T8oP3YqOZ9x37/eJJ/Z/i97ElqAACAFfaVJP9M8q4kr8vwidzrJ1m4vr5+pm3bVy1zph20m6Z5dN49zzrr6+uvpN0OH85wm/eZTDZoP5zkdpJP586hafcleXK09h0T1gAAACvsTJLnk/wqwyd/j02yaGtr62y/3z9fVdVTS56DKZ9o/3gBep5p+v3++bZtz87ypjwlZ5P8Kckjo+tJBu0keXq07u2jz3h/kma09p1T1AAAACvsgxlueX06k736KDs7O5fqum6vXr261Kmqqp1m0N7Z2Zl7z7NO0zTtzs5OPdM78nQ8keS7ufP6rcczHIQ/MLq+173+miTfSvLHJL9O8r0kX0tymOShKWoAAIAV9qYkf83wu9pvm2RBp9NpDw4O2mXX6/WmGrRv3bo175Zn7vDwsO10Ou1M78jT8Yskv0/yzCgvZDhoPz+6fuM91v23V3Q9maQ/ZQ0AALCi1jJ8H/Ank1xK8rNMcOJ4p9M5PDw8bJc9R4P2JCmltDdv3px7z/+PdDqdwxnfl7Nwr63jR6ftH3k0d17blQz/H36b5BtT1gAAACvo/gxPGv/R6PojSQ6SfC5jTk6u6/rv169fP7hx48btZU5VVe2lS5faixcvjs3m5ma7t7c3955nnb29vYPBYPC32d6ap+741vG77++HM9zRcbTl+8Ko9mjL+fkkVzJ8TVimqAEAAFbQU0muZTg0PJTk60n+kWQvybdPWri9vf3epml+UlXV75Y8h9MM2lVV/WUBep5p6rr++e7u7kRfMVggzyXZTPJykj8n+f5df3skyXbuDMnfTFJneFr5sxnu+Hjrsc+bpAYAAIDjSin7nU6nvXz58thsbm62Gxsb5+bdMwAAACyso0F7kmxubrbdbvfcvHsGAACAhVVK2d/Y2GgnSbfbNWgDAADASUop+1euXGkniUEbAAAAxiil7I8G6Elzbt49AwAAwMIqpeyXUtqqqsam2+22dV2fm3fPAAAAsLBKKfu9Xq+t63psDNoAAAAwRillv9/vt03TjE0pxaANAAAAJyml7A8Gg3Zra2tsSintYDD46Lx7BgAAgIXV6/Veapqm3d7ePjFbW1ttt9u9vbu7+4Z59wwAAAALazAYfKmqqlvdbvflcRkMBs/Mu18AAAAAAAAAAAAAAAAAAAAAAAAAAAAAAAAAAAAAAAAAAABYJf8BiQGI7RqKBRcAAAAASUVORK5CYII= class=\"jupyter-widget\">\n",
       "<script type=\"application/vnd.jupyter-embedded-widgets\">[{},{},{\"description\":\"x\",\"layout\":\"IPY_MODEL_f4300c1d26c04cb58aecd9e6f2f08531\",\"step\":0.01,\"max\":10,\"value\":4.99},{\"layout\":\"IPY_MODEL_b5b59175e30a4c95baf6e2240b6d6e69\",\"children\":[\"IPY_MODEL_63a5b14c9c4c4d88b165ffc3717f3bbe\"],\"_dom_classes\":[\"widget-interact\"]}]</script>"
      ]
     },
     "metadata": {
      "isWidgetSnapshot": true
     },
     "output_type": "display_data"
    },
    {
     "data": {
      "text/plain": [
       "4.99"
      ]
     },
     "metadata": {},
     "output_type": "display_data"
    }
   ],
   "source": [
    "interact(f, x=(0.0,10.0,0.01));"
   ]
  },
  {
   "cell_type": "code",
   "execution_count": 15,
   "metadata": {
    "collapsed": false,
    "deletable": true,
    "editable": true
   },
   "outputs": [
    {
     "data": {
      "image/png": "[encoded data removed]",
      "text/html": [
       "<img src=data:image/png;base64,iVBORw0KGgoAAAANSUhEUgAAA9oAAAAvCAYAAAAcoLJwAAAFgUlEQVR4nO3dTYicdx0H8K/aBpVaTX1r0UotFlSKLfiGQhE8GG0VpUolVigVqwexh+KhrWhQoQqlWPWgSC/Sg6AHiwdB9KDeTDYzm5153rLBZDeQzYpQKiYhyaaPh2eXLoHs7CazO5vN5wM/dp7Z+S2/gf8evjwv/wQAAAAAAAAAAAAAAAAAAAAAAAAAAAAAAAAAAAAAAAAAAAAAAAAAALaNuq4fLori0bWqqqr7Jz0nAAAAbHt1Xf+0LMvDZVnOrVXD4fBQXddPT3peAAAA2LaKothVFMX/6rpuR1VZlm1RFP+d9MwAAACwbc3Ozt44HA7bpmnWVcPhsJ30zAAAALBtzc3N7S6KQtAGAACAcRC0AQAAYIwEbQAAABgjQZsN+HCS3yTZl+SJVfX+MfTck+SHSZ5M8v0RfxMAAGD7ErTZgC8laZM8nORTq+rmK+z5SJI/Jflqkj1JvpXkj0neOd7xAQAAtoCgzQashOb3jLnnd0l+m+T1y8dvSbI/yXcvY0YAAGAHeSTJc0l+keSDST6Q5JkkP1k+3pYEbTZgM4L2W5O8lO5s9mrPJKk2OiAAALCzfDzJ80n+ky5k35ZkKsneJO+a3FhrE7TZgJXQ/J1091LvS/L5JK++gp6PLf/+oxf1fTPJuSRvGNPsAADAVerOdGfhnkjy4PLPXaOaFhcXb6+q6qmiKJ6dQP1qo0F7QnPuyKqq6qnFxcXbN3ldjsueJIfTXdK9J8mXk/w5yUNX0PO5dEH7fRf17V1+333aAABwjXtVkm8k+Ve6s9u3rqeprus/HD9+/MWTJ0+e2upaWFg4vdGgPYk5d2rNz8+/WJblC5u5KMfo7Uk+neSO5ePXJvl1kmGS6y+z5950gfrip4x/Zfn9W8Y0OwAAcBW7Jcm/kxRJblhPQ6/XWzpz5kx77ty5La+zZ8+2Gw3ak5hzp9bp06fbfr+/tKkrcnN9LcmFJG+7zJ670gXqey76zLeTnEoXzAEAgGvcI0l+kO5y2UfX09Dr9V5eWlpqJ+HChQsbDtqMz/nz59t+v//ypq7I8bkjyWPpHmC24utJlpLsvsyeG5KcTLel12rPJfnHlY8MAABc7d6b7rLYd6QL2bPpztitqWma/tzcXLuwsLDldeLEibYoirbf74+s6enpdjAYTGTOnVrz8/Nt0zT/3OR1OS73JTme7v7pJLku3bZcf1t+nXT3VD+dV85Er6fnx0n+nuRNy8fvTve/8+D4vwIAAHA1+WKS3yf5S7qQ8VCS00leSPcAqEs6duzYJ2dmZh4vy/LZra66rn9ZFEW7f//+kXXgwIF2MBi0k5hzp9ZwOPze0aNHP7Hpq3M87kry13RrfF+6KzeeT7J6/ruTzOeVp4Wvp+e2JD9PF9CfTPKzJD/Kpc+SAwAA14i7kzyQ7gzedemeQL43XcgeuY/21NTUGweDwa1bXUeOHLmzKIr2wIEDI2tqaqodDAbtJObcqVUUxU2buirH63XptuG6P91DzO5N8qEkr1n1mZvSbel1/QZ6km6f7fvSPZn8M0lu3pRvAAAAsNlW9tE+ePDgyOr1eu1gMLCPNgAAAFzK3Nzc7uFw2PZ6vZHV7/cFbQAAAFjLStCenp4eWYcOHRK0AQAAYC0rQXtmZmZkLd+fLWgDAADApazcoz0cDkfWyucmPTMAAABsWytBuyzLkVVVlaANAAAAa1kJ2nVdj6ymaQRtAAAAWMvKPdqHDx9eVwnaAAAAsIaiKHaVZXmqaZqRIbtpmrYsy7OTnhkAAAC2taZpHq+q6mRd1y+tVVVVHZudnX1s0vMCAADAtlZV1ZubpvlCURQPrFVVVX12dnb2xknPCwAAAAAAAAAAAAAAAAAAAAAAAAAAAAAAAAAAAAAAsOz/qFdlV9xRThIAAAAASUVORK5CYII= class=\"jupyter-widget\">\n",
       "<script type=\"application/vnd.jupyter-embedded-widgets\">[{},{},{\"description\":\"x\",\"layout\":\"IPY_MODEL_fb04c4781aa643509aeaf9cceaf914bd\",\"step\":0.5,\"max\":20,\"value\":5.5},{\"layout\":\"IPY_MODEL_50c000cd525a4423b37d38aab320cde4\",\"children\":[\"IPY_MODEL_9d045a5b23754e90875118b130ede2a9\"],\"_dom_classes\":[\"widget-interact\"]}]</script>"
      ]
     },
     "metadata": {
      "isWidgetSnapshot": true
     },
     "output_type": "display_data"
    },
    {
     "data": {
      "text/plain": [
       "5.5"
      ]
     },
     "metadata": {},
     "output_type": "display_data"
    }
   ],
   "source": [
    "@interact(x=(0.0,20.0,0.5))\n",
    "def h(x=5.5):\n",
    "    return x"
   ]
  },
  {
   "cell_type": "code",
   "execution_count": 16,
   "metadata": {
    "collapsed": false,
    "deletable": true,
    "editable": true
   },
   "outputs": [
    {
     "data": {
      "image/png": "[encoded data removed]",
      "text/html": [
       "<img src=data:image/png;base64,iVBORw0KGgoAAAANSUhEUgAAA9oAAAAwCAYAAADuIAI+AAAHOElEQVR4nO3dTWhU+xnH8YfWTaGllC66bDe3t6suerRYqXVhXORCtoKkCyGUSkFpokZQQwiRmQSCErsZiCX4Qm2gJljxJRJbrm4iJpm8OOOcScYEDSNJhoSJqHNnnPy6sDO3KZpzxmQyaL4feBaS8z8nDDl/+JLjiRkAAAAAAAAAAAAAAAAAAAAAAAAAAAAAAAAAAAAAAAAAAAAAfPYkbYvFYj9gGGbtefr06U/KeX5J2yq9HwAAAABYp0Qi8fNwOPxVJBL5I8Mwa080Gm0r5/nHx8e/mp6e/kWl9wUAAAAA6xCPx+/EYjHNzMx8ljM9Pc1skdmMn6fHjx+X5WetcA7XdTU1NXWv0vsCAAAAgHUYHh5WLpcTAG9DQ0NlPX82m9Xo6Gi+0vsCAAAAgHUodzgAn5PNuF+GhoZU6X0BAAAAwDoQ2oB/hDYAAAAAT4Q24B+hDQAAAMAToQ34R2gDAAAA8ERoA/4R2gAAAAA8EdqAf4Q2AAAAAE+ENuAfoQ0AAADAE6EN+EdoAwAAAPBEaH960um0YrGYwuGwcrlcpb+dLYXQBgAAALaOL8xsl5n92sx+bGY/MrPtZvar//77gwjtT8/Y2JgaGhrkOI5SqVSlv50thdAGAAAAto6TZvbEzObNrMrMfmNmMTP7u5n9bq2FhPan6eHDh4R2BRDaAAAAwNZywMySZvZbM/vSzP5mZt/3WkRob7xUKqXJyUnF43G5rqtXr15JWv3I9/z8vBKJhJ48eaKZmRnl83nfx0jvD+1cLqfp6Wm5rivXdfXs2TOtrKwUvz43N6dYLKZ4PK5oNKrnz5+v+jq8EdoAAADA1vIdM7tiZl+b2V/MbLefRYT2xuvt7VUgEFAwGFR9fb1u3rwpafUj35cuXVJnZ6dOnz6txsZGxeNx38dI7w/tcDiskydPqrW1Va2trWppadHMzIwk6fXr1woGgzpx4oQCgYDq6up0/PhxvXnzZhM/mU+fn/tlYWFBkUjkvZNMJn1do5wbBQAAAIDSfGFmL83s32a2zc8CQnvj3bhxQxMTE4rH47pw4YKqq6v19u1bSd8Gck9PjyQpn8+rqalJR48eLa4v5ZhCaGcyGdXW1ioUCkmSVlZWFAgEdOrUKUnS1NSUtm/frsHBQeVyOfX39+vgwYNaXl4u/wfyGfFzvwwMDKi2tlb79u1bNfv371dfX5+va5R1lwAAAABQkl+a2b/M7LmZ7fCzgNDeWLlcTleuXNGxY8cUDAaLv50uBG0hkGdnZ4tr7t69q127dhXfIF7KMYXQTiQSchxHAwMDmpyc1OTkpK5evaqqqirl83ktLCyotrZWbW1tevDggVzX1fz8PI+Ol8jP/ZLNZtXT06Pq6mo5jiPHcVRVVaWuri7f1yjrLgEAAADAtx+aWcjevQjtH2Z2x969fXxNhPbGSiaT2rlzp+7duydJGhwclOM4WlpakvRtIM/NzRXX3L9/Xzt27Cj+X+5SjimE9vj4uBzHUXNzs9rb29Xe3q4zZ86ooaFBmUxG+Xxe0WhUoVBIhw4d0pEjR3Tt2jVCu0R+75f/je1SIrtwjTLvFQAAAAB8+KmZHTKzq2b2XXv35vGsmf3ZzH621kJCe2NNTEzIcRxNTU1Jkvr7+98b2qOjo8U1ly9fVk1NTfFlZ6UcUwjtubk57dmzRyMjI8U16XS6+O9UKqXbt28rnU4rk8no7Nmz2r17t7LZbBk/jc9PKfdLIbZLiezCNcq9YQAAAADw9gcz+6eZ/dXMvmdmvzezfjO7aWZ/Wmshob2xUqmUampqdPHiRSUSCXV0dMhxHI2MjCiXyxUDubu7W4lEQtFoVIcPH1Z3d3fxHF7HpNNp9fX1yXEcPXr0SJlMRpIUCATU0dEh13UVj8d1/fp1BQIBSe9esrZ371719vYqHo+ru7tbBw4cILRLVOr98jGfL6ENAAAAfOII7Y1369Yt1dfX69y5c+rq6lJdXZ0CgYCWl5eLET0wMKDOzk41NTUpFAqtevu31zFjY2Nqbm4unrfwiPnLly8VCoXU2tqqtrY2nT9/XouLi5KkpaUlhUIhNTY2KhgMqqWlZdVvv+EPf94LAAAAgCdCe3O9789yfcwxqAxCGwAAAIAnQnvzfOiR71KPQeUQ2gAAAAA8Edqb5/8f+X7x4sVHHYPKIbQBAAAAeCK0Af8IbQAAAACeCG3AP0IbAAAAgCdCG/CP0AYAAADgidAG/CO0AQAAAHgitAH/CG0AAAAAnghtwD9CGwAAAICnkZGRfDabVT6fZxjGY4aGhsp6/mw2q+Hh4ZVK7wsAAAAA1iESiQwnk8lvlpaWcgzDfHgWFxffhsPhlXJeY3Z29ptIJDJe6X0BAAAAwDokk8ntkUjk+sTExB2GYdYe13W/Luf5I5HI9WQyubvS+wIAAAAAAAAAAAAAAAAAAAAAAAAAAAAAAAAAAAAAAAAAAAAAAAAAAAAAAAAAwJf/AGpnRviWeE6oAAAAAElFTkSuQmCC class=\"jupyter-widget\">\n",
       "<script type=\"application/vnd.jupyter-embedded-widgets\">[{},{},{\"description\":\"x\",\"value\":\"apples\",\"_options_labels\":[\"apples\",\"oranges\"],\"layout\":\"IPY_MODEL_606f357954ac469e9db33cc5b4c6fe40\"},{\"layout\":\"IPY_MODEL_50c47051c0e54cb884821b7c0d4c28ab\",\"children\":[\"IPY_MODEL_55f5cf671b5744a3905129092fcecee6\"],\"_dom_classes\":[\"widget-interact\"]}]</script>"
      ]
     },
     "metadata": {
      "isWidgetSnapshot": true
     },
     "output_type": "display_data"
    },
    {
     "data": {
      "text/plain": [
       "'apples'"
      ]
     },
     "metadata": {},
     "output_type": "display_data"
    }
   ],
   "source": [
    "interact(f, x=['apples','oranges']);"
   ]
  },
  {
   "cell_type": "code",
   "execution_count": 17,
   "metadata": {
    "collapsed": false,
    "deletable": true,
    "editable": true
   },
   "outputs": [
    {
     "data": {
      "image/png": "[encoded data removed]",
      "text/html": [
       "<img src=data:image/png;base64,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 class=\"jupyter-widget\">\n",
       "<script type=\"application/vnd.jupyter-embedded-widgets\">[{},{},{\"description\":\"x\",\"value\":\"two\",\"_options_labels\":[\"two\",\"one\"],\"layout\":\"IPY_MODEL_01656c82ea2442dfb1e5dd5c2df30d77\"},{\"layout\":\"IPY_MODEL_857fb8c3926d420dae04bd60329b52da\",\"children\":[\"IPY_MODEL_1199ecbccba14345bae60efbac3278f9\"],\"_dom_classes\":[\"widget-interact\"]}]</script>"
      ]
     },
     "metadata": {
      "isWidgetSnapshot": true
     },
     "output_type": "display_data"
    },
    {
     "data": {
      "text/plain": [
       "20"
      ]
     },
     "metadata": {},
     "output_type": "display_data"
    }
   ],
   "source": [
    "interact(f, x={'one': 10, 'two': 20});"
   ]
  },
  {
   "cell_type": "code",
   "execution_count": 18,
   "metadata": {
    "collapsed": true,
    "deletable": true,
    "editable": true
   },
   "outputs": [],
   "source": [
    "def f(x:True): # python 3 only\n",
    "    return x"
   ]
  },
  {
   "cell_type": "code",
   "execution_count": 19,
   "metadata": {
    "collapsed": false,
    "deletable": true,
    "editable": true
   },
   "outputs": [
    {
     "data": {
      "image/png": "[encoded data removed]",
      "text/html": [
       "<img src=data:image/png;base64,iVBORw0KGgoAAAANSUhEUgAAA9oAAAAxCAYAAAAlfNGbAAADXElEQVR4nO3dP4iWdQAH8G/WkJNIRA1FLTbXJBLVFOdwII3hqiBSuBwETneTUzekiy0i3u95fS9QzklffYtA4sRTpAN7Ts8bWqqhKGwoh34NJ3HRveR0zyv3+cB3eJ7pu375PX8SAAAAAAAAAAAAAAAAAAAAAAAAAAAAAAAAAAAAAAAAAAAAAAAAAAAAAAAAAAAAAAAAAAAAAAAAAAAAAAAAAAAAAGB7K6XsmZubO9Lr9Y6Pytzc3NFSyp6uuwIAAMBYa5pm34ULF74aDAbD4XB4bVQGg8Hw4sWL13q93t6uOwMAAMDYaprmyxs3bjxq2/bhysrKb6PStu3DxcXFP0spl7ruDAAAAGOraZo/7t+/X9fW1v43KysrtZTya9edt8DxJNeSXErybpK9Sb5IUh5fAwAAwOZKKSOH9Z07d+rs7Gw9derUP/dKKX913XkL7EnyWZKfk7yR5OUki0neS/JCh70AAAAYd6OG9u3bt+uxY8fqwYMH62Aw2Di0a9edt8irSb5N8mmSj5IcTfJcp40AAAAYfxuH9oMHD+rdu3dr27Z1amqqTk5O1n6/X+/du7cdh/YzST5I8mOSfpxkAwAA8CQ2Du2TJ0/WqampOjs7W/fv319Pnz5d27b910n3NhraSfJikh+SrCbZ1XEXAAAAngYbh/aJEyfqxMREPXDgQJ2ZmanLy8v/eaR8mw3tT5J8nOS7JDMddwEAAOBpsHFoX758uU5MTNRDhw7VpaWlTd/d3kZD+60knyfZneTDrJ9s7+u0EQAAAOOvaZqHq6urdW1trbZtW69evVqvX7++6cheXV2tpZRHXXfeAoeTfP04O5McSfJ7km+y/lE0AAAA2FwpZenmzZtP9B/tW7du1aZpFrvuvAVey/q/s99M8mySV7J+mr03yevd1QIAAGDsnT17dnJhYeGnK1eufD8cDpdHZTAYrC0sLPxy7ty597vuDAAAAGNrfn5+Z7/ff7vf7x/u9/vHR+X8+fNHe73eO2fOnHm+684AAAAw1qanp3fMz8/vaprmpVEppeyenp7e0XVXAAAAAAAAAAAAAAAAAAAAAAAAAAAAAAAAAAAAAAAAAAAAAAAAAAAAAAAAAAAAAAAAAAAAAAAAAAAAAAAAAAAAAAAAAAAYC38D0tJY8LY9R4wAAAAASUVORK5CYII= class=\"jupyter-widget\">\n",
       "<script type=\"application/vnd.jupyter-embedded-widgets\">[{},{},{\"description\":\"x\",\"value\":true,\"layout\":\"IPY_MODEL_13018d36b9d446ae9875c3fa820165a9\"},{\"layout\":\"IPY_MODEL_a2e0c6d464d04cf5a975cf6e42e5a5ae\",\"children\":[\"IPY_MODEL_47c0479eb5c643caa8f0f690fdeb05ac\"],\"_dom_classes\":[\"widget-interact\"]}]</script>"
      ]
     },
     "metadata": {
      "isWidgetSnapshot": true
     },
     "output_type": "display_data"
    },
    {
     "data": {
      "text/plain": [
       "True"
      ]
     },
     "metadata": {},
     "output_type": "display_data"
    }
   ],
   "source": [
    "interact(f);"
   ]
  },
  {
   "cell_type": "markdown",
   "metadata": {
    "deletable": true,
    "editable": true
   },
   "source": [
    "https://docs.python.org/3/tutorial/controlflow.html#function-annotations"
   ]
  },
  {
   "cell_type": "code",
   "execution_count": 20,
   "metadata": {
    "collapsed": true,
    "deletable": true,
    "editable": true
   },
   "outputs": [],
   "source": [
    "def anno_func(ham: str, eggs: str = 'eggs') -> str:\n",
    "    print(\"Annotations:\", anno_func.__annotations__)\n",
    "    print(\"Arguments:\", ham, eggs)\n",
    "    return ham + ' and ' + eggs"
   ]
  },
  {
   "cell_type": "code",
   "execution_count": 21,
   "metadata": {
    "collapsed": false,
    "deletable": true,
    "editable": true
   },
   "outputs": [
    {
     "name": "stdout",
     "output_type": "stream",
     "text": [
      "Annotations: {'eggs': <class 'str'>, 'return': <class 'str'>, 'ham': <class 'str'>}\n",
      "Arguments: lulu eggs\n"
     ]
    },
    {
     "data": {
      "text/plain": [
       "'lulu and eggs'"
      ]
     },
     "execution_count": 21,
     "metadata": {},
     "output_type": "execute_result"
    }
   ],
   "source": [
    "anno_func('lulu')"
   ]
  },
  {
   "cell_type": "code",
   "execution_count": 22,
   "metadata": {
    "collapsed": false,
    "deletable": true,
    "editable": true
   },
   "outputs": [
    {
     "data": {
      "text/plain": [
       "{'eggs': str, 'ham': str, 'return': str}"
      ]
     },
     "execution_count": 22,
     "metadata": {},
     "output_type": "execute_result"
    }
   ],
   "source": [
    "anno_func.__annotations__"
   ]
  },
  {
   "cell_type": "code",
   "execution_count": 23,
   "metadata": {
    "collapsed": true,
    "deletable": true,
    "editable": true
   },
   "outputs": [],
   "source": [
    "from IPython.utils.py3compat import annotate"
   ]
  },
  {
   "cell_type": "code",
   "execution_count": 24,
   "metadata": {
    "collapsed": true,
    "deletable": true,
    "editable": true
   },
   "outputs": [],
   "source": [
    "@annotate(x=True)\n",
    "def f(x):\n",
    "    return x"
   ]
  },
  {
   "cell_type": "code",
   "execution_count": 25,
   "metadata": {
    "collapsed": false,
    "deletable": true,
    "editable": true
   },
   "outputs": [
    {
     "data": {
      "image/png": "[encoded data removed]",
      "text/html": [
       "<img src=data:image/png;base64,iVBORw0KGgoAAAANSUhEUgAAA9oAAAAxCAYAAAAlfNGbAAADLElEQVR4nO3dv2udVRwG8Ke11YKC4KLgP9BJdHRxyZXSDnYJpRDof1DcxFIhd3HI2G5BMMs9d4hJipChXfqCBlKuxisGIml6gz9ABRHBweJgj0OjpJrYTn1vuZ8PfIf3PcuzPrznnDcBAAAAAAAAAAAAAAAAAAAAAAAAAAAAAAAAAAAAAAAAAAAAAAAAAAAAAAAAAAAAAAAAAAAAAAAAAAAAAAAAAAAAACbbwsLCiVLK2VLK2/8z5xcWFl5qOysAAACMtX6//8rS0tL2tWvXhqurq81hs7Ky8uXi4uK3/X7/ZNuZAQAAYGz1+/3V9fX1e6PR6M+Hza1bt+71er21tjMDAADA2Or1end3dnbq7u7uQ2dnZ6eWUu62nfkxmE/yS5JvkryV5M0kXycZ7j0DAADAwUophxbrjY2NeunSpdrtdv95V0qpbWd+DJ5O8m6SX5O8nOTZJJ8keTHJUy3mAgAAYNwdVrQHg0E9d+5cnZ6eroPBYNKKdpI8k2SQ5KMk7yeZTnKk1UQAAACMv/1FezQa1c3Nzbq1tVUvXLhQz5w5U5umqaPRaBKLdpK8luT3JB/Hl2wAAAAexf6iPTs7W2dmZurly5drp9Opy8vLD5TsCSzazyf5LsmPSV5oOQsAAABPgv1Fe25urk5NTdVOp1OvXLlS79y5858t5RNWtK8mOZvkqyQftpwFAACAJ8H+or22tlZPnz5dL168WG/fvn3g2e0JKtpvJPkg97eMv57kjySnWk0EAADA+Pv3Ge3t7e1DS/YEFe3ZJN8n+SzJc0neSfJbkh9y/2I0AAAAOFiv1/t8OBw+0n+0h8NhLaV82nbmx+B4khO5f/N4khzbez6xtwYAAAAHK6WcWl5e/vn69etfNE2z9vfcvHnzgblx48bGysrKT6WUTtuZAQAAYGx1u92ji4uLr5ZS3uv3+1cPm731k91u92jbmQEAAGCs1VqPNE1zbH5+/vhh0zTNsVrrkbazAgAAAAAAAAAAAAAAAAAAAAAAAAAAAAAAAAAAAAAAAAAAAAAAAAAAAAAAAAAAAAAAAAAAAAAAAAAAAAAAAAAAAAAAAADAWPgLZ7VZEOWwhqwAAAAASUVORK5CYII= class=\"jupyter-widget\">\n",
       "<script type=\"application/vnd.jupyter-embedded-widgets\">[{},{},{\"description\":\"x\",\"value\":true,\"layout\":\"IPY_MODEL_9da69a0a845149469aec601885364a44\"},{\"layout\":\"IPY_MODEL_866bc9c264834f538b1c5d808afc8dd7\",\"children\":[\"IPY_MODEL_0694d7880f4d4c269ba86907e3da0676\"],\"_dom_classes\":[\"widget-interact\"]}]</script>"
      ]
     },
     "metadata": {
      "isWidgetSnapshot": true
     },
     "output_type": "display_data"
    },
    {
     "data": {
      "text/plain": [
       "True"
      ]
     },
     "metadata": {},
     "output_type": "display_data"
    }
   ],
   "source": [
    "interact(f);"
   ]
  },
  {
   "cell_type": "code",
   "execution_count": 26,
   "metadata": {
    "collapsed": true,
    "deletable": true,
    "editable": true
   },
   "outputs": [],
   "source": [
    "def f(a, b):\n",
    "    return a+b"
   ]
  },
  {
   "cell_type": "code",
   "execution_count": 27,
   "metadata": {
    "collapsed": true,
    "deletable": true,
    "editable": true
   },
   "outputs": [],
   "source": [
    "w = interactive(f, a=10, b=20)"
   ]
  },
  {
   "cell_type": "code",
   "execution_count": 28,
   "metadata": {
    "collapsed": false,
    "deletable": true,
    "editable": true
   },
   "outputs": [
    {
     "data": {
      "text/plain": [
       "ipywidgets.widgets.widget_box.Box"
      ]
     },
     "execution_count": 28,
     "metadata": {},
     "output_type": "execute_result"
    }
   ],
   "source": [
    "type(w)"
   ]
  },
  {
   "cell_type": "code",
   "execution_count": 29,
   "metadata": {
    "collapsed": false,
    "deletable": true,
    "editable": true
   },
   "outputs": [
    {
     "data": {
      "text/plain": [
       "(<ipywidgets.widgets.widget_int.IntSlider at 0x7fb7f0d24748>,\n",
       " <ipywidgets.widgets.widget_int.IntSlider at 0x7fb7f0d15240>)"
      ]
     },
     "execution_count": 29,
     "metadata": {},
     "output_type": "execute_result"
    }
   ],
   "source": [
    "w.children"
   ]
  },
  {
   "cell_type": "code",
   "execution_count": 30,
   "metadata": {
    "collapsed": false,
    "deletable": true,
    "editable": true
   },
   "outputs": [
    {
     "data": {
      "image/png": "[encoded data removed]",
      "text/html": [
       "<img src=data:image/png;base64,iVBORw0KGgoAAAANSUhEUgAAA9oAAABRCAYAAAAtiN7BAAAKiUlEQVR4nO3db6gc1R3G8UdTbayxSo2aqqFFImpEDBHFiFq0TYsR8qYqKVKwiLRgafFP075oigU1FtLSYqimrdDGamnoG19ZUfzTCtWb7O7s7pxzZnZzd2/uXWIi14IYdLk3N6cvZm9z3WR3c0NmZ3f9fuCB7MkM+RHOvHjY2RkJAAAAAAAAAAAAAAAAAAAAAAAAAAAAAAAAAAAAAAAAAAAAAAAAAAAAAAAAAAAAAAAAAAAAAAAAAAAA+MyZmpq6xBhzX4/ck/WcAAAAAAAMvFqttt5au9taO9EtYRiOG2Nez3peAAAAAAAGmrX2NWutj6KoZ4wxc+Pj4xuynhkAAAAAgIFlrZ2MosjHcdwzxhgfRdHmrGcGAAAAAGBgOecaiyna1totWc8MAAAAAMDAomgDAAAAAHAKUbQBAAAAADiFKNoj7UxJP5L0L0mXdjhmg6TnJG2X9Kyktf0ZDQAAAABGFEV7ZF0s6Y+SdkryklYd55jbJb0jab2kayRtkvSupMv6NCMAAAAAjB6K9shaLelbkr6vzkX7VUk7lHzzLUnnSHpL0rZ+DAgAAABgON2ppEhsl/RXSU9IWp7pRAOGoj2yzpb0eUl36fhF+2JJH0u6u239SUkTaQ8HAAAAYHi9KOm7Sm6LvV7SPyT9KdOJBgxFe+R1Ktq3ttava1u/X9JhSeelPxoAAACAYfR1SV9s/fk0ST+U9KGkc3ud2Gg0znfObTXGPDPKsdYeWkzRNsaMZT1z2omi6KlarXZFivuynzoV7Y2t9Svb1je11lemPxoAAACAYbRW0lYlD4V6WtI/lZSIr/Q60Vr75r59+6YPHDjw4SjHOXdkMUW7Xq83s5457UxOTn5QqVTeSHdr9k2non1Ha/3qtvV7W+sr0h8NAAAAwLC5QMkTlH8raY2S28cfVucHQ31KPp8/3Gw2/ezs7FBkZmbmpFKpVPxiivbBgwdP+t86FenH/2Wz2fRBEMykujv7p1PRXt1av61t/SFJH0k6I/3RAAAAAAyb2yXNKbl9fN49OsGiXSgUjszNzflRV61WF1W0p6ensx45dbOzsz6Xy/mU9mW/dSraSyVNSXqkbf15Sa/0YS4AAAAAQ+haSUeUPNxJSn6j/XudYNGuVCp2YmLC79+/f6QTRZEPgsDn8/meKZVKfnx8PPOZ006tVvPVarWS3tbsq05FW5I2Syro6JP4r1JSvu/sz2gAAAAAhs1ZSn6f/Y6k5yT9WtJOJaVjp6SuD7uq1+s3RlG0JY7jHaMc59yhXC7nx8bGeqZYLPowDHdnPXPaMcY8Xq/X16S9QVN2lpJX272qZM//Tck1sNBySY8p+RZ7u6QXJD2o5NVgAAAAAHBcFyl5rdcaJQ99ulzSzUq+7V7W7cRdu3YtieN4eblcXjnKcc69l8/n/Z49e3qmVCr5IAi2ZT1z2ikWixemvjPTt0TJPr9OyZ6fvwbaXaSjzzC4VifwRH4AAAAAQBfOuUahUPC5XK5nWkWb92gDAAAAANCJc64RBIEvFAo9UyqVfKlUomgDAAAAANCJc65RLBZ9EAQ9Uy6XKdoAAAAAAHTjnGu0CnTPlMtlH4YhRRsAAAAAgE6cc40wDP0iQtEGAAAAAKAT51zDWutPJGEYemstRRsAAAAAgE6cc40oinwcxz1jjKFoAwAAAADQjXOuEcexr1arPUPRBgAAAACgB+fc2845X6lUupbsOI7nbx1fn/XMAAAAAAAMLGPMDXEcvx9FUdM5N9Mp1tpPoih6yRizLOuZAQAAAAAYWN77JXEcX18ul29yznXLur17967Kel4AAAAAAAAAAAAAAAAAAAAAAAAAAAAAAAAAAAAAI2RqauoSY8x9PXJP1nMCAAAAADDwarXaemvtbmvtRLeEYThujHk963kBAAAAABho1trXrLU+iqKeMcbMjY+Pb8h6ZgAAAAAABpa1djKKIh/Hcc8YY3wURZuznhkAAAAAgIHlnGsspmhba7dkPTMAAAAAAAOLog0AAAAAwClE0QYAAAAAnKiNkp6X9G9Jl2Y8y8CiaI+kcyQ9IOkPkp6W9BdJP5G07DjHbpD0nKTtkp6VtLZPMwIAAAAYQiskPSzJS1qV8SwDi6I9kr4h6T+SbpF0jaR1kl6X9Lu2426X9I6k9a3jNkl6V9JlfZsUAAAAwNC5SxTtrijaI+mbkp6Q9LnW59Ml/VzSfyWdu+C4VyXtkHRm6/M5kt6StK0/YwIAAAAYRvNF+9uStkp6UdIvdLRYfOZRtEfSuZK+3Lb2PSXXwvLW54slfSzp7rbjnpQ0keZwAAAAAIbbfNHeJukqJbfQvivpx1kONUgo2p8Z2yTtkXRG6/OtSq6N69qOu1/SYUnn9W80AAAAAMNkvmjf1fp8uqTfSIolndbtxEajcb5zbqsx5plRjrX20GKKtjFmLOuZ004URU/VarUr0t2afbVCkpN054K1jUqujSvbjt3UWl/Zn9EAAAAADJv5on31grX7JM1KuqDbidbaN/ft2zd94MCBD0c5zrkjiyna9Xq9mfXMaWdycvKDSqXyRnrbsq+WSvqzpEclfWHB+h069tqQpHtb6yv6MRwAAACA4TNftC9fsPad1tol3U7M5/OHm82mn52dHYrMzMycVCqVil9M0T548OBJ/1unIv34v2w2mz4IgpkU92W/nKHkSeOPSjq/7e9WK7kObmtbf0jSRzp6izkAAAAAfMp80V63YG2+SCztdmKhUDgyNzfnR121Wl1U0Z6ens565NTNzs76XC7nU9yX/bBE0q8k/VTJ3RuXSfqBjj51fKmkKUmPtJ33vKRX+jQjAAAAgCE0X7SfbH0+U9IbSp4+3lWlUrETExN+//79I50oinwQBD6fz/dMqVTy4+Pjmc+cdmq1mq9Wq5UU92XaTpP0S0k7JX1Nye+wH1BSrL+64LjNkgo6+iTyq1rHLPwtNwAAAAD830ZJLysp2j9T8u3e3yW9pGMfAHWMer1+YxRFW+I43jHKcc4dyuVyfmxsrGeKxaIPw3B31jOnHWPM4/V6fU2quzNdt0h6X9IBJUW6IKmuY98pv1zSY0q+xd4u6QVJD0o6u4+zAgAAABgiKyStlXSzkncGr1byKqMrlDx9vKtdu3YtieN4eblcXjnKcc69l8/n/Z49e3qmVCr5IAi2ZT1z2ikWixemujPT9yUl+/54af/JxEWS1ki6RtK1OnprOQAAAADgZDjnGoVCwedyuZ5pFW3eow0AAAAAQCfOuUYQBL5QKPRMqVTypVKJog0AAAAAQCfOuUaxWPRBEPRMuVymaAMAAAAA0I1zrtEq0D1TLpd9GIYUbQAAAAAAOnHONcIw9IsIRRsAAAAAgE6ccw1rrT+RhGHorbUUbQAAAAAAOnHONaIo8nEc94wxhqINAAAAAEA3zrlGHMe+Wq32DEUbAAAAAIAenHNvO+d8pVLpWrLjOJ6/dXx91jMDAAAAADCwjDE3xHH8fhRFTefcTKdYaz+JouglY8yyrGcGAAAAAGBgee+XxHF8fblcvsk51y3r9u7duyrreQEAAAAAAAAAAAAAAAAAAAAAAAAAAAAAAAAAAAAAAAAAAAAAAAAAAAAAAAAAwMD7H9ZushbNQbjMAAAAAElFTkSuQmCC class=\"jupyter-widget\">\n",
       "<script type=\"application/vnd.jupyter-embedded-widgets\">[{},{},{\"description\":\"a\",\"layout\":\"IPY_MODEL_452d77ea4ebb4f06b7b674f6d67b6e73\",\"max\":30,\"value\":10,\"min\":-10},{},{\"description\":\"b\",\"layout\":\"IPY_MODEL_b8763a4be5594196bfe7baaa1a4a62ff\",\"max\":60,\"value\":20,\"min\":-20},{\"layout\":\"IPY_MODEL_55104486fb6042a3a231d7ee809f8b01\",\"children\":[\"IPY_MODEL_2470abbd56424efc86c50454dbb91139\",\"IPY_MODEL_5886c038f8344be799b05e7e1837c084\"],\"_dom_classes\":[\"widget-interact\"]}]</script>"
      ]
     },
     "metadata": {
      "isWidgetSnapshot": true
     },
     "output_type": "display_data"
    },
    {
     "data": {
      "text/plain": [
       "30"
      ]
     },
     "metadata": {},
     "output_type": "display_data"
    }
   ],
   "source": [
    "from IPython.display import display\n",
    "display(w)"
   ]
  },
  {
   "cell_type": "code",
   "execution_count": 31,
   "metadata": {
    "collapsed": false,
    "deletable": true,
    "editable": true
   },
   "outputs": [
    {
     "data": {
      "text/plain": [
       "{'a': 10, 'b': 20}"
      ]
     },
     "execution_count": 31,
     "metadata": {},
     "output_type": "execute_result"
    }
   ],
   "source": [
    "w.kwargs"
   ]
  },
  {
   "cell_type": "code",
   "execution_count": 32,
   "metadata": {
    "collapsed": true,
    "deletable": true,
    "editable": true
   },
   "outputs": [],
   "source": [
    "def slow_function(i):\n",
    "    print(int(i),list(x for x in range(int(i)) if\n",
    "                str(x)==str(x)[::-1] and\n",
    "                str(x**2)==str(x**2)[::-1]))\n",
    "    return"
   ]
  },
  {
   "cell_type": "code",
   "execution_count": 33,
   "metadata": {
    "collapsed": false,
    "deletable": true,
    "editable": true
   },
   "outputs": [
    {
     "name": "stdout",
     "output_type": "stream",
     "text": [
      "1000000 [0, 1, 2, 3, 11, 22, 101, 111, 121, 202, 212, 1001, 1111, 2002, 10001, 10101, 10201, 11011, 11111, 11211, 20002, 20102, 100001, 101101, 110011, 111111, 200002]\n",
      "CPU times: user 519 ms, sys: 0 ns, total: 519 ms\n",
      "Wall time: 518 ms\n"
     ]
    }
   ],
   "source": [
    "%%time\n",
    "slow_function(1e6)"
   ]
  },
  {
   "cell_type": "code",
   "execution_count": 34,
   "metadata": {
    "collapsed": false,
    "deletable": true,
    "editable": true
   },
   "outputs": [
    {
     "data": {
      "image/png": "[encoded data removed]",
      "text/html": [
       "<img src=data:image/png;base64,iVBORw0KGgoAAAANSUhEUgAAA9oAAAAvCAYAAAAcoLJwAAAEuUlEQVR4nO3dPahkZx0G8AcSN0F3IWpkDSRERASD0SoGi3RCXE0iShD8iCIWCspWFiEBBRc/CGmMTQpTpLFImSK9Jk129869d2bOOTNndtf9KDawhaSJ3jXek2JmBCc7M1czkzl78/vBU8zLn/eeGd7mYe6ckwAAAAAAAAAAAAAAAAAAAAAAAAAAAAAAAAAAAAAAAAAAAAAAAAAAQJKkLMt7i6J4vCiKby9KVVWPNE1z26avFwAAAFprd3f3I1VVPVcUxd+rqnpzUcqyvFhV1Q83fc0AAADQWt1u9/6qqv5dVVUzGAwWpizLpizLNzZ9zQAAANBaw+HwRFVVzXA4XJpJ2f7npq8ZAAAAWqsoim8MBgNFGwAAAFZB0QYAAIAVUrQBAADg4D6W5PEkH5o3oGizZrckeSDJE0mOzZn5TJKvJ3k4yYkkn7wJZt6vfQEAgJb5fJIyydF5A4o2a3Q0yWNJnk+yn3HRnPWpJH9M8mySp5I8l+RUkjtaPLOu9wAAANwEjid5MsmReQOKNmv02STPJPl9kiY3Ltq/TfLXJB+dvP50klGS77V4Zl3vAQAAaLljGX+b+IPM/5ddRZt1ujvJnRn/fOFGRftokjeS/Hxm/YUkr7Z0Zta69gUAAFroeJI/Z/43iUn+v6JdFMURORx5n87ivKL9xcn6QzPrJ5O8leT2Fs7MWte+AABAS80rOP/xvxbtoij+tbOz89NVp9PpfCCyjs/uPeaJK1eu3L+hc/i1yfp9M+vfnazf1cKZWevaFwAAaKl1FO3m0qVLK8/Fixc/EFnHZ/decv78+f26rl/a0Dl8dLL+uZn170zW727hzKx17QsAALTUyot2WZYNh8fe3l6zvb29v6Fz+OXJ+oMz6z9JspfxvQXaNjNrXfsCAAAtdeCi3ev1lqbf7zdFUTT7+/tySHL9+vWm0+lsqmh/IsmbSb4/s/5sxo+la+PMrHXtCwAAtNSBi/bp06eXZmtrq+n1es21a9fkkOTq1atv9/v91zZ4Dl/K+KZ9H568/niS15M83eKZO5J8M8mtK94XAABouWNJTmVccH6UOb8DnRbtM2fOLM3W1lbT7Xbf7nQ6L8rhSLfbfeHy5cuzd8NelVuTnEjym8k5/HGSr8zMPJjklYy/7X04yc+SvJzknhbPfCHJ3zJ+bNcq9wUAAFrueJLfJXkxya8yfsTQu0yL9tmzZ5em0+k0vV7Pc7Q5qNszPnvPZHwOTyX5xQ3mHkry6yRPJfll3n137rbN3JvkD/nvx3Kt6m8DAAA3u2nR7nQ6S7O9va1oAwAAwCLTor2zs7M0u7u7Tb/fV7QBAABgnmnR7na7B4qiDQAAAAtMi3a/3z9QiqJQtAEAAGCeadEuy3JpiqJQtAEAAGCRadE+SKqqUrQBAABgkWnRrut6aSbffCvaAAAAME9RFF8dDAbNuXPnlmY4HDZVVf1j09cMAAAArTUaje4bDAZ7dV03o9FoYYbDYVOW5blNXzMAAAC0VtM0R4bD4Z+qqtodDAaXFqWqqr/UdX1y09cMAAAArTYajW6r6/pbdV2fXJQLFy58adPXCgAAAAAAAAAAAAAAAAAAAAAAAAAAAAAAAAAAAAAA0CLvAE2R9wHPj5AxAAAAAElFTkSuQmCC class=\"jupyter-widget\">\n",
       "<script type=\"application/vnd.jupyter-embedded-widgets\">[{},{},{\"description\":\"i\",\"layout\":\"IPY_MODEL_11f985e16f3d4698bebb34105670d33d\",\"step\":100000,\"max\":10000000,\"value\":100000,\"min\":100000},{\"layout\":\"IPY_MODEL_22f36920d6ad4cb1a7fe3fee40a2f703\",\"children\":[\"IPY_MODEL_79dd7ba147d94fa28ecd83db3df8c6f4\"],\"_dom_classes\":[\"widget-interact\"]}]</script>"
      ]
     },
     "metadata": {
      "isWidgetSnapshot": true
     },
     "output_type": "display_data"
    },
    {
     "name": "stdout",
     "output_type": "stream",
     "text": [
      "100000 [0, 1, 2, 3, 11, 22, 101, 111, 121, 202, 212, 1001, 1111, 2002, 10001, 10101, 10201, 11011, 11111, 11211, 20002, 20102]\n"
     ]
    },
    {
     "data": {
      "text/plain": [
       "<function __main__.slow_function>"
      ]
     },
     "execution_count": 34,
     "metadata": {},
     "output_type": "execute_result"
    }
   ],
   "source": [
    "from ipywidgets import FloatSlider\n",
    "\n",
    "interact(slow_function,i=FloatSlider(min=1e5, max=1e7, step=1e5))"
   ]
  },
  {
   "cell_type": "code",
   "execution_count": 35,
   "metadata": {
    "collapsed": false,
    "deletable": true,
    "editable": true
   },
   "outputs": [
    {
     "data": {
      "image/png": "[encoded data removed]",
      "text/html": [
       "<img src=data:image/png;base64,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 class=\"jupyter-widget\">\n",
       "<script type=\"application/vnd.jupyter-embedded-widgets\">[{},{},{\"description\":\"i\",\"layout\":\"IPY_MODEL_dcf1c3e9d0154b9a8f189b4e45783bdd\",\"step\":100000,\"max\":10000000,\"value\":100000,\"min\":100000},{},{\"description\":\"Run slow_function\",\"layout\":\"IPY_MODEL_c115d306bf0c4a648299506e744788c7\"},{\"layout\":\"IPY_MODEL_5ff557d02262472cba24161c04be3533\",\"children\":[\"IPY_MODEL_e6ede124e5414ec6b85635b37367ccb4\",\"IPY_MODEL_09a9e01dad25457ea0b3d9d3cdb58767\"],\"_dom_classes\":[\"widget-interact\"]}]</script>"
      ]
     },
     "metadata": {
      "isWidgetSnapshot": true
     },
     "output_type": "display_data"
    },
    {
     "data": {
      "text/plain": [
       "<function __main__.slow_function>"
      ]
     },
     "execution_count": 35,
     "metadata": {},
     "output_type": "execute_result"
    }
   ],
   "source": [
    "interact(slow_function,i=FloatSlider(min=1e5, max=1e7, step=1e5),__manual=True)"
   ]
  },
  {
   "cell_type": "code",
   "execution_count": 36,
   "metadata": {
    "collapsed": false,
    "deletable": true,
    "editable": true
   },
   "outputs": [
    {
     "data": {
      "image/png": "[encoded data removed]",
      "text/html": [
       "<img src=data:image/png;base64,iVBORw0KGgoAAAANSUhEUgAAA9oAAAAvCAYAAAAcoLJwAAAEi0lEQVR4nO3dT4ic5R0H8C9KNWkQRURLiBdR/Ic2qBRbSqEFKSooiILgRfDgQRFqwbMHEQ96EaEN0kuktNBDj6V4KLaHasjszu4778z7zrgbSSDEgwcRNN1teHvYGQ9jZifCTubN9vOB72Gf/fHsM8tz2C+zu28CAAAAAAAAAAAAAAAAAAAAAAAAAAAAAAAAAAAAAAAAAAAAAAAAAADf2tjYeKwsy+d3y/r6+l3LPicAAAC03nA4/EtZlsN+v//Zbun1eqt1Xb+87PMCAABAa1VVdX9VVd9UVdXMS7/fb8qy/HTZZwYAAIDWKori8aqqmrqu52Zctr9Z9pkBAACgtcqyfPJ7Fu3zyz4zAAAAtJaiDQAAAHtI0QYAAIBLd0eSvyY5NGtA0WbBrknySpJ/JjkyY+axJH9I8l6S3yd54AqYuVz7AgAALXNnkn8n+eGsAUWbBTqc5P0kx5M0SW6/yMyvknyc5JEk9yV5NsknSW5r8cyiXgMAAHAFOJCdH+qvmjWgaLNA9yT5dZIXM7tof5jkWHbe+U6S65J8lOTtFs8s6jUAAAAtdyTJB0n+ldm/sqtos0iHklyb5OlcvGgfTvJ1kmem1t9M8llLZ6Ytal8AAKCFDiR5NbPfSUyiaHNZzCravxivPzi1/kKS/ya5oYUz0xa1LwAA0FKzCs63vm/RLsvyQlmWv5P9kaqq3trc3LxzSffwifH6XVPrz47Xb23hzLRF7QsAALTUIop2c+7cuS9lf+T06dNfDIfDfyzpHj46Xr93av258fqPWjgzbVH7AgAALbXnRbvf7zfb29tLzdbW1v9FLsf38vz58023291a0j28Z7z+y6n13yT5KskPWjgzbVH7AgAALbWQos3+sb293XQ6nWZJ9/BAkjNJfju1/kGSv7d0Ztqi9gUAAFrqkov2ysrK3HS73abX6zVnz56VfZLNzc1mNBoNl3gPX0uymuSm8cd3Z6eUPt7imduS/DnJwT3eFwAAaLkjSf6WnYJzPMlPLzY0KdonTpyYm06n0xRFcaGu62OyP1KW5RunTp06uqA7eDA7z47+cHwP/5TknamZm5K8np13d99L8sckL2Xn0WBtnTmanZJ83R7vCwAAtNyBJA8k+XmSHye58WJDk6J98uTJuVlZWWmKovhPURS3yv7I2trazQu8g1eP796D43t4NN/9h2BJcsv4c/eN569v+cyhJD8Zv769/toAAMCVblK0O53O3KyurjZFUXiONgAAAMwyKdqrq6tzM/4bbUUbAAAAZpkU7W63Ozdra2uKNgAAAOxmUrTX19fnpiiKpixLRRsAAABmmRTtXq93SVG0AQAAYBeTot3v9y8pijYAAADsYlK067qem3EhV7QBAABglknRHo1Gc1PXtaINAAAAuxkOh3f3+/0LdV3PLdqDwaCpqurzZZ8ZAAAAWms0Gl07GAzerarqq8FgsLVbqqo6u7Gx8dSyzwwAAACtVlXV4dFo9PBgMPjZbqmq6qEzZ84cXPZ5AQAAAAAAAAAAAAAAAAAAAAAAAAAAAAAAAAAAAAAAWuJ/ofAadaUPzBwAAAAASUVORK5CYII= class=\"jupyter-widget\">\n",
       "<script type=\"application/vnd.jupyter-embedded-widgets\">[{},{},{\"description\":\"i\",\"layout\":\"IPY_MODEL_5febdc01f37f480f84c8f465f1baa8ed\",\"step\":100000,\"max\":10000000,\"value\":100000,\"min\":100000,\"continuous_update\":false},{\"layout\":\"IPY_MODEL_b4d809bcd3b047acae455471dd12a9ae\",\"children\":[\"IPY_MODEL_d78212b3eee6406b82226acf0d129032\"],\"_dom_classes\":[\"widget-interact\"]}]</script>"
      ]
     },
     "metadata": {
      "isWidgetSnapshot": true
     },
     "output_type": "display_data"
    },
    {
     "name": "stdout",
     "output_type": "stream",
     "text": [
      "100000 [0, 1, 2, 3, 11, 22, 101, 111, 121, 202, 212, 1001, 1111, 2002, 10001, 10101, 10201, 11011, 11111, 11211, 20002, 20102]\n"
     ]
    },
    {
     "data": {
      "text/plain": [
       "<function __main__.slow_function>"
      ]
     },
     "execution_count": 36,
     "metadata": {},
     "output_type": "execute_result"
    }
   ],
   "source": [
    "interact(slow_function,i=FloatSlider(min=1e5, max=1e7, step=1e5,continuous_update=False))"
   ]
  },
  {
   "cell_type": "code",
   "execution_count": 37,
   "metadata": {
    "collapsed": false,
    "deletable": true,
    "editable": true
   },
   "outputs": [
    {
     "data": {
      "image/png": "[encoded data removed]",
      "text/html": [
       "<img src=data:image/png;base64,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 class=\"jupyter-widget\">\n",
       "<script type=\"application/vnd.jupyter-embedded-widgets\">[{},{},{\"description\":\"x\",\"layout\":\"IPY_MODEL_2b5ec82729014f05a93431d8d6c1a136\",\"step\":0.05,\"max\":10},{},{\"description\":\"y\",\"layout\":\"IPY_MODEL_229ffafbac6d4bffb05e2c1a384c23fb\",\"step\":0.05,\"max\":10,\"value\":5,\"min\":0.5},{\"layout\":\"IPY_MODEL_61f7522447704852b0e4071f984da56b\",\"children\":[\"IPY_MODEL_48403b5610b94edca33094b8c2016e4b\",\"IPY_MODEL_ed11eb4ed4ba4df293f850c7fe63d99a\"],\"_dom_classes\":[\"widget-interact\"]}]</script>"
      ]
     },
     "metadata": {
      "isWidgetSnapshot": true
     },
     "output_type": "display_data"
    },
    {
     "name": "stdout",
     "output_type": "stream",
     "text": [
      "0.0 5.0\n"
     ]
    },
    {
     "data": {
      "text/plain": [
       "<function __main__.printer>"
      ]
     },
     "execution_count": 37,
     "metadata": {},
     "output_type": "execute_result"
    }
   ],
   "source": [
    "x_widget = FloatSlider(min=0.0, max=10.0, step=0.05)\n",
    "y_widget = FloatSlider(min=0.5, max=10.0, step=0.05, value=5.0)\n",
    "\n",
    "def update_x_range(*args):\n",
    "    x_widget.max = 2.0 * y_widget.value\n",
    "y_widget.observe(update_x_range, 'value')\n",
    "\n",
    "def printer(x, y):\n",
    "    print(x, y)\n",
    "interact(printer,x=x_widget, y=y_widget)"
   ]
  },
  {
   "cell_type": "code",
   "execution_count": null,
   "metadata": {
    "collapsed": true,
    "deletable": true,
    "editable": true
   },
   "outputs": [],
   "source": []
  }
 ],
 "metadata": {
  "kernelspec": {
   "display_name": "Python 3",
   "language": "python",
   "name": "python3"
  },
  "language_info": {
   "codemirror_mode": {
    "name": "ipython",
    "version": 3
   },
   "file_extension": ".py",
   "mimetype": "text/x-python",
   "name": "python",
   "nbconvert_exporter": "python",
   "pygments_lexer": "ipython3",
   "version": "3.4.6"
  },
  "widgets": {
   "state": {
    "34f9438deb064d61876690e521b38176": {
     "views": [
      {
       "cell_index": 16
      }
     ]
    },
    "3d8d359bc6bf456297faac8bed8f54c1": {
     "views": [
      {
       "cell_index": 10
      }
     ]
    },
    "3fa3e1120194439e9b7932265ddc5a24": {
     "views": [
      {
       "cell_index": 14
      }
     ]
    },
    "42986822293f4eb79749778519564f78": {
     "views": [
      {
       "cell_index": 4
      }
     ]
    },
    "472dcb9a2d474ec486049dcb2f50f20f": {
     "views": [
      {
       "cell_index": 31
      }
     ]
    },
    "4e2c689a57f04ba988c87c64dfaa8d7f": {
     "views": [
      {
       "cell_index": 36
      }
     ]
    },
    "4fd5a530c5614dbbb60dca68eee859cb": {
     "views": [
      {
       "cell_index": 15
      }
     ]
    },
    "529581ba680247e7b69afc54f6e8232d": {
     "views": [
      {
       "cell_index": 12
      }
     ]
    },
    "65fddce3906c43f19a85af50c820b5a6": {
     "views": [
      {
       "cell_index": 37
      }
     ]
    },
    "74ded1b8c5804cebbce9e59647116cba": {
     "views": [
      {
       "cell_index": 19
      }
     ]
    },
    "75072a061ef84124bf96c94b29e3fb2c": {
     "views": [
      {
       "cell_index": 5
      }
     ]
    },
    "7f82f6938de74a34b112cd8d2a9b9ee7": {
     "views": [
      {
       "cell_index": 11
      }
     ]
    },
    "7fac68ff06574398a99edfb3864e98b6": {
     "views": [
      {
       "cell_index": 8
      }
     ]
    },
    "9011b58817a946ccb94c95e031f4c6f3": {
     "views": [
      {
       "cell_index": 17
      }
     ]
    },
    "92d47668b26c4897a8f2d6bc91a24a52": {
     "views": [
      {
       "cell_index": 13
      }
     ]
    },
    "d3e0a0c7862c4d3e881de6bfab484277": {
     "views": [
      {
       "cell_index": 3
      }
     ]
    },
    "d5732d982aef4af9bbb004a1aeddd10d": {
     "views": [
      {
       "cell_index": 6
      }
     ]
    },
    "ec1e0e3177174dd68501f6159863bc8b": {
     "views": [
      {
       "cell_index": 26
      }
     ]
    },
    "f0dc64c8c7314b2886451101b7ce33c8": {
     "views": [
      {
       "cell_index": 38
      }
     ]
    },
    "f23b0ddd14164d219234fabb53f36811": {
     "views": [
      {
       "cell_index": 35
      }
     ]
    }
   },
   "version": "1.2.0"
  }
 },
 "nbformat": 4,
 "nbformat_minor": 2
}
