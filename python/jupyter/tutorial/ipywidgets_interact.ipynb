{
 "cells": [
  {
   "cell_type": "markdown",
   "metadata": {
    "deletable": true,
    "editable": true
   },
   "source": [
    "# Using Interact\n",
    "\n",
    "* https://ipywidgets.readthedocs.io/en/latest/examples/Using%20Interact.html"
   ]
  },
  {
   "cell_type": "code",
   "execution_count": 20,
   "metadata": {
    "collapsed": true,
    "deletable": true,
    "editable": true
   },
   "outputs": [],
   "source": [
    "from __future__ import print_function\n",
    "from ipywidgets import interact, interactive, fixed\n",
    "import ipywidgets as widgets"
   ]
  },
  {
   "cell_type": "code",
   "execution_count": 21,
   "metadata": {
    "collapsed": true,
    "deletable": true,
    "editable": true
   },
   "outputs": [],
   "source": [
    "def f(x):\n",
    "    return x"
   ]
  },
  {
   "cell_type": "code",
   "execution_count": 22,
   "metadata": {
    "collapsed": false,
    "deletable": true,
    "editable": true
   },
   "outputs": [
    {
     "data": {
      "image/png": "[encoded data removed]",
      "text/html": [
       "<img src=data:image/png;base64,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 class=\"jupyter-widget\">\n",
       "<script type=\"application/vnd.jupyter-embedded-widgets\">[{},{},{\"description\":\"x\",\"min\":-10,\"layout\":\"IPY_MODEL_01243f1a0c9142cea94b7a5ec57eb95e\",\"max\":30,\"value\":10},{\"_dom_classes\":[\"widget-interact\"],\"layout\":\"IPY_MODEL_11da81ef93754679a1d114cd260f7981\",\"children\":[\"IPY_MODEL_15e8fa2598b045cdbdcb624ff7c7ae77\"]}]</script>"
      ]
     },
     "metadata": {
      "isWidgetSnapshot": true
     },
     "output_type": "display_data"
    },
    {
     "data": {
      "text/plain": [
       "10"
      ]
     },
     "metadata": {},
     "output_type": "display_data"
    }
   ],
   "source": [
    "interact(f, x=10);"
   ]
  },
  {
   "cell_type": "code",
   "execution_count": 23,
   "metadata": {
    "collapsed": false,
    "deletable": true,
    "editable": true
   },
   "outputs": [
    {
     "data": {
      "image/png": "[encoded data removed]",
      "text/html": [
       "<img src=data:image/png;base64,iVBORw0KGgoAAAANSUhEUgAAA/cAAAAwCAYAAABUg4peAAAD4ElEQVR4nO3dT4jXdR7H8Vcb4WHrUrsk0iGo6BK4y7Jst0JJwUr5gZGgl0KPC6sgCF7GBS9CRh4CQSma3+/7+406jqX8ZtCRCXUdZ9iDP8bfoNPMb+kiFJ36Q01/+HQYqWEWOvqTfDzgfX9dn3y/8EkAAAAAAAAAAAAAAAAAAAAAAAAAAAAAAAAAAAAAAAAAAAAAAAAAAAAAAAAAAAAAAAAAAAAAAAAAAAAAAAAAAAAAAACAe1u73V7VbDb/2mq1NrRarVeqqnp1+dXr9Vq9Xq8NDg6uPXLkyKp+7wUAAABWGBkZefHMmTNj7Xb79tjY2FdjY2PfLL/R0dGfzp49W0ZGRj5qtVp/P3r06EP93gwAAAD86oFms3ny0qVL387OzpaFhYXS6/V+udnZ2XLhwoVSVVU5derUl1VVvVVV1Z/6PRoAAAC4Y2Bg4A9VVV3tdDo/rgz7Xq9XTp8+XXbu3FlqtVo5duzY51VV/afZbD7Z79130aNJNiapJflLkseSbEjyUpI/9nEXAAAALDlx4sSDVVVNdLvdH1aGfafTKXv27CkbN24s+/fvL9euXfvf8PBwr9FoPNPv3XfRs0kaSb5O8u8kzyW5nOS9JKv7uAsAAACW/FbcNxqNUqvVytatW0u73S7dbvd+jPskWZPkTJKBJC8k+VeSP/dzEAAAAPxiedxfv369XLx4sYyPj5fp6emye/fusmnTpnL48OEyMzNTbt26db/GfZI8n2QiyXiStUke7O8cAAAAuGN53J8/f77s3bu37Nq1qxw4cKBs3ry5bNu2rUxMTJT5+fn7Pe7XJHkzS7/kb0jiSUAAAADuDcvj/saNG+XQoUNly5YtZf369WXdunXl4MGDpdPplF6vdz/H/aNJXsvS1/uBJM0k/0jiSUAAAAD6707cX52Zmfmx1+uVycnJsm/fvrJ9+/ayY8eOMjo6Wubm5kqv1yvdbvfT4eHh2cHBwaf7vfsuejjJP5McTPJ4kqeSfJKkSvK3CHwAAAD6rZTyQFVVH09NTX138+bN7+fn5xfHx8cX6/X64tDQ0GK3211cWFhYnJub+35ycvKzkydPfliv15/o9+67aE2Sd+/c6iQvJ3k/yeksfc33HB4AAAD9NzQ0tKvdbl+9fPny7ampqS+mp6f/765cuXL73Llz/221Wm8cP378kX5vBgAAAFZoNpu1qqrebjQaH1RVNbjyGo3GO/V6/XVhDwAAAAAAAAAAAAAAAAAAAAAAAAAAAAAAAAAAAAAAAAAAAAAAAAAAAAAAAAAAAAAAAAAAAAAAAAAAAAAAAAAAAAAAAAAAAAAAAADA79vPTK/9fh87pFsAAAAASUVORK5CYII= class=\"jupyter-widget\">\n",
       "<script type=\"application/vnd.jupyter-embedded-widgets\">[{},{},{\"description\":\"x\",\"value\":true,\"layout\":\"IPY_MODEL_bfcb81a237d242e89c17106b606394d8\"},{\"_dom_classes\":[\"widget-interact\"],\"layout\":\"IPY_MODEL_879a914f3ca649c397acb3976d8ed27b\",\"children\":[\"IPY_MODEL_c934ae5dfe1e434597015b6102b5c493\"]}]</script>"
      ]
     },
     "metadata": {
      "isWidgetSnapshot": true
     },
     "output_type": "display_data"
    },
    {
     "data": {
      "text/plain": [
       "True"
      ]
     },
     "metadata": {},
     "output_type": "display_data"
    }
   ],
   "source": [
    "interact(f, x=True);"
   ]
  },
  {
   "cell_type": "code",
   "execution_count": 24,
   "metadata": {
    "collapsed": false,
    "deletable": true,
    "editable": true
   },
   "outputs": [
    {
     "data": {
      "image/png": "[encoded data removed]",
      "text/html": [
       "<img src=data:image/png;base64,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 class=\"jupyter-widget\">\n",
       "<script type=\"application/vnd.jupyter-embedded-widgets\">[{},{},{\"description\":\"x\",\"value\":\"Hi there!\",\"layout\":\"IPY_MODEL_13108b9c6cdf4c1d9de90a77cf4acff2\"},{\"_dom_classes\":[\"widget-interact\"],\"layout\":\"IPY_MODEL_92b5aaf9fe4946dfb44e609e5290123c\",\"children\":[\"IPY_MODEL_a565f77e1d724b25b6bbc9dffedc6803\"]}]</script>"
      ]
     },
     "metadata": {
      "isWidgetSnapshot": true
     },
     "output_type": "display_data"
    },
    {
     "data": {
      "text/plain": [
       "'Hi there!'"
      ]
     },
     "metadata": {},
     "output_type": "display_data"
    }
   ],
   "source": [
    "interact(f, x='Hi there!');"
   ]
  },
  {
   "cell_type": "code",
   "execution_count": 25,
   "metadata": {
    "collapsed": false,
    "deletable": true,
    "editable": true
   },
   "outputs": [
    {
     "data": {
      "image/png": "[encoded data removed]",
      "text/html": [
       "<img src=data:image/png;base64,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 class=\"jupyter-widget\">\n",
       "<script type=\"application/vnd.jupyter-embedded-widgets\">[{},{},{\"description\":\"x\",\"value\":true,\"layout\":\"IPY_MODEL_2cf0bb0ab5cf4c0e8e94c1ae1d8e3833\"},{},{\"description\":\"y\",\"min\":-1,\"layout\":\"IPY_MODEL_3745c3cd4e5b42bcae1e64ddb64770eb\",\"step\":0.1,\"max\":3,\"value\":1},{\"_dom_classes\":[\"widget-interact\"],\"layout\":\"IPY_MODEL_9286641fabc243919317a9eaa0945a9f\",\"children\":[\"IPY_MODEL_bade1283068d466a89ac7b73ffdf55a7\",\"IPY_MODEL_f3110ad48dcb4d75a301261bc2236abd\"]}]</script>"
      ]
     },
     "metadata": {
      "isWidgetSnapshot": true
     },
     "output_type": "display_data"
    },
    {
     "data": {
      "text/plain": [
       "(True, 1.0)"
      ]
     },
     "metadata": {},
     "output_type": "display_data"
    }
   ],
   "source": [
    "@interact(x=True, y=1.0)\n",
    "def g(x, y):\n",
    "    return (x, y)"
   ]
  },
  {
   "cell_type": "code",
   "execution_count": 26,
   "metadata": {
    "collapsed": true,
    "deletable": true,
    "editable": true
   },
   "outputs": [],
   "source": [
    "def h(p, q):\n",
    "    return (p, q)"
   ]
  },
  {
   "cell_type": "code",
   "execution_count": 27,
   "metadata": {
    "collapsed": false,
    "deletable": true,
    "editable": true
   },
   "outputs": [
    {
     "data": {
      "image/png": "[encoded data removed]",
      "text/html": [
       "<img src=data:image/png;base64,iVBORw0KGgoAAAANSUhEUgAAA/cAAAAvCAYAAACmAzoQAAAFVklEQVR4nO3dT4hdVx0H8J+0oYil1FZRa1qwhQYVEQQ3gtKVRKFok0WhVBciilBQXAhSSkUobuxGGEWwaBeutFn4F2kwG1eZybw/9917zpv73mMglEmMDXU2JlFyXMwUQ8A3M6Wvd/58PvBdvMV9/Hiczffdc++JAAAAAAAAAAAAAAAAAAAAAAAAAAAAAAAAAAAAAAAAAAAAAAAAAAAAADpQVdWDVVU9Vtf1ybquv/D/UlXVIysrK8e6nhcAAAC4xcWLF+8bjUY/appmra7r1+u6vjonL+WcT5RS7uh6bgAAAGBbSul00zSvpZRKznlu6rouTdM82+v17u16bgAAAGBbSunHKaU3cs5lPB7PTUqp1HV9djKZPNj13AAAAMC2nPNS0zSbyj0AAAAcUMo9AAAAHHDKPQAAABxwyv2R8UhEfDEinoiIz0TEu7sdBwAAgLeNcn8k3BUR34iIX0fEmYh4LiLu73QiAAAA3j7K/ZHwsYh4LCLe0/EcAAAAb9kDEfGp2NqWfDK2tiXf0+lE+4hyfyR8JyKeCtvxAQCAA+q+iHg+Is5GxHcj4uWIaCPidOyh5JRS7lxZWTl2GNM0zc9SSrsu96PR6K/D4fDhrudeREop71rIKuzeDyLiNxHxx4j4WvhzCwAAOGBORMTvI2I9Ir4aW9uSn4mIv0TER3bzBdPp9NNVVT3Z7/efPoxpmubVpmn+tYc796PBYPDtrudeRJaXl0/nnE/WdX33ohZkR+6NiDsi4vsRsRIRn4uIY51OBAAAsEenIuKliDi+/fnh2Lp7//GdLmzb9vh0On11Nptdm81m5TBmbW2tNE1TdlvuU0plOp12PvciMplMynQ6fX0ymZxs2/auBa7JLj0ZEd+LiPd1PQgAAMBe3F7uj0dELyI+utOFKaVvzmazy9euXSuH1aVLl0rOedflfn19vdy4caPrsRdmY2OjtG37i6qqPrDANdmlRyPihxHxoa4HAQAA2ItTEfGH+N82/M9GxC8j4qGdLkwpPbO+vv7369evl5s3bx7KbGxslKZpymg02lVms1k57L9H27Yv13X9wQWuyS6diq0XS3pzPgAAcKCciojViPhWbL0p/4WI+HLsotxMp9NHJ5PJ3y5fvnz96tWrNw9j1tfXy2AwKMvLy+X8+fNzs7q6WlJK5cqVK53PvcDf4x9t2379ED13f3dEfD621v4TEfFibJ0gAQAAcKC8uS3/lYg4ExHPRcT9u714Npt9ZTgc/qrf7/92dXX1lcOW0Wg07fV6/15eXi47pdfrlV6vd7nX6/2p67kXlfF4/ELbtu9f0FrswgMR8dPYWvtnIuITsfVyPQAAgAPl9mfuuUXOeWkwGGxeuHChrKyszE2v1yv9fv9sVVXOuQcAAOAdc+s594/HHs62PypyzkvD4XBzdXW17JR+v18Gg4FyDwAAwDvqRET8PN7CdvyjIue8VFXVZr/fLztlMBgo9wAAALDfvFnuh8Nh2WWUewAAANhPcs5Lo9FoczfH4FVVVUajkXIPAAAA+0nOeamu6826rkvTNHNT17VyDwAAAPtNznmpaZrNlFLJOc/NdsFX7gEAAGA/yTkvpZQ2x+NxWVtbm5uUUqnr+uxkMlHuAQAAYL9IKb2YUvpn27ZlMpnMTc651HX9u/F4/OGu5wYAAAC2pZSeSim9tra2Vtq2nZuU0n9SSs8Ph8P3dj03AAAAsK1t23vquv5JSmnQNM14Tqq6rv88Ho8/ee7cuTu7nhsAAAC4TUrp8Zzz03Pypel0+pBiDwAAAAAAAAAAAAAAAAAAAAAAAAAAAAAAAAAAAAAAAAfSfwHUOvptOlgOhQAAAABJRU5ErkJggg== class=\"jupyter-widget\">\n",
       "<script type=\"application/vnd.jupyter-embedded-widgets\">[{},{},{\"description\":\"p\",\"min\":-5,\"layout\":\"IPY_MODEL_3ee178ad91ef49d29b55d0ce55d17806\",\"max\":15,\"value\":5},{\"_dom_classes\":[\"widget-interact\"],\"layout\":\"IPY_MODEL_1bf7260df4424a98967fe6b2d6ce801c\",\"children\":[\"IPY_MODEL_9b59a4c6468e4869b94e489addc7a5fd\"]}]</script>"
      ]
     },
     "metadata": {
      "isWidgetSnapshot": true
     },
     "output_type": "display_data"
    },
    {
     "data": {
      "text/plain": [
       "(5, 20)"
      ]
     },
     "metadata": {},
     "output_type": "display_data"
    }
   ],
   "source": [
    "interact(h, p=5, q=fixed(20));"
   ]
  },
  {
   "cell_type": "code",
   "execution_count": 28,
   "metadata": {
    "collapsed": false,
    "deletable": true,
    "editable": true
   },
   "outputs": [],
   "source": [
    "widgets.IntSlider(min=-10,max=30,step=1,value=10);"
   ]
  },
  {
   "cell_type": "code",
   "execution_count": 29,
   "metadata": {
    "collapsed": false,
    "deletable": true,
    "editable": true
   },
   "outputs": [
    {
     "data": {
      "image/png": "[encoded data removed]",
      "text/html": [
       "<img src=data:image/png;base64,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 class=\"jupyter-widget\">\n",
       "<script type=\"application/vnd.jupyter-embedded-widgets\">[{},{},{\"description\":\"x\",\"min\":-10,\"layout\":\"IPY_MODEL_1c615deee9b34f8195513af3face5fd4\",\"max\":30,\"value\":10},{\"_dom_classes\":[\"widget-interact\"],\"layout\":\"IPY_MODEL_bd0006a346d14b24ac964ce024ab7ee4\",\"children\":[\"IPY_MODEL_7b29efe7bcd04357b190b613374bdce7\"]}]</script>"
      ]
     },
     "metadata": {
      "isWidgetSnapshot": true
     },
     "output_type": "display_data"
    },
    {
     "data": {
      "text/plain": [
       "10"
      ]
     },
     "metadata": {},
     "output_type": "display_data"
    }
   ],
   "source": [
    "interact(f, x=widgets.IntSlider(min=-10,max=30,step=1,value=10));"
   ]
  },
  {
   "cell_type": "code",
   "execution_count": 30,
   "metadata": {
    "collapsed": false,
    "deletable": true,
    "editable": true
   },
   "outputs": [
    {
     "data": {
      "image/png": "[encoded data removed]",
      "text/html": [
       "<img src=data:image/png;base64,iVBORw0KGgoAAAANSUhEUgAAA/cAAAAvCAYAAACmAzoQAAAFT0lEQVR4nO3dS4iddx0G4J/ViHZUbEVDTbWIUBIUV1JpQQJeFqKlQiuiYt3Y4qYL3Ykb8UJXLUIdFEQoKLoTdFFFC8ELWWSSnOv/cr6TuZiOk4kLoeMQcNR+Ls4EgjKXYCdn5uR54F0MnIEfH98s3jn/SwQAAAAAAAAAAAAAAAAAAAAAAAAAAAAAAAAAAAAAAAAAAAAAAAAAAAAwBSmlu5um+dBwOHy43+9/eqfUWt887VkBAACA/zIej9+SUvrBcDg8NxwO03A4zLvkV4PB4F3TnhkAAAC4wWg0+mJK6aVa6yu11na3pJT+ORwOny6lvG3acwMAAADbSinP5JxfrrW2o9Fo1+Sc25TSb8bj8b3TnhsAAADYVmudzzlv7Kfcl1LalNKLly5dsjQfAAAADgvlHgAAAI445R4AAACOOOX+tvBQRPwkIl6IiM9FxJumOw4AAACvKuV+5p2IiM9GxMMR8eWI+H1EfCoi3jDNoQAAAHgVKfcz7/6IuC8ijkXEXEQ8ExHfiAjXGQIAAEfOqYh4PibLkp+KiPdFxI+3c8/0xpo+5X7mzUXEHTf8/PmI+GZEvGMq0wAAAPwf3hoRX4iItYh4MiKOx2QP8qMRcecU55o65f6282REPBL23QMAAEfUXER8PSJ+FxHfjcke5Lm9fmk8Hj84Go2+mlJ6LqX0w1lLKWWYc97ab7nPOa+mlH467bkPKk3TPJpSmtXie1dEPB2Tpfp37PFZAACAQ+t4RHwvIv4QEScj4jW7fXg0Gp0cj8cvXL58+aX19fWXr169+vdZy9LS0lYp5ZX9lvumaf515cqVzWnPfYDPo5RSTqeUXn8rXshb7DMR8WA4TA8AADjiHoqIxyLiTER8LSbL9Xc0Go2eWFpaurq5udlubW3NZNbW1tpaa7vfcr+8vNxeu3Zt6nMf5PMYj8ffH4/Hb78VL+Qt9EhEfDIsxwcAAI64UzE5TOw9EfFATK4E+1LsUnZKKU8tLy//dWtrq51V6+vrN1XuV1ZW2ll/Hk3T/CznPEsHLV7/p9Y7Y7Ic/1RMDpJ87TSHAgAAuFknIuIXEfHriHh3TL7FXI2IJiIejx0Kfs75/U3TjFdXV9u1tbWZzOLiYtvv99tOp9NevHhx1/R6vTbn3M7q81hdXW0XFxf/XWv9ygztu38iIv4YEQsR8duY3BjxXEz+DnbdlgIAAHDYzEXE6e3cGZN7vz8aEZ+IiPfG5A7w/9G27bGU0oebpvnWaDR6dhZTa+12u91/LCwstOfOnds12wX/z7XWH0177gN6Ft/OOT++srJyT9u2s3Lg3MmI+HhM3vXr+WDYdw8AANxuBoPB8V6vd+8sppTyfLfb3Tx//ny7sLCwazqdTtvpdP7U7XYfmPbcB5GlpaXjZ8+efWPbtr7RBgAA4Oiotc73er2NCxcutHul0+m0vV7vxcFg4J57AAAAOCxqrfP9fn9jP3vuu92ucg8AAACHTa11fjAYbPR6vbbb7e6aXq+n3AMAAMBhU2udHw6HG/1+v90rg8Gg7ff7yj0AAAAcJrXW+ZTSxnA4bPcZ5R4AAAAOk+vlPufc7pWUknIPAAAAh02tdT7nvFFrbffKdsFX7gEAAOAwqbXOl1I2mqZp90oppU0p/XI0Gp2Y9twAAADAtlrrY6WUvzRN047H4x1zQ7n/Tkrp7mnPDQAAAGzr9/t3lVKezTlfyTlv7pRSyt9KKT+vtX7gzJkzr5v23AAAAMANcs73lVJO55w/tlNSSh8ppdzftu2xac8LAAAAAAAAAAAAAAAAAAAAAAAAAAAAAAAAAAAAAAAA3LT/AMsxJync+VkxAAAAAElFTkSuQmCC class=\"jupyter-widget\">\n",
       "<script type=\"application/vnd.jupyter-embedded-widgets\">[{},{},{\"description\":\"x\",\"layout\":\"IPY_MODEL_b1865a668fa644b3b64ff656874e9f27\",\"max\":4,\"value\":2},{\"_dom_classes\":[\"widget-interact\"],\"layout\":\"IPY_MODEL_b8977d69ae55451fb0f8eff4b50fb290\",\"children\":[\"IPY_MODEL_d68c1aadbca54f41bec97766f846f07a\"]}]</script>"
      ]
     },
     "metadata": {
      "isWidgetSnapshot": true
     },
     "output_type": "display_data"
    },
    {
     "data": {
      "text/plain": [
       "2"
      ]
     },
     "metadata": {},
     "output_type": "display_data"
    }
   ],
   "source": [
    "interact(f, x=(0,4));"
   ]
  },
  {
   "cell_type": "code",
   "execution_count": 31,
   "metadata": {
    "collapsed": false,
    "deletable": true,
    "editable": true
   },
   "outputs": [
    {
     "data": {
      "image/png": "[encoded data removed]",
      "text/html": [
       "<img src=data:image/png;base64,iVBORw0KGgoAAAANSUhEUgAAA/cAAAAvCAYAAACmAzoQAAAFNElEQVR4nO3dT4hdZx0G4J+2IQtL0Yi0ROvCQrtQqCiiC0ERrBERkVgFiRsRXPivCzfiokUobnQjjG4U60JFUBEXCjaYha4yk7l/zv3O9905914GQ5mMMUEHwSRKPhczARF7Zyyd3LmT54F3NxdeLmcWL/c750QAAAAAAAAAAAAAAAAAAAAAAAAAAAAAAAAAAAAAAAAAAAAAAAAAAAAAC9A0zSNN07w/pXQmpfThl0rTNI+ura2dWHRfAAAA4D9cvnz51Gg0+mbbthsppWsppetz8oNSyuO11vsW3RsAAADYk3M+27btiznnWkqZm5RSbdv2671e77WL7g0AAADsyTl/K+f811JKHY/Hc5Nzriml85PJ5JFF9wYAAAD2lFJW2rbdMe4BAABgSRn3AAAAsOSMewAAAFhyxv095WREfDAiHlx0EQAAAF5Bxv095b0RsRkRb11wDwAAAF5Jxv0943REPBMR18K4BwAAltSpiPhQRHw8It4eEa+PiCdj94jyaxbYa+GM+3vCyYg4GxGfiIg/hXEPAAAsqccj4scR8feI+EZEvC0i/hARP4yIh/f7cK31/rW1tRPHMW3bfi/nfOBxPxqNfj8cDt+y6N6HkVrrqw71Klycd0bEByLiHRExCeMeAABYYqcj4lcR8WxEvC8ino6IN+z3oel0+q6maT7V7/fPHce0bftC27b/+D9+uR8NBoOvLLr3YWR1dfVsKeVMSumBw70U76rTEXEudk+vPBbGPQAAcAy8JyIuRMT5iHgiIu6b98dd171pOp2+MJvNbsxms3ocs7GxUdu2rQcd9znnOp1OF977MDKZTOp0Or02mUzOdF138m5ckHfB0xHx1Yj4ZER8ISK2IuLLsTv6X73AXgAAAC/b6Yj4bOweyX8ydu9Ffkk558/PZrPtGzdu1OPqypUrtZRy4HG/ublZb926tejah2Zra6t2Xff9pmkeuhsX5F3wtYj4WUT8MiJ+F7u3ppyPiHdHxIkF9gIAAHhZTkXEU7H76/2zEfHT2Gfg5Jy/uLm5+eebN2/W27dvH8tsbW3Vtm3raDQ6UGazWT3u30fXdT9KKe37LIYl5Fg+AACw1B6IiC9FxHMR8VBEPBoRXUT8JHYfNvY/B/50On1sMpn8cXt7++b169dvH8dsbm7WwWBQV1dX68WLF+dmfX295pzr1atXF977EL+Pv3Rd97ljdt/9HcY9AACw1E5HxHf38nBEfCQino/do8pPxZzX4c1ms88Mh8Pn+/3+z9fX139x3DIajaa9Xu+fq6urdb/0er3a6/W2e73ebxbd+7AyHo+f67pu3wctLqk7/wdeZQgAAHCclFJWBoPBzqVLl+ra2trc9Hq92u/3zzdNYxwCAADAUVFKWRkOhzvr6+t1v/T7/ToYDIx7AAAAOEpKKStN0+z0+/26XwaDgXEPAAAAR82dcT8cDusBY9wDAADAUVJKWRmNRjsHeQ1e0zR1NBoZ9wAAAHCUlFJWUko7KaXatu3cpJSMewAAADhqSikrbdvu5JxrKWVu9ga+cQ8AAABHSSllJee8Mx6P68bGxtzknGtK6fxkMjHuAQAA4KjIOX875/y3ruvqZDKZm1JKTSn9ejwev3HRvQEAAIA9OedP55xf3NjYqF3XzU3O+V8552eGw+HrFt0bAAAA2NN13YMppe/knAdt247npEkp/XY8Hj9x4cKF+xfdGwAAAPgvOeePllLOzcnHptPpmw17AAAAAAAAAAAAAAAAAAAAAAAAAAAAAAAAAAAAAAAAWEr/BrJ6+R8M2ZxSAAAAAElFTkSuQmCC class=\"jupyter-widget\">\n",
       "<script type=\"application/vnd.jupyter-embedded-widgets\">[{},{},{\"description\":\"x\",\"layout\":\"IPY_MODEL_f4cd6b4a4d264d689df335c10dbaf404\",\"step\":2,\"max\":8,\"value\":4},{\"_dom_classes\":[\"widget-interact\"],\"layout\":\"IPY_MODEL_5f8b003304894c489c408c792f7148a0\",\"children\":[\"IPY_MODEL_3b1e0db3b0644f57a42d25b9f4175c80\"]}]</script>"
      ]
     },
     "metadata": {
      "isWidgetSnapshot": true
     },
     "output_type": "display_data"
    },
    {
     "data": {
      "text/plain": [
       "4"
      ]
     },
     "metadata": {},
     "output_type": "display_data"
    }
   ],
   "source": [
    "interact(f, x=(0,8,2));"
   ]
  },
  {
   "cell_type": "code",
   "execution_count": 32,
   "metadata": {
    "collapsed": false,
    "deletable": true,
    "editable": true
   },
   "outputs": [
    {
     "data": {
      "image/png": "[encoded data removed]",
      "text/html": [
       "<img src=data:image/png;base64,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 class=\"jupyter-widget\">\n",
       "<script type=\"application/vnd.jupyter-embedded-widgets\">[{},{},{\"description\":\"x\",\"layout\":\"IPY_MODEL_76f8d425d0d045ceb012c3facdcf3eec\",\"step\":0.1,\"max\":10,\"value\":5},{\"_dom_classes\":[\"widget-interact\"],\"layout\":\"IPY_MODEL_a2125db4424b4c81abb26350f1597fbb\",\"children\":[\"IPY_MODEL_61152c4736994159b40b6d22d418783f\"]}]</script>"
      ]
     },
     "metadata": {
      "isWidgetSnapshot": true
     },
     "output_type": "display_data"
    },
    {
     "data": {
      "text/plain": [
       "5.0"
      ]
     },
     "metadata": {},
     "output_type": "display_data"
    }
   ],
   "source": [
    "interact(f, x=(0.0,10.0));"
   ]
  },
  {
   "cell_type": "code",
   "execution_count": 33,
   "metadata": {
    "collapsed": false,
    "deletable": true,
    "editable": true
   },
   "outputs": [
    {
     "data": {
      "image/png": "[encoded data removed]",
      "text/html": [
       "<img src=data:image/png;base64,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 class=\"jupyter-widget\">\n",
       "<script type=\"application/vnd.jupyter-embedded-widgets\">[{},{},{\"description\":\"x\",\"layout\":\"IPY_MODEL_0b850da301384cbcbd83ea14490e20f8\",\"step\":0.01,\"max\":10,\"value\":4.99},{\"_dom_classes\":[\"widget-interact\"],\"layout\":\"IPY_MODEL_ea63e9bc4de0438d8e202928bc741337\",\"children\":[\"IPY_MODEL_249c0b56d28c490dbebc897100244090\"]}]</script>"
      ]
     },
     "metadata": {
      "isWidgetSnapshot": true
     },
     "output_type": "display_data"
    },
    {
     "data": {
      "text/plain": [
       "4.99"
      ]
     },
     "metadata": {},
     "output_type": "display_data"
    }
   ],
   "source": [
    "interact(f, x=(0.0,10.0,0.01));"
   ]
  },
  {
   "cell_type": "code",
   "execution_count": 34,
   "metadata": {
    "collapsed": false,
    "deletable": true,
    "editable": true
   },
   "outputs": [
    {
     "data": {
      "image/png": "[encoded data removed]",
      "text/html": [
       "<img src=data:image/png;base64,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 class=\"jupyter-widget\">\n",
       "<script type=\"application/vnd.jupyter-embedded-widgets\">[{},{},{\"description\":\"x\",\"layout\":\"IPY_MODEL_ff43f87bf38248019430fbc60344ad95\",\"step\":0.5,\"max\":20,\"value\":5.5},{\"_dom_classes\":[\"widget-interact\"],\"layout\":\"IPY_MODEL_d5e7a59bc0e844aaa22f5cfc870ab9b0\",\"children\":[\"IPY_MODEL_5d5e3dc0578a4487bc4a432d3bbc04e4\"]}]</script>"
      ]
     },
     "metadata": {
      "isWidgetSnapshot": true
     },
     "output_type": "display_data"
    },
    {
     "data": {
      "text/plain": [
       "5.5"
      ]
     },
     "metadata": {},
     "output_type": "display_data"
    }
   ],
   "source": [
    "@interact(x=(0.0,20.0,0.5))\n",
    "def h(x=5.5):\n",
    "    return x"
   ]
  },
  {
   "cell_type": "code",
   "execution_count": 35,
   "metadata": {
    "collapsed": false,
    "deletable": true,
    "editable": true
   },
   "outputs": [
    {
     "data": {
      "image/png": "[encoded data removed]",
      "text/html": [
       "<img src=data:image/png;base64,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 class=\"jupyter-widget\">\n",
       "<script type=\"application/vnd.jupyter-embedded-widgets\">[{},{},{\"layout\":\"IPY_MODEL_9cb77b39db534a64894b2b61a89b25c7\",\"description\":\"x\",\"_options_labels\":[\"apples\",\"oranges\"],\"value\":\"apples\"},{\"_dom_classes\":[\"widget-interact\"],\"layout\":\"IPY_MODEL_7579bd519aee4ee18061dafbdb6b6e38\",\"children\":[\"IPY_MODEL_399aaed6d5d84a9e9df956f6a23b6f90\"]}]</script>"
      ]
     },
     "metadata": {
      "isWidgetSnapshot": true
     },
     "output_type": "display_data"
    },
    {
     "data": {
      "text/plain": [
       "'apples'"
      ]
     },
     "metadata": {},
     "output_type": "display_data"
    }
   ],
   "source": [
    "interact(f, x=['apples','oranges']);"
   ]
  },
  {
   "cell_type": "code",
   "execution_count": 36,
   "metadata": {
    "collapsed": false,
    "deletable": true,
    "editable": true
   },
   "outputs": [
    {
     "data": {
      "image/png": "[encoded data removed]",
      "text/html": [
       "<img src=data:image/png;base64,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 class=\"jupyter-widget\">\n",
       "<script type=\"application/vnd.jupyter-embedded-widgets\">[{},{},{\"layout\":\"IPY_MODEL_a1160abcbb014b32ac874092d8fc4a9a\",\"description\":\"x\",\"_options_labels\":[\"one\",\"two\"],\"value\":\"one\"},{\"_dom_classes\":[\"widget-interact\"],\"layout\":\"IPY_MODEL_0db073489bb042ff99716aecb7a05528\",\"children\":[\"IPY_MODEL_fd7fbace92f7410195c79b42fcb59835\"]}]</script>"
      ]
     },
     "metadata": {
      "isWidgetSnapshot": true
     },
     "output_type": "display_data"
    },
    {
     "data": {
      "text/plain": [
       "10"
      ]
     },
     "metadata": {},
     "output_type": "display_data"
    }
   ],
   "source": [
    "interact(f, x={'one': 10, 'two': 20});"
   ]
  },
  {
   "cell_type": "markdown",
   "metadata": {},
   "source": [
    "# Does not work "
   ]
  },
  {
   "cell_type": "raw",
   "metadata": {
    "collapsed": true,
    "deletable": true,
    "editable": true
   },
   "source": [
    "def f(x: int = 1, y: int = 2, z: list = [\"You\", \"Me\"]): # python 3 only\n",
    "    return x"
   ]
  },
  {
   "cell_type": "raw",
   "metadata": {
    "collapsed": true,
    "deletable": true,
    "editable": true
   },
   "source": [
    "interact(f);"
   ]
  },
  {
   "cell_type": "markdown",
   "metadata": {},
   "source": [
    "# Does not work "
   ]
  },
  {
   "cell_type": "markdown",
   "metadata": {
    "deletable": true,
    "editable": true
   },
   "source": [
    "https://docs.python.org/3/tutorial/controlflow.html#function-annotations"
   ]
  },
  {
   "cell_type": "code",
   "execution_count": 37,
   "metadata": {
    "collapsed": true,
    "deletable": true,
    "editable": true
   },
   "outputs": [],
   "source": [
    "def anno_func(ham: str, eggs: str = 'eggs') -> str:\n",
    "    print(\"Annotations:\", anno_func.__annotations__)\n",
    "    print(\"Arguments:\", ham, eggs)\n",
    "    return ham + ' and ' + eggs"
   ]
  },
  {
   "cell_type": "code",
   "execution_count": 38,
   "metadata": {
    "collapsed": false,
    "deletable": true,
    "editable": true
   },
   "outputs": [
    {
     "name": "stdout",
     "output_type": "stream",
     "text": [
      "Annotations: {'return': <class 'str'>, 'ham': <class 'str'>, 'eggs': <class 'str'>}\n",
      "Arguments: lulu eggs\n"
     ]
    },
    {
     "data": {
      "text/plain": [
       "'lulu and eggs'"
      ]
     },
     "execution_count": 38,
     "metadata": {},
     "output_type": "execute_result"
    }
   ],
   "source": [
    "anno_func('lulu')"
   ]
  },
  {
   "cell_type": "code",
   "execution_count": 39,
   "metadata": {
    "collapsed": false,
    "deletable": true,
    "editable": true
   },
   "outputs": [
    {
     "data": {
      "text/plain": [
       "{'eggs': str, 'ham': str, 'return': str}"
      ]
     },
     "execution_count": 39,
     "metadata": {},
     "output_type": "execute_result"
    }
   ],
   "source": [
    "anno_func.__annotations__"
   ]
  },
  {
   "cell_type": "code",
   "execution_count": 40,
   "metadata": {
    "collapsed": true,
    "deletable": true,
    "editable": true
   },
   "outputs": [],
   "source": [
    "from IPython.utils.py3compat import annotate"
   ]
  },
  {
   "cell_type": "code",
   "execution_count": 41,
   "metadata": {
    "collapsed": true,
    "deletable": true,
    "editable": true
   },
   "outputs": [],
   "source": [
    "@annotate(x=True)\n",
    "def f(x):\n",
    "    return x"
   ]
  },
  {
   "cell_type": "code",
   "execution_count": 42,
   "metadata": {
    "collapsed": false,
    "deletable": true,
    "editable": true
   },
   "outputs": [
    {
     "data": {
      "image/png": "[encoded data removed]",
      "text/html": [
       "<img src=data:image/png;base64,iVBORw0KGgoAAAANSUhEUgAAA/cAAAAwCAYAAABUg4peAAADoklEQVR4nO3dsWtdZRgH4DeNouiiToJ2Euvo4KLglJYWSQsmxsHJfyAZXCVIIUupS3HRDrZNmpt77+HcNMXmJpmCcLWhQ0xib2KbnKMo4iAObkLt/RzSlNhWR2/wPg+8wznT74w/vo/3RAAAAAAAAAAAAAAAAAAAAAAAAAAAAAAAAAAAAAAAAAAAAAAAAAAAAAAAAAAAAAAAAAAAAAAAAAAAAAAAAAAAAL2m7x8GAAAAOKhSSn0XL158slqtHp6cnDxSq9UemgsXLhxuNptPhKIPAAAAB0+z2Xw9y7Jv8jzfmZubW5mbm/vqwanX6z9nWfZtnucvdzsvAAAA8IBarfZFq9X6Y3t7O5Vl+bcpiiKtrq6mq1evpoWFhd+zLGtMTk6+0O3M/6G+iOiPiMci4tC+5/5wiwEAAICDIMuy/kqlcmNjY+NuURQPlfv5+fk0MjKSjh49ms6dO/fr9PT0D5VKpZdO79+IiCIiOhHxWUS8GRHbEfFdRLzUxVwAAACwK8uy/pmZmeV2u33nUaf2Y2Nj6fjx42l8fDytrKx832g0yh4r9xERRyLidkS8ExFPRcTHEfFiVxMBAADAnn8r9/V6PQ0NDaWTJ0+mxcXFtLm52avlPiLi7Yj4KSIWI+K1iHi8u3EAAADgnv3lviiKtLOzc3/2Tu3Pnj2bNjY20q1bt3q53PdFxFhEfB0Rvfj9AAAAHFT7y32WZWl4eDgNDg6m8fHxdOrUqTQyMpKuX7+eyrLs5XLfFxHDEfFWRCxFxCcR8XxXEwEAAMCeLMv6q9Xq/Wv5Z86cSYODg2lgYCANDAykiYmJtL6+fr/c53nea+W+L3aX6L0fEc/G7sb8dkR8FBHPdTEXAAAA7Dp9+vShSqVyo91u3y3LMq2traXR0dF04sSJdOzYsdRsNtPeL/Ju3rz5Y6PRWL906VIvbYk/Erub8fe2449GxC8RcSciPoyIZ7oXDQAAAO6ZmZlZWV1d/bMoik5Zlp1Wq9XJ87xz7dq1ztbWVqcsy733v2VZtlCtVg93OzMAAACwz+zs7Lt5nm/Oz89vLS8vt758hKWlpbUrV67crtfr701NTT3d7cwAAADAAy5fvvzK1NTUB5VK5dPp6enPHzETtVrt1fPnz/sFHAAAAAAAAAAAAAAAAAAAAAAAAAAAAAAAAAAAAAAAAAAAAAAAAAAAAAAAAAAAAAAAAAAAAAAAAAAAAAAAAAAAAAAAAAAAAAAAAAAA/2N/ATKZ8jHnc8uSAAAAAElFTkSuQmCC class=\"jupyter-widget\">\n",
       "<script type=\"application/vnd.jupyter-embedded-widgets\">[{},{},{\"description\":\"x\",\"value\":true,\"layout\":\"IPY_MODEL_143f10f8e2734bd69aad9a4b2d8b5041\"},{\"_dom_classes\":[\"widget-interact\"],\"layout\":\"IPY_MODEL_ffbdbf537a3e4b719f547ed2b298ec77\",\"children\":[\"IPY_MODEL_bf1cc2de03ac4274abffacafcd262ad6\"]}]</script>"
      ]
     },
     "metadata": {
      "isWidgetSnapshot": true
     },
     "output_type": "display_data"
    },
    {
     "data": {
      "text/plain": [
       "True"
      ]
     },
     "metadata": {},
     "output_type": "display_data"
    }
   ],
   "source": [
    "interact(f);"
   ]
  },
  {
   "cell_type": "code",
   "execution_count": 43,
   "metadata": {
    "collapsed": true,
    "deletable": true,
    "editable": true
   },
   "outputs": [],
   "source": [
    "def f(a, b):\n",
    "    return a+b"
   ]
  },
  {
   "cell_type": "code",
   "execution_count": 44,
   "metadata": {
    "collapsed": true,
    "deletable": true,
    "editable": true
   },
   "outputs": [],
   "source": [
    "w = interactive(f, a=10, b=20)"
   ]
  },
  {
   "cell_type": "code",
   "execution_count": 45,
   "metadata": {
    "collapsed": false,
    "deletable": true,
    "editable": true
   },
   "outputs": [
    {
     "data": {
      "text/plain": [
       "ipywidgets.widgets.widget_box.Box"
      ]
     },
     "execution_count": 45,
     "metadata": {},
     "output_type": "execute_result"
    }
   ],
   "source": [
    "type(w)"
   ]
  },
  {
   "cell_type": "code",
   "execution_count": 46,
   "metadata": {
    "collapsed": false,
    "deletable": true,
    "editable": true
   },
   "outputs": [
    {
     "data": {
      "text/plain": [
       "(<ipywidgets.widgets.widget_int.IntSlider at 0x38407e5710>,\n",
       " <ipywidgets.widgets.widget_int.IntSlider at 0x38407fff98>)"
      ]
     },
     "execution_count": 46,
     "metadata": {},
     "output_type": "execute_result"
    }
   ],
   "source": [
    "w.children"
   ]
  },
  {
   "cell_type": "code",
   "execution_count": 47,
   "metadata": {
    "collapsed": false,
    "deletable": true,
    "editable": true
   },
   "outputs": [
    {
     "data": {
      "image/png": "[encoded data removed]",
      "text/html": [
       "<img src=data:image/png;base64,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 class=\"jupyter-widget\">\n",
       "<script type=\"application/vnd.jupyter-embedded-widgets\">[{},{},{\"description\":\"a\",\"min\":-10,\"layout\":\"IPY_MODEL_c7ed9df2781441d9a4db9542eab520e3\",\"max\":30,\"value\":10},{},{\"description\":\"b\",\"min\":-20,\"layout\":\"IPY_MODEL_1e0ee26b1b8b4cd78fac270fb45e0cef\",\"max\":60,\"value\":20},{\"_dom_classes\":[\"widget-interact\"],\"layout\":\"IPY_MODEL_cc78504fe9364955ab20c4a3801aae99\",\"children\":[\"IPY_MODEL_ea11be472bad4fe691d340997bffb03c\",\"IPY_MODEL_a66eeff57b15417fa7b57738b94a8a58\"]}]</script>"
      ]
     },
     "metadata": {
      "isWidgetSnapshot": true
     },
     "output_type": "display_data"
    },
    {
     "data": {
      "text/plain": [
       "30"
      ]
     },
     "metadata": {},
     "output_type": "display_data"
    }
   ],
   "source": [
    "from IPython.display import display\n",
    "display(w)"
   ]
  },
  {
   "cell_type": "code",
   "execution_count": 48,
   "metadata": {
    "collapsed": false,
    "deletable": true,
    "editable": true
   },
   "outputs": [
    {
     "data": {
      "text/plain": [
       "{'a': 10, 'b': 20}"
      ]
     },
     "execution_count": 48,
     "metadata": {},
     "output_type": "execute_result"
    }
   ],
   "source": [
    "w.kwargs"
   ]
  },
  {
   "cell_type": "code",
   "execution_count": 49,
   "metadata": {
    "collapsed": true,
    "deletable": true,
    "editable": true
   },
   "outputs": [],
   "source": [
    "def slow_function(i):\n",
    "    print(int(i),list(x for x in range(int(i)) if\n",
    "                str(x)==str(x)[::-1] and\n",
    "                str(x**2)==str(x**2)[::-1]))\n",
    "    return"
   ]
  },
  {
   "cell_type": "code",
   "execution_count": 50,
   "metadata": {
    "collapsed": false,
    "deletable": true,
    "editable": true
   },
   "outputs": [
    {
     "name": "stdout",
     "output_type": "stream",
     "text": [
      "1000000 [0, 1, 2, 3, 11, 22, 101, 111, 121, 202, 212, 1001, 1111, 2002, 10001, 10101, 10201, 11011, 11111, 11211, 20002, 20102, 100001, 101101, 110011, 111111, 200002]\n",
      "Wall time: 2.68 s\n"
     ]
    }
   ],
   "source": [
    "%%time\n",
    "slow_function(1e6)"
   ]
  },
  {
   "cell_type": "code",
   "execution_count": 51,
   "metadata": {
    "collapsed": false,
    "deletable": true,
    "editable": true
   },
   "outputs": [
    {
     "data": {
      "image/png": "[encoded data removed]",
      "text/html": [
       "<img src=data:image/png;base64,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 class=\"jupyter-widget\">\n",
       "<script type=\"application/vnd.jupyter-embedded-widgets\">[{},{},{\"description\":\"i\",\"min\":100000,\"layout\":\"IPY_MODEL_046f8ee0675047d2bcb95ffee0d888d5\",\"step\":100000,\"max\":10000000,\"value\":4800000},{\"_dom_classes\":[\"widget-interact\"],\"layout\":\"IPY_MODEL_c603ac8ad8f44e009fb5c846b5ed8030\",\"children\":[\"IPY_MODEL_44c4d3570a02465eb35b1bde198f9236\"]}]</script>"
      ]
     },
     "metadata": {
      "isWidgetSnapshot": true
     },
     "output_type": "display_data"
    },
    {
     "name": "stdout",
     "output_type": "stream",
     "text": [
      "4800000 [0, 1, 2, 3, 11, 22, 101, 111, 121, 202, 212, 1001, 1111, 2002, 10001, 10101, 10201, 11011, 11111, 11211, 20002, 20102, 100001, 101101, 110011, 111111, 200002, 1000001, 1001001, 1002001, 1010101, 1011101, 1012101, 1100011, 1101011, 1102011, 1110111, 1111111, 2000002, 2001002]\n"
     ]
    }
   ],
   "source": [
    "from ipywidgets import FloatSlider\n",
    "\n",
    "interact(slow_function,i=FloatSlider(min=1e5, max=1e7, step=1e5))"
   ]
  },
  {
   "cell_type": "code",
   "execution_count": 52,
   "metadata": {
    "collapsed": false,
    "deletable": true,
    "editable": true
   },
   "outputs": [
    {
     "data": {
      "image/png": "[encoded data removed]",
      "text/html": [
       "<img src=data:image/png;base64,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 class=\"jupyter-widget\">\n",
       "<script type=\"application/vnd.jupyter-embedded-widgets\">[{},{},{\"description\":\"i\",\"min\":100000,\"layout\":\"IPY_MODEL_8283c60cb41447b481f3215c54233d3d\",\"step\":100000,\"max\":10000000,\"value\":3700000},{},{\"description\":\"Run slow_function\",\"layout\":\"IPY_MODEL_900fbb0ad92d404fab53900ad94a67fc\"},{\"_dom_classes\":[\"widget-interact\"],\"layout\":\"IPY_MODEL_7887b04be7d24fcab44112a417c2d76a\",\"children\":[\"IPY_MODEL_a090ec4660a14e76ab1d07b0b7fcecf1\",\"IPY_MODEL_fd860248a7e5406bae30a5419ad88637\"]}]</script>"
      ]
     },
     "metadata": {
      "isWidgetSnapshot": true
     },
     "output_type": "display_data"
    },
    {
     "name": "stdout",
     "output_type": "stream",
     "text": [
      "3700000 [0, 1, 2, 3, 11, 22, 101, 111, 121, 202, 212, 1001, 1111, 2002, 10001, 10101, 10201, 11011, 11111, 11211, 20002, 20102, 100001, 101101, 110011, 111111, 200002, 1000001, 1001001, 1002001, 1010101, 1011101, 1012101, 1100011, 1101011, 1102011, 1110111, 1111111, 2000002, 2001002]\n"
     ]
    }
   ],
   "source": [
    "# %%writefile -a test.py\n",
    "interact(slow_function,i=FloatSlider(min=1e5, max=1e7, step=1e5),__manual=True)"
   ]
  },
  {
   "cell_type": "code",
   "execution_count": 53,
   "metadata": {
    "collapsed": false,
    "deletable": true,
    "editable": true
   },
   "outputs": [
    {
     "data": {
      "image/png": "[encoded data removed]",
      "text/html": [
       "<img src=data:image/png;base64,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 class=\"jupyter-widget\">\n",
       "<script type=\"application/vnd.jupyter-embedded-widgets\">[{},{},{\"description\":\"i\",\"continuous_update\":false,\"min\":100000,\"layout\":\"IPY_MODEL_b66265d631294f418ec208931afd2e0a\",\"step\":100000,\"max\":10000000,\"value\":8000000},{\"_dom_classes\":[\"widget-interact\"],\"layout\":\"IPY_MODEL_0a7f24294fd046b0939987b9572b2a00\",\"children\":[\"IPY_MODEL_db48c8edf1a94763b23d58b26fcb34cd\"]}]</script>"
      ]
     },
     "metadata": {
      "isWidgetSnapshot": true
     },
     "output_type": "display_data"
    },
    {
     "name": "stdout",
     "output_type": "stream",
     "text": [
      "8000000 [0, 1, 2, 3, 11, 22, 101, 111, 121, 202, 212, 1001, 1111, 2002, 10001, 10101, 10201, 11011, 11111, 11211, 20002, 20102, 100001, 101101, 110011, 111111, 200002, 1000001, 1001001, 1002001, 1010101, 1011101, 1012101, 1100011, 1101011, 1102011, 1110111, 1111111, 2000002, 2001002]\n"
     ]
    }
   ],
   "source": [
    "# %%writefile -a test.py\n",
    "interact(slow_function,i=FloatSlider(min=1e5, max=1e7, step=1e5,continuous_update=False))"
   ]
  },
  {
   "cell_type": "markdown",
   "metadata": {},
   "source": [
    "# Linking widgets using Observer pattern"
   ]
  },
  {
   "cell_type": "code",
   "execution_count": 54,
   "metadata": {
    "collapsed": false,
    "deletable": true,
    "editable": true
   },
   "outputs": [
    {
     "data": {
      "image/png": "[encoded data removed]",
      "text/html": [
       "<img src=data:image/png;base64,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 class=\"jupyter-widget\">\n",
       "<script type=\"application/vnd.jupyter-embedded-widgets\">[{},{},{\"description\":\"x\",\"layout\":\"IPY_MODEL_9829b97eca2746f6b494f163e07b2c70\",\"step\":0.05,\"max\":20,\"value\":2.7},{},{\"description\":\"y\",\"min\":0.5,\"layout\":\"IPY_MODEL_8cd4c80e1f9140a7a19de1af75235fce\",\"step\":0.05,\"max\":10,\"value\":10},{\"_dom_classes\":[\"widget-interact\"],\"layout\":\"IPY_MODEL_1c4def43716649f0a636438f417d425d\",\"children\":[\"IPY_MODEL_9fc8289b88864355b7410335ca24b13e\",\"IPY_MODEL_d7ef652c70cc48708797c1b416a542e8\"]}]</script>"
      ]
     },
     "metadata": {
      "isWidgetSnapshot": true
     },
     "output_type": "display_data"
    },
    {
     "name": "stdout",
     "output_type": "stream",
     "text": [
      "2.7 10.0\n"
     ]
    }
   ],
   "source": [
    "# %%writefile -a test.py\n",
    "\n",
    "x_widget = FloatSlider(min=0.0, max=10.0, step=0.05)\n",
    "y_widget = FloatSlider(min=0.5, max=10.0, step=0.05, value=5.0)\n",
    "\n",
    "# When y_widget's value changes, \n",
    "#     call the update_x function\n",
    "#     set the x_widget's max value to be two times the y_widget's value\n",
    "\n",
    "def update_x_range(*args):\n",
    "    x_widget.max = 2.0 * y_widget.value\n",
    "\n",
    "y_widget.observe(update_x_range, 'value')\n",
    "\n",
    "def printer(x, y):\n",
    "    print(x, y)\n",
    "interact(printer,x=x_widget, y=y_widget)"
   ]
  },
  {
   "cell_type": "code",
   "execution_count": null,
   "metadata": {
    "collapsed": true,
    "deletable": true,
    "editable": true
   },
   "outputs": [],
   "source": []
  }
 ],
 "metadata": {
  "kernelspec": {
   "display_name": "Python 3",
   "language": "python",
   "name": "python3"
  },
  "language_info": {
   "codemirror_mode": {
    "name": "ipython",
    "version": 3
   },
   "file_extension": ".py",
   "mimetype": "text/x-python",
   "name": "python",
   "nbconvert_exporter": "python",
   "pygments_lexer": "ipython3",
   "version": "3.5.1"
  },
  "widgets": {
   "state": {
    "0883a89fdd1e4745884fecabc5a91054": {
     "views": [
      {
       "cell_index": 28
      }
     ]
    },
    "0aaa103c70a64c14a2e6aa3c32870bc8": {
     "views": [
      {
       "cell_index": 41
      }
     ]
    },
    "12094338d32a44529472433dae9a6246": {
     "views": [
      {
       "cell_index": 14
      }
     ]
    },
    "1a10c363fd9446efadf2e238fabc7e26": {
     "views": [
      {
       "cell_index": 17
      }
     ]
    },
    "1bfe4a00eb8e4eb1a014d0a9b9be36b3": {
     "views": [
      {
       "cell_index": 6
      }
     ]
    },
    "204c4b58e0fb4e7aa1a77ae7861c12d3": {
     "views": [
      {
       "cell_index": 10
      }
     ]
    },
    "76c6cc20c4e34e3c8b6d6617966ecc5e": {
     "views": [
      {
       "cell_index": 39
      }
     ]
    },
    "85582b7c52f04b6cb4864c29e3658094": {
     "views": [
      {
       "cell_index": 11
      }
     ]
    },
    "92aa503ed0e84cd8b127d47bcaa1d99c": {
     "views": [
      {
       "cell_index": 15
      }
     ]
    },
    "9fa31209669e425595631ce21b733cce": {
     "views": [
      {
       "cell_index": 3
      }
     ]
    },
    "a2cb1f747b544a6193223b69f64e21dd": {
     "views": [
      {
       "cell_index": 4
      }
     ]
    },
    "ac54ded085c74a49bfae37ebfa29214b": {
     "views": [
      {
       "cell_index": 38
      }
     ]
    },
    "c1fa29725ba6487d960895561af27502": {
     "views": [
      {
       "cell_index": 12
      }
     ]
    },
    "c8b958fb633a45be8982bb8bf4a5d2dd": {
     "views": [
      {
       "cell_index": 8
      }
     ]
    },
    "cdd6be86fb084e6bb39380fbfac72aad": {
     "views": [
      {
       "cell_index": 33
      }
     ]
    },
    "cea190dea1364ca3961c645270074e5c": {
     "views": [
      {
       "cell_index": 16
      }
     ]
    },
    "ddad9c89c0214273aa7c8190a0e59c56": {
     "views": [
      {
       "cell_index": 37
      }
     ]
    },
    "de776ca53ce34de68f7bb6775f3e7842": {
     "views": [
      {
       "cell_index": 13
      }
     ]
    },
    "ec8f08cf64ee495c8d953cfa924cf8a8": {
     "views": [
      {
       "cell_index": 5
      }
     ]
    }
   },
   "version": "1.2.0"
  }
 },
 "nbformat": 4,
 "nbformat_minor": 2
}
