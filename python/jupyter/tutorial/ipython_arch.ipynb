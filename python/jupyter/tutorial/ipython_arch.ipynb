{
 "cells": [
  {
   "cell_type": "markdown",
   "metadata": {},
   "source": [
    "# [IPython Architecture](http://ipython.readthedocs.io/en/stable/overview.html)\n",
    " \n",
    "The goal of IPython is to create a comprehensive environment for interactive and exploratory computing. To support this goal, IPython has three main components:\n",
    "\n",
    "* An enhanced interactive Python shell.\n",
    "* A decoupled two-process communication model, which allows for multiple clients to connect to a computation kernel, most notably the web-based notebook provided with Jupyter.\n",
    "* An architecture for interactive parallel computing now part of the ipyparallel package.\n"
   ]
  },
  {
   "cell_type": "markdown",
   "metadata": {},
   "source": [
    "# [Decoupled Two Process Model](http://ipython.readthedocs.io/en/stable/overview.html#decoupled-two-process-model)\n",
    "\n",
    "**IPython** (L) has abstracted and extended the notion of a traditional Read-Evaluate-Print Loop (REPL) environment by _**decoupling**_ the evaluation into its own process. We call this process a **kernel** (E): it receives execution instructions from **clients** (RP) and communicates the results back to them.\n",
    "\n",
    "This decoupling allows us to have **_several clients connected to the same kernel_**, and even allows _**clients and kernels to live on different machines**_. \n",
    "\n",
    "With the exclusion of the traditional single process terminal-based IPython (what you start if you run ipython without any subcommands), all other IPython machinery uses this two-process model. \n",
    "    \n",
    "Most of this is now part of the **Jupyter project**, which includes \n",
    "\n",
    "* jupyter console, \n",
    "* jupyter qtconsole, and \n",
    "* jupyter notebook.\n",
    "\n",
    "As an example, this means that when you start jupyter qtconsole, you’re really starting two processes, \n",
    "\n",
    "* a kernel\n",
    "* a Qt-based client \n",
    "\n",
    "The latter can send commands to and receive results from that kernel. \n",
    "\n",
    "If there is **already a kernel running** that you want to connect to, you can pass the --existing flag which will skip initiating a new kernel and connect to the most recent kernel, instead. \n",
    "\n",
    "To connect to a specific kernel once you have several kernels running, use the %**connect_info** magic to get the unique connection file, which will be something like --existing kernel-19732.json but with different numbers which correspond to the Process ID of the kernel."
   ]
  },
  {
   "cell_type": "markdown",
   "metadata": {},
   "source": [
    "# [Frontend Kernel Model.ipynb](http://nbviewer.jupyter.org/github/ipython/ipython/blob/1.x/examples/notebooks/Frontend-Kernel%20Model.ipynb)\n",
    "\n",
    "The traditional IPython (ipython) consists of a single process that combines a terminal based UI with the process that runs the users code.\n",
    "\n",
    "While this traditional application still exists, the modern IPython consists of two processes:\n",
    "\n",
    "* Kernel: this is the process that runs the users code.\n",
    "* Frontend: this is the process that provides the user interface where the user types code and sees results.\n",
    "\n",
    "IPython currently has 3 frontends:\n",
    "\n",
    "* Terminal Console (ipython console)\n",
    "* Qt Console (ipython qtconsole)\n",
    "* Notebook (ipython notebook)\n",
    "\n",
    "The Kernel and Frontend communicate over a ZeroMQ/JSON based messaging protocol, which allows multiple Frontends (even of different types) to communicate with a single Kernel. This opens the door for all sorts of interesting things, such as connecting a Console or Qt Console to a Notebook's Kernel. For example, you may want to connect a Qt console to your Notebook's Kernel and use it as a help browser, calling ?? on objects in the Qt console (whose pager is more flexible than the one in the notebook).\n",
    "\n",
    "This Notebook describes how you would connect another Frontend to a Kernel that is associated with a Notebook.\n"
   ]
  },
  {
   "cell_type": "code",
   "execution_count": 3,
   "metadata": {
    "collapsed": true
   },
   "outputs": [
    {
     "name": "stdout",
     "output_type": "stream",
     "text": [
      "$ ipython --debug\n",
      "\n",
      "[TerminalIPythonApp] IPYTHONDIR set to: C:\\Users\\satish goda\\.ipython\n",
      "[TerminalIPythonApp] Using existing profile dir: 'C:\\\\Users\\\\satish goda\\\\.ipython\\\\profile_default'\n",
      "[TerminalIPythonApp] Searching path ['F:\\\\src\\\\GitHub', 'C:\\\\Users\\\\satish goda\\\\.ipython\\\\profile_default', 'C:\\\\ProgramData\\\\ipython'] for config files\n",
      "[TerminalIPythonApp] Attempting to load config file: ipython_config.py\n",
      "[TerminalIPythonApp] Looking for ipython_config in C:\\ProgramData\\ipython\n",
      "[TerminalIPythonApp] Looking for ipython_config in C:\\Users\\satish goda\\.ipython\\profile_default\n",
      "[TerminalIPythonApp] Looking for ipython_config in F:\\src\\GitHub\n",
      "Python 3.5.1 |Continuum Analytics, Inc.| (default, Feb 16 2016, 09:49:46) [MSC v.1900 64 bit (AMD64)]\n",
      "Type \"copyright\", \"credits\" or \"license\" for more information.\n",
      "\n",
      "IPython 5.1.0 -- An enhanced Interactive Python.\n",
      "?         -> Introduction and overview of IPython's features.\n",
      "%quickref -> Quick reference.\n",
      "help      -> Python's own help system.\n",
      "object?   -> Details about 'object', use 'object??' for extra details.\n",
      "\n",
      "[TerminalIPythonApp] Loading IPython extensions...\n",
      "[TerminalIPythonApp] Loading IPython extension: storemagic\n",
      "[TerminalIPythonApp] Starting IPython's mainloop...\n",
      "\n",
      "In [1]:^D\n",
      "Do you really want to exit ([y]/n)? y\n",
      "\n"
     ]
    }
   ],
   "source": [
    "!cat cmdout/ipython.txt"
   ]
  },
  {
   "cell_type": "code",
   "execution_count": 4,
   "metadata": {
    "collapsed": true
   },
   "outputs": [
    {
     "name": "stdout",
     "output_type": "stream",
     "text": [
      "$ ipython console --debug\n",
      "\n",
      "[TerminalIPythonApp] WARNING | Subcommand `ipython console` is deprecated and will be removed in future versions.\n",
      "[TerminalIPythonApp] WARNING | You likely want to use `jupyter console` in the future\n",
      "[ZMQTerminalIPythonApp] Searching ['F:\\\\src\\\\GitHub', 'C:\\\\Users\\\\satish goda\\\\.jupyter', 'E:\\\\Miniconda3\\\\etc\\\\jupyter', 'C:\\\\ProgramData\\\\jupyter'] for config files\n",
      "[ZMQTerminalIPythonApp] Looking for jupyter_config in C:\\ProgramData\\jupyter\n",
      "[ZMQTerminalIPythonApp] Looking for jupyter_config in E:\\Miniconda3\\etc\\jupyter\n",
      "[ZMQTerminalIPythonApp] Looking for jupyter_config in C:\\Users\\satish goda\\.jupyter\n",
      "[ZMQTerminalIPythonApp] Looking for jupyter_config in F:\\src\\GitHub\n",
      "[ZMQTerminalIPythonApp] Looking for jupyter_console_config in C:\\ProgramData\\jupyter\n",
      "[ZMQTerminalIPythonApp] Looking for jupyter_console_config in E:\\Miniconda3\\etc\\jupyter\n",
      "[ZMQTerminalIPythonApp] Looking for jupyter_console_config in C:\\Users\\satish goda\\.jupyter\n",
      "[ZMQTerminalIPythonApp] Looking for jupyter_console_config in F:\\src\\GitHub\n",
      "[ZMQTerminalIPythonApp] Connection File not found: C:\\Users\\satish goda\\AppData\\Roaming\\jupyter\\runtime\\kernel-9472.json\n",
      "[ZMQTerminalIPythonApp] Native kernel (python3) available from E:\\Miniconda3\\lib\\site-packages\\ipykernel\\resources\n",
      "[ZMQTerminalIPythonApp] Starting kernel: ['E:\\\\Miniconda3\\\\python.exe', '-m', 'ipykernel', '-f', 'C:\\\\Users\\\\satish goda\\\\AppData\\\\Roaming\\\\jupyter\\\\runtime\\\\kernel-9472.json']\n",
      "[ZMQTerminalIPythonApp] Connecting to: tcp://127.0.0.1:52776\n",
      "[ZMQTerminalIPythonApp] connecting shell channel to tcp://127.0.0.1:52773\n",
      "[ZMQTerminalIPythonApp] Connecting to: tcp://127.0.0.1:52773\n",
      "[ZMQTerminalIPythonApp] connecting iopub channel to tcp://127.0.0.1:52774\n",
      "[ZMQTerminalIPythonApp] Connecting to: tcp://127.0.0.1:52774\n",
      "[ZMQTerminalIPythonApp] connecting stdin channel to tcp://127.0.0.1:52775\n",
      "[ZMQTerminalIPythonApp] Connecting to: tcp://127.0.0.1:52775\n",
      "[ZMQTerminalIPythonApp] connecting heartbeat channel to tcp://127.0.0.1:52777\n",
      "Jupyter console 5.0.0\n",
      "\n",
      "Python 3.5.1 |Continuum Analytics, Inc.| (default, Feb 16 2016, 09:49:46) [MSC v.1900 64 bit (AMD64)]\n",
      "Type \"copyright\", \"credits\" or \"license\" for more information.\n",
      "\n",
      "IPython 5.1.0 -- An enhanced Interactive Python.\n",
      "?         -> Introduction and overview of IPython's features.\n",
      "%quickref -> Quick reference.\n",
      "help      -> Python's own help system.\n",
      "object?   -> Details about 'object', use 'object??' for extra details.\n",
      "\n",
      "\n",
      "[ZMQTerminalIPythonApp] Starting the jupyter console mainloop...\n",
      "\n",
      "In [1]: %connect_info\n",
      "{\n",
      "  \"iopub_port\": 52774,\n",
      "  \"stdin_port\": 52775,\n",
      "  \"key\": \"1b228ee6-f2a6-4740-9d05-20fadc4165c8\",\n",
      "  \"kernel_name\": \"\",\n",
      "  \"ip\": \"127.0.0.1\",\n",
      "  \"transport\": \"tcp\",\n",
      "  \"shell_port\": 52773,\n",
      "  \"control_port\": 52776,\n",
      "  \"hb_port\": 52777,\n",
      "  \"signature_scheme\": \"hmac-sha256\"\n",
      "}\n",
      "\n",
      "Paste the above JSON into a file, and connect with:\n",
      "    $> jupyter <app> --existing <file>\n",
      "or, if you are local, you can connect with just:\n",
      "    $> jupyter <app> --existing kernel-9472.json\n",
      "or even just:\n",
      "    $> jupyter <app> --existing\n",
      "if this is the most recent Jupyter kernel you have started.\n",
      "\n",
      "In [1]: ^D\n",
      "Do you really want to exit ([y]/n)? y\n",
      "Shutting down kernel\n"
     ]
    }
   ],
   "source": [
    "!cat cmdout/ipython_console.txt"
   ]
  },
  {
   "cell_type": "code",
   "execution_count": 7,
   "metadata": {
    "collapsed": true
   },
   "outputs": [
    {
     "name": "stdout",
     "output_type": "stream",
     "text": [
      "jupyter console --kernel julia --debug\n",
      "\n",
      "[ZMQTerminalIPythonApp] Searching ['C:\\\\Users\\\\satish goda', 'C:\\\\Users\\\\satish goda\\\\.jupyter', 'e:\\\\Miniconda3\\\\etc\\\\jupyter', 'C:\\\\ProgramData\\\\jupyter'] for config fi\n",
      "les\n",
      "[ZMQTerminalIPythonApp] Looking for jupyter_config in C:\\ProgramData\\jupyter\n",
      "[ZMQTerminalIPythonApp] Looking for jupyter_config in e:\\Miniconda3\\etc\\jupyter\n",
      "[ZMQTerminalIPythonApp] Looking for jupyter_config in C:\\Users\\satish goda\\.jupyter\n",
      "[ZMQTerminalIPythonApp] Looking for jupyter_config in C:\\Users\\satish goda\n",
      "[ZMQTerminalIPythonApp] Looking for jupyter_console_config in C:\\ProgramData\\jupyter\n",
      "[ZMQTerminalIPythonApp] Looking for jupyter_console_config in e:\\Miniconda3\\etc\\jupyter\n",
      "[ZMQTerminalIPythonApp] Looking for jupyter_console_config in C:\\Users\\satish goda\\.jupyter\n",
      "[ZMQTerminalIPythonApp] Looking for jupyter_console_config in C:\\Users\\satish goda\n",
      "[ZMQTerminalIPythonApp] Connection File not found: C:\\Users\\satish goda\\AppData\\Roaming\\jupyter\\runtime\\kernel-9780.json\n",
      "[ZMQTerminalIPythonApp] Native kernel (python3) available from e:\\Miniconda3\\lib\\site-packages\\ipykernel\\resources\n",
      "Traceback (most recent call last):\n",
      "  File \"e:\\Miniconda3\\lib\\site-packages\\jupyter_client\\kernelspec.py\", line 173, in get_kernel_spec\n",
      "    resource_dir = d[kernel_name.lower()]\n",
      "KeyError: 'julia'\n",
      "\n",
      "During handling of the above exception, another exception occurred:\n",
      "\n",
      "Traceback (most recent call last):\n",
      "  File \"e:\\Miniconda3\\Scripts\\jupyter-console-script.py\", line 4, in <module>\n",
      "    app.main()\n",
      "  File \"e:\\Miniconda3\\lib\\site-packages\\jupyter_core\\application.py\", line 267, in launch_instance\n",
      "    return super(JupyterApp, cls).launch_instance(argv=argv, **kwargs)\n",
      "  File \"e:\\Miniconda3\\lib\\site-packages\\traitlets\\config\\application.py\", line 657, in launch_instance\n",
      "    app.initialize(argv)\n",
      "  File \"<decorator-gen-114>\", line 2, in initialize\n",
      "  File \"e:\\Miniconda3\\lib\\site-packages\\traitlets\\config\\application.py\", line 87, in catch_config_error\n",
      "    return method(app, *args, **kwargs)\n",
      "  File \"e:\\Miniconda3\\lib\\site-packages\\jupyter_console\\app.py\", line 137, in initialize\n",
      "    self.init_shell()\n",
      "  File \"e:\\Miniconda3\\lib\\site-packages\\jupyter_console\\app.py\", line 105, in init_shell\n",
      "    JupyterConsoleApp.initialize(self)\n",
      "  File \"e:\\Miniconda3\\lib\\site-packages\\jupyter_client\\consoleapp.py\", line 334, in initialize\n",
      "    self.init_kernel_manager()\n",
      "  File \"e:\\Miniconda3\\lib\\site-packages\\jupyter_client\\consoleapp.py\", line 288, in init_kernel_manager\n",
      "    self.kernel_manager.start_kernel(**kwargs)\n",
      "  File \"e:\\Miniconda3\\lib\\site-packages\\jupyter_client\\manager.py\", line 230, in start_kernel\n",
      "    kernel_cmd = self.format_kernel_cmd(extra_arguments=extra_arguments)\n",
      "  File \"e:\\Miniconda3\\lib\\site-packages\\jupyter_client\\manager.py\", line 170, in format_kernel_cmd\n",
      "    cmd = self.kernel_spec.argv + extra_arguments\n",
      "  File \"e:\\Miniconda3\\lib\\site-packages\\jupyter_client\\manager.py\", line 82, in kernel_spec\n",
      "    self._kernel_spec = self.kernel_spec_manager.get_kernel_spec(self.kernel_name)\n",
      "  File \"e:\\Miniconda3\\lib\\site-packages\\jupyter_client\\kernelspec.py\", line 175, in get_kernel_spec\n",
      "    raise NoSuchKernel(kernel_name)\n",
      "jupyter_client.kernelspec.NoSuchKernel: No such kernel named julia\n",
      "\n",
      "C:\\Users\\satish goda>\n"
     ]
    }
   ],
   "source": [
    "!cat cmdout/jupyter_console_julia.txt"
   ]
  },
  {
   "cell_type": "code",
   "execution_count": 8,
   "metadata": {
    "collapsed": true
   },
   "outputs": [
    {
     "name": "stdout",
     "output_type": "stream",
     "text": [
      "C:\\Users\\satish goda>jupyter console --kernel python --debug\n",
      "[ZMQTerminalIPythonApp] Searching ['C:\\\\Users\\\\satish goda', 'C:\\\\Users\\\\satish goda\\\\.jupyter', 'e:\\\\Miniconda3\\\\etc\\\\jupyter', 'C:\\\\ProgramData\\\\jupyter'] for config fi\n",
      "les\n",
      "[ZMQTerminalIPythonApp] Looking for jupyter_config in C:\\ProgramData\\jupyter\n",
      "[ZMQTerminalIPythonApp] Looking for jupyter_config in e:\\Miniconda3\\etc\\jupyter\n",
      "[ZMQTerminalIPythonApp] Looking for jupyter_config in C:\\Users\\satish goda\\.jupyter\n",
      "[ZMQTerminalIPythonApp] Looking for jupyter_config in C:\\Users\\satish goda\n",
      "[ZMQTerminalIPythonApp] Looking for jupyter_console_config in C:\\ProgramData\\jupyter\n",
      "[ZMQTerminalIPythonApp] Looking for jupyter_console_config in e:\\Miniconda3\\etc\\jupyter\n",
      "[ZMQTerminalIPythonApp] Looking for jupyter_console_config in C:\\Users\\satish goda\\.jupyter\n",
      "[ZMQTerminalIPythonApp] Looking for jupyter_console_config in C:\\Users\\satish goda\n",
      "[ZMQTerminalIPythonApp] Connection File not found: C:\\Users\\satish goda\\AppData\\Roaming\\jupyter\\runtime\\kernel-8844.json\n",
      "[ZMQTerminalIPythonApp] Native kernel (python3) available from e:\\Miniconda3\\lib\\site-packages\\ipykernel\\resources\n",
      "[ZMQTerminalIPythonApp] Starting kernel: ['e:\\\\Miniconda3\\\\python.exe', '-m', 'ipykernel', '-f', 'C:\\\\Users\\\\satish goda\\\\AppData\\\\Roaming\\\\jupyter\\\\runtime\\\\kernel-8844.\n",
      "json']\n",
      "[ZMQTerminalIPythonApp] Connecting to: tcp://127.0.0.1:54478\n",
      "[ZMQTerminalIPythonApp] connecting shell channel to tcp://127.0.0.1:54475\n",
      "[ZMQTerminalIPythonApp] Connecting to: tcp://127.0.0.1:54475\n",
      "[ZMQTerminalIPythonApp] connecting iopub channel to tcp://127.0.0.1:54476\n",
      "[ZMQTerminalIPythonApp] Connecting to: tcp://127.0.0.1:54476\n",
      "[ZMQTerminalIPythonApp] connecting stdin channel to tcp://127.0.0.1:54477\n",
      "[ZMQTerminalIPythonApp] Connecting to: tcp://127.0.0.1:54477\n",
      "[ZMQTerminalIPythonApp] connecting heartbeat channel to tcp://127.0.0.1:54479\n",
      "Jupyter console 5.0.0\n",
      "\n",
      "Python 3.5.1 |Continuum Analytics, Inc.| (default, Feb 16 2016, 09:49:46) [MSC v.1900 64 bit (AMD64)]\n",
      "Type \"copyright\", \"credits\" or \"license\" for more information.\n",
      "\n",
      "IPython 5.1.0 -- An enhanced Interactive Python.\n",
      "?         -> Introduction and overview of IPython's features.\n",
      "%quickref -> Quick reference.\n",
      "help      -> Python's own help system.\n",
      "object?   -> Details about 'object', use 'object??' for extra details.\n",
      "\n",
      "\n",
      "[ZMQTerminalIPythonApp] Starting the jupyter console mainloop...\n",
      "\n",
      "In [1]:\n",
      "Do you really want to exit ([y]/n)? y\n",
      "Shutting down kernel\n"
     ]
    }
   ],
   "source": [
    "!cat cmdout/jupyter_console_python.txt"
   ]
  }
 ],
 "metadata": {
  "kernelspec": {
   "display_name": "Python 3",
   "language": "python",
   "name": "python3"
  },
  "language_info": {
   "codemirror_mode": {
    "name": "ipython",
    "version": 3
   },
   "file_extension": ".py",
   "mimetype": "text/x-python",
   "name": "python",
   "nbconvert_exporter": "python",
   "pygments_lexer": "ipython3",
   "version": "3.5.1"
  }
 },
 "nbformat": 4,
 "nbformat_minor": 2
}
