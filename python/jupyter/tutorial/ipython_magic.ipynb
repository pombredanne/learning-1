{
 "cells": [
  {
   "cell_type": "markdown",
   "metadata": {
    "slideshow": {
     "slide_type": "slide"
    }
   },
   "source": [
    "# Built-in magic commands\n",
    "\n",
    "* https://ipython.readthedocs.io/en/stable/interactive/magics.html"
   ]
  },
  {
   "cell_type": "markdown",
   "metadata": {
    "slideshow": {
     "slide_type": "slide"
    }
   },
   "source": [
    "## Line Magic"
   ]
  },
  {
   "cell_type": "markdown",
   "metadata": {
    "slideshow": {
     "slide_type": "fragment"
    }
   },
   "source": [
    "    %alias    %alias_magic    %autocall    %automagic\n",
    "    %bookmark\n",
    "    %cd    %colors    %config\n",
    "    %debug    %dhist    %dirs    %doctest_mode\n",
    "    %edit    %env\n",
    "    %gui\n",
    "    %history\n",
    "    %killbgscripts\n",
    "    %load    %load_ext    %logoff    %logon    %logstart    %logstate    %logstop    %lsmagic\n",
    "    %macro    %magic    %matplotlib\n",
    "    %notebook\n",
    "    %page    %pastebin    %pdb\n",
    "    %pdef    %pdoc    %pfile    %pinfo    %pinfo2\n",
    "    %pprint    %precision    %profile    %prun    %pserach    %psource    %pushd    %pwd    %pycat\n",
    "    %pylab    %quickref    %recall    %rehashx    %reload_ext    %rerun    %reset    %reset_selective\n",
    "    %run    %save    %sc (use !)    %set_env    %sx (also !!)    %system    %tb    %time    %timeit\n",
    "    %unalias    %unload_ext    %who    %who_ls    %whos    %xdel    %xmode"
   ]
  },
  {
   "cell_type": "markdown",
   "metadata": {
    "slideshow": {
     "slide_type": "slide"
    }
   },
   "source": [
    "## Cell Magic"
   ]
  },
  {
   "cell_type": "markdown",
   "metadata": {
    "slideshow": {
     "slide_type": "fragment"
    }
   },
   "source": [
    "    %%bash    %%capture    %%html    %%javascript    %%js    %%latex    %%perl    \n",
    "    %%python    %%python2    %%python3    %%ruby    %%script    %%sh    %%svg    %%writefile"
   ]
  },
  {
   "cell_type": "markdown",
   "metadata": {
    "slideshow": {
     "slide_type": "slide"
    }
   },
   "source": [
    "# Line Magic "
   ]
  },
  {
   "cell_type": "markdown",
   "metadata": {
    "slideshow": {
     "slide_type": "slide"
    }
   },
   "source": [
    "# Alias\n",
    "\n",
    "    %alias\n",
    "    %alias_magic"
   ]
  },
  {
   "cell_type": "markdown",
   "metadata": {
    "slideshow": {
     "slide_type": "subslide"
    }
   },
   "source": [
    "## %alias\n",
    "\n",
    "    In [2]: alias bracket echo \"Input in brackets: <%l>\"\n",
    "    In [3]: bracket hello world\n",
    "    Input in brackets: <hello world>"
   ]
  },
  {
   "cell_type": "markdown",
   "metadata": {
    "slideshow": {
     "slide_type": "subslide"
    }
   },
   "source": [
    "## %alias\n",
    "\n",
    "    In [1]: alias parts echo first %s second %s\n",
    "    In [2]: %parts A B\n",
    "    first A second B\n",
    "    In [3]: %parts A\n",
    "    Incorrect number of arguments: 2 expected.\n",
    "    parts is an alias to: 'echo first %s second %s'"
   ]
  },
  {
   "cell_type": "markdown",
   "metadata": {
    "slideshow": {
     "slide_type": "subslide"
    }
   },
   "source": [
    "## %alias\n",
    "\n",
    "    In [6]: alias show echo\n",
    "    In [7]: PATH='A Python string'\n",
    "    In [8]: show $PATH\n",
    "    A Python string\n",
    "    In [9]: show $$PATH\n",
    "    /usr/local/lf9560/bin:/usr/local/intel/compiler70/ia32/bin:..."
   ]
  },
  {
   "cell_type": "markdown",
   "metadata": {
    "slideshow": {
     "slide_type": "subslide"
    }
   },
   "source": [
    "## %alias_magic\n",
    "\n",
    "    %alias_magic [-l] [-c] name target"
   ]
  },
  {
   "cell_type": "markdown",
   "metadata": {
    "slideshow": {
     "slide_type": "fragment"
    }
   },
   "source": [
    "    In [1]: %alias_magic t timeit\n",
    "    Created `%t` as an alias for `%timeit`.\n",
    "    Created `%%t` as an alias for `%%timeit`.\n",
    "\n",
    "    In [2]: %t -n1 pass\n",
    "    1 loops, best of 3: 954 ns per loop\n",
    "\n",
    "    In [3]: %%t -n1\n",
    "       ...: pass\n",
    "       ...:\n",
    "    1 loops, best of 3: 954 ns per loop\n",
    "\n",
    "    In [4]: %alias_magic --cell whereami pwd\n",
    "    UsageError: Cell magic function `%%pwd` not found.\n",
    "    In [5]: %alias_magic --line whereami pwd\n",
    "    Created `%whereami` as an alias for `%pwd`.\n",
    "\n",
    "    In [6]: %whereami\n",
    "    Out[6]: u'/home/testuser'"
   ]
  },
  {
   "cell_type": "markdown",
   "metadata": {
    "slideshow": {
     "slide_type": "slide"
    }
   },
   "source": [
    "# Directory"
   ]
  },
  {
   "cell_type": "code",
   "execution_count": 7,
   "metadata": {
    "collapsed": false,
    "slideshow": {
     "slide_type": "subslide"
    }
   },
   "outputs": [
    {
     "name": "stdout",
     "output_type": "stream",
     "text": [
      "C:\\Users\\satish goda\n"
     ]
    }
   ],
   "source": [
    "%cd"
   ]
  },
  {
   "cell_type": "code",
   "execution_count": 9,
   "metadata": {
    "collapsed": false,
    "slideshow": {
     "slide_type": "fragment"
    }
   },
   "outputs": [
    {
     "name": "stdout",
     "output_type": "stream",
     "text": [
      "F:\\src\\learning\\python\\jupyter\\tutorial\n"
     ]
    }
   ],
   "source": [
    "%cd -"
   ]
  },
  {
   "cell_type": "code",
   "execution_count": 10,
   "metadata": {
    "collapsed": false,
    "slideshow": {
     "slide_type": "subslide"
    }
   },
   "outputs": [
    {
     "name": "stdout",
     "output_type": "stream",
     "text": [
      "Directory history (kept in _dh)\n",
      "0: F:\\src\\learning\\python\\jupyter\\tutorial\n",
      "1: C:\\Users\\satish goda\n",
      "2: F:\\src\\learning\\python\\jupyter\\tutorial\n",
      "3: C:\\Users\\satish goda\n",
      "4: F:\\src\\learning\\python\\jupyter\\tutorial\n"
     ]
    }
   ],
   "source": [
    "%dhist"
   ]
  },
  {
   "cell_type": "markdown",
   "metadata": {
    "slideshow": {
     "slide_type": "slide"
    }
   },
   "source": [
    "# Configuration"
   ]
  },
  {
   "cell_type": "code",
   "execution_count": 1,
   "metadata": {
    "collapsed": false,
    "slideshow": {
     "slide_type": "subslide"
    }
   },
   "outputs": [
    {
     "name": "stdout",
     "output_type": "stream",
     "text": [
      "Available objects for config:\n",
      "     ZMQInteractiveShell\n",
      "     HistoryManager\n",
      "     PrefilterManager\n",
      "     IPCompleter\n",
      "     DisplayFormatter\n",
      "     MagicsManager\n",
      "     ScriptMagics\n",
      "     AliasManager\n",
      "     IPKernelApp\n",
      "     StoreMagics\n",
      "     StoreMagics\n"
     ]
    }
   ],
   "source": [
    "%config"
   ]
  },
  {
   "cell_type": "markdown",
   "metadata": {
    "slideshow": {
     "slide_type": "slide"
    }
   },
   "source": [
    "# %gui\n",
    "\n",
    "    In [2]: %gui\n",
    "\n",
    "    In [3]: %gui qt5"
   ]
  },
  {
   "cell_type": "markdown",
   "metadata": {
    "slideshow": {
     "slide_type": "subslide"
    }
   },
   "source": [
    "    In [5]: from PyQt5 import QtGui\n",
    "\n",
    "    In [6]: from PyQt5 import QtWidgets\n",
    "\n",
    "    In [7]: w = QtWidgets.QPushButton(\"sdfsdf\")\n",
    "\n",
    "    In [8]: w.show()"
   ]
  },
  {
   "cell_type": "code",
   "execution_count": null,
   "metadata": {
    "collapsed": true,
    "slideshow": {
     "slide_type": "fragment"
    }
   },
   "outputs": [],
   "source": [
    "In [11]: def foo():\n",
    "...:     print(\"clicked\")\n",
    "...:\n",
    "\n",
    "In [12]: w.clicked.connect(foo)"
   ]
  },
  {
   "cell_type": "markdown",
   "metadata": {
    "slideshow": {
     "slide_type": "fragment"
    }
   },
   "source": [
    "    In [13]: clicked\n",
    "    clicked\n",
    "    clicked\n",
    "    clicked\n",
    "    clicked"
   ]
  }
 ],
 "metadata": {
  "celltoolbar": "Slideshow",
  "kernelspec": {
   "display_name": "Python 3",
   "language": "python",
   "name": "python3"
  },
  "language_info": {
   "codemirror_mode": {
    "name": "ipython",
    "version": 3
   },
   "file_extension": ".py",
   "mimetype": "text/x-python",
   "name": "python",
   "nbconvert_exporter": "python",
   "pygments_lexer": "ipython3",
   "version": "3.5.1"
  }
 },
 "nbformat": 4,
 "nbformat_minor": 2
}
