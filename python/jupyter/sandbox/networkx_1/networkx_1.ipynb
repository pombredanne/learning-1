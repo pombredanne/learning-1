{
 "cells": [
  {
   "cell_type": "code",
   "execution_count": 1,
   "metadata": {
    "collapsed": true,
    "deletable": true,
    "editable": true
   },
   "outputs": [],
   "source": [
    "import networkx as nx\n",
    "import pydot\n",
    "import pathlib"
   ]
  },
  {
   "cell_type": "code",
   "execution_count": 2,
   "metadata": {
    "collapsed": true,
    "deletable": true,
    "editable": true
   },
   "outputs": [],
   "source": [
    "dg = nx.DiGraph(name=\"Directed Graph\")"
   ]
  },
  {
   "cell_type": "code",
   "execution_count": 3,
   "metadata": {
    "collapsed": true,
    "deletable": true,
    "editable": true
   },
   "outputs": [],
   "source": [
    "dg.add_edge(1, 2)"
   ]
  },
  {
   "cell_type": "code",
   "execution_count": 4,
   "metadata": {
    "collapsed": true,
    "deletable": true,
    "editable": true
   },
   "outputs": [],
   "source": [
    "dg.add_edge(1, 3)"
   ]
  },
  {
   "cell_type": "code",
   "execution_count": 5,
   "metadata": {
    "collapsed": true,
    "deletable": true,
    "editable": true
   },
   "outputs": [],
   "source": [
    "dg.add_edge(2, 3)"
   ]
  },
  {
   "cell_type": "code",
   "execution_count": 6,
   "metadata": {
    "collapsed": true,
    "deletable": true,
    "editable": true
   },
   "outputs": [],
   "source": [
    "dotFile = pathlib.Path('/home/sgoda/Desktop/nx_dg_3.dot')"
   ]
  },
  {
   "cell_type": "code",
   "execution_count": 7,
   "metadata": {
    "collapsed": false,
    "deletable": true,
    "editable": true
   },
   "outputs": [],
   "source": [
    "dotFilePtr = dotFile.open(mode='w')"
   ]
  },
  {
   "cell_type": "code",
   "execution_count": 8,
   "metadata": {
    "collapsed": true,
    "deletable": true,
    "editable": true
   },
   "outputs": [],
   "source": [
    "nx.nx_pydot.write_dot(dg, dotFilePtr)"
   ]
  },
  {
   "cell_type": "code",
   "execution_count": 9,
   "metadata": {
    "collapsed": true,
    "deletable": true,
    "editable": true
   },
   "outputs": [],
   "source": [
    "dotFilePtr.close()"
   ]
  },
  {
   "cell_type": "code",
   "execution_count": 10,
   "metadata": {
    "collapsed": true,
    "deletable": true,
    "editable": true
   },
   "outputs": [],
   "source": [
    "dotFilePtr = dotFile.open(mode='r')"
   ]
  },
  {
   "cell_type": "code",
   "execution_count": 11,
   "metadata": {
    "collapsed": false,
    "deletable": true,
    "editable": true
   },
   "outputs": [],
   "source": [
    "g = pydot.graph_from_dot_file(str(dotFile))"
   ]
  },
  {
   "cell_type": "code",
   "execution_count": 12,
   "metadata": {
    "collapsed": true,
    "deletable": true,
    "editable": true
   },
   "outputs": [],
   "source": [
    "svgFile = pathlib.Path('/home/sgoda/Desktop/nx_dg_3.svg')"
   ]
  },
  {
   "cell_type": "code",
   "execution_count": 13,
   "metadata": {
    "collapsed": false,
    "deletable": true,
    "editable": true
   },
   "outputs": [
    {
     "data": {
      "text/plain": [
       "True"
      ]
     },
     "execution_count": 13,
     "metadata": {},
     "output_type": "execute_result"
    }
   ],
   "source": [
    "g.write_svg(str(svgFile))"
   ]
  },
  {
   "cell_type": "code",
   "execution_count": 14,
   "metadata": {
    "collapsed": false,
    "deletable": true,
    "editable": true
   },
   "outputs": [
    {
     "data": {
      "image/svg+xml": [
       "<svg height=\"194pt\" viewBox=\"0.00 0.00 89.00 194.00\" width=\"89pt\" xmlns=\"http://www.w3.org/2000/svg\" xmlns:xlink=\"http://www.w3.org/1999/xlink\">\n",
       "<g class=\"graph\" id=\"graph1\" transform=\"scale(1 1) rotate(0) translate(4 190)\">\n",
       "<title>Directed Graph</title>\n",
       "<polygon fill=\"white\" points=\"-4,5 -4,-190 86,-190 86,5 -4,5\" stroke=\"white\"/>\n",
       "<!-- 1 -->\n",
       "<g class=\"node\" id=\"node1\"><title>1</title>\n",
       "<ellipse cx=\"54\" cy=\"-167\" fill=\"none\" rx=\"27\" ry=\"19.0919\" stroke=\"black\"/>\n",
       "<text font-family=\"Times Roman,serif\" font-size=\"14.00\" text-anchor=\"middle\" x=\"54\" y=\"-163.9\">1</text>\n",
       "</g>\n",
       "<!-- 2 -->\n",
       "<g class=\"node\" id=\"node2\"><title>2</title>\n",
       "<ellipse cx=\"27\" cy=\"-93\" fill=\"none\" rx=\"27\" ry=\"19.0919\" stroke=\"black\"/>\n",
       "<text font-family=\"Times Roman,serif\" font-size=\"14.00\" text-anchor=\"middle\" x=\"27\" y=\"-89.9\">2</text>\n",
       "</g>\n",
       "<!-- 1&#45;&gt;2 -->\n",
       "<g class=\"edge\" id=\"edge2\"><title>1-&gt;2</title>\n",
       "<path d=\"M47.1868,-148.327C44.158,-140.026 40.5285,-130.078 37.1876,-120.921\" fill=\"none\" stroke=\"black\"/>\n",
       "<polygon fill=\"black\" points=\"40.4332,-119.606 33.7175,-111.411 33.8572,-122.005 40.4332,-119.606\" stroke=\"black\"/>\n",
       "</g>\n",
       "<!-- 3 -->\n",
       "<g class=\"node\" id=\"node3\"><title>3</title>\n",
       "<ellipse cx=\"54\" cy=\"-19\" fill=\"none\" rx=\"27\" ry=\"19.0919\" stroke=\"black\"/>\n",
       "<text font-family=\"Times Roman,serif\" font-size=\"14.00\" text-anchor=\"middle\" x=\"54\" y=\"-15.9\">3</text>\n",
       "</g>\n",
       "<!-- 1&#45;&gt;3 -->\n",
       "<g class=\"edge\" id=\"edge4\"><title>1-&gt;3</title>\n",
       "<path d=\"M57.8885,-148.003C59.8515,-137.45 62.0202,-124.055 63,-112 64.3682,-95.1666 64.3682,-90.8334 63,-74 62.3111,-65.524 61.0344,-56.3851 59.6547,-48.0376\" fill=\"none\" stroke=\"black\"/>\n",
       "<polygon fill=\"black\" points=\"63.0681,-47.2392 57.8885,-37.9968 56.1739,-48.452 63.0681,-47.2392\" stroke=\"black\"/>\n",
       "</g>\n",
       "<!-- 2&#45;&gt;3 -->\n",
       "<g class=\"edge\" id=\"edge6\"><title>2-&gt;3</title>\n",
       "<path d=\"M33.8132,-74.3267C36.842,-66.0257 40.4715,-56.0782 43.8124,-46.9214\" fill=\"none\" stroke=\"black\"/>\n",
       "<polygon fill=\"black\" points=\"47.1428,-48.0049 47.2825,-37.411 40.5668,-45.6055 47.1428,-48.0049\" stroke=\"black\"/>\n",
       "</g>\n",
       "</g>\n",
       "</svg>"
      ],
      "text/plain": [
       "<IPython.core.display.SVG object>"
      ]
     },
     "metadata": {},
     "output_type": "display_data"
    }
   ],
   "source": [
    "%%svg \n",
    "/home/sgoda/Desktop/nx_dg_3.svg"
   ]
  }
 ],
 "metadata": {
  "kernelspec": {
   "display_name": "Python 3",
   "language": "python",
   "name": "python3"
  },
  "language_info": {
   "codemirror_mode": {
    "name": "ipython",
    "version": 3
   },
   "file_extension": ".py",
   "mimetype": "text/x-python",
   "name": "python",
   "nbconvert_exporter": "python",
   "pygments_lexer": "ipython3",
   "version": "3.4.6"
  }
 },
 "nbformat": 4,
 "nbformat_minor": 2
}
